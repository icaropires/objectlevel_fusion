{
 "cells": [
  {
   "cell_type": "code",
   "execution_count": 1,
   "id": "together-portugal",
   "metadata": {},
   "outputs": [],
   "source": [
    "from sympy import Symbol, symbols, Matrix, sin, cos, Eq, init_printing\n",
    "import numpy as np\n",
    "from IPython.display import display\n",
    "\n",
    "init_printing()\n",
    "\n",
    "vs, psis, dpsis, dts, xs, ys, lats, lons, axs = symbols('v \\psi \\dot\\psi T x y lat lon a')\n",
    "\n",
    "hs = Matrix([[xs],\n",
    "             [ys],\n",
    "             [psis],\n",
    "             [vs],\n",
    "             [dpsis],\n",
    "             [axs]])\n",
    "\n",
    "state = Matrix([xs,ys,psis,vs,dpsis,axs])\n",
    "\n",
    "# Preallocation for Plotting\n",
    "x0 = []\n",
    "x1 = []\n",
    "x2 = []\n",
    "x3 = []\n",
    "x4 = []\n",
    "x5 = []\n",
    "x6 = []\n",
    "Zx = []\n",
    "Zy = []\n",
    "Px = []\n",
    "Py = []\n",
    "Pdx= []\n",
    "Pdy= []\n",
    "Pddx=[]\n",
    "Pddy=[]\n",
    "Pdv =[]\n",
    "Kx = []\n",
    "Ky = []\n",
    "Kdx= []\n",
    "Kdy= []\n",
    "Kddx=[]\n",
    "Kdv= []\n",
    "dstate=[]"
   ]
  },
  {
   "cell_type": "code",
   "execution_count": 2,
   "id": "medieval-enhancement",
   "metadata": {},
   "outputs": [
    {
     "data": {
      "text/plain": [
       "'Iteration 5: '"
      ]
     },
     "metadata": {},
     "output_type": "display_data"
    },
    {
     "data": {
      "text/latex": [
       "$\\displaystyle \\left[\\begin{matrix}x\\\\y\\\\\\psi\\\\v\\\\\\dot\\psi\\\\a\\end{matrix}\\right] = \\left[\\begin{matrix}9.98721898920712\\\\10.90798411445\\\\1.60212030902294\\\\9.76485692971669\\\\0.314803249805867\\\\4.9583169615106\\end{matrix}\\right]$"
      ],
      "text/plain": [
       "⎡   x    ⎤   ⎡9.98721898920712 ⎤\n",
       "⎢        ⎥   ⎢                 ⎥\n",
       "⎢   y    ⎥   ⎢ 10.90798411445  ⎥\n",
       "⎢        ⎥   ⎢                 ⎥\n",
       "⎢  \\psi  ⎥   ⎢1.60212030902294 ⎥\n",
       "⎢        ⎥ = ⎢                 ⎥\n",
       "⎢   v    ⎥   ⎢9.76485692971669 ⎥\n",
       "⎢        ⎥   ⎢                 ⎥\n",
       "⎢\\dot\\psi⎥   ⎢0.314803249805867⎥\n",
       "⎢        ⎥   ⎢                 ⎥\n",
       "⎣   a    ⎦   ⎣ 4.9583169615106 ⎦"
      ]
     },
     "metadata": {},
     "output_type": "display_data"
    },
    {
     "data": {
      "text/plain": [
       "'Iteration 5: '"
      ]
     },
     "metadata": {},
     "output_type": "display_data"
    },
    {
     "data": {
      "text/latex": [
       "$\\displaystyle \\left[\\begin{matrix}x\\\\y\\\\\\psi\\\\v\\\\\\dot\\psi\\\\a\\end{matrix}\\right] = \\left[\\begin{matrix}9.95643614120092\\\\11.6255683966625\\\\1.63361131654374\\\\8.88212383370051\\\\0.314450998559778\\\\4.95661360971736\\end{matrix}\\right]$"
      ],
      "text/plain": [
       "⎡   x    ⎤   ⎡9.95643614120092 ⎤\n",
       "⎢        ⎥   ⎢                 ⎥\n",
       "⎢   y    ⎥   ⎢11.6255683966625 ⎥\n",
       "⎢        ⎥   ⎢                 ⎥\n",
       "⎢  \\psi  ⎥   ⎢1.63361131654374 ⎥\n",
       "⎢        ⎥ = ⎢                 ⎥\n",
       "⎢   v    ⎥   ⎢8.88212383370051 ⎥\n",
       "⎢        ⎥   ⎢                 ⎥\n",
       "⎢\\dot\\psi⎥   ⎢0.314450998559778⎥\n",
       "⎢        ⎥   ⎢                 ⎥\n",
       "⎣   a    ⎦   ⎣4.95661360971736 ⎦"
      ]
     },
     "metadata": {},
     "output_type": "display_data"
    },
    {
     "data": {
      "text/plain": [
       "'Iteration 5: '"
      ]
     },
     "metadata": {},
     "output_type": "display_data"
    },
    {
     "data": {
      "text/latex": [
       "$\\displaystyle \\left[\\begin{matrix}x\\\\y\\\\\\psi\\\\v\\\\\\dot\\psi\\\\a\\end{matrix}\\right] = \\left[\\begin{matrix}9.89858888724506\\\\12.2981228199083\\\\1.66507286644185\\\\8.52942141789816\\\\0.314681364772774\\\\4.96427137493416\\end{matrix}\\right]$"
      ],
      "text/plain": [
       "⎡   x    ⎤   ⎡9.89858888724506 ⎤\n",
       "⎢        ⎥   ⎢                 ⎥\n",
       "⎢   y    ⎥   ⎢12.2981228199083 ⎥\n",
       "⎢        ⎥   ⎢                 ⎥\n",
       "⎢  \\psi  ⎥   ⎢1.66507286644185 ⎥\n",
       "⎢        ⎥ = ⎢                 ⎥\n",
       "⎢   v    ⎥   ⎢8.52942141789816 ⎥\n",
       "⎢        ⎥   ⎢                 ⎥\n",
       "⎢\\dot\\psi⎥   ⎢0.314681364772774⎥\n",
       "⎢        ⎥   ⎢                 ⎥\n",
       "⎣   a    ⎦   ⎣4.96427137493416 ⎦"
      ]
     },
     "metadata": {},
     "output_type": "display_data"
    },
    {
     "data": {
      "text/plain": [
       "'Iteration 5: '"
      ]
     },
     "metadata": {},
     "output_type": "display_data"
    },
    {
     "data": {
      "text/latex": [
       "$\\displaystyle \\left[\\begin{matrix}x\\\\y\\\\\\psi\\\\v\\\\\\dot\\psi\\\\a\\end{matrix}\\right] = \\left[\\begin{matrix}9.81941222326691\\\\12.9796604420069\\\\1.69396728912943\\\\8.3579135289664\\\\0.127664864690269\\\\3.75429176378847\\end{matrix}\\right]$"
      ],
      "text/plain": [
       "⎡   x    ⎤   ⎡9.81941222326691 ⎤\n",
       "⎢        ⎥   ⎢                 ⎥\n",
       "⎢   y    ⎥   ⎢12.9796604420069 ⎥\n",
       "⎢        ⎥   ⎢                 ⎥\n",
       "⎢  \\psi  ⎥   ⎢1.69396728912943 ⎥\n",
       "⎢        ⎥ = ⎢                 ⎥\n",
       "⎢   v    ⎥   ⎢ 8.3579135289664 ⎥\n",
       "⎢        ⎥   ⎢                 ⎥\n",
       "⎢\\dot\\psi⎥   ⎢0.127664864690269⎥\n",
       "⎢        ⎥   ⎢                 ⎥\n",
       "⎣   a    ⎦   ⎣3.75429176378847 ⎦"
      ]
     },
     "metadata": {},
     "output_type": "display_data"
    },
    {
     "data": {
      "text/plain": [
       "'Iteration 5: '"
      ]
     },
     "metadata": {},
     "output_type": "display_data"
    },
    {
     "data": {
      "text/latex": [
       "$\\displaystyle \\left[\\begin{matrix}x\\\\y\\\\\\psi\\\\v\\\\\\dot\\psi\\\\a\\end{matrix}\\right] = \\left[\\begin{matrix}9.72787116765815\\\\13.670799907772\\\\1.69854643239613\\\\8.24788804013533\\\\0.0438383621811616\\\\3.05246776518688\\end{matrix}\\right]$"
      ],
      "text/plain": [
       "⎡   x    ⎤   ⎡ 9.72787116765815 ⎤\n",
       "⎢        ⎥   ⎢                  ⎥\n",
       "⎢   y    ⎥   ⎢ 13.670799907772  ⎥\n",
       "⎢        ⎥   ⎢                  ⎥\n",
       "⎢  \\psi  ⎥   ⎢ 1.69854643239613 ⎥\n",
       "⎢        ⎥ = ⎢                  ⎥\n",
       "⎢   v    ⎥   ⎢ 8.24788804013533 ⎥\n",
       "⎢        ⎥   ⎢                  ⎥\n",
       "⎢\\dot\\psi⎥   ⎢0.0438383621811616⎥\n",
       "⎢        ⎥   ⎢                  ⎥\n",
       "⎣   a    ⎦   ⎣ 3.05246776518688 ⎦"
      ]
     },
     "metadata": {},
     "output_type": "display_data"
    },
    {
     "data": {
      "text/plain": [
       "'Iteration 5: '"
      ]
     },
     "metadata": {},
     "output_type": "display_data"
    },
    {
     "data": {
      "text/latex": [
       "$\\displaystyle \\left[\\begin{matrix}x\\\\y\\\\\\psi\\\\v\\\\\\dot\\psi\\\\a\\end{matrix}\\right] = \\left[\\begin{matrix}9.63233841710347\\\\14.3793533796261\\\\1.69801582912338\\\\8.20495543626347\\\\0.0126999320454934\\\\2.63438288018262\\end{matrix}\\right]$"
      ],
      "text/plain": [
       "⎡   x    ⎤   ⎡ 9.63233841710347 ⎤\n",
       "⎢        ⎥   ⎢                  ⎥\n",
       "⎢   y    ⎥   ⎢ 14.3793533796261 ⎥\n",
       "⎢        ⎥   ⎢                  ⎥\n",
       "⎢  \\psi  ⎥   ⎢ 1.69801582912338 ⎥\n",
       "⎢        ⎥ = ⎢                  ⎥\n",
       "⎢   v    ⎥   ⎢ 8.20495543626347 ⎥\n",
       "⎢        ⎥   ⎢                  ⎥\n",
       "⎢\\dot\\psi⎥   ⎢0.0126999320454934⎥\n",
       "⎢        ⎥   ⎢                  ⎥\n",
       "⎣   a    ⎦   ⎣ 2.63438288018262 ⎦"
      ]
     },
     "metadata": {},
     "output_type": "display_data"
    },
    {
     "data": {
      "text/plain": [
       "'Iteration 5: '"
      ]
     },
     "metadata": {},
     "output_type": "display_data"
    },
    {
     "data": {
      "text/latex": [
       "$\\displaystyle \\left[\\begin{matrix}x\\\\y\\\\\\psi\\\\v\\\\\\dot\\psi\\\\a\\end{matrix}\\right] = \\left[\\begin{matrix}9.55228786936289\\\\15.0221564676185\\\\1.69225650776695\\\\8.10039326152117\\\\-0.370771023216558\\\\1.79623149290146\\end{matrix}\\right]$"
      ],
      "text/plain": [
       "⎡   x    ⎤   ⎡ 9.55228786936289 ⎤\n",
       "⎢        ⎥   ⎢                  ⎥\n",
       "⎢   y    ⎥   ⎢ 15.0221564676185 ⎥\n",
       "⎢        ⎥   ⎢                  ⎥\n",
       "⎢  \\psi  ⎥   ⎢ 1.69225650776695 ⎥\n",
       "⎢        ⎥ = ⎢                  ⎥\n",
       "⎢   v    ⎥   ⎢ 8.10039326152117 ⎥\n",
       "⎢        ⎥   ⎢                  ⎥\n",
       "⎢\\dot\\psi⎥   ⎢-0.370771023216558⎥\n",
       "⎢        ⎥   ⎢                  ⎥\n",
       "⎣   a    ⎦   ⎣ 1.79623149290146 ⎦"
      ]
     },
     "metadata": {},
     "output_type": "display_data"
    },
    {
     "data": {
      "text/plain": [
       "'Iteration 5: '"
      ]
     },
     "metadata": {},
     "output_type": "display_data"
    },
    {
     "data": {
      "text/latex": [
       "$\\displaystyle \\left[\\begin{matrix}x\\\\y\\\\\\psi\\\\v\\\\\\dot\\psi\\\\a\\end{matrix}\\right] = \\left[\\begin{matrix}9.49421612551188\\\\15.6795918275031\\\\1.63815839777244\\\\7.99201265260694\\\\-0.541184482492807\\\\1.28534682756717\\end{matrix}\\right]$"
      ],
      "text/plain": [
       "⎡   x    ⎤   ⎡ 9.49421612551188 ⎤\n",
       "⎢        ⎥   ⎢                  ⎥\n",
       "⎢   y    ⎥   ⎢ 15.6795918275031 ⎥\n",
       "⎢        ⎥   ⎢                  ⎥\n",
       "⎢  \\psi  ⎥   ⎢ 1.63815839777244 ⎥\n",
       "⎢        ⎥ = ⎢                  ⎥\n",
       "⎢   v    ⎥   ⎢ 7.99201265260694 ⎥\n",
       "⎢        ⎥   ⎢                  ⎥\n",
       "⎢\\dot\\psi⎥   ⎢-0.541184482492807⎥\n",
       "⎢        ⎥   ⎢                  ⎥\n",
       "⎣   a    ⎦   ⎣ 1.28534682756717 ⎦"
      ]
     },
     "metadata": {},
     "output_type": "display_data"
    },
    {
     "data": {
      "text/plain": [
       "'Iteration 5: '"
      ]
     },
     "metadata": {},
     "output_type": "display_data"
    },
    {
     "data": {
      "text/latex": [
       "$\\displaystyle \\left[\\begin{matrix}x\\\\y\\\\\\psi\\\\v\\\\\\dot\\psi\\\\a\\end{matrix}\\right] = \\left[\\begin{matrix}9.45118657644422\\\\16.3050534948921\\\\1.62277757027893\\\\7.49156797448542\\\\-0.18043356208638\\\\-1.9521862083209\\end{matrix}\\right]$"
      ],
      "text/plain": [
       "⎡   x    ⎤   ⎡9.45118657644422 ⎤\n",
       "⎢        ⎥   ⎢                 ⎥\n",
       "⎢   y    ⎥   ⎢16.3050534948921 ⎥\n",
       "⎢        ⎥   ⎢                 ⎥\n",
       "⎢  \\psi  ⎥   ⎢1.62277757027893 ⎥\n",
       "⎢        ⎥ = ⎢                 ⎥\n",
       "⎢   v    ⎥   ⎢7.49156797448542 ⎥\n",
       "⎢        ⎥   ⎢                 ⎥\n",
       "⎢\\dot\\psi⎥   ⎢-0.18043356208638⎥\n",
       "⎢        ⎥   ⎢                 ⎥\n",
       "⎣   a    ⎦   ⎣-1.9521862083209 ⎦"
      ]
     },
     "metadata": {},
     "output_type": "display_data"
    },
    {
     "data": {
      "text/plain": [
       "'Iteration 5: '"
      ]
     },
     "metadata": {},
     "output_type": "display_data"
    },
    {
     "data": {
      "text/latex": [
       "$\\displaystyle \\left[\\begin{matrix}x\\\\y\\\\\\psi\\\\v\\\\\\dot\\psi\\\\a\\end{matrix}\\right] = \\left[\\begin{matrix}9.41892163054654\\\\16.8778039065125\\\\1.62623372804036\\\\6.79599629045437\\\\-0.0502891948096818\\\\-3.92645894919991\\end{matrix}\\right]$"
      ],
      "text/plain": [
       "⎡   x    ⎤   ⎡ 9.41892163054654  ⎤\n",
       "⎢        ⎥   ⎢                   ⎥\n",
       "⎢   y    ⎥   ⎢ 16.8778039065125  ⎥\n",
       "⎢        ⎥   ⎢                   ⎥\n",
       "⎢  \\psi  ⎥   ⎢ 1.62623372804036  ⎥\n",
       "⎢        ⎥ = ⎢                   ⎥\n",
       "⎢   v    ⎥   ⎢ 6.79599629045437  ⎥\n",
       "⎢        ⎥   ⎢                   ⎥\n",
       "⎢\\dot\\psi⎥   ⎢-0.0502891948096818⎥\n",
       "⎢        ⎥   ⎢                   ⎥\n",
       "⎣   a    ⎦   ⎣ -3.92645894919991 ⎦"
      ]
     },
     "metadata": {},
     "output_type": "display_data"
    },
    {
     "data": {
      "text/plain": [
       "'Iteration 5: '"
      ]
     },
     "metadata": {},
     "output_type": "display_data"
    },
    {
     "data": {
      "text/latex": [
       "$\\displaystyle \\left[\\begin{matrix}x\\\\y\\\\\\psi\\\\v\\\\\\dot\\psi\\\\a\\end{matrix}\\right] = \\left[\\begin{matrix}9.39053615908737\\\\17.3961157620059\\\\1.63027031089331\\\\6.01935018263168\\\\-0.0100262503775255\\\\-5.12870261951396\\end{matrix}\\right]$"
      ],
      "text/plain": [
       "⎡   x    ⎤   ⎡ 9.39053615908737  ⎤\n",
       "⎢        ⎥   ⎢                   ⎥\n",
       "⎢   y    ⎥   ⎢ 17.3961157620059  ⎥\n",
       "⎢        ⎥   ⎢                   ⎥\n",
       "⎢  \\psi  ⎥   ⎢ 1.63027031089331  ⎥\n",
       "⎢        ⎥ = ⎢                   ⎥\n",
       "⎢   v    ⎥   ⎢ 6.01935018263168  ⎥\n",
       "⎢        ⎥   ⎢                   ⎥\n",
       "⎢\\dot\\psi⎥   ⎢-0.0100262503775255⎥\n",
       "⎢        ⎥   ⎢                   ⎥\n",
       "⎣   a    ⎦   ⎣ -5.12870261951396 ⎦"
      ]
     },
     "metadata": {},
     "output_type": "display_data"
    }
   ],
   "source": [
    "import numpy as np\n",
    "\n",
    "\n",
    "STATE_SIZE = 6 # States\n",
    "STATE_X_IDX, STATE_Y_IDX, STATE_YAW_IDX, STATE_VELOCITY_IDX, STATE_YAW_RATE_IDX, STATE_ACCELERATION_IDX = range(STATE_SIZE)\n",
    "\n",
    "# Generated running the loop with correction commented, just with prediction\n",
    "mock = np.array([\n",
    "    # Generated with x = [10, 10, np.pi/2, 5, np.pi/10, 5]\n",
    "    [9.99162312, 10.52491159, 1.60221225, 5.5, 0.31415927, 5.],\n",
    "    [9.96440727, 11.09924348, 1.63362818, 6. , 0.31415927, 5.],\n",
    "    [9.91524186, 11.72228092, 1.66504411, 6.5, 0.31415927, 5.],\n",
    "\n",
    "    # Generated with x = [9.84104414, 12.39316261, 1.69646003, 7 , 0, 2]\n",
    "    [9.84104414, 12.39316261, 1.69646003, 7 , 0, 2],\n",
    "    [9.75205920946478, 13.097565812433922, 1.69646103, 7.2, 1e-05, 2.0],\n",
    "    [9.660566840228446, 13.821813141209995, 1.6964620300000002, 7.4, 1e-05, 2.0],\n",
    "\n",
    "    # Generated with x = [9.660566840228446, 13.821813141209995, 1.6964620300000002, 7.4, -np.pi/5, 0.5]\n",
    "    [9.660566840228446, 13.821813141209995, 1.6964620300000002, 7.4, -np.pi/5, 0.5],\n",
    "    [9.590727496248219, 14.560898635653817, 1.6336301769282038, 7.45, -0.6283185307179586, 0.5],\n",
    "\n",
    "    # Generated with x = [9.546139274244736, 15.269496260674774, 1.633631176928204, 6.75, 1e-05, -7.0]\n",
    "    [9.546139274244736, 15.269496260674774, 1.633631176928204, 6.75, 1e-05, -7.0],\n",
    "    [9.505945314972719, 15.90822977120212, 1.633632176928204, 6.05, 1e-05, -7.0],\n",
    "    [9.470145618432168, 16.47710804902005, 1.6336331769282042, 5.35, 1e-05, -7.0],\n",
    "])\n",
    "\n",
    "def predict(x, P, Q):\n",
    "    if np.abs(x[STATE_YAW_RATE_IDX]) < 0.00001: # Driving straight\n",
    "        x[STATE_YAW_RATE_IDX] = 0.00001\n",
    "\n",
    "    x[STATE_X_IDX] = x[STATE_X_IDX] + (1 / x[STATE_YAW_RATE_IDX]**2) * \\\n",
    "        ( \\\n",
    "            (x[STATE_VELOCITY_IDX]*x[STATE_YAW_RATE_IDX] + x[STATE_ACCELERATION_IDX] * x[STATE_YAW_RATE_IDX] * dt) * np.sin(x[STATE_YAW_IDX] + x[STATE_YAW_RATE_IDX]* dt) \\\n",
    "            + x[STATE_ACCELERATION_IDX] * np.cos(x[STATE_YAW_IDX] + x[STATE_YAW_RATE_IDX] * dt) \\\n",
    "            - x[STATE_VELOCITY_IDX] * x[STATE_YAW_RATE_IDX] * np.sin(x[STATE_YAW_IDX]) - x[STATE_ACCELERATION_IDX] * np.cos(x[STATE_YAW_IDX]) \\\n",
    "        )\n",
    "\n",
    "    x[STATE_Y_IDX] = x[STATE_Y_IDX] + (1 / x[STATE_YAW_RATE_IDX]**2) * \\\n",
    "        ( \\\n",
    "            (-x[STATE_VELOCITY_IDX]*x[STATE_YAW_RATE_IDX] - x[STATE_ACCELERATION_IDX] * x[STATE_YAW_RATE_IDX] * dt) * np.cos(x[STATE_YAW_IDX] + x[STATE_YAW_RATE_IDX]* dt) \\\n",
    "            + x[STATE_ACCELERATION_IDX] * np.sin(x[STATE_YAW_IDX] + x[STATE_YAW_RATE_IDX] * dt) \\\n",
    "            + x[STATE_VELOCITY_IDX] * x[STATE_YAW_RATE_IDX] * np.cos(x[STATE_YAW_IDX]) - x[STATE_ACCELERATION_IDX] * np.sin(x[STATE_YAW_IDX]) \\\n",
    "        )\n",
    "\n",
    "    x[STATE_YAW_IDX] = (x[STATE_YAW_IDX] + x[STATE_YAW_RATE_IDX] * dt + np.pi) % (2.0 * np.pi) - np.pi\n",
    "    x[STATE_VELOCITY_IDX] = x[STATE_VELOCITY_IDX] + x[STATE_ACCELERATION_IDX] * dt \n",
    "    x[STATE_YAW_RATE_IDX] = x[STATE_YAW_RATE_IDX]\n",
    "    x[STATE_ACCELERATION_IDX] = x[STATE_ACCELERATION_IDX]\n",
    "\n",
    "    # Calculate the Jacobian of the Dynamic Matrix A\n",
    "    a13 = ( \\\n",
    "      (-x[STATE_YAW_RATE_IDX]*x[STATE_VELOCITY_IDX]*np.cos(x[STATE_YAW_IDX]) + x[STATE_ACCELERATION_IDX]*np.sin(x[STATE_YAW_IDX]) \\\n",
    "      - x[STATE_ACCELERATION_IDX]*np.sin(dt*x[STATE_YAW_RATE_IDX] + x[STATE_YAW_IDX]) + (dt*x[STATE_YAW_RATE_IDX]*x[STATE_ACCELERATION_IDX] + x[STATE_YAW_RATE_IDX]*x[STATE_VELOCITY_IDX])*np.cos(dt*x[STATE_YAW_RATE_IDX] \\\n",
    "      + x[STATE_YAW_IDX]))/x[STATE_YAW_RATE_IDX]**2 \\\n",
    "    ).item(0)\n",
    "\n",
    "    a14 = ( \\\n",
    "      (-x[STATE_YAW_RATE_IDX]*np.sin(x[STATE_YAW_IDX]) + x[STATE_YAW_RATE_IDX]*np.sin(dt*x[STATE_YAW_RATE_IDX] + x[STATE_YAW_IDX]))/x[STATE_YAW_RATE_IDX]**2 \\\n",
    "    ).item(0)\n",
    "\n",
    "    a15 = ( \\\n",
    "      ( \\\n",
    "        -dt*x[STATE_ACCELERATION_IDX]*np.sin(dt*x[STATE_YAW_RATE_IDX] + x[STATE_YAW_IDX]) + dt*(dt*x[STATE_YAW_RATE_IDX]*x[STATE_ACCELERATION_IDX] + x[STATE_YAW_RATE_IDX]*x[STATE_VELOCITY_IDX]) \\\n",
    "        * np.cos(dt*x[STATE_YAW_RATE_IDX] + x[STATE_YAW_IDX]) - x[STATE_VELOCITY_IDX]*np.sin(x[STATE_YAW_IDX]) + (dt*x[STATE_ACCELERATION_IDX] + x[STATE_VELOCITY_IDX]) \\\n",
    "        * np.sin(dt*x[STATE_YAW_RATE_IDX] + x[STATE_YAW_IDX]) \\\n",
    "      ) / x[STATE_YAW_RATE_IDX]**2 \\\n",
    "      - 2*( \\\n",
    "        -x[STATE_YAW_RATE_IDX]*x[STATE_VELOCITY_IDX]*np.sin(x[STATE_YAW_IDX]) - x[STATE_ACCELERATION_IDX] \\\n",
    "        * np.cos(x[STATE_YAW_IDX]) + x[STATE_ACCELERATION_IDX]*np.cos(dt*x[STATE_YAW_RATE_IDX] + x[STATE_YAW_IDX]) + (dt*x[STATE_YAW_RATE_IDX]*x[STATE_ACCELERATION_IDX] + x[STATE_YAW_RATE_IDX]*x[STATE_VELOCITY_IDX]) \\\n",
    "        * np.sin(dt*x[STATE_YAW_RATE_IDX] + x[STATE_YAW_IDX]) \\\n",
    "      ) / x[STATE_YAW_RATE_IDX]**3 \\\n",
    "    ).item(0)\n",
    "\n",
    "    a16 = ( \\\n",
    "      (dt*x[STATE_YAW_RATE_IDX]*np.sin(dt*x[STATE_YAW_RATE_IDX] + x[STATE_YAW_IDX]) - np.cos(x[STATE_YAW_IDX]) + np.cos(dt * x[STATE_YAW_RATE_IDX] + x[STATE_YAW_IDX]))/x[STATE_YAW_RATE_IDX]**2 \\\n",
    "    ).item(0)\n",
    "\n",
    "    a23 = ( \\\n",
    "      ( \\\n",
    "        -x[STATE_YAW_RATE_IDX] * x[STATE_VELOCITY_IDX] * np.sin(x[STATE_YAW_IDX]) - x[STATE_ACCELERATION_IDX] * np.cos(x[STATE_YAW_IDX]) + x[STATE_ACCELERATION_IDX] * np.cos(dt * x[STATE_YAW_RATE_IDX] + x[STATE_YAW_IDX]) \\\n",
    "        - (-dt * x[STATE_YAW_RATE_IDX]*x[STATE_ACCELERATION_IDX] - x[STATE_YAW_RATE_IDX] * x[STATE_VELOCITY_IDX]) * np.sin(dt * x[STATE_YAW_RATE_IDX] + x[STATE_YAW_IDX]) \\\n",
    "      ) / x[STATE_YAW_RATE_IDX]**2 \\\n",
    "    ).item(0)\n",
    "\n",
    "    a24 = ( \\\n",
    "      (x[STATE_YAW_RATE_IDX] * np.cos(x[STATE_YAW_IDX]) - x[STATE_YAW_RATE_IDX]*np.cos(dt*x[STATE_YAW_RATE_IDX] + x[STATE_YAW_IDX]))/x[STATE_YAW_RATE_IDX]**2 \\\n",
    "    ).item(0)\n",
    "\n",
    "    a25 = ( \\\n",
    "      ( \\\n",
    "        dt * x[STATE_ACCELERATION_IDX]*np.cos(dt*x[STATE_YAW_RATE_IDX] + x[STATE_YAW_IDX]) - dt * (-dt*x[STATE_YAW_RATE_IDX]*x[STATE_ACCELERATION_IDX] - x[STATE_YAW_RATE_IDX] * x[STATE_VELOCITY_IDX]) \\\n",
    "        * np.sin(dt * x[STATE_YAW_RATE_IDX] + x[STATE_YAW_IDX]) + x[STATE_VELOCITY_IDX]*np.cos(x[STATE_YAW_IDX]) + (-dt*x[STATE_ACCELERATION_IDX] - x[STATE_VELOCITY_IDX])*np.cos(dt*x[STATE_YAW_RATE_IDX] + x[STATE_YAW_IDX]) \\\n",
    "      ) / x[STATE_YAW_RATE_IDX]**2 \\\n",
    "      - 2*( \\\n",
    "        x[STATE_YAW_RATE_IDX]*x[STATE_VELOCITY_IDX]*np.cos(x[STATE_YAW_IDX]) - x[STATE_ACCELERATION_IDX] * np.sin(x[STATE_YAW_IDX]) + x[STATE_ACCELERATION_IDX] * np.sin(dt*x[STATE_YAW_RATE_IDX] + x[STATE_YAW_IDX]) \\\n",
    "        + (-dt * x[STATE_YAW_RATE_IDX] * x[STATE_ACCELERATION_IDX] - x[STATE_YAW_RATE_IDX] * x[STATE_VELOCITY_IDX])*np.cos(dt*x[STATE_YAW_RATE_IDX] + x[STATE_YAW_IDX]) \\\n",
    "      ) / x[STATE_YAW_RATE_IDX]**3 \\\n",
    "    ).item(0)\n",
    "\n",
    "    a26 = ( \\\n",
    "      (-dt*x[STATE_YAW_RATE_IDX]*np.cos(dt*x[STATE_YAW_RATE_IDX] + x[STATE_YAW_IDX]) - np.sin(x[STATE_YAW_IDX]) + np.sin(dt*x[STATE_YAW_RATE_IDX] + x[STATE_YAW_IDX]))/x[STATE_YAW_RATE_IDX]**2 \\\n",
    "    ).item(0)\n",
    "      \n",
    "    JA = np.matrix([[1.0, 0.0, a13, a14, a15, a16],\n",
    "                    [0.0, 1.0, a23, a24, a25, a26],\n",
    "                    [0.0, 0.0, 1.0, 0.0, dt, 0.0],\n",
    "                    [0.0, 0.0, 0.0, 1.0, 0.0, dt],\n",
    "                    [0.0, 0.0, 0.0, 0.0, 1.0, 0.0],\n",
    "                    [0.0, 0.0, 0.0, 0.0, 0.0, 1.0]])\n",
    "  \n",
    "    # Project the error covariance ahead\n",
    "    P = JA*P*JA.T + Q\n",
    "\n",
    "    return x, P\n",
    "\n",
    "\n",
    "def correct(measurement, x, P, R):\n",
    "    hx = x.copy()  # Not making any transformation and considering all the atributes are being measured\n",
    "\n",
    "    # Indentity because is assumed that for each attribute in state there exists a respective measurement attribute\n",
    "    JH = np.eye(hx.shape[0])\n",
    "\n",
    "    S = JH*P*JH.T + R\n",
    "    K = (P*JH.T) * np.linalg.inv(S)\n",
    "\n",
    "    # Update the estimate via\n",
    "    Z = measurement.reshape(JH.shape[0], 1)\n",
    "    y = Z - hx  # Innovation or Residual\n",
    "    x = x + K*y\n",
    "\n",
    "    # Update the error covariance\n",
    "    P = (np.eye(STATE_SIZE) - K*JH)*P\n",
    "    \n",
    "            \n",
    "    # TODO: Remove in main C++ code\n",
    "    x0.append(float(x[0]))\n",
    "    x1.append(float(x[1]))\n",
    "    x2.append(float(x[2]))\n",
    "    x3.append(float(x[3]))\n",
    "    x4.append(float(x[4]))\n",
    "    x5.append(float(x[5]))\n",
    "    Zx.append(float(Z[0]))\n",
    "    Zy.append(float(Z[1]))    \n",
    "    Px.append(float(P[0,0]))\n",
    "    Py.append(float(P[1,1]))\n",
    "    Pdx.append(float(P[2,2]))\n",
    "    Pdy.append(float(P[3,3]))\n",
    "    Pddx.append(float(P[4,4]))\n",
    "    Pdv.append(float(P[5,5]))\n",
    "    Kx.append(float(K[0,0]))\n",
    "    Ky.append(float(K[1,0]))\n",
    "    Kdx.append(float(K[2,0]))\n",
    "    Kdy.append(float(K[3,0]))\n",
    "    Kddx.append(float(K[4,0]))\n",
    "    Kdv.append(float(K[5,0]))\n",
    "\n",
    "    return x, P\n",
    "\n",
    "\n",
    "if __name__ == '__main__':\n",
    "    P = np.diag([5.0, 5.0, 5.0, 5.0, 5.0, 5.0])\n",
    "\n",
    "    dt = 1/10\n",
    "\n",
    "    variance_gps     = 0.5*8.8*dt**2  # assume 8.8m/s2 as maximum acceleration, forcing the vehicle\n",
    "    variance_course  = 0.1*dt # assume 0.1rad/s as maximum turn rate for the vehicle\n",
    "    variance_velocity= 8.8*dt # assume 8.8m/s2 as maximum acceleration, forcing the vehicle\n",
    "    variance_yawrate = 1.0*dt # assume 1.0rad/s2 as the maximum turn rate acceleration for the vehicle\n",
    "    variance_accel   = 0.5 # assume 0.5m/s2\n",
    "\n",
    "    # TODO: generate Q with filterpy\n",
    "    Q = np.diag([variance_gps**2, variance_gps**2, variance_course**2, variance_velocity**2, variance_yawrate**2, variance_accel**2])\n",
    "    \n",
    "    std_gps = 5.0 # standard deviation of gps measurement\n",
    "    std_speed = 3.0 # standard deviation of the speed measurement\n",
    "    std_yawrate = 0.1 # standard deviation of the yawrate measurement\n",
    "    std_yaw = 0.01 # standard deviation of the yaw measurement\n",
    "    std_acc = 1.0 # standard deviation of the longitudinal acceleration\n",
    "\n",
    "    R = np.diag([std_gps**2, std_gps**2, std_yaw**2, std_speed**2, std_yawrate**2, std_acc**2])\n",
    "\n",
    "\n",
    "    inital_x, initial_y = 10, 10\n",
    "    yaw = np.pi/2\n",
    "    speed = 12\n",
    "    yaw_rate = np.pi/10\n",
    "    acc = 5\n",
    "\n",
    "    x = np.array([[inital_x, initial_y, yaw, speed, yaw_rate, acc]], dtype='float64').T\n",
    "\n",
    "    for i, measurement in enumerate(mock):\n",
    "        # TODO: Remove in main C++ code\n",
    "        for i, std in enumerate([std_gps, std_gps, std_yaw, std_speed, std_yawrate, std_acc]):\n",
    "            noise = np.random.normal(0., std/200, 1)[0]\n",
    "            measurement[i] += noise\n",
    "        \n",
    "        x, P = predict(x, P, Q)\n",
    "        x, P = correct(measurement, x, P, R)\n",
    "\n",
    "        display(f'Iteration {i}: ', Eq(state, Matrix(x)))\n"
   ]
  },
  {
   "cell_type": "markdown",
   "id": "hindu-necklace",
   "metadata": {},
   "source": [
    "## Plots"
   ]
  },
  {
   "cell_type": "code",
   "execution_count": 3,
   "id": "juvenile-contrast",
   "metadata": {},
   "outputs": [],
   "source": [
    "import matplotlib.pyplot as plt\n",
    "%matplotlib inline\n",
    "\n",
    "m = len(mock)"
   ]
  },
  {
   "cell_type": "markdown",
   "id": "radical-officer",
   "metadata": {},
   "source": [
    "### Kalman Gain"
   ]
  },
  {
   "cell_type": "code",
   "execution_count": 4,
   "id": "unauthorized-congo",
   "metadata": {},
   "outputs": [
    {
     "data": {
      "image/png": "[encoded data removed]",
      "text/plain": [
       "<Figure size 1152x648 with 1 Axes>"
      ]
     },
     "metadata": {
      "needs_background": "light"
     },
     "output_type": "display_data"
    }
   ],
   "source": [
    "fig = plt.figure(figsize=(16,9))\n",
    "plt.step(range(m),Kx, label='$x$')\n",
    "plt.step(range(m),Ky, label='$y$')\n",
    "plt.step(range(m),Kdx, label='$\\psi$')\n",
    "plt.step(range(m),Kdy, label='$v$')\n",
    "plt.step(range(m),Kddx, label='$\\dot \\psi$')\n",
    "\n",
    "\n",
    "plt.xlabel('Filter Step')\n",
    "plt.ylabel('')\n",
    "plt.title('Kalman Gain (the lower, the more the measurement fullfill the prediction)')\n",
    "plt.legend(prop={'size':18})\n",
    "plt.ylim([-0.2,0.2]);"
   ]
  },
  {
   "cell_type": "markdown",
   "id": "breeding-license",
   "metadata": {},
   "source": [
    "### Uncertainties"
   ]
  },
  {
   "cell_type": "code",
   "execution_count": 5,
   "id": "adjusted-funds",
   "metadata": {},
   "outputs": [
    {
     "data": {
      "text/plain": [
       "<matplotlib.legend.Legend at 0x7f8151e39d30>"
      ]
     },
     "execution_count": 5,
     "metadata": {},
     "output_type": "execute_result"
    },
    {
     "data": {
      "image/png": "[encoded data removed]",
      "text/plain": [
       "<Figure size 1152x648 with 1 Axes>"
      ]
     },
     "metadata": {
      "needs_background": "light"
     },
     "output_type": "display_data"
    }
   ],
   "source": [
    "\n",
    "fig = plt.figure(figsize=(16,9))\n",
    "plt.semilogy(range(m),Px, label='$x$')\n",
    "plt.step(range(m),Py, label='$y$')\n",
    "plt.step(range(m),Pdx, label='$\\psi$')\n",
    "plt.step(range(m),Pdy, label='$v$')\n",
    "plt.step(range(m),Pddx, label='$\\dot \\psi$')\n",
    "\n",
    "plt.xlabel('Filter Step')\n",
    "plt.ylabel('')\n",
    "plt.title('Uncertainty (Elements from Matrix $P$)')\n",
    "plt.legend(loc='best',prop={'size':22})"
   ]
  },
  {
   "cell_type": "markdown",
   "id": "dying-duration",
   "metadata": {},
   "source": [
    "### Position x/y"
   ]
  },
  {
   "cell_type": "code",
   "execution_count": 6,
   "id": "brilliant-shade",
   "metadata": {},
   "outputs": [
    {
     "data": {
      "text/plain": [
       "[<matplotlib.lines.Line2D at 0x7f8151d27c18>]"
      ]
     },
     "execution_count": 6,
     "metadata": {},
     "output_type": "execute_result"
    },
    {
     "data": {
      "image/png": "[encoded data removed]",
      "text/plain": [
       "<Figure size 864x648 with 1 Axes>"
      ]
     },
     "metadata": {
      "needs_background": "light"
     },
     "output_type": "display_data"
    }
   ],
   "source": [
    "fig = plt.figure(figsize=(12,9))\n",
    "\n",
    "plt.plot(x0,x1, label='EKF Position', c='g', lw=5)"
   ]
  }
 ],
 "metadata": {
  "kernelspec": {
   "display_name": "Python 3",
   "language": "python",
   "name": "python3"
  },
  "language_info": {
   "codemirror_mode": {
    "name": "ipython",
    "version": 3
   },
   "file_extension": ".py",
   "mimetype": "text/x-python",
   "name": "python",
   "nbconvert_exporter": "python",
   "pygments_lexer": "ipython3",
   "version": "3.7.3"
  }
 },
 "nbformat": 4,
 "nbformat_minor": 5
}
