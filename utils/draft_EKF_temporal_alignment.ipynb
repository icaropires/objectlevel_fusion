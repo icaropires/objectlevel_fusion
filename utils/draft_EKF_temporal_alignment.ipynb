{
 "cells": [
  {
   "cell_type": "markdown",
   "id": "defensive-clearing",
   "metadata": {},
   "source": [
    "# Draft of EKF implementation for temporal alignment\n",
    "\n",
    "Using CTRA model.\n",
    "\n",
    "Heavily based on [balzer82 implementation](https://github.com/balzer82/Kalman/blob/master/Extended-Kalman-Filter-CTRA.ipynb) and [giovannix adaptation](https://github.com/giovannix/kalman/blob/master/Extended-Kalman-Filter-CTRA.ipynb)."
   ]
  },
  {
   "cell_type": "code",
   "execution_count": 1,
   "id": "together-portugal",
   "metadata": {},
   "outputs": [],
   "source": [
    "from sympy import symbols, Matrix, init_printing\n",
    "from IPython.display import display\n",
    "\n",
    "init_printing()\n",
    "\n",
    "vs, psis, dpsis, dts, xs, ys, lats, lons, axs = symbols('v \\psi \\dot\\psi T x y lat lon a')\n",
    "\n",
    "hs = Matrix([[xs],\n",
    "             [ys],\n",
    "             [psis],\n",
    "             [vs],\n",
    "             [dpsis],\n",
    "             [axs]])\n",
    "\n",
    "state = Matrix([xs,ys,psis,vs,dpsis,axs])\n",
    "\n",
    "# Preallocation for Plotting\n",
    "x0 = []\n",
    "x1 = []\n",
    "x2 = []\n",
    "x3 = []\n",
    "x4 = []\n",
    "x5 = []\n",
    "x6 = []\n",
    "Zx = []\n",
    "Zy = []\n",
    "Px = []\n",
    "Py = []\n",
    "Pdx= []\n",
    "Pdy= []\n",
    "Pddx=[]\n",
    "Pddy=[]\n",
    "Pdv =[]\n",
    "Kx = []\n",
    "Ky = []\n",
    "Kdx= []\n",
    "Kdy= []\n",
    "Kddx=[]\n",
    "Kdv= []\n",
    "dstate=[]\n",
    "x_noisy_measurement = []\n",
    "y_noisy_measurement = []\n",
    "x_predicted = []\n",
    "y_predicted = []"
   ]
  },
  {
   "cell_type": "code",
   "execution_count": 2,
   "id": "satisfactory-voltage",
   "metadata": {},
   "outputs": [],
   "source": [
    "def log_state_and_noises(iteration, state, predicted_state, noises, dt):\n",
    "    updated_state_s, noise_s, sensors_std_s, = symbols('updated\\_state noise sensors\\_std')\n",
    "    \n",
    "    p_x, p_y, p_psi, p_v, p_dotpsi, p_a = symbols('\\hat\\ x \\hat\\ y \\hat\\ \\psi \\hat\\ v \\hat{\\dot{\\psi}} \\hat\\ a')\n",
    "    predicted_state_matrix_s = Matrix([p_x, p_y, p_psi, p_v, p_dotpsi, p_a])\n",
    "    predicted_state_s = symbols('predicted\\_state')\n",
    "    \n",
    "    print(f'Iteration {iteration}, dt = {dt}:')\n",
    "    print('='*100)\n",
    "        \n",
    "    display(Eq(\n",
    "        predicted_state_s,\n",
    "        Eq(\n",
    "            predicted_state_matrix_s,\n",
    "            Matrix(predicted_state),\n",
    "            evaluate=False\n",
    "        )\n",
    "    ))\n",
    "    \n",
    "    print('-'*100)\n",
    "    display(Eq(\n",
    "        updated_state_s,\n",
    "        Eq(state, Matrix(x), evaluate=False)\n",
    "    ))\n",
    "    \n",
    "    print('*Noise included')  \n",
    "    print('-'*100)\n",
    "    \n",
    "    display(Eq(\n",
    "        Le(\n",
    "            -sensors_std_s,\n",
    "            Le(noise_s, sensors_std_s),\n",
    "            evaluate=False\n",
    "        ),\n",
    "        Le(\n",
    "            Matrix(-sensors_std),\n",
    "            Le(Matrix(noises), Matrix(sensors_std), evaluate=False),\n",
    "            evaluate=False\n",
    "        )\n",
    "    ))\n",
    "\n",
    "    print('='*100)"
   ]
  },
  {
   "cell_type": "code",
   "execution_count": 3,
   "id": "medieval-enhancement",
   "metadata": {},
   "outputs": [
    {
     "name": "stdout",
     "output_type": "stream",
     "text": [
      "Iteration 1, dt = 0.4571:\n",
      "====================================================================================================\n"
     ]
    },
    {
     "data": {
      "text/latex": [
       "$\\displaystyle predicted\\_{state} = \\left[\\begin{matrix}\\hat x\\\\\\hat y\\\\\\hat \\psi\\\\\\hat v\\\\\\hat{\\dot{\\psi}}\\\\\\hat a\\end{matrix}\\right] = \\left[\\begin{matrix}3.70947952675031\\\\0.682997338756643\\\\1.77594232707431\\\\6.8284\\\\0.448798950512828\\\\4.0\\end{matrix}\\right]$"
      ],
      "text/plain": [
       "                  ⎡     \\hat x     ⎤   ⎡3.70947952675031 ⎤\n",
       "                  ⎢                ⎥   ⎢                 ⎥\n",
       "                  ⎢     \\hat y     ⎥   ⎢0.682997338756643⎥\n",
       "                  ⎢                ⎥   ⎢                 ⎥\n",
       "                  ⎢   \\hat \\psi    ⎥   ⎢1.77594232707431 ⎥\n",
       "predicted\\ₛₜₐₜₑ = ⎢                ⎥ = ⎢                 ⎥\n",
       "                  ⎢     \\hat v     ⎥   ⎢     6.8284      ⎥\n",
       "                  ⎢                ⎥   ⎢                 ⎥\n",
       "                  ⎢\\hat{\\dot{\\psi}}⎥   ⎢0.448798950512828⎥\n",
       "                  ⎢                ⎥   ⎢                 ⎥\n",
       "                  ⎣     \\hat a     ⎦   ⎣       4.0       ⎦"
      ]
     },
     "metadata": {},
     "output_type": "display_data"
    },
    {
     "name": "stdout",
     "output_type": "stream",
     "text": [
      "----------------------------------------------------------------------------------------------------\n"
     ]
    },
    {
     "data": {
      "text/latex": [
       "$\\displaystyle updated\\_{state} = \\left[\\begin{matrix}x\\\\y\\\\\\psi\\\\v\\\\\\dot\\psi\\\\a\\end{matrix}\\right] = \\left[\\begin{matrix}4.28479226883698\\\\-0.663443041904964\\\\1.58985193851502\\\\4.19186657910901\\\\0.529414857699954\\\\3.75071790996175\\end{matrix}\\right]$"
      ],
      "text/plain": [
       "                ⎡   x    ⎤   ⎡ 4.28479226883698 ⎤\n",
       "                ⎢        ⎥   ⎢                  ⎥\n",
       "                ⎢   y    ⎥   ⎢-0.663443041904964⎥\n",
       "                ⎢        ⎥   ⎢                  ⎥\n",
       "                ⎢  \\psi  ⎥   ⎢ 1.58985193851502 ⎥\n",
       "updated\\ₛₜₐₜₑ = ⎢        ⎥ = ⎢                  ⎥\n",
       "                ⎢   v    ⎥   ⎢ 4.19186657910901 ⎥\n",
       "                ⎢        ⎥   ⎢                  ⎥\n",
       "                ⎢\\dot\\psi⎥   ⎢0.529414857699954 ⎥\n",
       "                ⎢        ⎥   ⎢                  ⎥\n",
       "                ⎣   a    ⎦   ⎣ 3.75071790996175 ⎦"
      ]
     },
     "metadata": {},
     "output_type": "display_data"
    },
    {
     "name": "stdout",
     "output_type": "stream",
     "text": [
      "*Noise included\n",
      "----------------------------------------------------------------------------------------------------\n"
     ]
    },
    {
     "data": {
      "text/latex": [
       "$\\displaystyle - sensors\\_{std} \\leq noise \\leq sensors\\_{std} = \\left[\\begin{matrix}-1.5\\\\-1.5\\\\-0.02\\\\-1.0\\\\-0.1\\\\-0.5\\end{matrix}\\right] \\leq \\left[\\begin{matrix}0.227877224710587\\\\1.12530135811694\\\\0.0189722004975925\\\\-0.890138281105176\\\\0.0811718580162639\\\\-0.24418418199472\\end{matrix}\\right] \\leq \\left[\\begin{matrix}1.5\\\\1.5\\\\0.02\\\\1.0\\\\0.1\\\\0.5\\end{matrix}\\right]$"
      ],
      "text/plain": [
       "                                       ⎡-1.5 ⎤   ⎡0.227877224710587 ⎤   ⎡1.5 ⎤\n",
       "                                       ⎢     ⎥   ⎢                  ⎥   ⎢    ⎥\n",
       "                                       ⎢-1.5 ⎥   ⎢ 1.12530135811694 ⎥   ⎢1.5 ⎥\n",
       "                                       ⎢     ⎥   ⎢                  ⎥   ⎢    ⎥\n",
       "                                       ⎢-0.02⎥   ⎢0.0189722004975925⎥   ⎢0.02⎥\n",
       "-sensors\\_std ≤ noise ≤ sensors\\_std = ⎢     ⎥ ≤ ⎢                  ⎥ ≤ ⎢    ⎥\n",
       "                                       ⎢-1.0 ⎥   ⎢-0.890138281105176⎥   ⎢1.0 ⎥\n",
       "                                       ⎢     ⎥   ⎢                  ⎥   ⎢    ⎥\n",
       "                                       ⎢-0.1 ⎥   ⎢0.0811718580162639⎥   ⎢0.1 ⎥\n",
       "                                       ⎢     ⎥   ⎢                  ⎥   ⎢    ⎥\n",
       "                                       ⎣-0.5 ⎦   ⎣-0.24418418199472 ⎦   ⎣0.5 ⎦"
      ]
     },
     "metadata": {},
     "output_type": "display_data"
    },
    {
     "name": "stdout",
     "output_type": "stream",
     "text": [
      "====================================================================================================\n",
      "Iteration 2, dt = 0.5364:\n",
      "====================================================================================================\n"
     ]
    },
    {
     "data": {
      "text/latex": [
       "$\\displaystyle predicted\\_{state} = \\left[\\begin{matrix}\\hat x\\\\\\hat y\\\\\\hat \\psi\\\\\\hat v\\\\\\hat{\\dot{\\psi}}\\\\\\hat a\\end{matrix}\\right] = \\left[\\begin{matrix}3.81406463347434\\\\2.07525981367292\\\\1.87383006818527\\\\6.20375166601249\\\\0.529414857699954\\\\3.75071790996175\\end{matrix}\\right]$"
      ],
      "text/plain": [
       "                  ⎡     \\hat x     ⎤   ⎡3.81406463347434 ⎤\n",
       "                  ⎢                ⎥   ⎢                 ⎥\n",
       "                  ⎢     \\hat y     ⎥   ⎢2.07525981367292 ⎥\n",
       "                  ⎢                ⎥   ⎢                 ⎥\n",
       "                  ⎢   \\hat \\psi    ⎥   ⎢1.87383006818527 ⎥\n",
       "predicted\\ₛₜₐₜₑ = ⎢                ⎥ = ⎢                 ⎥\n",
       "                  ⎢     \\hat v     ⎥   ⎢6.20375166601249 ⎥\n",
       "                  ⎢                ⎥   ⎢                 ⎥\n",
       "                  ⎢\\hat{\\dot{\\psi}}⎥   ⎢0.529414857699954⎥\n",
       "                  ⎢                ⎥   ⎢                 ⎥\n",
       "                  ⎣     \\hat a     ⎦   ⎣3.75071790996175 ⎦"
      ]
     },
     "metadata": {},
     "output_type": "display_data"
    },
    {
     "name": "stdout",
     "output_type": "stream",
     "text": [
      "----------------------------------------------------------------------------------------------------\n"
     ]
    },
    {
     "data": {
      "text/latex": [
       "$\\displaystyle updated\\_{state} = \\left[\\begin{matrix}x\\\\y\\\\\\psi\\\\v\\\\\\dot\\psi\\\\a\\end{matrix}\\right] = \\left[\\begin{matrix}2.98288864598973\\\\1.99922811807199\\\\1.75037012616334\\\\6.61959148184533\\\\0.471605823570717\\\\3.66925297914651\\end{matrix}\\right]$"
      ],
      "text/plain": [
       "                ⎡   x    ⎤   ⎡2.98288864598973 ⎤\n",
       "                ⎢        ⎥   ⎢                 ⎥\n",
       "                ⎢   y    ⎥   ⎢1.99922811807199 ⎥\n",
       "                ⎢        ⎥   ⎢                 ⎥\n",
       "                ⎢  \\psi  ⎥   ⎢1.75037012616334 ⎥\n",
       "updated\\ₛₜₐₜₑ = ⎢        ⎥ = ⎢                 ⎥\n",
       "                ⎢   v    ⎥   ⎢6.61959148184533 ⎥\n",
       "                ⎢        ⎥   ⎢                 ⎥\n",
       "                ⎢\\dot\\psi⎥   ⎢0.471605823570717⎥\n",
       "                ⎢        ⎥   ⎢                 ⎥\n",
       "                ⎣   a    ⎦   ⎣3.66925297914651 ⎦"
      ]
     },
     "metadata": {},
     "output_type": "display_data"
    },
    {
     "name": "stdout",
     "output_type": "stream",
     "text": [
      "*Noise included\n",
      "----------------------------------------------------------------------------------------------------\n"
     ]
    },
    {
     "data": {
      "text/latex": [
       "$\\displaystyle - sensors\\_{std} \\leq noise \\leq sensors\\_{std} = \\left[\\begin{matrix}-1.5\\\\-1.5\\\\-0.02\\\\-1.0\\\\-0.1\\\\-0.5\\end{matrix}\\right] \\leq \\left[\\begin{matrix}-1.37987394098796\\\\1.43048846163729\\\\-0.0188336816592081\\\\-0.058094072977281\\\\0.0244711469405193\\\\-0.374810420234834\\end{matrix}\\right] \\leq \\left[\\begin{matrix}1.5\\\\1.5\\\\0.02\\\\1.0\\\\0.1\\\\0.5\\end{matrix}\\right]$"
      ],
      "text/plain": [
       "                                       ⎡-1.5 ⎤   ⎡ -1.37987394098796 ⎤   ⎡1.5 \n",
       "                                       ⎢     ⎥   ⎢                   ⎥   ⎢    \n",
       "                                       ⎢-1.5 ⎥   ⎢ 1.43048846163729  ⎥   ⎢1.5 \n",
       "                                       ⎢     ⎥   ⎢                   ⎥   ⎢    \n",
       "                                       ⎢-0.02⎥   ⎢-0.0188336816592081⎥   ⎢0.02\n",
       "-sensors\\_std ≤ noise ≤ sensors\\_std = ⎢     ⎥ ≤ ⎢                   ⎥ ≤ ⎢    \n",
       "                                       ⎢-1.0 ⎥   ⎢-0.058094072977281 ⎥   ⎢1.0 \n",
       "                                       ⎢     ⎥   ⎢                   ⎥   ⎢    \n",
       "                                       ⎢-0.1 ⎥   ⎢0.0244711469405193 ⎥   ⎢0.1 \n",
       "                                       ⎢     ⎥   ⎢                   ⎥   ⎢    \n",
       "                                       ⎣-0.5 ⎦   ⎣-0.374810420234834 ⎦   ⎣0.5 \n",
       "\n",
       "⎤\n",
       "⎥\n",
       "⎥\n",
       "⎥\n",
       "⎥\n",
       "⎥\n",
       "⎥\n",
       "⎥\n",
       "⎥\n",
       "⎥\n",
       "⎦"
      ]
     },
     "metadata": {},
     "output_type": "display_data"
    },
    {
     "name": "stdout",
     "output_type": "stream",
     "text": [
      "====================================================================================================\n",
      "Iteration 3, dt = 0.1067:\n",
      "====================================================================================================\n"
     ]
    },
    {
     "data": {
      "text/latex": [
       "$\\displaystyle predicted\\_{state} = \\left[\\begin{matrix}\\hat x\\\\\\hat y\\\\\\hat \\psi\\\\\\hat v\\\\\\hat{\\dot{\\psi}}\\\\\\hat a\\end{matrix}\\right] = \\left[\\begin{matrix}2.83488863440771\\\\2.71112737737142\\\\1.80069046753833\\\\7.01110077472027\\\\0.471605823570717\\\\3.66925297914651\\end{matrix}\\right]$"
      ],
      "text/plain": [
       "                  ⎡     \\hat x     ⎤   ⎡2.83488863440771 ⎤\n",
       "                  ⎢                ⎥   ⎢                 ⎥\n",
       "                  ⎢     \\hat y     ⎥   ⎢2.71112737737142 ⎥\n",
       "                  ⎢                ⎥   ⎢                 ⎥\n",
       "                  ⎢   \\hat \\psi    ⎥   ⎢1.80069046753833 ⎥\n",
       "predicted\\ₛₜₐₜₑ = ⎢                ⎥ = ⎢                 ⎥\n",
       "                  ⎢     \\hat v     ⎥   ⎢7.01110077472027 ⎥\n",
       "                  ⎢                ⎥   ⎢                 ⎥\n",
       "                  ⎢\\hat{\\dot{\\psi}}⎥   ⎢0.471605823570717⎥\n",
       "                  ⎢                ⎥   ⎢                 ⎥\n",
       "                  ⎣     \\hat a     ⎦   ⎣3.66925297914651 ⎦"
      ]
     },
     "metadata": {},
     "output_type": "display_data"
    },
    {
     "name": "stdout",
     "output_type": "stream",
     "text": [
      "----------------------------------------------------------------------------------------------------\n"
     ]
    },
    {
     "data": {
      "text/latex": [
       "$\\displaystyle updated\\_{state} = \\left[\\begin{matrix}x\\\\y\\\\\\psi\\\\v\\\\\\dot\\psi\\\\a\\end{matrix}\\right] = \\left[\\begin{matrix}2.47128616997015\\\\2.6827436569036\\\\1.87912706759315\\\\7.44913039656715\\\\0.561933690831339\\\\3.8279920939698\\end{matrix}\\right]$"
      ],
      "text/plain": [
       "                ⎡   x    ⎤   ⎡2.47128616997015 ⎤\n",
       "                ⎢        ⎥   ⎢                 ⎥\n",
       "                ⎢   y    ⎥   ⎢ 2.6827436569036 ⎥\n",
       "                ⎢        ⎥   ⎢                 ⎥\n",
       "                ⎢  \\psi  ⎥   ⎢1.87912706759315 ⎥\n",
       "updated\\ₛₜₐₜₑ = ⎢        ⎥ = ⎢                 ⎥\n",
       "                ⎢   v    ⎥   ⎢7.44913039656715 ⎥\n",
       "                ⎢        ⎥   ⎢                 ⎥\n",
       "                ⎢\\dot\\psi⎥   ⎢0.561933690831339⎥\n",
       "                ⎢        ⎥   ⎢                 ⎥\n",
       "                ⎣   a    ⎦   ⎣ 3.8279920939698 ⎦"
      ]
     },
     "metadata": {},
     "output_type": "display_data"
    },
    {
     "name": "stdout",
     "output_type": "stream",
     "text": [
      "*Noise included\n",
      "----------------------------------------------------------------------------------------------------\n"
     ]
    },
    {
     "data": {
      "text/latex": [
       "$\\displaystyle - sensors\\_{std} \\leq noise \\leq sensors\\_{std} = \\left[\\begin{matrix}-1.5\\\\-1.5\\\\-0.02\\\\-1.0\\\\-0.1\\\\-0.5\\end{matrix}\\right] \\leq \\left[\\begin{matrix}-0.853936079813556\\\\-0.897072330738926\\\\-0.0183351536732908\\\\-0.708580459775136\\\\0.089464412225634\\\\-0.0795241105361467\\end{matrix}\\right] \\leq \\left[\\begin{matrix}1.5\\\\1.5\\\\0.02\\\\1.0\\\\0.1\\\\0.5\\end{matrix}\\right]$"
      ],
      "text/plain": [
       "                                       ⎡-1.5 ⎤   ⎡-0.853936079813556 ⎤   ⎡1.5 \n",
       "                                       ⎢     ⎥   ⎢                   ⎥   ⎢    \n",
       "                                       ⎢-1.5 ⎥   ⎢-0.897072330738926 ⎥   ⎢1.5 \n",
       "                                       ⎢     ⎥   ⎢                   ⎥   ⎢    \n",
       "                                       ⎢-0.02⎥   ⎢-0.0183351536732908⎥   ⎢0.02\n",
       "-sensors\\_std ≤ noise ≤ sensors\\_std = ⎢     ⎥ ≤ ⎢                   ⎥ ≤ ⎢    \n",
       "                                       ⎢-1.0 ⎥   ⎢-0.708580459775136 ⎥   ⎢1.0 \n",
       "                                       ⎢     ⎥   ⎢                   ⎥   ⎢    \n",
       "                                       ⎢-0.1 ⎥   ⎢ 0.089464412225634 ⎥   ⎢0.1 \n",
       "                                       ⎢     ⎥   ⎢                   ⎥   ⎢    \n",
       "                                       ⎣-0.5 ⎦   ⎣-0.0795241105361467⎦   ⎣0.5 \n",
       "\n",
       "⎤\n",
       "⎥\n",
       "⎥\n",
       "⎥\n",
       "⎥\n",
       "⎥\n",
       "⎥\n",
       "⎥\n",
       "⎥\n",
       "⎥\n",
       "⎦"
      ]
     },
     "metadata": {},
     "output_type": "display_data"
    },
    {
     "name": "stdout",
     "output_type": "stream",
     "text": [
      "====================================================================================================\n",
      "Iteration 4, dt = 0.5539:\n",
      "====================================================================================================\n"
     ]
    },
    {
     "data": {
      "text/latex": [
       "$\\displaystyle predicted\\_{state} = \\left[\\begin{matrix}\\hat x\\\\\\hat y\\\\\\hat \\psi\\\\\\hat v\\\\\\hat{\\dot{\\psi}}\\\\\\hat a\\end{matrix}\\right] = \\left[\\begin{matrix}0.343453067631383\\\\6.86719694259943\\\\2.19038213894462\\\\9.56945521741703\\\\0.561933690831339\\\\3.8279920939698\\end{matrix}\\right]$"
      ],
      "text/plain": [
       "                  ⎡     \\hat x     ⎤   ⎡0.343453067631383⎤\n",
       "                  ⎢                ⎥   ⎢                 ⎥\n",
       "                  ⎢     \\hat y     ⎥   ⎢6.86719694259943 ⎥\n",
       "                  ⎢                ⎥   ⎢                 ⎥\n",
       "                  ⎢   \\hat \\psi    ⎥   ⎢2.19038213894462 ⎥\n",
       "predicted\\ₛₜₐₜₑ = ⎢                ⎥ = ⎢                 ⎥\n",
       "                  ⎢     \\hat v     ⎥   ⎢9.56945521741703 ⎥\n",
       "                  ⎢                ⎥   ⎢                 ⎥\n",
       "                  ⎢\\hat{\\dot{\\psi}}⎥   ⎢0.561933690831339⎥\n",
       "                  ⎢                ⎥   ⎢                 ⎥\n",
       "                  ⎣     \\hat a     ⎦   ⎣ 3.8279920939698 ⎦"
      ]
     },
     "metadata": {},
     "output_type": "display_data"
    },
    {
     "name": "stdout",
     "output_type": "stream",
     "text": [
      "----------------------------------------------------------------------------------------------------\n"
     ]
    },
    {
     "data": {
      "text/latex": [
       "$\\displaystyle updated\\_{state} = \\left[\\begin{matrix}x\\\\y\\\\\\psi\\\\v\\\\\\dot\\psi\\\\a\\end{matrix}\\right] = \\left[\\begin{matrix}0.387764010588347\\\\6.12830310990778\\\\2.22064339927526\\\\9.51556279053627\\\\0.636015159133795\\\\2.0800601169756\\end{matrix}\\right]$"
      ],
      "text/plain": [
       "                ⎡   x    ⎤   ⎡0.387764010588347⎤\n",
       "                ⎢        ⎥   ⎢                 ⎥\n",
       "                ⎢   y    ⎥   ⎢6.12830310990778 ⎥\n",
       "                ⎢        ⎥   ⎢                 ⎥\n",
       "                ⎢  \\psi  ⎥   ⎢2.22064339927526 ⎥\n",
       "updated\\ₛₜₐₜₑ = ⎢        ⎥ = ⎢                 ⎥\n",
       "                ⎢   v    ⎥   ⎢9.51556279053627 ⎥\n",
       "                ⎢        ⎥   ⎢                 ⎥\n",
       "                ⎢\\dot\\psi⎥   ⎢0.636015159133795⎥\n",
       "                ⎢        ⎥   ⎢                 ⎥\n",
       "                ⎣   a    ⎦   ⎣ 2.0800601169756 ⎦"
      ]
     },
     "metadata": {},
     "output_type": "display_data"
    },
    {
     "name": "stdout",
     "output_type": "stream",
     "text": [
      "*Noise included\n",
      "----------------------------------------------------------------------------------------------------\n"
     ]
    },
    {
     "data": {
      "text/latex": [
       "$\\displaystyle - sensors\\_{std} \\leq noise \\leq sensors\\_{std} = \\left[\\begin{matrix}-1.5\\\\-1.5\\\\-0.02\\\\-1.0\\\\-0.1\\\\-0.5\\end{matrix}\\right] \\leq \\left[\\begin{matrix}-0.689457780670396\\\\-1.05943317246233\\\\0.00529451692324962\\\\0.718249083442325\\\\0.00938641223141949\\\\0.00556965890164929\\end{matrix}\\right] \\leq \\left[\\begin{matrix}1.5\\\\1.5\\\\0.02\\\\1.0\\\\0.1\\\\0.5\\end{matrix}\\right]$"
      ],
      "text/plain": [
       "                                       ⎡-1.5 ⎤   ⎡-0.689457780670396 ⎤   ⎡1.5 \n",
       "                                       ⎢     ⎥   ⎢                   ⎥   ⎢    \n",
       "                                       ⎢-1.5 ⎥   ⎢ -1.05943317246233 ⎥   ⎢1.5 \n",
       "                                       ⎢     ⎥   ⎢                   ⎥   ⎢    \n",
       "                                       ⎢-0.02⎥   ⎢0.00529451692324962⎥   ⎢0.02\n",
       "-sensors\\_std ≤ noise ≤ sensors\\_std = ⎢     ⎥ ≤ ⎢                   ⎥ ≤ ⎢    \n",
       "                                       ⎢-1.0 ⎥   ⎢ 0.718249083442325 ⎥   ⎢1.0 \n",
       "                                       ⎢     ⎥   ⎢                   ⎥   ⎢    \n",
       "                                       ⎢-0.1 ⎥   ⎢0.00938641223141949⎥   ⎢0.1 \n",
       "                                       ⎢     ⎥   ⎢                   ⎥   ⎢    \n",
       "                                       ⎣-0.5 ⎦   ⎣0.00556965890164929⎦   ⎣0.5 \n",
       "\n",
       "⎤\n",
       "⎥\n",
       "⎥\n",
       "⎥\n",
       "⎥\n",
       "⎥\n",
       "⎥\n",
       "⎥\n",
       "⎥\n",
       "⎥\n",
       "⎦"
      ]
     },
     "metadata": {},
     "output_type": "display_data"
    },
    {
     "name": "stdout",
     "output_type": "stream",
     "text": [
      "====================================================================================================\n",
      "Iteration 5, dt = 0.0843:\n",
      "====================================================================================================\n"
     ]
    },
    {
     "data": {
      "text/latex": [
       "$\\displaystyle predicted\\_{state} = \\left[\\begin{matrix}\\hat x\\\\\\hat y\\\\\\hat \\psi\\\\\\hat v\\\\\\hat{\\dot{\\psi}}\\\\\\hat a\\end{matrix}\\right] = \\left[\\begin{matrix}-0.119159577295381\\\\6.75937157205869\\\\2.27425947719024\\\\9.69091185839732\\\\0.636015159133795\\\\2.0800601169756\\end{matrix}\\right]$"
      ],
      "text/plain": [
       "                  ⎡     \\hat x     ⎤   ⎡-0.119159577295381⎤\n",
       "                  ⎢                ⎥   ⎢                  ⎥\n",
       "                  ⎢     \\hat y     ⎥   ⎢ 6.75937157205869 ⎥\n",
       "                  ⎢                ⎥   ⎢                  ⎥\n",
       "                  ⎢   \\hat \\psi    ⎥   ⎢ 2.27425947719024 ⎥\n",
       "predicted\\ₛₜₐₜₑ = ⎢                ⎥ = ⎢                  ⎥\n",
       "                  ⎢     \\hat v     ⎥   ⎢ 9.69091185839732 ⎥\n",
       "                  ⎢                ⎥   ⎢                  ⎥\n",
       "                  ⎢\\hat{\\dot{\\psi}}⎥   ⎢0.636015159133795 ⎥\n",
       "                  ⎢                ⎥   ⎢                  ⎥\n",
       "                  ⎣     \\hat a     ⎦   ⎣ 2.0800601169756  ⎦"
      ]
     },
     "metadata": {},
     "output_type": "display_data"
    },
    {
     "name": "stdout",
     "output_type": "stream",
     "text": [
      "----------------------------------------------------------------------------------------------------\n"
     ]
    },
    {
     "data": {
      "text/latex": [
       "$\\displaystyle updated\\_{state} = \\left[\\begin{matrix}x\\\\y\\\\\\psi\\\\v\\\\\\dot\\psi\\\\a\\end{matrix}\\right] = \\left[\\begin{matrix}-1.20025662305465\\\\7.37340493515547\\\\2.38742135893526\\\\9.06758169909352\\\\0.76182493590327\\\\1.2486866498714\\end{matrix}\\right]$"
      ],
      "text/plain": [
       "                ⎡   x    ⎤   ⎡-1.20025662305465⎤\n",
       "                ⎢        ⎥   ⎢                 ⎥\n",
       "                ⎢   y    ⎥   ⎢7.37340493515547 ⎥\n",
       "                ⎢        ⎥   ⎢                 ⎥\n",
       "                ⎢  \\psi  ⎥   ⎢2.38742135893526 ⎥\n",
       "updated\\ₛₜₐₜₑ = ⎢        ⎥ = ⎢                 ⎥\n",
       "                ⎢   v    ⎥   ⎢9.06758169909352 ⎥\n",
       "                ⎢        ⎥   ⎢                 ⎥\n",
       "                ⎢\\dot\\psi⎥   ⎢0.76182493590327 ⎥\n",
       "                ⎢        ⎥   ⎢                 ⎥\n",
       "                ⎣   a    ⎦   ⎣ 1.2486866498714 ⎦"
      ]
     },
     "metadata": {},
     "output_type": "display_data"
    },
    {
     "name": "stdout",
     "output_type": "stream",
     "text": [
      "*Noise included\n",
      "----------------------------------------------------------------------------------------------------\n"
     ]
    },
    {
     "data": {
      "text/latex": [
       "$\\displaystyle - sensors\\_{std} \\leq noise \\leq sensors\\_{std} = \\left[\\begin{matrix}-1.5\\\\-1.5\\\\-0.02\\\\-1.0\\\\-0.1\\\\-0.5\\end{matrix}\\right] \\leq \\left[\\begin{matrix}-1.38137261577913\\\\-0.723644938841837\\\\-0.00586734668741647\\\\-0.618364400715885\\\\0.0975058159064015\\\\-0.263839900224146\\end{matrix}\\right] \\leq \\left[\\begin{matrix}1.5\\\\1.5\\\\0.02\\\\1.0\\\\0.1\\\\0.5\\end{matrix}\\right]$"
      ],
      "text/plain": [
       "                                       ⎡-1.5 ⎤   ⎡ -1.38137261577913  ⎤   ⎡1.5\n",
       "                                       ⎢     ⎥   ⎢                    ⎥   ⎢   \n",
       "                                       ⎢-1.5 ⎥   ⎢ -0.723644938841837 ⎥   ⎢1.5\n",
       "                                       ⎢     ⎥   ⎢                    ⎥   ⎢   \n",
       "                                       ⎢-0.02⎥   ⎢-0.00586734668741647⎥   ⎢0.0\n",
       "-sensors\\_std ≤ noise ≤ sensors\\_std = ⎢     ⎥ ≤ ⎢                    ⎥ ≤ ⎢   \n",
       "                                       ⎢-1.0 ⎥   ⎢ -0.618364400715885 ⎥   ⎢1.0\n",
       "                                       ⎢     ⎥   ⎢                    ⎥   ⎢   \n",
       "                                       ⎢-0.1 ⎥   ⎢ 0.0975058159064015 ⎥   ⎢0.1\n",
       "                                       ⎢     ⎥   ⎢                    ⎥   ⎢   \n",
       "                                       ⎣-0.5 ⎦   ⎣ -0.263839900224146 ⎦   ⎣0.5\n",
       "\n",
       " ⎤\n",
       " ⎥\n",
       " ⎥\n",
       " ⎥\n",
       "2⎥\n",
       " ⎥\n",
       " ⎥\n",
       " ⎥\n",
       " ⎥\n",
       " ⎥\n",
       " ⎦"
      ]
     },
     "metadata": {},
     "output_type": "display_data"
    },
    {
     "name": "stdout",
     "output_type": "stream",
     "text": [
      "====================================================================================================\n",
      "Iteration 6, dt = 0.0452:\n",
      "====================================================================================================\n"
     ]
    },
    {
     "data": {
      "text/latex": [
       "$\\displaystyle predicted\\_{state} = \\left[\\begin{matrix}\\hat x\\\\\\hat y\\\\\\hat \\psi\\\\\\hat v\\\\\\hat{\\dot{\\psi}}\\\\\\hat a\\end{matrix}\\right] = \\left[\\begin{matrix}-1.50469625404549\\\\7.64967996727936\\\\2.42185584603809\\\\9.12402233566771\\\\0.76182493590327\\\\1.2486866498714\\end{matrix}\\right]$"
      ],
      "text/plain": [
       "                  ⎡     \\hat x     ⎤   ⎡-1.50469625404549⎤\n",
       "                  ⎢                ⎥   ⎢                 ⎥\n",
       "                  ⎢     \\hat y     ⎥   ⎢7.64967996727936 ⎥\n",
       "                  ⎢                ⎥   ⎢                 ⎥\n",
       "                  ⎢   \\hat \\psi    ⎥   ⎢2.42185584603809 ⎥\n",
       "predicted\\ₛₜₐₜₑ = ⎢                ⎥ = ⎢                 ⎥\n",
       "                  ⎢     \\hat v     ⎥   ⎢9.12402233566771 ⎥\n",
       "                  ⎢                ⎥   ⎢                 ⎥\n",
       "                  ⎢\\hat{\\dot{\\psi}}⎥   ⎢0.76182493590327 ⎥\n",
       "                  ⎢                ⎥   ⎢                 ⎥\n",
       "                  ⎣     \\hat a     ⎦   ⎣ 1.2486866498714 ⎦"
      ]
     },
     "metadata": {},
     "output_type": "display_data"
    },
    {
     "name": "stdout",
     "output_type": "stream",
     "text": [
      "----------------------------------------------------------------------------------------------------\n"
     ]
    },
    {
     "data": {
      "text/latex": [
       "$\\displaystyle updated\\_{state} = \\left[\\begin{matrix}x\\\\y\\\\\\psi\\\\v\\\\\\dot\\psi\\\\a\\end{matrix}\\right] = \\left[\\begin{matrix}-2.17547718739585\\\\8.22052298259319\\\\2.54786421356966\\\\9.00970957857107\\\\0.799249752509835\\\\0.206891792812011\\end{matrix}\\right]$"
      ],
      "text/plain": [
       "                ⎡   x    ⎤   ⎡-2.17547718739585⎤\n",
       "                ⎢        ⎥   ⎢                 ⎥\n",
       "                ⎢   y    ⎥   ⎢8.22052298259319 ⎥\n",
       "                ⎢        ⎥   ⎢                 ⎥\n",
       "                ⎢  \\psi  ⎥   ⎢2.54786421356966 ⎥\n",
       "updated\\ₛₜₐₜₑ = ⎢        ⎥ = ⎢                 ⎥\n",
       "                ⎢   v    ⎥   ⎢9.00970957857107 ⎥\n",
       "                ⎢        ⎥   ⎢                 ⎥\n",
       "                ⎢\\dot\\psi⎥   ⎢0.799249752509835⎥\n",
       "                ⎢        ⎥   ⎢                 ⎥\n",
       "                ⎣   a    ⎦   ⎣0.206891792812011⎦"
      ]
     },
     "metadata": {},
     "output_type": "display_data"
    },
    {
     "name": "stdout",
     "output_type": "stream",
     "text": [
      "*Noise included\n",
      "----------------------------------------------------------------------------------------------------\n"
     ]
    },
    {
     "data": {
      "text/latex": [
       "$\\displaystyle - sensors\\_{std} \\leq noise \\leq sensors\\_{std} = \\left[\\begin{matrix}-1.5\\\\-1.5\\\\-0.02\\\\-1.0\\\\-0.1\\\\-0.5\\end{matrix}\\right] \\leq \\left[\\begin{matrix}1.2122954901129\\\\-1.26557911185042\\\\0.0013530549910531\\\\-0.417746087877106\\\\-0.0417715196339896\\\\-0.436752343776906\\end{matrix}\\right] \\leq \\left[\\begin{matrix}1.5\\\\1.5\\\\0.02\\\\1.0\\\\0.1\\\\0.5\\end{matrix}\\right]$"
      ],
      "text/plain": [
       "                                       ⎡-1.5 ⎤   ⎡  1.2122954901129  ⎤   ⎡1.5 \n",
       "                                       ⎢     ⎥   ⎢                   ⎥   ⎢    \n",
       "                                       ⎢-1.5 ⎥   ⎢ -1.26557911185042 ⎥   ⎢1.5 \n",
       "                                       ⎢     ⎥   ⎢                   ⎥   ⎢    \n",
       "                                       ⎢-0.02⎥   ⎢0.0013530549910531 ⎥   ⎢0.02\n",
       "-sensors\\_std ≤ noise ≤ sensors\\_std = ⎢     ⎥ ≤ ⎢                   ⎥ ≤ ⎢    \n",
       "                                       ⎢-1.0 ⎥   ⎢-0.417746087877106 ⎥   ⎢1.0 \n",
       "                                       ⎢     ⎥   ⎢                   ⎥   ⎢    \n",
       "                                       ⎢-0.1 ⎥   ⎢-0.0417715196339896⎥   ⎢0.1 \n",
       "                                       ⎢     ⎥   ⎢                   ⎥   ⎢    \n",
       "                                       ⎣-0.5 ⎦   ⎣-0.436752343776906 ⎦   ⎣0.5 \n",
       "\n",
       "⎤\n",
       "⎥\n",
       "⎥\n",
       "⎥\n",
       "⎥\n",
       "⎥\n",
       "⎥\n",
       "⎥\n",
       "⎥\n",
       "⎥\n",
       "⎦"
      ]
     },
     "metadata": {},
     "output_type": "display_data"
    },
    {
     "name": "stdout",
     "output_type": "stream",
     "text": [
      "====================================================================================================\n",
      "Iteration 7, dt = 0.017:\n",
      "====================================================================================================\n"
     ]
    },
    {
     "data": {
      "text/latex": [
       "$\\displaystyle predicted\\_{state} = \\left[\\begin{matrix}\\hat x\\\\\\hat y\\\\\\hat \\psi\\\\\\hat v\\\\\\hat{\\dot{\\psi}}\\\\\\hat a\\end{matrix}\\right] = \\left[\\begin{matrix}-2.30303281907098\\\\8.30536339247277\\\\2.56145145936233\\\\9.01322673904888\\\\0.799249752509835\\\\0.206891792812011\\end{matrix}\\right]$"
      ],
      "text/plain": [
       "                  ⎡     \\hat x     ⎤   ⎡-2.30303281907098⎤\n",
       "                  ⎢                ⎥   ⎢                 ⎥\n",
       "                  ⎢     \\hat y     ⎥   ⎢8.30536339247277 ⎥\n",
       "                  ⎢                ⎥   ⎢                 ⎥\n",
       "                  ⎢   \\hat \\psi    ⎥   ⎢2.56145145936233 ⎥\n",
       "predicted\\ₛₜₐₜₑ = ⎢                ⎥ = ⎢                 ⎥\n",
       "                  ⎢     \\hat v     ⎥   ⎢9.01322673904888 ⎥\n",
       "                  ⎢                ⎥   ⎢                 ⎥\n",
       "                  ⎢\\hat{\\dot{\\psi}}⎥   ⎢0.799249752509835⎥\n",
       "                  ⎢                ⎥   ⎢                 ⎥\n",
       "                  ⎣     \\hat a     ⎦   ⎣0.206891792812011⎦"
      ]
     },
     "metadata": {},
     "output_type": "display_data"
    },
    {
     "name": "stdout",
     "output_type": "stream",
     "text": [
      "----------------------------------------------------------------------------------------------------\n"
     ]
    },
    {
     "data": {
      "text/latex": [
       "$\\displaystyle updated\\_{state} = \\left[\\begin{matrix}x\\\\y\\\\\\psi\\\\v\\\\\\dot\\psi\\\\a\\end{matrix}\\right] = \\left[\\begin{matrix}-3.49783463123017\\\\9.2703657359609\\\\2.68583778544629\\\\9.29204607843411\\\\0.83252611728277\\\\0.0321075242814062\\end{matrix}\\right]$"
      ],
      "text/plain": [
       "                ⎡   x    ⎤   ⎡-3.49783463123017 ⎤\n",
       "                ⎢        ⎥   ⎢                  ⎥\n",
       "                ⎢   y    ⎥   ⎢ 9.2703657359609  ⎥\n",
       "                ⎢        ⎥   ⎢                  ⎥\n",
       "                ⎢  \\psi  ⎥   ⎢ 2.68583778544629 ⎥\n",
       "updated\\ₛₜₐₜₑ = ⎢        ⎥ = ⎢                  ⎥\n",
       "                ⎢   v    ⎥   ⎢ 9.29204607843411 ⎥\n",
       "                ⎢        ⎥   ⎢                  ⎥\n",
       "                ⎢\\dot\\psi⎥   ⎢ 0.83252611728277 ⎥\n",
       "                ⎢        ⎥   ⎢                  ⎥\n",
       "                ⎣   a    ⎦   ⎣0.0321075242814062⎦"
      ]
     },
     "metadata": {},
     "output_type": "display_data"
    },
    {
     "name": "stdout",
     "output_type": "stream",
     "text": [
      "*Noise included\n",
      "----------------------------------------------------------------------------------------------------\n"
     ]
    },
    {
     "data": {
      "text/latex": [
       "$\\displaystyle - sensors\\_{std} \\leq noise \\leq sensors\\_{std} = \\left[\\begin{matrix}-1.5\\\\-1.5\\\\-0.02\\\\-1.0\\\\-0.1\\\\-0.5\\end{matrix}\\right] \\leq \\left[\\begin{matrix}1.10857941869915\\\\0.824026021998136\\\\-0.0134112308063577\\\\0.51782283671401\\\\-0.0861591164935991\\\\-0.0777804552317759\\end{matrix}\\right] \\leq \\left[\\begin{matrix}1.5\\\\1.5\\\\0.02\\\\1.0\\\\0.1\\\\0.5\\end{matrix}\\right]$"
      ],
      "text/plain": [
       "                                       ⎡-1.5 ⎤   ⎡ 1.10857941869915  ⎤   ⎡1.5 \n",
       "                                       ⎢     ⎥   ⎢                   ⎥   ⎢    \n",
       "                                       ⎢-1.5 ⎥   ⎢ 0.824026021998136 ⎥   ⎢1.5 \n",
       "                                       ⎢     ⎥   ⎢                   ⎥   ⎢    \n",
       "                                       ⎢-0.02⎥   ⎢-0.0134112308063577⎥   ⎢0.02\n",
       "-sensors\\_std ≤ noise ≤ sensors\\_std = ⎢     ⎥ ≤ ⎢                   ⎥ ≤ ⎢    \n",
       "                                       ⎢-1.0 ⎥   ⎢ 0.51782283671401  ⎥   ⎢1.0 \n",
       "                                       ⎢     ⎥   ⎢                   ⎥   ⎢    \n",
       "                                       ⎢-0.1 ⎥   ⎢-0.0861591164935991⎥   ⎢0.1 \n",
       "                                       ⎢     ⎥   ⎢                   ⎥   ⎢    \n",
       "                                       ⎣-0.5 ⎦   ⎣-0.0777804552317759⎦   ⎣0.5 \n",
       "\n",
       "⎤\n",
       "⎥\n",
       "⎥\n",
       "⎥\n",
       "⎥\n",
       "⎥\n",
       "⎥\n",
       "⎥\n",
       "⎥\n",
       "⎥\n",
       "⎦"
      ]
     },
     "metadata": {},
     "output_type": "display_data"
    },
    {
     "name": "stdout",
     "output_type": "stream",
     "text": [
      "====================================================================================================\n",
      "Iteration 8, dt = 0.1824:\n",
      "====================================================================================================\n"
     ]
    },
    {
     "data": {
      "text/latex": [
       "$\\displaystyle predicted\\_{state} = \\left[\\begin{matrix}\\hat x\\\\\\hat y\\\\\\hat \\psi\\\\\\hat v\\\\\\hat{\\dot{\\psi}}\\\\\\hat a\\end{matrix}\\right] = \\left[\\begin{matrix}-5.07089615777527\\\\9.8983391529157\\\\2.83769054923867\\\\9.29790249086304\\\\0.83252611728277\\\\0.0321075242814062\\end{matrix}\\right]$"
      ],
      "text/plain": [
       "                  ⎡     \\hat x     ⎤   ⎡-5.07089615777527 ⎤\n",
       "                  ⎢                ⎥   ⎢                  ⎥\n",
       "                  ⎢     \\hat y     ⎥   ⎢ 9.8983391529157  ⎥\n",
       "                  ⎢                ⎥   ⎢                  ⎥\n",
       "                  ⎢   \\hat \\psi    ⎥   ⎢ 2.83769054923867 ⎥\n",
       "predicted\\ₛₜₐₜₑ = ⎢                ⎥ = ⎢                  ⎥\n",
       "                  ⎢     \\hat v     ⎥   ⎢ 9.29790249086304 ⎥\n",
       "                  ⎢                ⎥   ⎢                  ⎥\n",
       "                  ⎢\\hat{\\dot{\\psi}}⎥   ⎢ 0.83252611728277 ⎥\n",
       "                  ⎢                ⎥   ⎢                  ⎥\n",
       "                  ⎣     \\hat a     ⎦   ⎣0.0321075242814062⎦"
      ]
     },
     "metadata": {},
     "output_type": "display_data"
    },
    {
     "name": "stdout",
     "output_type": "stream",
     "text": [
      "----------------------------------------------------------------------------------------------------\n"
     ]
    },
    {
     "data": {
      "text/latex": [
       "$\\displaystyle updated\\_{state} = \\left[\\begin{matrix}x\\\\y\\\\\\psi\\\\v\\\\\\dot\\psi\\\\a\\end{matrix}\\right] = \\left[\\begin{matrix}-6.56496340624263\\\\10.6790646799546\\\\2.83561184528471\\\\9.77233262694874\\\\-0.153030102970575\\\\1.43156593976912\\end{matrix}\\right]$"
      ],
      "text/plain": [
       "                ⎡   x    ⎤   ⎡-6.56496340624263 ⎤\n",
       "                ⎢        ⎥   ⎢                  ⎥\n",
       "                ⎢   y    ⎥   ⎢ 10.6790646799546 ⎥\n",
       "                ⎢        ⎥   ⎢                  ⎥\n",
       "                ⎢  \\psi  ⎥   ⎢ 2.83561184528471 ⎥\n",
       "updated\\ₛₜₐₜₑ = ⎢        ⎥ = ⎢                  ⎥\n",
       "                ⎢   v    ⎥   ⎢ 9.77233262694874 ⎥\n",
       "                ⎢        ⎥   ⎢                  ⎥\n",
       "                ⎢\\dot\\psi⎥   ⎢-0.153030102970575⎥\n",
       "                ⎢        ⎥   ⎢                  ⎥\n",
       "                ⎣   a    ⎦   ⎣ 1.43156593976912 ⎦"
      ]
     },
     "metadata": {},
     "output_type": "display_data"
    },
    {
     "name": "stdout",
     "output_type": "stream",
     "text": [
      "*Noise included\n",
      "----------------------------------------------------------------------------------------------------\n"
     ]
    },
    {
     "data": {
      "text/latex": [
       "$\\displaystyle - sensors\\_{std} \\leq noise \\leq sensors\\_{std} = \\left[\\begin{matrix}-1.5\\\\-1.5\\\\-0.02\\\\-1.0\\\\-0.1\\\\-0.5\\end{matrix}\\right] \\leq \\left[\\begin{matrix}-0.342187869555294\\\\0.893174140479817\\\\-0.00253191332043304\\\\-0.262802510105598\\\\-0.0360028791565841\\\\0.289988680516788\\end{matrix}\\right] \\leq \\left[\\begin{matrix}1.5\\\\1.5\\\\0.02\\\\1.0\\\\0.1\\\\0.5\\end{matrix}\\right]$"
      ],
      "text/plain": [
       "                                       ⎡-1.5 ⎤   ⎡ -0.342187869555294 ⎤   ⎡1.5\n",
       "                                       ⎢     ⎥   ⎢                    ⎥   ⎢   \n",
       "                                       ⎢-1.5 ⎥   ⎢ 0.893174140479817  ⎥   ⎢1.5\n",
       "                                       ⎢     ⎥   ⎢                    ⎥   ⎢   \n",
       "                                       ⎢-0.02⎥   ⎢-0.00253191332043304⎥   ⎢0.0\n",
       "-sensors\\_std ≤ noise ≤ sensors\\_std = ⎢     ⎥ ≤ ⎢                    ⎥ ≤ ⎢   \n",
       "                                       ⎢-1.0 ⎥   ⎢ -0.262802510105598 ⎥   ⎢1.0\n",
       "                                       ⎢     ⎥   ⎢                    ⎥   ⎢   \n",
       "                                       ⎢-0.1 ⎥   ⎢-0.0360028791565841 ⎥   ⎢0.1\n",
       "                                       ⎢     ⎥   ⎢                    ⎥   ⎢   \n",
       "                                       ⎣-0.5 ⎦   ⎣ 0.289988680516788  ⎦   ⎣0.5\n",
       "\n",
       " ⎤\n",
       " ⎥\n",
       " ⎥\n",
       " ⎥\n",
       "2⎥\n",
       " ⎥\n",
       " ⎥\n",
       " ⎥\n",
       " ⎥\n",
       " ⎥\n",
       " ⎦"
      ]
     },
     "metadata": {},
     "output_type": "display_data"
    },
    {
     "name": "stdout",
     "output_type": "stream",
     "text": [
      "====================================================================================================\n",
      "Iteration 9, dt = 0.5568:\n",
      "====================================================================================================\n"
     ]
    },
    {
     "data": {
      "text/latex": [
       "$\\displaystyle predicted\\_{state} = \\left[\\begin{matrix}\\hat x\\\\\\hat y\\\\\\hat \\psi\\\\\\hat v\\\\\\hat{\\dot{\\psi}}\\\\\\hat a\\end{matrix}\\right] = \\left[\\begin{matrix}-11.8848259279597\\\\12.6157886427895\\\\2.7504046839507\\\\10.5694285422122\\\\-0.153030102970575\\\\1.43156593976912\\end{matrix}\\right]$"
      ],
      "text/plain": [
       "                  ⎡     \\hat x     ⎤   ⎡-11.8848259279597 ⎤\n",
       "                  ⎢                ⎥   ⎢                  ⎥\n",
       "                  ⎢     \\hat y     ⎥   ⎢ 12.6157886427895 ⎥\n",
       "                  ⎢                ⎥   ⎢                  ⎥\n",
       "                  ⎢   \\hat \\psi    ⎥   ⎢ 2.7504046839507  ⎥\n",
       "predicted\\ₛₜₐₜₑ = ⎢                ⎥ = ⎢                  ⎥\n",
       "                  ⎢     \\hat v     ⎥   ⎢ 10.5694285422122 ⎥\n",
       "                  ⎢                ⎥   ⎢                  ⎥\n",
       "                  ⎢\\hat{\\dot{\\psi}}⎥   ⎢-0.153030102970575⎥\n",
       "                  ⎢                ⎥   ⎢                  ⎥\n",
       "                  ⎣     \\hat a     ⎦   ⎣ 1.43156593976912 ⎦"
      ]
     },
     "metadata": {},
     "output_type": "display_data"
    },
    {
     "name": "stdout",
     "output_type": "stream",
     "text": [
      "----------------------------------------------------------------------------------------------------\n"
     ]
    },
    {
     "data": {
      "text/latex": [
       "$\\displaystyle updated\\_{state} = \\left[\\begin{matrix}x\\\\y\\\\\\psi\\\\v\\\\\\dot\\psi\\\\a\\end{matrix}\\right] = \\left[\\begin{matrix}-14.4403545774932\\\\13.2416393601672\\\\2.69261426050415\\\\10.5595823022673\\\\-0.342120820814961\\\\1.8852244872365\\end{matrix}\\right]$"
      ],
      "text/plain": [
       "                ⎡   x    ⎤   ⎡-14.4403545774932 ⎤\n",
       "                ⎢        ⎥   ⎢                  ⎥\n",
       "                ⎢   y    ⎥   ⎢ 13.2416393601672 ⎥\n",
       "                ⎢        ⎥   ⎢                  ⎥\n",
       "                ⎢  \\psi  ⎥   ⎢ 2.69261426050415 ⎥\n",
       "updated\\ₛₜₐₜₑ = ⎢        ⎥ = ⎢                  ⎥\n",
       "                ⎢   v    ⎥   ⎢ 10.5595823022673 ⎥\n",
       "                ⎢        ⎥   ⎢                  ⎥\n",
       "                ⎢\\dot\\psi⎥   ⎢-0.342120820814961⎥\n",
       "                ⎢        ⎥   ⎢                  ⎥\n",
       "                ⎣   a    ⎦   ⎣ 1.8852244872365  ⎦"
      ]
     },
     "metadata": {},
     "output_type": "display_data"
    },
    {
     "name": "stdout",
     "output_type": "stream",
     "text": [
      "*Noise included\n",
      "----------------------------------------------------------------------------------------------------\n"
     ]
    },
    {
     "data": {
      "text/latex": [
       "$\\displaystyle - sensors\\_{std} \\leq noise \\leq sensors\\_{std} = \\left[\\begin{matrix}-1.5\\\\-1.5\\\\-0.02\\\\-1.0\\\\-0.1\\\\-0.5\\end{matrix}\\right] \\leq \\left[\\begin{matrix}0.14772361243681\\\\-1.16925689296747\\\\0.00541449372002326\\\\-0.394586962209025\\\\0.0458986568469406\\\\0.150408168623717\\end{matrix}\\right] \\leq \\left[\\begin{matrix}1.5\\\\1.5\\\\0.02\\\\1.0\\\\0.1\\\\0.5\\end{matrix}\\right]$"
      ],
      "text/plain": [
       "                                       ⎡-1.5 ⎤   ⎡ 0.14772361243681  ⎤   ⎡1.5 \n",
       "                                       ⎢     ⎥   ⎢                   ⎥   ⎢    \n",
       "                                       ⎢-1.5 ⎥   ⎢ -1.16925689296747 ⎥   ⎢1.5 \n",
       "                                       ⎢     ⎥   ⎢                   ⎥   ⎢    \n",
       "                                       ⎢-0.02⎥   ⎢0.00541449372002326⎥   ⎢0.02\n",
       "-sensors\\_std ≤ noise ≤ sensors\\_std = ⎢     ⎥ ≤ ⎢                   ⎥ ≤ ⎢    \n",
       "                                       ⎢-1.0 ⎥   ⎢-0.394586962209025 ⎥   ⎢1.0 \n",
       "                                       ⎢     ⎥   ⎢                   ⎥   ⎢    \n",
       "                                       ⎢-0.1 ⎥   ⎢0.0458986568469406 ⎥   ⎢0.1 \n",
       "                                       ⎢     ⎥   ⎢                   ⎥   ⎢    \n",
       "                                       ⎣-0.5 ⎦   ⎣ 0.150408168623717 ⎦   ⎣0.5 \n",
       "\n",
       "⎤\n",
       "⎥\n",
       "⎥\n",
       "⎥\n",
       "⎥\n",
       "⎥\n",
       "⎥\n",
       "⎥\n",
       "⎥\n",
       "⎥\n",
       "⎦"
      ]
     },
     "metadata": {},
     "output_type": "display_data"
    },
    {
     "name": "stdout",
     "output_type": "stream",
     "text": [
      "====================================================================================================\n",
      "Iteration 10, dt = 0.9355:\n",
      "====================================================================================================\n"
     ]
    },
    {
     "data": {
      "text/latex": [
       "$\\displaystyle predicted\\_{state} = \\left[\\begin{matrix}\\hat x\\\\\\hat y\\\\\\hat \\psi\\\\\\hat v\\\\\\hat{\\dot{\\psi}}\\\\\\hat a\\end{matrix}\\right] = \\left[\\begin{matrix}-23.1569600919828\\\\19.3744559212529\\\\2.37256023263176\\\\12.3232098100771\\\\-0.342120820814961\\\\1.8852244872365\\end{matrix}\\right]$"
      ],
      "text/plain": [
       "                  ⎡     \\hat x     ⎤   ⎡-23.1569600919828 ⎤\n",
       "                  ⎢                ⎥   ⎢                  ⎥\n",
       "                  ⎢     \\hat y     ⎥   ⎢ 19.3744559212529 ⎥\n",
       "                  ⎢                ⎥   ⎢                  ⎥\n",
       "                  ⎢   \\hat \\psi    ⎥   ⎢ 2.37256023263176 ⎥\n",
       "predicted\\ₛₜₐₜₑ = ⎢                ⎥ = ⎢                  ⎥\n",
       "                  ⎢     \\hat v     ⎥   ⎢ 12.3232098100771 ⎥\n",
       "                  ⎢                ⎥   ⎢                  ⎥\n",
       "                  ⎢\\hat{\\dot{\\psi}}⎥   ⎢-0.342120820814961⎥\n",
       "                  ⎢                ⎥   ⎢                  ⎥\n",
       "                  ⎣     \\hat a     ⎦   ⎣ 1.8852244872365  ⎦"
      ]
     },
     "metadata": {},
     "output_type": "display_data"
    },
    {
     "name": "stdout",
     "output_type": "stream",
     "text": [
      "----------------------------------------------------------------------------------------------------\n"
     ]
    },
    {
     "data": {
      "text/latex": [
       "$\\displaystyle updated\\_{state} = \\left[\\begin{matrix}x\\\\y\\\\\\psi\\\\v\\\\\\dot\\psi\\\\a\\end{matrix}\\right] = \\left[\\begin{matrix}-21.0345444549794\\\\16.6065133116102\\\\2.33743824925498\\\\12.2400509861533\\\\-0.724251649911887\\\\2.24993547880375\\end{matrix}\\right]$"
      ],
      "text/plain": [
       "                ⎡   x    ⎤   ⎡-21.0345444549794 ⎤\n",
       "                ⎢        ⎥   ⎢                  ⎥\n",
       "                ⎢   y    ⎥   ⎢ 16.6065133116102 ⎥\n",
       "                ⎢        ⎥   ⎢                  ⎥\n",
       "                ⎢  \\psi  ⎥   ⎢ 2.33743824925498 ⎥\n",
       "updated\\ₛₜₐₜₑ = ⎢        ⎥ = ⎢                  ⎥\n",
       "                ⎢   v    ⎥   ⎢ 12.2400509861533 ⎥\n",
       "                ⎢        ⎥   ⎢                  ⎥\n",
       "                ⎢\\dot\\psi⎥   ⎢-0.724251649911887⎥\n",
       "                ⎢        ⎥   ⎢                  ⎥\n",
       "                ⎣   a    ⎦   ⎣ 2.24993547880375 ⎦"
      ]
     },
     "metadata": {},
     "output_type": "display_data"
    },
    {
     "name": "stdout",
     "output_type": "stream",
     "text": [
      "*Noise included\n",
      "----------------------------------------------------------------------------------------------------\n"
     ]
    },
    {
     "data": {
      "text/latex": [
       "$\\displaystyle - sensors\\_{std} \\leq noise \\leq sensors\\_{std} = \\left[\\begin{matrix}-1.5\\\\-1.5\\\\-0.02\\\\-1.0\\\\-0.1\\\\-0.5\\end{matrix}\\right] \\leq \\left[\\begin{matrix}0.0277394080122888\\\\-1.42149174204634\\\\-0.013667957079336\\\\0.460617780008684\\\\0.0570145734052637\\\\0.484814553509475\\end{matrix}\\right] \\leq \\left[\\begin{matrix}1.5\\\\1.5\\\\0.02\\\\1.0\\\\0.1\\\\0.5\\end{matrix}\\right]$"
      ],
      "text/plain": [
       "                                       ⎡-1.5 ⎤   ⎡0.0277394080122888⎤   ⎡1.5 ⎤\n",
       "                                       ⎢     ⎥   ⎢                  ⎥   ⎢    ⎥\n",
       "                                       ⎢-1.5 ⎥   ⎢-1.42149174204634 ⎥   ⎢1.5 ⎥\n",
       "                                       ⎢     ⎥   ⎢                  ⎥   ⎢    ⎥\n",
       "                                       ⎢-0.02⎥   ⎢-0.013667957079336⎥   ⎢0.02⎥\n",
       "-sensors\\_std ≤ noise ≤ sensors\\_std = ⎢     ⎥ ≤ ⎢                  ⎥ ≤ ⎢    ⎥\n",
       "                                       ⎢-1.0 ⎥   ⎢0.460617780008684 ⎥   ⎢1.0 ⎥\n",
       "                                       ⎢     ⎥   ⎢                  ⎥   ⎢    ⎥\n",
       "                                       ⎢-0.1 ⎥   ⎢0.0570145734052637⎥   ⎢0.1 ⎥\n",
       "                                       ⎢     ⎥   ⎢                  ⎥   ⎢    ⎥\n",
       "                                       ⎣-0.5 ⎦   ⎣0.484814553509475 ⎦   ⎣0.5 ⎦"
      ]
     },
     "metadata": {},
     "output_type": "display_data"
    },
    {
     "name": "stdout",
     "output_type": "stream",
     "text": [
      "====================================================================================================\n",
      "Iteration 11, dt = 0.2909:\n",
      "====================================================================================================\n"
     ]
    },
    {
     "data": {
      "text/latex": [
       "$\\displaystyle predicted\\_{state} = \\left[\\begin{matrix}\\hat x\\\\\\hat y\\\\\\hat \\psi\\\\\\hat v\\\\\\hat{\\dot{\\psi}}\\\\\\hat a\\end{matrix}\\right] = \\left[\\begin{matrix}-23.2729605035383\\\\19.4883919065486\\\\2.12675344429561\\\\12.8945572169374\\\\-0.724251649911887\\\\2.24993547880375\\end{matrix}\\right]$"
      ],
      "text/plain": [
       "                  ⎡     \\hat x     ⎤   ⎡-23.2729605035383 ⎤\n",
       "                  ⎢                ⎥   ⎢                  ⎥\n",
       "                  ⎢     \\hat y     ⎥   ⎢ 19.4883919065486 ⎥\n",
       "                  ⎢                ⎥   ⎢                  ⎥\n",
       "                  ⎢   \\hat \\psi    ⎥   ⎢ 2.12675344429561 ⎥\n",
       "predicted\\ₛₜₐₜₑ = ⎢                ⎥ = ⎢                  ⎥\n",
       "                  ⎢     \\hat v     ⎥   ⎢ 12.8945572169374 ⎥\n",
       "                  ⎢                ⎥   ⎢                  ⎥\n",
       "                  ⎢\\hat{\\dot{\\psi}}⎥   ⎢-0.724251649911887⎥\n",
       "                  ⎢                ⎥   ⎢                  ⎥\n",
       "                  ⎣     \\hat a     ⎦   ⎣ 2.24993547880375 ⎦"
      ]
     },
     "metadata": {},
     "output_type": "display_data"
    },
    {
     "name": "stdout",
     "output_type": "stream",
     "text": [
      "----------------------------------------------------------------------------------------------------\n"
     ]
    },
    {
     "data": {
      "text/latex": [
       "$\\displaystyle updated\\_{state} = \\left[\\begin{matrix}x\\\\y\\\\\\psi\\\\v\\\\\\dot\\psi\\\\a\\end{matrix}\\right] = \\left[\\begin{matrix}-23.5180486843614\\\\21.4090691422627\\\\2.01917478682332\\\\12.2670190578016\\\\-0.881638335529248\\\\1.86425495965304\\end{matrix}\\right]$"
      ],
      "text/plain": [
       "                ⎡   x    ⎤   ⎡-23.5180486843614 ⎤\n",
       "                ⎢        ⎥   ⎢                  ⎥\n",
       "                ⎢   y    ⎥   ⎢ 21.4090691422627 ⎥\n",
       "                ⎢        ⎥   ⎢                  ⎥\n",
       "                ⎢  \\psi  ⎥   ⎢ 2.01917478682332 ⎥\n",
       "updated\\ₛₜₐₜₑ = ⎢        ⎥ = ⎢                  ⎥\n",
       "                ⎢   v    ⎥   ⎢ 12.2670190578016 ⎥\n",
       "                ⎢        ⎥   ⎢                  ⎥\n",
       "                ⎢\\dot\\psi⎥   ⎢-0.881638335529248⎥\n",
       "                ⎢        ⎥   ⎢                  ⎥\n",
       "                ⎣   a    ⎦   ⎣ 1.86425495965304 ⎦"
      ]
     },
     "metadata": {},
     "output_type": "display_data"
    },
    {
     "name": "stdout",
     "output_type": "stream",
     "text": [
      "*Noise included\n",
      "----------------------------------------------------------------------------------------------------\n"
     ]
    },
    {
     "data": {
      "text/latex": [
       "$\\displaystyle - sensors\\_{std} \\leq noise \\leq sensors\\_{std} = \\left[\\begin{matrix}-1.5\\\\-1.5\\\\-0.02\\\\-1.0\\\\-0.1\\\\-0.5\\end{matrix}\\right] \\leq \\left[\\begin{matrix}-0.182034010820604\\\\1.48384075522929\\\\-0.0189833700257598\\\\-0.469606893882954\\\\-0.0971295957797839\\\\-0.376212500397427\\end{matrix}\\right] \\leq \\left[\\begin{matrix}1.5\\\\1.5\\\\0.02\\\\1.0\\\\0.1\\\\0.5\\end{matrix}\\right]$"
      ],
      "text/plain": [
       "                                       ⎡-1.5 ⎤   ⎡-0.182034010820604 ⎤   ⎡1.5 \n",
       "                                       ⎢     ⎥   ⎢                   ⎥   ⎢    \n",
       "                                       ⎢-1.5 ⎥   ⎢ 1.48384075522929  ⎥   ⎢1.5 \n",
       "                                       ⎢     ⎥   ⎢                   ⎥   ⎢    \n",
       "                                       ⎢-0.02⎥   ⎢-0.0189833700257598⎥   ⎢0.02\n",
       "-sensors\\_std ≤ noise ≤ sensors\\_std = ⎢     ⎥ ≤ ⎢                   ⎥ ≤ ⎢    \n",
       "                                       ⎢-1.0 ⎥   ⎢-0.469606893882954 ⎥   ⎢1.0 \n",
       "                                       ⎢     ⎥   ⎢                   ⎥   ⎢    \n",
       "                                       ⎢-0.1 ⎥   ⎢-0.0971295957797839⎥   ⎢0.1 \n",
       "                                       ⎢     ⎥   ⎢                   ⎥   ⎢    \n",
       "                                       ⎣-0.5 ⎦   ⎣-0.376212500397427 ⎦   ⎣0.5 \n",
       "\n",
       "⎤\n",
       "⎥\n",
       "⎥\n",
       "⎥\n",
       "⎥\n",
       "⎥\n",
       "⎥\n",
       "⎥\n",
       "⎥\n",
       "⎥\n",
       "⎦"
      ]
     },
     "metadata": {},
     "output_type": "display_data"
    },
    {
     "name": "stdout",
     "output_type": "stream",
     "text": [
      "====================================================================================================\n",
      "Iteration 12, dt = 0.1086:\n",
      "====================================================================================================\n"
     ]
    },
    {
     "data": {
      "text/latex": [
       "$\\displaystyle predicted\\_{state} = \\left[\\begin{matrix}\\hat x\\\\\\hat y\\\\\\hat \\psi\\\\\\hat v\\\\\\hat{\\dot{\\psi}}\\\\\\hat a\\end{matrix}\\right] = \\left[\\begin{matrix}-24.0413759822514\\\\22.645562077394\\\\1.92342886358485\\\\12.4694771464199\\\\-0.881638335529248\\\\1.86425495965304\\end{matrix}\\right]$"
      ],
      "text/plain": [
       "                  ⎡     \\hat x     ⎤   ⎡-24.0413759822514 ⎤\n",
       "                  ⎢                ⎥   ⎢                  ⎥\n",
       "                  ⎢     \\hat y     ⎥   ⎢ 22.645562077394  ⎥\n",
       "                  ⎢                ⎥   ⎢                  ⎥\n",
       "                  ⎢   \\hat \\psi    ⎥   ⎢ 1.92342886358485 ⎥\n",
       "predicted\\ₛₜₐₜₑ = ⎢                ⎥ = ⎢                  ⎥\n",
       "                  ⎢     \\hat v     ⎥   ⎢ 12.4694771464199 ⎥\n",
       "                  ⎢                ⎥   ⎢                  ⎥\n",
       "                  ⎢\\hat{\\dot{\\psi}}⎥   ⎢-0.881638335529248⎥\n",
       "                  ⎢                ⎥   ⎢                  ⎥\n",
       "                  ⎣     \\hat a     ⎦   ⎣ 1.86425495965304 ⎦"
      ]
     },
     "metadata": {},
     "output_type": "display_data"
    },
    {
     "name": "stdout",
     "output_type": "stream",
     "text": [
      "----------------------------------------------------------------------------------------------------\n"
     ]
    },
    {
     "data": {
      "text/latex": [
       "$\\displaystyle updated\\_{state} = \\left[\\begin{matrix}x\\\\y\\\\\\psi\\\\v\\\\\\dot\\psi\\\\a\\end{matrix}\\right] = \\left[\\begin{matrix}-24.9145148381482\\\\23.7467604576972\\\\1.99403991031965\\\\14.1815021401288\\\\-0.31597221418076\\\\5.04005513185614\\end{matrix}\\right]$"
      ],
      "text/plain": [
       "                ⎡   x    ⎤   ⎡-24.9145148381482⎤\n",
       "                ⎢        ⎥   ⎢                 ⎥\n",
       "                ⎢   y    ⎥   ⎢23.7467604576972 ⎥\n",
       "                ⎢        ⎥   ⎢                 ⎥\n",
       "                ⎢  \\psi  ⎥   ⎢1.99403991031965 ⎥\n",
       "updated\\ₛₜₐₜₑ = ⎢        ⎥ = ⎢                 ⎥\n",
       "                ⎢   v    ⎥   ⎢14.1815021401288 ⎥\n",
       "                ⎢        ⎥   ⎢                 ⎥\n",
       "                ⎢\\dot\\psi⎥   ⎢-0.31597221418076⎥\n",
       "                ⎢        ⎥   ⎢                 ⎥\n",
       "                ⎣   a    ⎦   ⎣5.04005513185614 ⎦"
      ]
     },
     "metadata": {},
     "output_type": "display_data"
    },
    {
     "name": "stdout",
     "output_type": "stream",
     "text": [
      "*Noise included\n",
      "----------------------------------------------------------------------------------------------------\n"
     ]
    },
    {
     "data": {
      "text/latex": [
       "$\\displaystyle - sensors\\_{std} \\leq noise \\leq sensors\\_{std} = \\left[\\begin{matrix}-1.5\\\\-1.5\\\\-0.02\\\\-1.0\\\\-0.1\\\\-0.5\\end{matrix}\\right] \\leq \\left[\\begin{matrix}-0.106979634811098\\\\-1.46501213226578\\\\0.00933150744917036\\\\-0.608126941279642\\\\-0.0847338908990812\\\\-0.00811730250785081\\end{matrix}\\right] \\leq \\left[\\begin{matrix}1.5\\\\1.5\\\\0.02\\\\1.0\\\\0.1\\\\0.5\\end{matrix}\\right]$"
      ],
      "text/plain": [
       "                                       ⎡-1.5 ⎤   ⎡ -0.106979634811098 ⎤   ⎡1.5\n",
       "                                       ⎢     ⎥   ⎢                    ⎥   ⎢   \n",
       "                                       ⎢-1.5 ⎥   ⎢ -1.46501213226578  ⎥   ⎢1.5\n",
       "                                       ⎢     ⎥   ⎢                    ⎥   ⎢   \n",
       "                                       ⎢-0.02⎥   ⎢0.00933150744917036 ⎥   ⎢0.0\n",
       "-sensors\\_std ≤ noise ≤ sensors\\_std = ⎢     ⎥ ≤ ⎢                    ⎥ ≤ ⎢   \n",
       "                                       ⎢-1.0 ⎥   ⎢ -0.608126941279642 ⎥   ⎢1.0\n",
       "                                       ⎢     ⎥   ⎢                    ⎥   ⎢   \n",
       "                                       ⎢-0.1 ⎥   ⎢-0.0847338908990812 ⎥   ⎢0.1\n",
       "                                       ⎢     ⎥   ⎢                    ⎥   ⎢   \n",
       "                                       ⎣-0.5 ⎦   ⎣-0.00811730250785081⎦   ⎣0.5\n",
       "\n",
       " ⎤\n",
       " ⎥\n",
       " ⎥\n",
       " ⎥\n",
       "2⎥\n",
       " ⎥\n",
       " ⎥\n",
       " ⎥\n",
       " ⎥\n",
       " ⎥\n",
       " ⎦"
      ]
     },
     "metadata": {},
     "output_type": "display_data"
    },
    {
     "name": "stdout",
     "output_type": "stream",
     "text": [
      "====================================================================================================\n",
      "Iteration 13, dt = 0.4237:\n",
      "====================================================================================================\n"
     ]
    },
    {
     "data": {
      "text/latex": [
       "$\\displaystyle predicted\\_{state} = \\left[\\begin{matrix}\\hat x\\\\\\hat y\\\\\\hat \\psi\\\\\\hat v\\\\\\hat{\\dot{\\psi}}\\\\\\hat a\\end{matrix}\\right] = \\left[\\begin{matrix}-27.1570961478482\\\\29.8010528632176\\\\1.86016248317126\\\\16.3169734994962\\\\-0.31597221418076\\\\5.04005513185614\\end{matrix}\\right]$"
      ],
      "text/plain": [
       "                  ⎡     \\hat x     ⎤   ⎡-27.1570961478482⎤\n",
       "                  ⎢                ⎥   ⎢                 ⎥\n",
       "                  ⎢     \\hat y     ⎥   ⎢29.8010528632176 ⎥\n",
       "                  ⎢                ⎥   ⎢                 ⎥\n",
       "                  ⎢   \\hat \\psi    ⎥   ⎢1.86016248317126 ⎥\n",
       "predicted\\ₛₜₐₜₑ = ⎢                ⎥ = ⎢                 ⎥\n",
       "                  ⎢     \\hat v     ⎥   ⎢16.3169734994962 ⎥\n",
       "                  ⎢                ⎥   ⎢                 ⎥\n",
       "                  ⎢\\hat{\\dot{\\psi}}⎥   ⎢-0.31597221418076⎥\n",
       "                  ⎢                ⎥   ⎢                 ⎥\n",
       "                  ⎣     \\hat a     ⎦   ⎣5.04005513185614 ⎦"
      ]
     },
     "metadata": {},
     "output_type": "display_data"
    },
    {
     "name": "stdout",
     "output_type": "stream",
     "text": [
      "----------------------------------------------------------------------------------------------------\n"
     ]
    },
    {
     "data": {
      "text/latex": [
       "$\\displaystyle updated\\_{state} = \\left[\\begin{matrix}x\\\\y\\\\\\psi\\\\v\\\\\\dot\\psi\\\\a\\end{matrix}\\right] = \\left[\\begin{matrix}-27.7782231083535\\\\31.6370987167263\\\\1.99534339013092\\\\15.7459344830959\\\\-0.0234678975694068\\\\2.08731357228555\\end{matrix}\\right]$"
      ],
      "text/plain": [
       "                ⎡   x    ⎤   ⎡ -27.7782231083535 ⎤\n",
       "                ⎢        ⎥   ⎢                   ⎥\n",
       "                ⎢   y    ⎥   ⎢ 31.6370987167263  ⎥\n",
       "                ⎢        ⎥   ⎢                   ⎥\n",
       "                ⎢  \\psi  ⎥   ⎢ 1.99534339013092  ⎥\n",
       "updated\\ₛₜₐₜₑ = ⎢        ⎥ = ⎢                   ⎥\n",
       "                ⎢   v    ⎥   ⎢ 15.7459344830959  ⎥\n",
       "                ⎢        ⎥   ⎢                   ⎥\n",
       "                ⎢\\dot\\psi⎥   ⎢-0.0234678975694068⎥\n",
       "                ⎢        ⎥   ⎢                   ⎥\n",
       "                ⎣   a    ⎦   ⎣ 2.08731357228555  ⎦"
      ]
     },
     "metadata": {},
     "output_type": "display_data"
    },
    {
     "name": "stdout",
     "output_type": "stream",
     "text": [
      "*Noise included\n",
      "----------------------------------------------------------------------------------------------------\n"
     ]
    },
    {
     "data": {
      "text/latex": [
       "$\\displaystyle - sensors\\_{std} \\leq noise \\leq sensors\\_{std} = \\left[\\begin{matrix}-1.5\\\\-1.5\\\\-0.02\\\\-1.0\\\\-0.1\\\\-0.5\\end{matrix}\\right] \\leq \\left[\\begin{matrix}0.88378442548135\\\\1.43844627385354\\\\-0.00633539132466362\\\\0.12016646781113\\\\-0.0140462105490189\\\\0.250776788571099\\end{matrix}\\right] \\leq \\left[\\begin{matrix}1.5\\\\1.5\\\\0.02\\\\1.0\\\\0.1\\\\0.5\\end{matrix}\\right]$"
      ],
      "text/plain": [
       "                                       ⎡-1.5 ⎤   ⎡  0.88378442548135  ⎤   ⎡1.5\n",
       "                                       ⎢     ⎥   ⎢                    ⎥   ⎢   \n",
       "                                       ⎢-1.5 ⎥   ⎢  1.43844627385354  ⎥   ⎢1.5\n",
       "                                       ⎢     ⎥   ⎢                    ⎥   ⎢   \n",
       "                                       ⎢-0.02⎥   ⎢-0.00633539132466362⎥   ⎢0.0\n",
       "-sensors\\_std ≤ noise ≤ sensors\\_std = ⎢     ⎥ ≤ ⎢                    ⎥ ≤ ⎢   \n",
       "                                       ⎢-1.0 ⎥   ⎢  0.12016646781113  ⎥   ⎢1.0\n",
       "                                       ⎢     ⎥   ⎢                    ⎥   ⎢   \n",
       "                                       ⎢-0.1 ⎥   ⎢-0.0140462105490189 ⎥   ⎢0.1\n",
       "                                       ⎢     ⎥   ⎢                    ⎥   ⎢   \n",
       "                                       ⎣-0.5 ⎦   ⎣ 0.250776788571099  ⎦   ⎣0.5\n",
       "\n",
       " ⎤\n",
       " ⎥\n",
       " ⎥\n",
       " ⎥\n",
       "2⎥\n",
       " ⎥\n",
       " ⎥\n",
       " ⎥\n",
       " ⎥\n",
       " ⎥\n",
       " ⎦"
      ]
     },
     "metadata": {},
     "output_type": "display_data"
    },
    {
     "name": "stdout",
     "output_type": "stream",
     "text": [
      "====================================================================================================\n"
     ]
    }
   ],
   "source": [
    "import numpy as np\n",
    "from numpy.random import default_rng\n",
    "from sympy import Matrix, Eq, Le, Ge, symbols, init_printing\n",
    "from copy import deepcopy\n",
    "from IPython.display import display\n",
    "\n",
    "init_printing()\n",
    "\n",
    "STATE_SIZE = 6 # States\n",
    "STATE_X_IDX, STATE_Y_IDX, STATE_YAW_IDX, STATE_VELOCITY_IDX, STATE_YAW_RATE_IDX, STATE_ACCELERATION_IDX = range(STATE_SIZE)\n",
    "\n",
    "# Generated running the loop with correction commented, just with prediction\n",
    "mock = np.array([\n",
    "    [4.0, -2.0, 1.5707963267948966, 5.0, 0.4487989505128276, 4.0],\n",
    "    [3.7538, 0.4616, 1.761, 6.6948, 0.4488, 4.0],\n",
    "    [2.8449, 3.5203, 1.9512, 8.3896, 0.4488, 4.0],\n",
    "    [1.0564, 6.6834, 2.2174, 8.8133, 0.6283, 1.0],\n",
    "    [-1.627, 9.3919, 2.4836, 9.237, 0.6283, 1.0],\n",
    "    [-5.0039, 11.3473, 2.7498, 9.237, 0.6283, 0.0],\n",
    "    [-8.7762, 12.3455, 3.016, 9.237, 0.6283, 0.0],\n",
    "    [-12.7749, 13.1978, 2.8496, 10.0844, -0.3927, 2.0],\n",
    "    [-16.9109, 14.8321, 2.6832, 10.9318, -0.3927, 2.0],\n",
    "    [-20.7895, 17.6414, 2.3504, 11.7792, -0.7854, 2.0],\n",
    "    [-23.7432, 21.856, 2.0176, 12.6266, -0.7854, 2.0],\n",
    "    [-26.3263, 27.2473, 2.0176, 15.5925, 0.0, 7.0],\n",
    "    [-29.1809, 33.2053, 2.0176, 15.5925, 0.0, 0],\n",
    "])\n",
    "\n",
    "def predict(x, P, dt):\n",
    "    noise_pos     = 0.5*8.8*dt**2  # assume 8.8m/s2 as maximum acceleration, forcing the vehicle\n",
    "    noise_course  = 0.1*dt # assume 0.1rad/s as maximum turn rate for the vehicle\n",
    "    noise_velocity= 8.8*dt # assume 8.8m/s2 as maximum acceleration, forcing the vehicle\n",
    "    noise_yawrate = 1.0*dt # assume 1.0rad/s2 as the maximum turn rate acceleration for the vehicle\n",
    "    noise_accel   = 0.5 # assume 0.5m/s2\n",
    "\n",
    "    # TODO: Can be improved and calibratred\n",
    "    Q = np.diag([noise_pos**2, noise_pos**2, noise_course**2, noise_velocity**2, noise_yawrate**2, noise_accel**2])\n",
    "\n",
    "    if np.abs(x[STATE_YAW_RATE_IDX]) < 0.00001: # Driving straight\n",
    "        x[STATE_YAW_RATE_IDX] = 0.00001\n",
    "\n",
    "    x[STATE_X_IDX] = x[STATE_X_IDX] + (1 / x[STATE_YAW_RATE_IDX]**2) * \\\n",
    "        ( \\\n",
    "            (x[STATE_VELOCITY_IDX]*x[STATE_YAW_RATE_IDX] + x[STATE_ACCELERATION_IDX] * x[STATE_YAW_RATE_IDX] * dt) * np.sin(x[STATE_YAW_IDX] + x[STATE_YAW_RATE_IDX]* dt) \\\n",
    "            + x[STATE_ACCELERATION_IDX] * np.cos(x[STATE_YAW_IDX] + x[STATE_YAW_RATE_IDX] * dt) \\\n",
    "            - x[STATE_VELOCITY_IDX] * x[STATE_YAW_RATE_IDX] * np.sin(x[STATE_YAW_IDX]) - x[STATE_ACCELERATION_IDX] * np.cos(x[STATE_YAW_IDX]) \\\n",
    "        )\n",
    "\n",
    "    x[STATE_Y_IDX] = x[STATE_Y_IDX] + (1 / x[STATE_YAW_RATE_IDX]**2) * \\\n",
    "        ( \\\n",
    "            (-x[STATE_VELOCITY_IDX]*x[STATE_YAW_RATE_IDX] - x[STATE_ACCELERATION_IDX] * x[STATE_YAW_RATE_IDX] * dt) * np.cos(x[STATE_YAW_IDX] + x[STATE_YAW_RATE_IDX]* dt) \\\n",
    "            + x[STATE_ACCELERATION_IDX] * np.sin(x[STATE_YAW_IDX] + x[STATE_YAW_RATE_IDX] * dt) \\\n",
    "            + x[STATE_VELOCITY_IDX] * x[STATE_YAW_RATE_IDX] * np.cos(x[STATE_YAW_IDX]) - x[STATE_ACCELERATION_IDX] * np.sin(x[STATE_YAW_IDX]) \\\n",
    "        )\n",
    "\n",
    "    x[STATE_YAW_IDX] = (x[STATE_YAW_IDX] + x[STATE_YAW_RATE_IDX] * dt + np.pi) % (2.0 * np.pi) - np.pi\n",
    "    x[STATE_VELOCITY_IDX] = x[STATE_VELOCITY_IDX] + x[STATE_ACCELERATION_IDX] * dt \n",
    "    x[STATE_YAW_RATE_IDX] = x[STATE_YAW_RATE_IDX]\n",
    "    x[STATE_ACCELERATION_IDX] = x[STATE_ACCELERATION_IDX]\n",
    "\n",
    "    # Calculate the Jacobian of the Dynamic Matrix A\n",
    "    a13 = ( \\\n",
    "      (-x[STATE_YAW_RATE_IDX]*x[STATE_VELOCITY_IDX]*np.cos(x[STATE_YAW_IDX]) + x[STATE_ACCELERATION_IDX]*np.sin(x[STATE_YAW_IDX]) \\\n",
    "      - x[STATE_ACCELERATION_IDX]*np.sin(dt*x[STATE_YAW_RATE_IDX] + x[STATE_YAW_IDX]) + (dt*x[STATE_YAW_RATE_IDX]*x[STATE_ACCELERATION_IDX] + x[STATE_YAW_RATE_IDX]*x[STATE_VELOCITY_IDX])*np.cos(dt*x[STATE_YAW_RATE_IDX] \\\n",
    "      + x[STATE_YAW_IDX]))/x[STATE_YAW_RATE_IDX]**2 \\\n",
    "    ).item(0)\n",
    "\n",
    "    a14 = ( \\\n",
    "      (-x[STATE_YAW_RATE_IDX]*np.sin(x[STATE_YAW_IDX]) + x[STATE_YAW_RATE_IDX]*np.sin(dt*x[STATE_YAW_RATE_IDX] + x[STATE_YAW_IDX]))/x[STATE_YAW_RATE_IDX]**2 \\\n",
    "    ).item(0)\n",
    "\n",
    "    a15 = ( \\\n",
    "      ( \\\n",
    "        -dt*x[STATE_ACCELERATION_IDX]*np.sin(dt*x[STATE_YAW_RATE_IDX] + x[STATE_YAW_IDX]) + dt*(dt*x[STATE_YAW_RATE_IDX]*x[STATE_ACCELERATION_IDX] + x[STATE_YAW_RATE_IDX]*x[STATE_VELOCITY_IDX]) \\\n",
    "        * np.cos(dt*x[STATE_YAW_RATE_IDX] + x[STATE_YAW_IDX]) - x[STATE_VELOCITY_IDX]*np.sin(x[STATE_YAW_IDX]) + (dt*x[STATE_ACCELERATION_IDX] + x[STATE_VELOCITY_IDX]) \\\n",
    "        * np.sin(dt*x[STATE_YAW_RATE_IDX] + x[STATE_YAW_IDX]) \\\n",
    "      ) / x[STATE_YAW_RATE_IDX]**2 \\\n",
    "      - 2*( \\\n",
    "        -x[STATE_YAW_RATE_IDX]*x[STATE_VELOCITY_IDX]*np.sin(x[STATE_YAW_IDX]) - x[STATE_ACCELERATION_IDX] \\\n",
    "        * np.cos(x[STATE_YAW_IDX]) + x[STATE_ACCELERATION_IDX]*np.cos(dt*x[STATE_YAW_RATE_IDX] + x[STATE_YAW_IDX]) + (dt*x[STATE_YAW_RATE_IDX]*x[STATE_ACCELERATION_IDX] + x[STATE_YAW_RATE_IDX]*x[STATE_VELOCITY_IDX]) \\\n",
    "        * np.sin(dt*x[STATE_YAW_RATE_IDX] + x[STATE_YAW_IDX]) \\\n",
    "      ) / x[STATE_YAW_RATE_IDX]**3 \\\n",
    "    ).item(0)\n",
    "\n",
    "    a16 = ( \\\n",
    "      (dt*x[STATE_YAW_RATE_IDX]*np.sin(dt*x[STATE_YAW_RATE_IDX] + x[STATE_YAW_IDX]) - np.cos(x[STATE_YAW_IDX]) + np.cos(dt * x[STATE_YAW_RATE_IDX] + x[STATE_YAW_IDX]))/x[STATE_YAW_RATE_IDX]**2 \\\n",
    "    ).item(0)\n",
    "\n",
    "    a23 = ( \\\n",
    "      ( \\\n",
    "        -x[STATE_YAW_RATE_IDX] * x[STATE_VELOCITY_IDX] * np.sin(x[STATE_YAW_IDX]) - x[STATE_ACCELERATION_IDX] * np.cos(x[STATE_YAW_IDX]) + x[STATE_ACCELERATION_IDX] * np.cos(dt * x[STATE_YAW_RATE_IDX] + x[STATE_YAW_IDX]) \\\n",
    "        - (-dt * x[STATE_YAW_RATE_IDX]*x[STATE_ACCELERATION_IDX] - x[STATE_YAW_RATE_IDX] * x[STATE_VELOCITY_IDX]) * np.sin(dt * x[STATE_YAW_RATE_IDX] + x[STATE_YAW_IDX]) \\\n",
    "      ) / x[STATE_YAW_RATE_IDX]**2 \\\n",
    "    ).item(0)\n",
    "\n",
    "    a24 = ( \\\n",
    "      (x[STATE_YAW_RATE_IDX] * np.cos(x[STATE_YAW_IDX]) - x[STATE_YAW_RATE_IDX]*np.cos(dt*x[STATE_YAW_RATE_IDX] + x[STATE_YAW_IDX]))/x[STATE_YAW_RATE_IDX]**2 \\\n",
    "    ).item(0)\n",
    "\n",
    "    a25 = ( \\\n",
    "      ( \\\n",
    "        dt * x[STATE_ACCELERATION_IDX]*np.cos(dt*x[STATE_YAW_RATE_IDX] + x[STATE_YAW_IDX]) - dt * (-dt*x[STATE_YAW_RATE_IDX]*x[STATE_ACCELERATION_IDX] - x[STATE_YAW_RATE_IDX] * x[STATE_VELOCITY_IDX]) \\\n",
    "        * np.sin(dt * x[STATE_YAW_RATE_IDX] + x[STATE_YAW_IDX]) + x[STATE_VELOCITY_IDX]*np.cos(x[STATE_YAW_IDX]) + (-dt*x[STATE_ACCELERATION_IDX] - x[STATE_VELOCITY_IDX])*np.cos(dt*x[STATE_YAW_RATE_IDX] + x[STATE_YAW_IDX]) \\\n",
    "      ) / x[STATE_YAW_RATE_IDX]**2 \\\n",
    "      - 2*( \\\n",
    "        x[STATE_YAW_RATE_IDX]*x[STATE_VELOCITY_IDX]*np.cos(x[STATE_YAW_IDX]) - x[STATE_ACCELERATION_IDX] * np.sin(x[STATE_YAW_IDX]) + x[STATE_ACCELERATION_IDX] * np.sin(dt*x[STATE_YAW_RATE_IDX] + x[STATE_YAW_IDX]) \\\n",
    "        + (-dt * x[STATE_YAW_RATE_IDX] * x[STATE_ACCELERATION_IDX] - x[STATE_YAW_RATE_IDX] * x[STATE_VELOCITY_IDX])*np.cos(dt*x[STATE_YAW_RATE_IDX] + x[STATE_YAW_IDX]) \\\n",
    "      ) / x[STATE_YAW_RATE_IDX]**3 \\\n",
    "    ).item(0)\n",
    "\n",
    "    a26 = ( \\\n",
    "      (-dt*x[STATE_YAW_RATE_IDX]*np.cos(dt*x[STATE_YAW_RATE_IDX] + x[STATE_YAW_IDX]) - np.sin(x[STATE_YAW_IDX]) + np.sin(dt*x[STATE_YAW_RATE_IDX] + x[STATE_YAW_IDX]))/x[STATE_YAW_RATE_IDX]**2 \\\n",
    "    ).item(0)\n",
    "      \n",
    "    JA = np.matrix([[1.0, 0.0, a13, a14, a15, a16],\n",
    "                    [0.0, 1.0, a23, a24, a25, a26],\n",
    "                    [0.0, 0.0, 1.0, 0.0, dt, 0.0],\n",
    "                    [0.0, 0.0, 0.0, 1.0, 0.0, dt],\n",
    "                    [0.0, 0.0, 0.0, 0.0, 1.0, 0.0],\n",
    "                    [0.0, 0.0, 0.0, 0.0, 0.0, 1.0]])\n",
    "  \n",
    "    # Project the error covariance ahead\n",
    "    P = JA*P*JA.T + Q\n",
    "\n",
    "    return x, P\n",
    "\n",
    "\n",
    "def correct(measurement, x, P, R):\n",
    "    hx = x.copy()  # Not making any transformation and considering all the atributes are being measured\n",
    "\n",
    "    # Identity because is assumed that for each attribute in state there exists a respective measurement attribute\n",
    "    JH = np.eye(hx.shape[0])\n",
    "\n",
    "    S = JH*P*JH.T + R\n",
    "    K = (P*JH.T) * np.linalg.inv(S)\n",
    "\n",
    "    # Update the estimate via\n",
    "    Z = measurement.reshape(JH.shape[0], 1)\n",
    "    y = Z - hx  # Innovation or Residual\n",
    "    x = x + K*y\n",
    "\n",
    "    # Update the error covariance\n",
    "    P = (np.eye(STATE_SIZE) - K*JH)*P\n",
    "            \n",
    "    # TODO: Remove in main C++ code\n",
    "    x0.append(float(x[0]))\n",
    "    x1.append(float(x[1]))\n",
    "    x2.append(float(x[2]))\n",
    "    x3.append(float(x[3]))\n",
    "    x4.append(float(x[4]))\n",
    "    x5.append(float(x[5]))\n",
    "    Zx.append(float(Z[0]))\n",
    "    Zy.append(float(Z[1]))    \n",
    "    Px.append(float(P[0,0]))\n",
    "    Py.append(float(P[1,1]))\n",
    "    Pdx.append(float(P[2,2]))\n",
    "    Pdy.append(float(P[3,3]))\n",
    "    Pddx.append(float(P[4,4]))\n",
    "    Pdv.append(float(P[5,5]))\n",
    "    Kx.append(float(K[0,0]))\n",
    "    Ky.append(float(K[1,0]))\n",
    "    Kdx.append(float(K[2,0]))\n",
    "    Kdy.append(float(K[3,0]))\n",
    "    Kddx.append(float(K[4,0]))\n",
    "    Kdv.append(float(K[5,0]))\n",
    "\n",
    "    return x, P\n",
    "\n",
    "if __name__ == '__main__':\n",
    "    P = np.diag([10.0, 10.0, 10.0, 10.0, 10.0, 10.0])\n",
    "    \n",
    "    std_pos = 1.5 # standard deviation of positioning measurements\n",
    "    std_speed = 1.0 # standard deviation of the speed measurements\n",
    "    std_yawrate = 0.1 # standard deviation of the yawrate measurements\n",
    "    std_yaw = 0.02 # standard deviation of the yaw measurements\n",
    "    std_acc = 0.5 # standard deviation of the longitudinal acceleration\n",
    "\n",
    "    R = np.diag([std_pos**2, std_pos**2, std_yaw**2, std_speed**2, std_yawrate**2, std_acc**2])\n",
    "\n",
    "    initial_state = np.array([[4, -2, np.pi/2, 5, np.pi/7, 4]], dtype='float64').T\n",
    "    x = deepcopy(initial_state)\n",
    "      \n",
    "    random_generator = default_rng()\n",
    "    \n",
    "#     dts = [random_generator.random() for _ in mock]\n",
    "#     dts = [np.round(dt, 4) for dt in dts]\n",
    "#     print(dts)\n",
    "    dts = (0.4571, 0.5364, 0.1067, 0.5539, 0.0843, 0.0452, 0.017, 0.1824, 0.5568, 0.9355, 0.2909, 0.1086, 0.4237)\n",
    "    \n",
    "    measurements = deepcopy(mock)\n",
    "\n",
    "    for i, (measurement, dt) in enumerate(zip(measurements, dts), 1):\n",
    "        sensors_std = np.array([std_pos, std_pos, std_yaw, std_speed, std_yawrate, std_acc])\n",
    "        \n",
    "        # Adding noise\n",
    "        noises = (random_generator.random() for _ in sensors_std)\n",
    "        noises = np.array([n * 2*std - std for std, n in zip(sensors_std, noises)])  # Putting noises in std range\n",
    "        measurement += noises\n",
    "        \n",
    "        x_noisy_measurement.append(measurement[STATE_X_IDX])\n",
    "        y_noisy_measurement.append(measurement[STATE_Y_IDX])\n",
    "    \n",
    "        x_old = deepcopy(x)\n",
    "       \n",
    "        x, P = predict(x, P, dt)\n",
    "        predicted_state = deepcopy(x)\n",
    "\n",
    "        x, P = correct(measurement, x, P, R)\n",
    "\n",
    "        log_state_and_noises(i, state, predicted_state, noises, dt)\n",
    "        x_predicted.append(predicted_state[STATE_X_IDX])\n",
    "        y_predicted.append(predicted_state[STATE_Y_IDX])"
   ]
  },
  {
   "cell_type": "code",
   "execution_count": 4,
   "id": "equal-warehouse",
   "metadata": {},
   "outputs": [
    {
     "name": "stdout",
     "output_type": "stream",
     "text": [
      "# Copy and paste as content of 'mock' array\n",
      "[4.0, -2.0, 1.5707963267948966, 5.0, 0.4487989505128276, 4.0],\n",
      "[3.7538, 0.4616, 1.761, 6.6948, 0.4488, 4.0],\n",
      "[2.8449, 3.5203, 1.9512, 8.3896, 0.4488, 4.0],\n",
      "[1.0564, 6.6834, 2.2174, 8.8133, 0.6283, 1.0],\n",
      "[-1.627, 9.3919, 2.4836, 9.237, 0.6283, 1.0],\n",
      "[-5.0039, 11.3473, 2.7498, 9.237, 0.6283, 0.0],\n",
      "[-8.7762, 12.3455, 3.016, 9.237, 0.6283, 0.0],\n",
      "[-12.7749, 13.1978, 2.8496, 10.0844, -0.3927, 2.0],\n",
      "[-16.9109, 14.8321, 2.6832, 10.9318, -0.3927, 2.0],\n",
      "[-20.7895, 17.6414, 2.3504, 11.7792, -0.7854, 2.0],\n",
      "[-23.7432, 21.856, 2.0176, 12.6266, -0.7854, 2.0],\n",
      "[-26.3263, 27.2473, 2.0176, 15.5925, 0.0, 7.0],\n",
      "[-29.1809, 33.2053, 2.0176, 15.5925, 0.0, 0],\n"
     ]
    }
   ],
   "source": [
    "# Used to generate the mock array used previously\n",
    "def generate_mock(initial_state, dts):\n",
    "    x = list(initial_state.T[0])\n",
    "    P = np.diag([10.0, 10.0, 10.0, 10.0, 10.0, 10.0])\n",
    "\n",
    "    print(\"# Copy and paste as content of 'mock' array\")\n",
    "    print(str(x) + ',')\n",
    "    for i, _ in enumerate(dts, 1):\n",
    "        if i == 3:\n",
    "            x[STATE_ACCELERATION_IDX] -= 3\n",
    "            x[STATE_YAW_RATE_IDX] = np.pi/5\n",
    "        elif i == 5:\n",
    "            x[STATE_ACCELERATION_IDX] -= 1\n",
    "        elif i == 7:\n",
    "            x[STATE_ACCELERATION_IDX] += 2\n",
    "            x[STATE_YAW_RATE_IDX] = -np.pi/8\n",
    "        elif i == 9:\n",
    "            x[STATE_YAW_RATE_IDX] = -np.pi/4\n",
    "        elif i == 11:\n",
    "            x[STATE_ACCELERATION_IDX] += 5\n",
    "            x[STATE_YAW_RATE_IDX] = 0\n",
    "        elif i == 12:\n",
    "            x[STATE_ACCELERATION_IDX] = 0\n",
    "            x[STATE_YAW_RATE_IDX] = 0\n",
    "\n",
    "        x, P = predict(x, P, dt)\n",
    "\n",
    "        x = [np.round(n, 4) for n in x]\n",
    "        if i < len(dts):\n",
    "            print(str(x) + ',')\n",
    "        \n",
    "generate_mock(initial_state, dts)"
   ]
  },
  {
   "cell_type": "markdown",
   "id": "hindu-necklace",
   "metadata": {},
   "source": [
    "## Plots"
   ]
  },
  {
   "cell_type": "code",
   "execution_count": 5,
   "id": "juvenile-contrast",
   "metadata": {},
   "outputs": [],
   "source": [
    "import matplotlib.pyplot as plt\n",
    "%matplotlib inline\n",
    "\n",
    "m = len(mock)"
   ]
  },
  {
   "cell_type": "markdown",
   "id": "radical-officer",
   "metadata": {},
   "source": [
    "### Kalman Gain"
   ]
  },
  {
   "cell_type": "code",
   "execution_count": 6,
   "id": "unauthorized-congo",
   "metadata": {},
   "outputs": [
    {
     "data": {
      "image/png": "[encoded data removed]",
      "text/plain": [
       "<Figure size 1152x648 with 1 Axes>"
      ]
     },
     "metadata": {
      "needs_background": "light"
     },
     "output_type": "display_data"
    }
   ],
   "source": [
    "fig = plt.figure(figsize=(16,9))\n",
    "plt.step(range(m),Kx, label='$x$')\n",
    "plt.step(range(m),Ky, label='$y$')\n",
    "plt.step(range(m),Kdx, label='$\\psi$')\n",
    "plt.step(range(m),Kdy, label='$v$')\n",
    "\n",
    "\n",
    "plt.xlabel('Filter Step')\n",
    "plt.ylabel('')\n",
    "plt.title('Kalman Gain (the lower, the more the measurement fullfill the prediction)')\n",
    "plt.legend(prop={'size':18})\n",
    "plt.ylim([-0.2,0.2]);"
   ]
  },
  {
   "cell_type": "markdown",
   "id": "breeding-license",
   "metadata": {},
   "source": [
    "### Uncertainties"
   ]
  },
  {
   "cell_type": "code",
   "execution_count": 7,
   "id": "adjusted-funds",
   "metadata": {},
   "outputs": [
    {
     "data": {
      "text/plain": [
       "<matplotlib.legend.Legend at 0x7fc499174320>"
      ]
     },
     "execution_count": 7,
     "metadata": {},
     "output_type": "execute_result"
    },
    {
     "data": {
      "image/png": "[encoded data removed]",
      "text/plain": [
       "<Figure size 1152x648 with 1 Axes>"
      ]
     },
     "metadata": {
      "needs_background": "light"
     },
     "output_type": "display_data"
    }
   ],
   "source": [
    "\n",
    "fig = plt.figure(figsize=(16,9))\n",
    "plt.semilogy(range(m),Px, label='$x$')\n",
    "plt.step(range(m),Py, label='$y$')\n",
    "plt.step(range(m),Pdx, label='$\\psi$')\n",
    "plt.step(range(m),Pdy, label='$v$')\n",
    "plt.step(range(m),Pddx, label='$\\dot \\psi$')\n",
    "\n",
    "plt.xlabel('Filter Step')\n",
    "plt.ylabel('')\n",
    "plt.title('Uncertainty (Elements from Matrix $P$)')\n",
    "plt.legend(loc='best',prop={'size':22})"
   ]
  },
  {
   "cell_type": "markdown",
   "id": "dying-duration",
   "metadata": {},
   "source": [
    "### Position x/y"
   ]
  },
  {
   "cell_type": "code",
   "execution_count": 8,
   "id": "brilliant-shade",
   "metadata": {},
   "outputs": [
    {
     "data": {
      "image/png": "[encoded data removed]",
      "text/plain": [
       "<Figure size 864x648 with 1 Axes>"
      ]
     },
     "metadata": {
      "needs_background": "light"
     },
     "output_type": "display_data"
    }
   ],
   "source": [
    "fig = plt.figure(figsize=(12,9))\n",
    "\n",
    "x_measurement, y_measurement = mock[:, STATE_X_IDX], mock[:, STATE_Y_IDX]\n",
    "x_noisy_measurement, y_noisy_measurement, x_predicted, y_predicted = np.array(\n",
    "    [x_noisy_measurement, y_noisy_measurement, x_predicted, y_predicted],\n",
    "    dtype='float64'\n",
    ")\n",
    "\n",
    "plt.plot(x0, x1, label='EKF', c='g', lw=3)\n",
    "plt.plot(x_predicted, y_predicted, label='Predicted', c='r', lw=1.5, ls='--')\n",
    "\n",
    "# plt.plot(x_measurement, y_measurement, label='Measurement - no noise', c='b', lw=1.5, ls=':')\n",
    "plt.plot(x_noisy_measurement, y_noisy_measurement, label='Measurement - with noise', c='y', lw=1.5, ls='--')\n",
    "\n",
    "plt.legend(loc=\"lower left\")\n",
    "plt.show()"
   ]
  }
 ],
 "metadata": {
  "kernelspec": {
   "display_name": "Python 3",
   "language": "python",
   "name": "python3"
  },
  "language_info": {
   "codemirror_mode": {
    "name": "ipython",
    "version": 3
   },
   "file_extension": ".py",
   "mimetype": "text/x-python",
   "name": "python",
   "nbconvert_exporter": "python",
   "pygments_lexer": "ipython3",
   "version": "3.7.3"
  }
 },
 "nbformat": 4,
 "nbformat_minor": 5
}
