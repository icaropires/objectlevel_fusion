{
 "cells": [
  {
   "cell_type": "markdown",
   "id": "supreme-beijing",
   "metadata": {},
   "source": [
    "# Draft of EKF implementation for temporal alignment\n",
    "\n",
    "Using CTRA model.\n",
    "\n",
    "Heavily based on [balzer82 implementation](https://github.com/balzer82/Kalman/blob/master/Extended-Kalman-Filter-CTRA.ipynb) and [giovannix adaptation](https://github.com/giovannix/kalman/blob/master/Extended-Kalman-Filter-CTRA.ipynb)."
   ]
  },
  {
   "cell_type": "code",
   "execution_count": 1,
   "id": "together-portugal",
   "metadata": {},
   "outputs": [],
   "source": [
    "from sympy import symbols, Matrix, init_printing\n",
    "from IPython.display import display\n",
    "\n",
    "init_printing()\n",
    "\n",
    "vs, psis, dpsis, dts, xs, ys, lats, lons, axs = symbols('v \\psi \\dot\\psi T x y lat lon a')\n",
    "\n",
    "hs = Matrix([[xs],\n",
    "             [ys],\n",
    "             [psis],\n",
    "             [vs],\n",
    "             [dpsis],\n",
    "             [axs]])\n",
    "\n",
    "state = Matrix([xs,ys,psis,vs,dpsis,axs])\n",
    "\n",
    "# Preallocation for Plotting\n",
    "x0 = []\n",
    "x1 = []\n",
    "x2 = []\n",
    "x3 = []\n",
    "x4 = []\n",
    "x5 = []\n",
    "x6 = []\n",
    "Zx = []\n",
    "Zy = []\n",
    "Px = []\n",
    "Py = []\n",
    "Pdx= []\n",
    "Pdy= []\n",
    "Pddx=[]\n",
    "Pddy=[]\n",
    "Pdv =[]\n",
    "Kx = []\n",
    "Ky = []\n",
    "Kdx= []\n",
    "Kdy= []\n",
    "Kddx=[]\n",
    "Kdv= []\n",
    "dstate=[]\n",
    "x_noisy_measurement = []\n",
    "y_noisy_measurement = []\n",
    "x_predicted = []\n",
    "y_predicted = []"
   ]
  },
  {
   "cell_type": "code",
   "execution_count": 2,
   "id": "handed-ambassador",
   "metadata": {},
   "outputs": [],
   "source": [
    "def log_state_and_noises(iteration, state, predicted_state, noises, dt):\n",
    "    updated_state_s, noise_s, sensors_std_s, = symbols('updated\\_state noise sensors\\_std')\n",
    "    \n",
    "    p_x, p_y, p_psi, p_v, p_dotpsi, p_a = symbols('\\hat\\ x \\hat\\ y \\hat\\ \\psi \\hat\\ v \\hat{\\dot{\\psi}} \\hat\\ a')\n",
    "    predicted_state_matrix_s = Matrix([p_x, p_y, p_psi, p_v, p_dotpsi, p_a])\n",
    "    predicted_state_s = symbols('predicted\\_state')\n",
    "    \n",
    "    print(f'Iteration {iteration}, dt = {dt}:')\n",
    "    print('='*100)\n",
    "        \n",
    "    display(Eq(\n",
    "        predicted_state_s,\n",
    "        Eq(\n",
    "            predicted_state_matrix_s,\n",
    "            Matrix(predicted_state),\n",
    "            evaluate=False\n",
    "        )\n",
    "    ))\n",
    "    \n",
    "    print('-'*100)\n",
    "    display(Eq(\n",
    "        updated_state_s,\n",
    "        Eq(state, Matrix(x), evaluate=False)\n",
    "    ))\n",
    "    \n",
    "    print('*Noise included')  \n",
    "    print('-'*100)\n",
    "    \n",
    "    display(Eq(\n",
    "        Le(\n",
    "            -sensors_std_s,\n",
    "            Le(noise_s, sensors_std_s),\n",
    "            evaluate=False\n",
    "        ),\n",
    "        Le(\n",
    "            Matrix(-sensors_std),\n",
    "            Le(Matrix(noises), Matrix(sensors_std), evaluate=False),\n",
    "            evaluate=False\n",
    "        )\n",
    "    ))\n",
    "\n",
    "    print('='*100)"
   ]
  },
  {
   "cell_type": "code",
   "execution_count": 3,
   "id": "medieval-enhancement",
   "metadata": {},
   "outputs": [
    {
     "name": "stdout",
     "output_type": "stream",
     "text": [
      "Iteration 1, dt = 0.4571:\n",
      "====================================================================================================\n"
     ]
    },
    {
     "data": {
      "text/latex": [
       "$\\displaystyle predicted\\_{state} = \\left[\\begin{matrix}\\hat x\\\\\\hat y\\\\\\hat \\psi\\\\\\hat v\\\\\\hat{\\dot{\\psi}}\\\\\\hat a\\end{matrix}\\right] = \\left[\\begin{matrix}3.70947952675031\\\\0.682997338756643\\\\1.77594232707431\\\\6.8284\\\\0.448798950512828\\\\4.0\\end{matrix}\\right]$"
      ],
      "text/plain": [
       "                  ⎡     \\hat x     ⎤   ⎡3.70947952675031 ⎤\n",
       "                  ⎢                ⎥   ⎢                 ⎥\n",
       "                  ⎢     \\hat y     ⎥   ⎢0.682997338756643⎥\n",
       "                  ⎢                ⎥   ⎢                 ⎥\n",
       "                  ⎢   \\hat \\psi    ⎥   ⎢1.77594232707431 ⎥\n",
       "predicted\\ₛₜₐₜₑ = ⎢                ⎥ = ⎢                 ⎥\n",
       "                  ⎢     \\hat v     ⎥   ⎢     6.8284      ⎥\n",
       "                  ⎢                ⎥   ⎢                 ⎥\n",
       "                  ⎢\\hat{\\dot{\\psi}}⎥   ⎢0.448798950512828⎥\n",
       "                  ⎢                ⎥   ⎢                 ⎥\n",
       "                  ⎣     \\hat a     ⎦   ⎣       4.0       ⎦"
      ]
     },
     "metadata": {},
     "output_type": "display_data"
    },
    {
     "name": "stdout",
     "output_type": "stream",
     "text": [
      "----------------------------------------------------------------------------------------------------\n"
     ]
    },
    {
     "data": {
      "text/latex": [
       "$\\displaystyle updated\\_{state} = \\left[\\begin{matrix}x\\\\y\\\\\\psi\\\\v\\\\\\dot\\psi\\\\a\\end{matrix}\\right] = \\left[\\begin{matrix}3.21960174400224\\\\-0.691059657875721\\\\1.55651578303189\\\\5.92223886003769\\\\0.429314364513623\\\\4.05230530092836\\end{matrix}\\right]$"
      ],
      "text/plain": [
       "                ⎡   x    ⎤   ⎡ 3.21960174400224 ⎤\n",
       "                ⎢        ⎥   ⎢                  ⎥\n",
       "                ⎢   y    ⎥   ⎢-0.691059657875721⎥\n",
       "                ⎢        ⎥   ⎢                  ⎥\n",
       "                ⎢  \\psi  ⎥   ⎢ 1.55651578303189 ⎥\n",
       "updated\\ₛₜₐₜₑ = ⎢        ⎥ = ⎢                  ⎥\n",
       "                ⎢   v    ⎥   ⎢ 5.92223886003769 ⎥\n",
       "                ⎢        ⎥   ⎢                  ⎥\n",
       "                ⎢\\dot\\psi⎥   ⎢0.429314364513623 ⎥\n",
       "                ⎢        ⎥   ⎢                  ⎥\n",
       "                ⎣   a    ⎦   ⎣ 4.05230530092836 ⎦"
      ]
     },
     "metadata": {},
     "output_type": "display_data"
    },
    {
     "name": "stdout",
     "output_type": "stream",
     "text": [
      "*Noise included\n",
      "----------------------------------------------------------------------------------------------------\n"
     ]
    },
    {
     "data": {
      "text/latex": [
       "$\\displaystyle - sensors\\_{std} \\leq noise \\leq sensors\\_{std} = \\left[\\begin{matrix}-1.5\\\\-1.5\\\\-0.02\\\\-1.0\\\\-0.1\\\\-0.5\\end{matrix}\\right] \\leq \\left[\\begin{matrix}-1.044\\\\1.0289\\\\-0.0145\\\\0.9013\\\\-0.0183\\\\0.0579\\end{matrix}\\right] \\leq \\left[\\begin{matrix}1.5\\\\1.5\\\\0.02\\\\1.0\\\\0.1\\\\0.5\\end{matrix}\\right]$"
      ],
      "text/plain": [
       "                                       ⎡-1.5 ⎤   ⎡-1.044 ⎤   ⎡1.5 ⎤\n",
       "                                       ⎢     ⎥   ⎢       ⎥   ⎢    ⎥\n",
       "                                       ⎢-1.5 ⎥   ⎢1.0289 ⎥   ⎢1.5 ⎥\n",
       "                                       ⎢     ⎥   ⎢       ⎥   ⎢    ⎥\n",
       "                                       ⎢-0.02⎥   ⎢-0.0145⎥   ⎢0.02⎥\n",
       "-sensors\\_std ≤ noise ≤ sensors\\_std = ⎢     ⎥ ≤ ⎢       ⎥ ≤ ⎢    ⎥\n",
       "                                       ⎢-1.0 ⎥   ⎢0.9013 ⎥   ⎢1.0 ⎥\n",
       "                                       ⎢     ⎥   ⎢       ⎥   ⎢    ⎥\n",
       "                                       ⎢-0.1 ⎥   ⎢-0.0183⎥   ⎢0.1 ⎥\n",
       "                                       ⎢     ⎥   ⎢       ⎥   ⎢    ⎥\n",
       "                                       ⎣-0.5 ⎦   ⎣0.0579 ⎦   ⎣0.5 ⎦"
      ]
     },
     "metadata": {},
     "output_type": "display_data"
    },
    {
     "name": "stdout",
     "output_type": "stream",
     "text": [
      "====================================================================================================\n",
      "Iteration 2, dt = 0.5364:\n",
      "====================================================================================================\n"
     ]
    },
    {
     "data": {
      "text/latex": [
       "$\\displaystyle predicted\\_{state} = \\left[\\begin{matrix}\\hat x\\\\\\hat y\\\\\\hat \\psi\\\\\\hat v\\\\\\hat{\\dot{\\psi}}\\\\\\hat a\\end{matrix}\\right] = \\left[\\begin{matrix}2.8196429530857\\\\3.03898684173469\\\\1.78680000815699\\\\8.09589542345566\\\\0.429314364513623\\\\4.05230530092836\\end{matrix}\\right]$"
      ],
      "text/plain": [
       "                  ⎡     \\hat x     ⎤   ⎡ 2.8196429530857 ⎤\n",
       "                  ⎢                ⎥   ⎢                 ⎥\n",
       "                  ⎢     \\hat y     ⎥   ⎢3.03898684173469 ⎥\n",
       "                  ⎢                ⎥   ⎢                 ⎥\n",
       "                  ⎢   \\hat \\psi    ⎥   ⎢1.78680000815699 ⎥\n",
       "predicted\\ₛₜₐₜₑ = ⎢                ⎥ = ⎢                 ⎥\n",
       "                  ⎢     \\hat v     ⎥   ⎢8.09589542345566 ⎥\n",
       "                  ⎢                ⎥   ⎢                 ⎥\n",
       "                  ⎢\\hat{\\dot{\\psi}}⎥   ⎢0.429314364513623⎥\n",
       "                  ⎢                ⎥   ⎢                 ⎥\n",
       "                  ⎣     \\hat a     ⎦   ⎣4.05230530092836 ⎦"
      ]
     },
     "metadata": {},
     "output_type": "display_data"
    },
    {
     "name": "stdout",
     "output_type": "stream",
     "text": [
      "----------------------------------------------------------------------------------------------------\n"
     ]
    },
    {
     "data": {
      "text/latex": [
       "$\\displaystyle updated\\_{state} = \\left[\\begin{matrix}x\\\\y\\\\\\psi\\\\v\\\\\\dot\\psi\\\\a\\end{matrix}\\right] = \\left[\\begin{matrix}3.86193767635354\\\\1.93668190222025\\\\1.771534663439\\\\6.26083098459574\\\\0.528439822989122\\\\3.7027808110833\\end{matrix}\\right]$"
      ],
      "text/plain": [
       "                ⎡   x    ⎤   ⎡3.86193767635354 ⎤\n",
       "                ⎢        ⎥   ⎢                 ⎥\n",
       "                ⎢   y    ⎥   ⎢1.93668190222025 ⎥\n",
       "                ⎢        ⎥   ⎢                 ⎥\n",
       "                ⎢  \\psi  ⎥   ⎢ 1.771534663439  ⎥\n",
       "updated\\ₛₜₐₜₑ = ⎢        ⎥ = ⎢                 ⎥\n",
       "                ⎢   v    ⎥   ⎢6.26083098459574 ⎥\n",
       "                ⎢        ⎥   ⎢                 ⎥\n",
       "                ⎢\\dot\\psi⎥   ⎢0.528439822989122⎥\n",
       "                ⎢        ⎥   ⎢                 ⎥\n",
       "                ⎣   a    ⎦   ⎣ 3.7027808110833 ⎦"
      ]
     },
     "metadata": {},
     "output_type": "display_data"
    },
    {
     "name": "stdout",
     "output_type": "stream",
     "text": [
      "*Noise included\n",
      "----------------------------------------------------------------------------------------------------\n"
     ]
    },
    {
     "data": {
      "text/latex": [
       "$\\displaystyle - sensors\\_{std} \\leq noise \\leq sensors\\_{std} = \\left[\\begin{matrix}-1.5\\\\-1.5\\\\-0.02\\\\-1.0\\\\-0.1\\\\-0.5\\end{matrix}\\right] \\leq \\left[\\begin{matrix}0.7317\\\\0.8656\\\\0.0095\\\\-0.5005\\\\0.0835\\\\-0.4629\\end{matrix}\\right] \\leq \\left[\\begin{matrix}1.5\\\\1.5\\\\0.02\\\\1.0\\\\0.1\\\\0.5\\end{matrix}\\right]$"
      ],
      "text/plain": [
       "                                       ⎡-1.5 ⎤   ⎡0.7317 ⎤   ⎡1.5 ⎤\n",
       "                                       ⎢     ⎥   ⎢       ⎥   ⎢    ⎥\n",
       "                                       ⎢-1.5 ⎥   ⎢0.8656 ⎥   ⎢1.5 ⎥\n",
       "                                       ⎢     ⎥   ⎢       ⎥   ⎢    ⎥\n",
       "                                       ⎢-0.02⎥   ⎢0.0095 ⎥   ⎢0.02⎥\n",
       "-sensors\\_std ≤ noise ≤ sensors\\_std = ⎢     ⎥ ≤ ⎢       ⎥ ≤ ⎢    ⎥\n",
       "                                       ⎢-1.0 ⎥   ⎢-0.5005⎥   ⎢1.0 ⎥\n",
       "                                       ⎢     ⎥   ⎢       ⎥   ⎢    ⎥\n",
       "                                       ⎢-0.1 ⎥   ⎢0.0835 ⎥   ⎢0.1 ⎥\n",
       "                                       ⎢     ⎥   ⎢       ⎥   ⎢    ⎥\n",
       "                                       ⎣-0.5 ⎦   ⎣-0.4629⎦   ⎣0.5 ⎦"
      ]
     },
     "metadata": {},
     "output_type": "display_data"
    },
    {
     "name": "stdout",
     "output_type": "stream",
     "text": [
      "====================================================================================================\n",
      "Iteration 3, dt = 0.1067:\n",
      "====================================================================================================\n"
     ]
    },
    {
     "data": {
      "text/latex": [
       "$\\displaystyle predicted\\_{state} = \\left[\\begin{matrix}\\hat x\\\\\\hat y\\\\\\hat \\psi\\\\\\hat v\\\\\\hat{\\dot{\\psi}}\\\\\\hat a\\end{matrix}\\right] = \\left[\\begin{matrix}3.7053818533924\\\\2.60767750586065\\\\1.82791919255194\\\\6.65591769713832\\\\0.528439822989122\\\\3.7027808110833\\end{matrix}\\right]$"
      ],
      "text/plain": [
       "                  ⎡     \\hat x     ⎤   ⎡ 3.7053818533924 ⎤\n",
       "                  ⎢                ⎥   ⎢                 ⎥\n",
       "                  ⎢     \\hat y     ⎥   ⎢2.60767750586065 ⎥\n",
       "                  ⎢                ⎥   ⎢                 ⎥\n",
       "                  ⎢   \\hat \\psi    ⎥   ⎢1.82791919255194 ⎥\n",
       "predicted\\ₛₜₐₜₑ = ⎢                ⎥ = ⎢                 ⎥\n",
       "                  ⎢     \\hat v     ⎥   ⎢6.65591769713832 ⎥\n",
       "                  ⎢                ⎥   ⎢                 ⎥\n",
       "                  ⎢\\hat{\\dot{\\psi}}⎥   ⎢0.528439822989122⎥\n",
       "                  ⎢                ⎥   ⎢                 ⎥\n",
       "                  ⎣     \\hat a     ⎦   ⎣ 3.7027808110833 ⎦"
      ]
     },
     "metadata": {},
     "output_type": "display_data"
    },
    {
     "name": "stdout",
     "output_type": "stream",
     "text": [
      "----------------------------------------------------------------------------------------------------\n"
     ]
    },
    {
     "data": {
      "text/latex": [
       "$\\displaystyle updated\\_{state} = \\left[\\begin{matrix}x\\\\y\\\\\\psi\\\\v\\\\\\dot\\psi\\\\a\\end{matrix}\\right] = \\left[\\begin{matrix}3.30386822741069\\\\2.58171588676367\\\\1.89735811174946\\\\8.05990016035563\\\\0.475425497993222\\\\3.84354123809266\\end{matrix}\\right]$"
      ],
      "text/plain": [
       "                ⎡   x    ⎤   ⎡3.30386822741069 ⎤\n",
       "                ⎢        ⎥   ⎢                 ⎥\n",
       "                ⎢   y    ⎥   ⎢2.58171588676367 ⎥\n",
       "                ⎢        ⎥   ⎢                 ⎥\n",
       "                ⎢  \\psi  ⎥   ⎢1.89735811174946 ⎥\n",
       "updated\\ₛₜₐₜₑ = ⎢        ⎥ = ⎢                 ⎥\n",
       "                ⎢   v    ⎥   ⎢8.05990016035563 ⎥\n",
       "                ⎢        ⎥   ⎢                 ⎥\n",
       "                ⎢\\dot\\psi⎥   ⎢0.475425497993222⎥\n",
       "                ⎢        ⎥   ⎢                 ⎥\n",
       "                ⎣   a    ⎦   ⎣3.84354123809266 ⎦"
      ]
     },
     "metadata": {},
     "output_type": "display_data"
    },
    {
     "name": "stdout",
     "output_type": "stream",
     "text": [
      "*Noise included\n",
      "----------------------------------------------------------------------------------------------------\n"
     ]
    },
    {
     "data": {
      "text/latex": [
       "$\\displaystyle - sensors\\_{std} \\leq noise \\leq sensors\\_{std} = \\left[\\begin{matrix}-1.5\\\\-1.5\\\\-0.02\\\\-1.0\\\\-0.1\\\\-0.5\\end{matrix}\\right] \\leq \\left[\\begin{matrix}-0.0571\\\\-1.0837\\\\-0.0015\\\\0.4288\\\\-0.0634\\\\-0.0808\\end{matrix}\\right] \\leq \\left[\\begin{matrix}1.5\\\\1.5\\\\0.02\\\\1.0\\\\0.1\\\\0.5\\end{matrix}\\right]$"
      ],
      "text/plain": [
       "                                       ⎡-1.5 ⎤   ⎡-0.0571⎤   ⎡1.5 ⎤\n",
       "                                       ⎢     ⎥   ⎢       ⎥   ⎢    ⎥\n",
       "                                       ⎢-1.5 ⎥   ⎢-1.0837⎥   ⎢1.5 ⎥\n",
       "                                       ⎢     ⎥   ⎢       ⎥   ⎢    ⎥\n",
       "                                       ⎢-0.02⎥   ⎢-0.0015⎥   ⎢0.02⎥\n",
       "-sensors\\_std ≤ noise ≤ sensors\\_std = ⎢     ⎥ ≤ ⎢       ⎥ ≤ ⎢    ⎥\n",
       "                                       ⎢-1.0 ⎥   ⎢0.4288 ⎥   ⎢1.0 ⎥\n",
       "                                       ⎢     ⎥   ⎢       ⎥   ⎢    ⎥\n",
       "                                       ⎢-0.1 ⎥   ⎢-0.0634⎥   ⎢0.1 ⎥\n",
       "                                       ⎢     ⎥   ⎢       ⎥   ⎢    ⎥\n",
       "                                       ⎣-0.5 ⎦   ⎣-0.0808⎦   ⎣0.5 ⎦"
      ]
     },
     "metadata": {},
     "output_type": "display_data"
    },
    {
     "name": "stdout",
     "output_type": "stream",
     "text": [
      "====================================================================================================\n",
      "Iteration 4, dt = 0.5539:\n",
      "====================================================================================================\n"
     ]
    },
    {
     "data": {
      "text/latex": [
       "$\\displaystyle predicted\\_{state} = \\left[\\begin{matrix}\\hat x\\\\\\hat y\\\\\\hat \\psi\\\\\\hat v\\\\\\hat{\\dot{\\psi}}\\\\\\hat a\\end{matrix}\\right] = \\left[\\begin{matrix}1.05146150309362\\\\7.08980378180501\\\\2.1606962950879\\\\10.1888376521352\\\\0.475425497993222\\\\3.84354123809266\\end{matrix}\\right]$"
      ],
      "text/plain": [
       "                  ⎡     \\hat x     ⎤   ⎡1.05146150309362 ⎤\n",
       "                  ⎢                ⎥   ⎢                 ⎥\n",
       "                  ⎢     \\hat y     ⎥   ⎢7.08980378180501 ⎥\n",
       "                  ⎢                ⎥   ⎢                 ⎥\n",
       "                  ⎢   \\hat \\psi    ⎥   ⎢ 2.1606962950879 ⎥\n",
       "predicted\\ₛₜₐₜₑ = ⎢                ⎥ = ⎢                 ⎥\n",
       "                  ⎢     \\hat v     ⎥   ⎢10.1888376521352 ⎥\n",
       "                  ⎢                ⎥   ⎢                 ⎥\n",
       "                  ⎢\\hat{\\dot{\\psi}}⎥   ⎢0.475425497993222⎥\n",
       "                  ⎢                ⎥   ⎢                 ⎥\n",
       "                  ⎣     \\hat a     ⎦   ⎣3.84354123809266 ⎦"
      ]
     },
     "metadata": {},
     "output_type": "display_data"
    },
    {
     "name": "stdout",
     "output_type": "stream",
     "text": [
      "----------------------------------------------------------------------------------------------------\n"
     ]
    },
    {
     "data": {
      "text/latex": [
       "$\\displaystyle updated\\_{state} = \\left[\\begin{matrix}x\\\\y\\\\\\psi\\\\v\\\\\\dot\\psi\\\\a\\end{matrix}\\right] = \\left[\\begin{matrix}0.774697758785248\\\\6.17996413179275\\\\2.19691647524228\\\\8.10073396870777\\\\0.691808765683325\\\\1.83121469423777\\end{matrix}\\right]$"
      ],
      "text/plain": [
       "                ⎡   x    ⎤   ⎡0.774697758785248⎤\n",
       "                ⎢        ⎥   ⎢                 ⎥\n",
       "                ⎢   y    ⎥   ⎢6.17996413179275 ⎥\n",
       "                ⎢        ⎥   ⎢                 ⎥\n",
       "                ⎢  \\psi  ⎥   ⎢2.19691647524228 ⎥\n",
       "updated\\ₛₜₐₜₑ = ⎢        ⎥ = ⎢                 ⎥\n",
       "                ⎢   v    ⎥   ⎢8.10073396870777 ⎥\n",
       "                ⎢        ⎥   ⎢                 ⎥\n",
       "                ⎢\\dot\\psi⎥   ⎢0.691808765683325⎥\n",
       "                ⎢        ⎥   ⎢                 ⎥\n",
       "                ⎣   a    ⎦   ⎣1.83121469423777 ⎦"
      ]
     },
     "metadata": {},
     "output_type": "display_data"
    },
    {
     "name": "stdout",
     "output_type": "stream",
     "text": [
      "*Noise included\n",
      "----------------------------------------------------------------------------------------------------\n"
     ]
    },
    {
     "data": {
      "text/latex": [
       "$\\displaystyle - sensors\\_{std} \\leq noise \\leq sensors\\_{std} = \\left[\\begin{matrix}-1.5\\\\-1.5\\\\-0.02\\\\-1.0\\\\-0.1\\\\-0.5\\end{matrix}\\right] \\leq \\left[\\begin{matrix}-0.5773\\\\-1.1117\\\\-0.0182\\\\-0.778\\\\0.0696\\\\-0.4022\\end{matrix}\\right] \\leq \\left[\\begin{matrix}1.5\\\\1.5\\\\0.02\\\\1.0\\\\0.1\\\\0.5\\end{matrix}\\right]$"
      ],
      "text/plain": [
       "                                       ⎡-1.5 ⎤   ⎡-0.5773⎤   ⎡1.5 ⎤\n",
       "                                       ⎢     ⎥   ⎢       ⎥   ⎢    ⎥\n",
       "                                       ⎢-1.5 ⎥   ⎢-1.1117⎥   ⎢1.5 ⎥\n",
       "                                       ⎢     ⎥   ⎢       ⎥   ⎢    ⎥\n",
       "                                       ⎢-0.02⎥   ⎢-0.0182⎥   ⎢0.02⎥\n",
       "-sensors\\_std ≤ noise ≤ sensors\\_std = ⎢     ⎥ ≤ ⎢       ⎥ ≤ ⎢    ⎥\n",
       "                                       ⎢-1.0 ⎥   ⎢-0.778 ⎥   ⎢1.0 ⎥\n",
       "                                       ⎢     ⎥   ⎢       ⎥   ⎢    ⎥\n",
       "                                       ⎢-0.1 ⎥   ⎢0.0696 ⎥   ⎢0.1 ⎥\n",
       "                                       ⎢     ⎥   ⎢       ⎥   ⎢    ⎥\n",
       "                                       ⎣-0.5 ⎦   ⎣-0.4022⎦   ⎣0.5 ⎦"
      ]
     },
     "metadata": {},
     "output_type": "display_data"
    },
    {
     "name": "stdout",
     "output_type": "stream",
     "text": [
      "====================================================================================================\n",
      "Iteration 5, dt = 0.0843:\n",
      "====================================================================================================\n"
     ]
    },
    {
     "data": {
      "text/latex": [
       "$\\displaystyle predicted\\_{state} = \\left[\\begin{matrix}\\hat x\\\\\\hat y\\\\\\hat \\psi\\\\\\hat v\\\\\\hat{\\dot{\\psi}}\\\\\\hat a\\end{matrix}\\right] = \\left[\\begin{matrix}0.354600598153772\\\\6.72645672757051\\\\2.25523595418939\\\\8.25510536743202\\\\0.691808765683325\\\\1.83121469423777\\end{matrix}\\right]$"
      ],
      "text/plain": [
       "                  ⎡     \\hat x     ⎤   ⎡0.354600598153772⎤\n",
       "                  ⎢                ⎥   ⎢                 ⎥\n",
       "                  ⎢     \\hat y     ⎥   ⎢6.72645672757051 ⎥\n",
       "                  ⎢                ⎥   ⎢                 ⎥\n",
       "                  ⎢   \\hat \\psi    ⎥   ⎢2.25523595418939 ⎥\n",
       "predicted\\ₛₜₐₜₑ = ⎢                ⎥ = ⎢                 ⎥\n",
       "                  ⎢     \\hat v     ⎥   ⎢8.25510536743202 ⎥\n",
       "                  ⎢                ⎥   ⎢                 ⎥\n",
       "                  ⎢\\hat{\\dot{\\psi}}⎥   ⎢0.691808765683325⎥\n",
       "                  ⎢                ⎥   ⎢                 ⎥\n",
       "                  ⎣     \\hat a     ⎦   ⎣1.83121469423777 ⎦"
      ]
     },
     "metadata": {},
     "output_type": "display_data"
    },
    {
     "name": "stdout",
     "output_type": "stream",
     "text": [
      "----------------------------------------------------------------------------------------------------\n"
     ]
    },
    {
     "data": {
      "text/latex": [
       "$\\displaystyle updated\\_{state} = \\left[\\begin{matrix}x\\\\y\\\\\\psi\\\\v\\\\\\dot\\psi\\\\a\\end{matrix}\\right] = \\left[\\begin{matrix}-0.141901349047365\\\\8.09164210155911\\\\2.38718097993893\\\\8.72789182308301\\\\0.791399503729567\\\\1.07717474591381\\end{matrix}\\right]$"
      ],
      "text/plain": [
       "                ⎡   x    ⎤   ⎡-0.141901349047365⎤\n",
       "                ⎢        ⎥   ⎢                  ⎥\n",
       "                ⎢   y    ⎥   ⎢ 8.09164210155911 ⎥\n",
       "                ⎢        ⎥   ⎢                  ⎥\n",
       "                ⎢  \\psi  ⎥   ⎢ 2.38718097993893 ⎥\n",
       "updated\\ₛₜₐₜₑ = ⎢        ⎥ = ⎢                  ⎥\n",
       "                ⎢   v    ⎥   ⎢ 8.72789182308301 ⎥\n",
       "                ⎢        ⎥   ⎢                  ⎥\n",
       "                ⎢\\dot\\psi⎥   ⎢0.791399503729567 ⎥\n",
       "                ⎢        ⎥   ⎢                  ⎥\n",
       "                ⎣   a    ⎦   ⎣ 1.07717474591381 ⎦"
      ]
     },
     "metadata": {},
     "output_type": "display_data"
    },
    {
     "name": "stdout",
     "output_type": "stream",
     "text": [
      "*Noise included\n",
      "----------------------------------------------------------------------------------------------------\n"
     ]
    },
    {
     "data": {
      "text/latex": [
       "$\\displaystyle - sensors\\_{std} \\leq noise \\leq sensors\\_{std} = \\left[\\begin{matrix}-1.5\\\\-1.5\\\\-0.02\\\\-1.0\\\\-0.1\\\\-0.5\\end{matrix}\\right] \\leq \\left[\\begin{matrix}0.8567\\\\1.2855\\\\0.0112\\\\-0.2399\\\\0.0904\\\\-0.3941\\end{matrix}\\right] \\leq \\left[\\begin{matrix}1.5\\\\1.5\\\\0.02\\\\1.0\\\\0.1\\\\0.5\\end{matrix}\\right]$"
      ],
      "text/plain": [
       "                                       ⎡-1.5 ⎤   ⎡0.8567 ⎤   ⎡1.5 ⎤\n",
       "                                       ⎢     ⎥   ⎢       ⎥   ⎢    ⎥\n",
       "                                       ⎢-1.5 ⎥   ⎢1.2855 ⎥   ⎢1.5 ⎥\n",
       "                                       ⎢     ⎥   ⎢       ⎥   ⎢    ⎥\n",
       "                                       ⎢-0.02⎥   ⎢0.0112 ⎥   ⎢0.02⎥\n",
       "-sensors\\_std ≤ noise ≤ sensors\\_std = ⎢     ⎥ ≤ ⎢       ⎥ ≤ ⎢    ⎥\n",
       "                                       ⎢-1.0 ⎥   ⎢-0.2399⎥   ⎢1.0 ⎥\n",
       "                                       ⎢     ⎥   ⎢       ⎥   ⎢    ⎥\n",
       "                                       ⎢-0.1 ⎥   ⎢0.0904 ⎥   ⎢0.1 ⎥\n",
       "                                       ⎢     ⎥   ⎢       ⎥   ⎢    ⎥\n",
       "                                       ⎣-0.5 ⎦   ⎣-0.3941⎦   ⎣0.5 ⎦"
      ]
     },
     "metadata": {},
     "output_type": "display_data"
    },
    {
     "name": "stdout",
     "output_type": "stream",
     "text": [
      "====================================================================================================\n",
      "Iteration 6, dt = 0.0452:\n",
      "====================================================================================================\n"
     ]
    },
    {
     "data": {
      "text/latex": [
       "$\\displaystyle predicted\\_{state} = \\left[\\begin{matrix}\\hat x\\\\\\hat y\\\\\\hat \\psi\\\\\\hat v\\\\\\hat{\\dot{\\psi}}\\\\\\hat a\\end{matrix}\\right] = \\left[\\begin{matrix}-0.434953989211392\\\\8.3573556057575\\\\2.4229522375075\\\\8.77658012159831\\\\0.791399503729567\\\\1.07717474591381\\end{matrix}\\right]$"
      ],
      "text/plain": [
       "                  ⎡     \\hat x     ⎤   ⎡-0.434953989211392⎤\n",
       "                  ⎢                ⎥   ⎢                  ⎥\n",
       "                  ⎢     \\hat y     ⎥   ⎢ 8.3573556057575  ⎥\n",
       "                  ⎢                ⎥   ⎢                  ⎥\n",
       "                  ⎢   \\hat \\psi    ⎥   ⎢ 2.4229522375075  ⎥\n",
       "predicted\\ₛₜₐₜₑ = ⎢                ⎥ = ⎢                  ⎥\n",
       "                  ⎢     \\hat v     ⎥   ⎢ 8.77658012159831 ⎥\n",
       "                  ⎢                ⎥   ⎢                  ⎥\n",
       "                  ⎢\\hat{\\dot{\\psi}}⎥   ⎢0.791399503729567 ⎥\n",
       "                  ⎢                ⎥   ⎢                  ⎥\n",
       "                  ⎣     \\hat a     ⎦   ⎣ 1.07717474591381 ⎦"
      ]
     },
     "metadata": {},
     "output_type": "display_data"
    },
    {
     "name": "stdout",
     "output_type": "stream",
     "text": [
      "----------------------------------------------------------------------------------------------------\n"
     ]
    },
    {
     "data": {
      "text/latex": [
       "$\\displaystyle updated\\_{state} = \\left[\\begin{matrix}x\\\\y\\\\\\psi\\\\v\\\\\\dot\\psi\\\\a\\end{matrix}\\right] = \\left[\\begin{matrix}-1.92883309323843\\\\9.13168512643772\\\\2.55189791778925\\\\8.73786435009036\\\\0.872720270533376\\\\0.183392850491382\\end{matrix}\\right]$"
      ],
      "text/plain": [
       "                ⎡   x    ⎤   ⎡-1.92883309323843⎤\n",
       "                ⎢        ⎥   ⎢                 ⎥\n",
       "                ⎢   y    ⎥   ⎢9.13168512643772 ⎥\n",
       "                ⎢        ⎥   ⎢                 ⎥\n",
       "                ⎢  \\psi  ⎥   ⎢2.55189791778925 ⎥\n",
       "updated\\ₛₜₐₜₑ = ⎢        ⎥ = ⎢                 ⎥\n",
       "                ⎢   v    ⎥   ⎢8.73786435009036 ⎥\n",
       "                ⎢        ⎥   ⎢                 ⎥\n",
       "                ⎢\\dot\\psi⎥   ⎢0.872720270533376⎥\n",
       "                ⎢        ⎥   ⎢                 ⎥\n",
       "                ⎣   a    ⎦   ⎣0.183392850491382⎦"
      ]
     },
     "metadata": {},
     "output_type": "display_data"
    },
    {
     "name": "stdout",
     "output_type": "stream",
     "text": [
      "*Noise included\n",
      "----------------------------------------------------------------------------------------------------\n"
     ]
    },
    {
     "data": {
      "text/latex": [
       "$\\displaystyle - sensors\\_{std} \\leq noise \\leq sensors\\_{std} = \\left[\\begin{matrix}-1.5\\\\-1.5\\\\-0.02\\\\-1.0\\\\-0.1\\\\-0.5\\end{matrix}\\right] \\leq \\left[\\begin{matrix}-0.8416\\\\0.1583\\\\0.0063\\\\-0.6525\\\\0.084\\\\-0.3697\\end{matrix}\\right] \\leq \\left[\\begin{matrix}1.5\\\\1.5\\\\0.02\\\\1.0\\\\0.1\\\\0.5\\end{matrix}\\right]$"
      ],
      "text/plain": [
       "                                       ⎡-1.5 ⎤   ⎡-0.8416⎤   ⎡1.5 ⎤\n",
       "                                       ⎢     ⎥   ⎢       ⎥   ⎢    ⎥\n",
       "                                       ⎢-1.5 ⎥   ⎢0.1583 ⎥   ⎢1.5 ⎥\n",
       "                                       ⎢     ⎥   ⎢       ⎥   ⎢    ⎥\n",
       "                                       ⎢-0.02⎥   ⎢0.0063 ⎥   ⎢0.02⎥\n",
       "-sensors\\_std ≤ noise ≤ sensors\\_std = ⎢     ⎥ ≤ ⎢       ⎥ ≤ ⎢    ⎥\n",
       "                                       ⎢-1.0 ⎥   ⎢-0.6525⎥   ⎢1.0 ⎥\n",
       "                                       ⎢     ⎥   ⎢       ⎥   ⎢    ⎥\n",
       "                                       ⎢-0.1 ⎥   ⎢ 0.084 ⎥   ⎢0.1 ⎥\n",
       "                                       ⎢     ⎥   ⎢       ⎥   ⎢    ⎥\n",
       "                                       ⎣-0.5 ⎦   ⎣-0.3697⎦   ⎣0.5 ⎦"
      ]
     },
     "metadata": {},
     "output_type": "display_data"
    },
    {
     "name": "stdout",
     "output_type": "stream",
     "text": [
      "====================================================================================================\n",
      "Iteration 7, dt = 0.017:\n",
      "====================================================================================================\n"
     ]
    },
    {
     "data": {
      "text/latex": [
       "$\\displaystyle predicted\\_{state} = \\left[\\begin{matrix}\\hat x\\\\\\hat y\\\\\\hat \\psi\\\\\\hat v\\\\\\hat{\\dot{\\psi}}\\\\\\hat a\\end{matrix}\\right] = \\left[\\begin{matrix}-2.05291972575453\\\\9.21338705640494\\\\2.56673416238831\\\\8.74098202854871\\\\0.872720270533376\\\\0.183392850491382\\end{matrix}\\right]$"
      ],
      "text/plain": [
       "                  ⎡     \\hat x     ⎤   ⎡-2.05291972575453⎤\n",
       "                  ⎢                ⎥   ⎢                 ⎥\n",
       "                  ⎢     \\hat y     ⎥   ⎢9.21338705640494 ⎥\n",
       "                  ⎢                ⎥   ⎢                 ⎥\n",
       "                  ⎢   \\hat \\psi    ⎥   ⎢2.56673416238831 ⎥\n",
       "predicted\\ₛₜₐₜₑ = ⎢                ⎥ = ⎢                 ⎥\n",
       "                  ⎢     \\hat v     ⎥   ⎢8.74098202854871 ⎥\n",
       "                  ⎢                ⎥   ⎢                 ⎥\n",
       "                  ⎢\\hat{\\dot{\\psi}}⎥   ⎢0.872720270533376⎥\n",
       "                  ⎢                ⎥   ⎢                 ⎥\n",
       "                  ⎣     \\hat a     ⎦   ⎣0.183392850491382⎦"
      ]
     },
     "metadata": {},
     "output_type": "display_data"
    },
    {
     "name": "stdout",
     "output_type": "stream",
     "text": [
      "----------------------------------------------------------------------------------------------------\n"
     ]
    },
    {
     "data": {
      "text/latex": [
       "$\\displaystyle updated\\_{state} = \\left[\\begin{matrix}x\\\\y\\\\\\psi\\\\v\\\\\\dot\\psi\\\\a\\end{matrix}\\right] = \\left[\\begin{matrix}-3.28007997334482\\\\9.62202484294567\\\\2.69722945741587\\\\9.05725543421158\\\\0.926036147290242\\\\-0.0155649529704181\\end{matrix}\\right]$"
      ],
      "text/plain": [
       "                ⎡   x    ⎤   ⎡ -3.28007997334482 ⎤\n",
       "                ⎢        ⎥   ⎢                   ⎥\n",
       "                ⎢   y    ⎥   ⎢ 9.62202484294567  ⎥\n",
       "                ⎢        ⎥   ⎢                   ⎥\n",
       "                ⎢  \\psi  ⎥   ⎢ 2.69722945741587  ⎥\n",
       "updated\\ₛₜₐₜₑ = ⎢        ⎥ = ⎢                   ⎥\n",
       "                ⎢   v    ⎥   ⎢ 9.05725543421158  ⎥\n",
       "                ⎢        ⎥   ⎢                   ⎥\n",
       "                ⎢\\dot\\psi⎥   ⎢ 0.926036147290242 ⎥\n",
       "                ⎢        ⎥   ⎢                   ⎥\n",
       "                ⎣   a    ⎦   ⎣-0.0155649529704181⎦"
      ]
     },
     "metadata": {},
     "output_type": "display_data"
    },
    {
     "name": "stdout",
     "output_type": "stream",
     "text": [
      "*Noise included\n",
      "----------------------------------------------------------------------------------------------------\n"
     ]
    },
    {
     "data": {
      "text/latex": [
       "$\\displaystyle - sensors\\_{std} \\leq noise \\leq sensors\\_{std} = \\left[\\begin{matrix}-1.5\\\\-1.5\\\\-0.02\\\\-1.0\\\\-0.1\\\\-0.5\\end{matrix}\\right] \\leq \\left[\\begin{matrix}1.1896\\\\-0.95\\\\0.0111\\\\0.4016\\\\0.0349\\\\-0.1406\\end{matrix}\\right] \\leq \\left[\\begin{matrix}1.5\\\\1.5\\\\0.02\\\\1.0\\\\0.1\\\\0.5\\end{matrix}\\right]$"
      ],
      "text/plain": [
       "                                       ⎡-1.5 ⎤   ⎡1.1896 ⎤   ⎡1.5 ⎤\n",
       "                                       ⎢     ⎥   ⎢       ⎥   ⎢    ⎥\n",
       "                                       ⎢-1.5 ⎥   ⎢ -0.95 ⎥   ⎢1.5 ⎥\n",
       "                                       ⎢     ⎥   ⎢       ⎥   ⎢    ⎥\n",
       "                                       ⎢-0.02⎥   ⎢0.0111 ⎥   ⎢0.02⎥\n",
       "-sensors\\_std ≤ noise ≤ sensors\\_std = ⎢     ⎥ ≤ ⎢       ⎥ ≤ ⎢    ⎥\n",
       "                                       ⎢-1.0 ⎥   ⎢0.4016 ⎥   ⎢1.0 ⎥\n",
       "                                       ⎢     ⎥   ⎢       ⎥   ⎢    ⎥\n",
       "                                       ⎢-0.1 ⎥   ⎢0.0349 ⎥   ⎢0.1 ⎥\n",
       "                                       ⎢     ⎥   ⎢       ⎥   ⎢    ⎥\n",
       "                                       ⎣-0.5 ⎦   ⎣-0.1406⎦   ⎣0.5 ⎦"
      ]
     },
     "metadata": {},
     "output_type": "display_data"
    },
    {
     "name": "stdout",
     "output_type": "stream",
     "text": [
      "====================================================================================================\n",
      "Iteration 8, dt = 0.1824:\n",
      "====================================================================================================\n"
     ]
    },
    {
     "data": {
      "text/latex": [
       "$\\displaystyle predicted\\_{state} = \\left[\\begin{matrix}\\hat x\\\\\\hat y\\\\\\hat \\psi\\\\\\hat v\\\\\\hat{\\dot{\\psi}}\\\\\\hat a\\end{matrix}\\right] = \\left[\\begin{matrix}-4.82419325431167\\\\10.2030803212162\\\\2.86613845068161\\\\9.05441638678978\\\\0.926036147290242\\\\-0.0155649529704181\\end{matrix}\\right]$"
      ],
      "text/plain": [
       "                  ⎡     \\hat x     ⎤   ⎡ -4.82419325431167 ⎤\n",
       "                  ⎢                ⎥   ⎢                   ⎥\n",
       "                  ⎢     \\hat y     ⎥   ⎢ 10.2030803212162  ⎥\n",
       "                  ⎢                ⎥   ⎢                   ⎥\n",
       "                  ⎢   \\hat \\psi    ⎥   ⎢ 2.86613845068161  ⎥\n",
       "predicted\\ₛₜₐₜₑ = ⎢                ⎥ = ⎢                   ⎥\n",
       "                  ⎢     \\hat v     ⎥   ⎢ 9.05441638678978  ⎥\n",
       "                  ⎢                ⎥   ⎢                   ⎥\n",
       "                  ⎢\\hat{\\dot{\\psi}}⎥   ⎢ 0.926036147290242 ⎥\n",
       "                  ⎢                ⎥   ⎢                   ⎥\n",
       "                  ⎣     \\hat a     ⎦   ⎣-0.0155649529704181⎦"
      ]
     },
     "metadata": {},
     "output_type": "display_data"
    },
    {
     "name": "stdout",
     "output_type": "stream",
     "text": [
      "----------------------------------------------------------------------------------------------------\n"
     ]
    },
    {
     "data": {
      "text/latex": [
       "$\\displaystyle updated\\_{state} = \\left[\\begin{matrix}x\\\\y\\\\\\psi\\\\v\\\\\\dot\\psi\\\\a\\end{matrix}\\right] = \\left[\\begin{matrix}-6.19771370171481\\\\10.6088884292743\\\\2.83896668616048\\\\10.1867017813641\\\\-0.128153623948515\\\\1.38270982796657\\end{matrix}\\right]$"
      ],
      "text/plain": [
       "                ⎡   x    ⎤   ⎡-6.19771370171481 ⎤\n",
       "                ⎢        ⎥   ⎢                  ⎥\n",
       "                ⎢   y    ⎥   ⎢ 10.6088884292743 ⎥\n",
       "                ⎢        ⎥   ⎢                  ⎥\n",
       "                ⎢  \\psi  ⎥   ⎢ 2.83896668616048 ⎥\n",
       "updated\\ₛₜₐₜₑ = ⎢        ⎥ = ⎢                  ⎥\n",
       "                ⎢   v    ⎥   ⎢ 10.1867017813641 ⎥\n",
       "                ⎢        ⎥   ⎢                  ⎥\n",
       "                ⎢\\dot\\psi⎥   ⎢-0.128153623948515⎥\n",
       "                ⎢        ⎥   ⎢                  ⎥\n",
       "                ⎣   a    ⎦   ⎣ 1.38270982796657 ⎦"
      ]
     },
     "metadata": {},
     "output_type": "display_data"
    },
    {
     "name": "stdout",
     "output_type": "stream",
     "text": [
      "*Noise included\n",
      "----------------------------------------------------------------------------------------------------\n"
     ]
    },
    {
     "data": {
      "text/latex": [
       "$\\displaystyle - sensors\\_{std} \\leq noise \\leq sensors\\_{std} = \\left[\\begin{matrix}-1.5\\\\-1.5\\\\-0.02\\\\-1.0\\\\-0.1\\\\-0.5\\end{matrix}\\right] \\leq \\left[\\begin{matrix}0.5857\\\\-0.9672\\\\-0.0158\\\\0.3913\\\\-0.0223\\\\0.2368\\end{matrix}\\right] \\leq \\left[\\begin{matrix}1.5\\\\1.5\\\\0.02\\\\1.0\\\\0.1\\\\0.5\\end{matrix}\\right]$"
      ],
      "text/plain": [
       "                                       ⎡-1.5 ⎤   ⎡0.5857 ⎤   ⎡1.5 ⎤\n",
       "                                       ⎢     ⎥   ⎢       ⎥   ⎢    ⎥\n",
       "                                       ⎢-1.5 ⎥   ⎢-0.9672⎥   ⎢1.5 ⎥\n",
       "                                       ⎢     ⎥   ⎢       ⎥   ⎢    ⎥\n",
       "                                       ⎢-0.02⎥   ⎢-0.0158⎥   ⎢0.02⎥\n",
       "-sensors\\_std ≤ noise ≤ sensors\\_std = ⎢     ⎥ ≤ ⎢       ⎥ ≤ ⎢    ⎥\n",
       "                                       ⎢-1.0 ⎥   ⎢0.3913 ⎥   ⎢1.0 ⎥\n",
       "                                       ⎢     ⎥   ⎢       ⎥   ⎢    ⎥\n",
       "                                       ⎢-0.1 ⎥   ⎢-0.0223⎥   ⎢0.1 ⎥\n",
       "                                       ⎢     ⎥   ⎢       ⎥   ⎢    ⎥\n",
       "                                       ⎣-0.5 ⎦   ⎣0.2368 ⎦   ⎣0.5 ⎦"
      ]
     },
     "metadata": {},
     "output_type": "display_data"
    },
    {
     "name": "stdout",
     "output_type": "stream",
     "text": [
      "====================================================================================================\n",
      "Iteration 9, dt = 0.5568:\n",
      "====================================================================================================\n"
     ]
    },
    {
     "data": {
      "text/latex": [
       "$\\displaystyle predicted\\_{state} = \\left[\\begin{matrix}\\hat x\\\\\\hat y\\\\\\hat \\psi\\\\\\hat v\\\\\\hat{\\dot{\\psi}}\\\\\\hat a\\end{matrix}\\right] = \\left[\\begin{matrix}-11.748342133291\\\\12.564466395008\\\\2.76761074834595\\\\10.9565946135759\\\\-0.128153623948515\\\\1.38270982796657\\end{matrix}\\right]$"
      ],
      "text/plain": [
       "                  ⎡     \\hat x     ⎤   ⎡ -11.748342133291 ⎤\n",
       "                  ⎢                ⎥   ⎢                  ⎥\n",
       "                  ⎢     \\hat y     ⎥   ⎢ 12.564466395008  ⎥\n",
       "                  ⎢                ⎥   ⎢                  ⎥\n",
       "                  ⎢   \\hat \\psi    ⎥   ⎢ 2.76761074834595 ⎥\n",
       "predicted\\ₛₜₐₜₑ = ⎢                ⎥ = ⎢                  ⎥\n",
       "                  ⎢     \\hat v     ⎥   ⎢ 10.9565946135759 ⎥\n",
       "                  ⎢                ⎥   ⎢                  ⎥\n",
       "                  ⎢\\hat{\\dot{\\psi}}⎥   ⎢-0.128153623948515⎥\n",
       "                  ⎢                ⎥   ⎢                  ⎥\n",
       "                  ⎣     \\hat a     ⎦   ⎣ 1.38270982796657 ⎦"
      ]
     },
     "metadata": {},
     "output_type": "display_data"
    },
    {
     "name": "stdout",
     "output_type": "stream",
     "text": [
      "----------------------------------------------------------------------------------------------------\n"
     ]
    },
    {
     "data": {
      "text/latex": [
       "$\\displaystyle updated\\_{state} = \\left[\\begin{matrix}x\\\\y\\\\\\psi\\\\v\\\\\\dot\\psi\\\\a\\end{matrix}\\right] = \\left[\\begin{matrix}-14.7534290251811\\\\13.5701423138943\\\\2.69578887218196\\\\10.3490158485934\\\\-0.452862958019334\\\\1.89800818626945\\end{matrix}\\right]$"
      ],
      "text/plain": [
       "                ⎡   x    ⎤   ⎡-14.7534290251811 ⎤\n",
       "                ⎢        ⎥   ⎢                  ⎥\n",
       "                ⎢   y    ⎥   ⎢ 13.5701423138943 ⎥\n",
       "                ⎢        ⎥   ⎢                  ⎥\n",
       "                ⎢  \\psi  ⎥   ⎢ 2.69578887218196 ⎥\n",
       "updated\\ₛₜₐₜₑ = ⎢        ⎥ = ⎢                  ⎥\n",
       "                ⎢   v    ⎥   ⎢ 10.3490158485934 ⎥\n",
       "                ⎢        ⎥   ⎢                  ⎥\n",
       "                ⎢\\dot\\psi⎥   ⎢-0.452862958019334⎥\n",
       "                ⎢        ⎥   ⎢                  ⎥\n",
       "                ⎣   a    ⎦   ⎣ 1.89800818626945 ⎦"
      ]
     },
     "metadata": {},
     "output_type": "display_data"
    },
    {
     "name": "stdout",
     "output_type": "stream",
     "text": [
      "*Noise included\n",
      "----------------------------------------------------------------------------------------------------\n"
     ]
    },
    {
     "data": {
      "text/latex": [
       "$\\displaystyle - sensors\\_{std} \\leq noise \\leq sensors\\_{std} = \\left[\\begin{matrix}-1.5\\\\-1.5\\\\-0.02\\\\-1.0\\\\-0.1\\\\-0.5\\end{matrix}\\right] \\leq \\left[\\begin{matrix}-0.5729\\\\-0.5062\\\\0.0078\\\\-0.6339\\\\-0.0688\\\\0.1991\\end{matrix}\\right] \\leq \\left[\\begin{matrix}1.5\\\\1.5\\\\0.02\\\\1.0\\\\0.1\\\\0.5\\end{matrix}\\right]$"
      ],
      "text/plain": [
       "                                       ⎡-1.5 ⎤   ⎡-0.5729⎤   ⎡1.5 ⎤\n",
       "                                       ⎢     ⎥   ⎢       ⎥   ⎢    ⎥\n",
       "                                       ⎢-1.5 ⎥   ⎢-0.5062⎥   ⎢1.5 ⎥\n",
       "                                       ⎢     ⎥   ⎢       ⎥   ⎢    ⎥\n",
       "                                       ⎢-0.02⎥   ⎢0.0078 ⎥   ⎢0.02⎥\n",
       "-sensors\\_std ≤ noise ≤ sensors\\_std = ⎢     ⎥ ≤ ⎢       ⎥ ≤ ⎢    ⎥\n",
       "                                       ⎢-1.0 ⎥   ⎢-0.6339⎥   ⎢1.0 ⎥\n",
       "                                       ⎢     ⎥   ⎢       ⎥   ⎢    ⎥\n",
       "                                       ⎢-0.1 ⎥   ⎢-0.0688⎥   ⎢0.1 ⎥\n",
       "                                       ⎢     ⎥   ⎢       ⎥   ⎢    ⎥\n",
       "                                       ⎣-0.5 ⎦   ⎣0.1991 ⎦   ⎣0.5 ⎦"
      ]
     },
     "metadata": {},
     "output_type": "display_data"
    },
    {
     "name": "stdout",
     "output_type": "stream",
     "text": [
      "====================================================================================================\n",
      "Iteration 10, dt = 0.9355:\n",
      "====================================================================================================\n"
     ]
    },
    {
     "data": {
      "text/latex": [
       "$\\displaystyle predicted\\_{state} = \\left[\\begin{matrix}\\hat x\\\\\\hat y\\\\\\hat \\psi\\\\\\hat v\\\\\\hat{\\dot{\\psi}}\\\\\\hat a\\end{matrix}\\right] = \\left[\\begin{matrix}-22.9753407491142\\\\19.9938124212173\\\\2.27213557495487\\\\12.1246025068484\\\\-0.452862958019334\\\\1.89800818626945\\end{matrix}\\right]$"
      ],
      "text/plain": [
       "                  ⎡     \\hat x     ⎤   ⎡-22.9753407491142 ⎤\n",
       "                  ⎢                ⎥   ⎢                  ⎥\n",
       "                  ⎢     \\hat y     ⎥   ⎢ 19.9938124212173 ⎥\n",
       "                  ⎢                ⎥   ⎢                  ⎥\n",
       "                  ⎢   \\hat \\psi    ⎥   ⎢ 2.27213557495487 ⎥\n",
       "predicted\\ₛₜₐₜₑ = ⎢                ⎥ = ⎢                  ⎥\n",
       "                  ⎢     \\hat v     ⎥   ⎢ 12.1246025068484 ⎥\n",
       "                  ⎢                ⎥   ⎢                  ⎥\n",
       "                  ⎢\\hat{\\dot{\\psi}}⎥   ⎢-0.452862958019334⎥\n",
       "                  ⎢                ⎥   ⎢                  ⎥\n",
       "                  ⎣     \\hat a     ⎦   ⎣ 1.89800818626945 ⎦"
      ]
     },
     "metadata": {},
     "output_type": "display_data"
    },
    {
     "name": "stdout",
     "output_type": "stream",
     "text": [
      "----------------------------------------------------------------------------------------------------\n"
     ]
    },
    {
     "data": {
      "text/latex": [
       "$\\displaystyle updated\\_{state} = \\left[\\begin{matrix}x\\\\y\\\\\\psi\\\\v\\\\\\dot\\psi\\\\a\\end{matrix}\\right] = \\left[\\begin{matrix}-20.8668448715405\\\\18.1569215789583\\\\2.33292052410163\\\\11.8697249303955\\\\-0.818417065509938\\\\1.73114802745886\\end{matrix}\\right]$"
      ],
      "text/plain": [
       "                ⎡   x    ⎤   ⎡-20.8668448715405 ⎤\n",
       "                ⎢        ⎥   ⎢                  ⎥\n",
       "                ⎢   y    ⎥   ⎢ 18.1569215789583 ⎥\n",
       "                ⎢        ⎥   ⎢                  ⎥\n",
       "                ⎢  \\psi  ⎥   ⎢ 2.33292052410163 ⎥\n",
       "updated\\ₛₜₐₜₑ = ⎢        ⎥ = ⎢                  ⎥\n",
       "                ⎢   v    ⎥   ⎢ 11.8697249303955 ⎥\n",
       "                ⎢        ⎥   ⎢                  ⎥\n",
       "                ⎢\\dot\\psi⎥   ⎢-0.818417065509938⎥\n",
       "                ⎢        ⎥   ⎢                  ⎥\n",
       "                ⎣   a    ⎦   ⎣ 1.73114802745886 ⎦"
      ]
     },
     "metadata": {},
     "output_type": "display_data"
    },
    {
     "name": "stdout",
     "output_type": "stream",
     "text": [
      "*Noise included\n",
      "----------------------------------------------------------------------------------------------------\n"
     ]
    },
    {
     "data": {
      "text/latex": [
       "$\\displaystyle - sensors\\_{std} \\leq noise \\leq sensors\\_{std} = \\left[\\begin{matrix}-1.5\\\\-1.5\\\\-0.02\\\\-1.0\\\\-0.1\\\\-0.5\\end{matrix}\\right] \\leq \\left[\\begin{matrix}0.2298\\\\0.2873\\\\-0.0159\\\\0.0898\\\\-0.0375\\\\-0.3652\\end{matrix}\\right] \\leq \\left[\\begin{matrix}1.5\\\\1.5\\\\0.02\\\\1.0\\\\0.1\\\\0.5\\end{matrix}\\right]$"
      ],
      "text/plain": [
       "                                       ⎡-1.5 ⎤   ⎡0.2298 ⎤   ⎡1.5 ⎤\n",
       "                                       ⎢     ⎥   ⎢       ⎥   ⎢    ⎥\n",
       "                                       ⎢-1.5 ⎥   ⎢0.2873 ⎥   ⎢1.5 ⎥\n",
       "                                       ⎢     ⎥   ⎢       ⎥   ⎢    ⎥\n",
       "                                       ⎢-0.02⎥   ⎢-0.0159⎥   ⎢0.02⎥\n",
       "-sensors\\_std ≤ noise ≤ sensors\\_std = ⎢     ⎥ ≤ ⎢       ⎥ ≤ ⎢    ⎥\n",
       "                                       ⎢-1.0 ⎥   ⎢0.0898 ⎥   ⎢1.0 ⎥\n",
       "                                       ⎢     ⎥   ⎢       ⎥   ⎢    ⎥\n",
       "                                       ⎢-0.1 ⎥   ⎢-0.0375⎥   ⎢0.1 ⎥\n",
       "                                       ⎢     ⎥   ⎢       ⎥   ⎢    ⎥\n",
       "                                       ⎣-0.5 ⎦   ⎣-0.3652⎦   ⎣0.5 ⎦"
      ]
     },
     "metadata": {},
     "output_type": "display_data"
    },
    {
     "name": "stdout",
     "output_type": "stream",
     "text": [
      "====================================================================================================\n",
      "Iteration 11, dt = 0.2909:\n",
      "====================================================================================================\n"
     ]
    },
    {
     "data": {
      "text/latex": [
       "$\\displaystyle predicted\\_{state} = \\left[\\begin{matrix}\\hat x\\\\\\hat y\\\\\\hat \\psi\\\\\\hat v\\\\\\hat{\\dot{\\psi}}\\\\\\hat a\\end{matrix}\\right] = \\left[\\begin{matrix}-22.9740493820315\\\\20.9738018843212\\\\2.09484299974479\\\\12.3733158915833\\\\-0.818417065509938\\\\1.73114802745886\\end{matrix}\\right]$"
      ],
      "text/plain": [
       "                  ⎡     \\hat x     ⎤   ⎡-22.9740493820315 ⎤\n",
       "                  ⎢                ⎥   ⎢                  ⎥\n",
       "                  ⎢     \\hat y     ⎥   ⎢ 20.9738018843212 ⎥\n",
       "                  ⎢                ⎥   ⎢                  ⎥\n",
       "                  ⎢   \\hat \\psi    ⎥   ⎢ 2.09484299974479 ⎥\n",
       "predicted\\ₛₜₐₜₑ = ⎢                ⎥ = ⎢                  ⎥\n",
       "                  ⎢     \\hat v     ⎥   ⎢ 12.3733158915833 ⎥\n",
       "                  ⎢                ⎥   ⎢                  ⎥\n",
       "                  ⎢\\hat{\\dot{\\psi}}⎥   ⎢-0.818417065509938⎥\n",
       "                  ⎢                ⎥   ⎢                  ⎥\n",
       "                  ⎣     \\hat a     ⎦   ⎣ 1.73114802745886 ⎦"
      ]
     },
     "metadata": {},
     "output_type": "display_data"
    },
    {
     "name": "stdout",
     "output_type": "stream",
     "text": [
      "----------------------------------------------------------------------------------------------------\n"
     ]
    },
    {
     "data": {
      "text/latex": [
       "$\\displaystyle updated\\_{state} = \\left[\\begin{matrix}x\\\\y\\\\\\psi\\\\v\\\\\\dot\\psi\\\\a\\end{matrix}\\right] = \\left[\\begin{matrix}-23.4103690837865\\\\21.7022972864481\\\\2.01871230042782\\\\12.5141291870565\\\\-0.749466504228204\\\\2.13852087641836\\end{matrix}\\right]$"
      ],
      "text/plain": [
       "                ⎡   x    ⎤   ⎡-23.4103690837865 ⎤\n",
       "                ⎢        ⎥   ⎢                  ⎥\n",
       "                ⎢   y    ⎥   ⎢ 21.7022972864481 ⎥\n",
       "                ⎢        ⎥   ⎢                  ⎥\n",
       "                ⎢  \\psi  ⎥   ⎢ 2.01871230042782 ⎥\n",
       "updated\\ₛₜₐₜₑ = ⎢        ⎥ = ⎢                  ⎥\n",
       "                ⎢   v    ⎥   ⎢ 12.5141291870565 ⎥\n",
       "                ⎢        ⎥   ⎢                  ⎥\n",
       "                ⎢\\dot\\psi⎥   ⎢-0.749466504228204⎥\n",
       "                ⎢        ⎥   ⎢                  ⎥\n",
       "                ⎣   a    ⎦   ⎣ 2.13852087641836 ⎦"
      ]
     },
     "metadata": {},
     "output_type": "display_data"
    },
    {
     "name": "stdout",
     "output_type": "stream",
     "text": [
      "*Noise included\n",
      "----------------------------------------------------------------------------------------------------\n"
     ]
    },
    {
     "data": {
      "text/latex": [
       "$\\displaystyle - sensors\\_{std} \\leq noise \\leq sensors\\_{std} = \\left[\\begin{matrix}-1.5\\\\-1.5\\\\-0.02\\\\-1.0\\\\-0.1\\\\-0.5\\end{matrix}\\right] \\leq \\left[\\begin{matrix}-0.2236\\\\0.5324\\\\-0.0147\\\\-0.1144\\\\0.0552\\\\0.3881\\end{matrix}\\right] \\leq \\left[\\begin{matrix}1.5\\\\1.5\\\\0.02\\\\1.0\\\\0.1\\\\0.5\\end{matrix}\\right]$"
      ],
      "text/plain": [
       "                                       ⎡-1.5 ⎤   ⎡-0.2236⎤   ⎡1.5 ⎤\n",
       "                                       ⎢     ⎥   ⎢       ⎥   ⎢    ⎥\n",
       "                                       ⎢-1.5 ⎥   ⎢0.5324 ⎥   ⎢1.5 ⎥\n",
       "                                       ⎢     ⎥   ⎢       ⎥   ⎢    ⎥\n",
       "                                       ⎢-0.02⎥   ⎢-0.0147⎥   ⎢0.02⎥\n",
       "-sensors\\_std ≤ noise ≤ sensors\\_std = ⎢     ⎥ ≤ ⎢       ⎥ ≤ ⎢    ⎥\n",
       "                                       ⎢-1.0 ⎥   ⎢-0.1144⎥   ⎢1.0 ⎥\n",
       "                                       ⎢     ⎥   ⎢       ⎥   ⎢    ⎥\n",
       "                                       ⎢-0.1 ⎥   ⎢0.0552 ⎥   ⎢0.1 ⎥\n",
       "                                       ⎢     ⎥   ⎢       ⎥   ⎢    ⎥\n",
       "                                       ⎣-0.5 ⎦   ⎣0.3881 ⎦   ⎣0.5 ⎦"
      ]
     },
     "metadata": {},
     "output_type": "display_data"
    },
    {
     "name": "stdout",
     "output_type": "stream",
     "text": [
      "====================================================================================================\n",
      "Iteration 12, dt = 0.1086:\n",
      "====================================================================================================\n"
     ]
    },
    {
     "data": {
      "text/latex": [
       "$\\displaystyle predicted\\_{state} = \\left[\\begin{matrix}\\hat x\\\\\\hat y\\\\\\hat \\psi\\\\\\hat v\\\\\\hat{\\dot{\\psi}}\\\\\\hat a\\end{matrix}\\right] = \\left[\\begin{matrix}-23.9533133562539\\\\22.9614969565103\\\\1.93732023806864\\\\12.7463725542355\\\\-0.749466504228204\\\\2.13852087641836\\end{matrix}\\right]$"
      ],
      "text/plain": [
       "                  ⎡     \\hat x     ⎤   ⎡-23.9533133562539 ⎤\n",
       "                  ⎢                ⎥   ⎢                  ⎥\n",
       "                  ⎢     \\hat y     ⎥   ⎢ 22.9614969565103 ⎥\n",
       "                  ⎢                ⎥   ⎢                  ⎥\n",
       "                  ⎢   \\hat \\psi    ⎥   ⎢ 1.93732023806864 ⎥\n",
       "predicted\\ₛₜₐₜₑ = ⎢                ⎥ = ⎢                  ⎥\n",
       "                  ⎢     \\hat v     ⎥   ⎢ 12.7463725542355 ⎥\n",
       "                  ⎢                ⎥   ⎢                  ⎥\n",
       "                  ⎢\\hat{\\dot{\\psi}}⎥   ⎢-0.749466504228204⎥\n",
       "                  ⎢                ⎥   ⎢                  ⎥\n",
       "                  ⎣     \\hat a     ⎦   ⎣ 2.13852087641836 ⎦"
      ]
     },
     "metadata": {},
     "output_type": "display_data"
    },
    {
     "name": "stdout",
     "output_type": "stream",
     "text": [
      "----------------------------------------------------------------------------------------------------\n"
     ]
    },
    {
     "data": {
      "text/latex": [
       "$\\displaystyle updated\\_{state} = \\left[\\begin{matrix}x\\\\y\\\\\\psi\\\\v\\\\\\dot\\psi\\\\a\\end{matrix}\\right] = \\left[\\begin{matrix}-24.6073730683819\\\\24.2699230903616\\\\2.00348672182264\\\\15.0659325254049\\\\-0.249852051013261\\\\5.10882645101094\\end{matrix}\\right]$"
      ],
      "text/plain": [
       "                ⎡   x    ⎤   ⎡-24.6073730683819 ⎤\n",
       "                ⎢        ⎥   ⎢                  ⎥\n",
       "                ⎢   y    ⎥   ⎢ 24.2699230903616 ⎥\n",
       "                ⎢        ⎥   ⎢                  ⎥\n",
       "                ⎢  \\psi  ⎥   ⎢ 2.00348672182264 ⎥\n",
       "updated\\ₛₜₐₜₑ = ⎢        ⎥ = ⎢                  ⎥\n",
       "                ⎢   v    ⎥   ⎢ 15.0659325254049 ⎥\n",
       "                ⎢        ⎥   ⎢                  ⎥\n",
       "                ⎢\\dot\\psi⎥   ⎢-0.249852051013261⎥\n",
       "                ⎢        ⎥   ⎢                  ⎥\n",
       "                ⎣   a    ⎦   ⎣ 5.10882645101094 ⎦"
      ]
     },
     "metadata": {},
     "output_type": "display_data"
    },
    {
     "name": "stdout",
     "output_type": "stream",
     "text": [
      "*Noise included\n",
      "----------------------------------------------------------------------------------------------------\n"
     ]
    },
    {
     "data": {
      "text/latex": [
       "$\\displaystyle - sensors\\_{std} \\leq noise \\leq sensors\\_{std} = \\left[\\begin{matrix}-1.5\\\\-1.5\\\\-0.02\\\\-1.0\\\\-0.1\\\\-0.5\\end{matrix}\\right] \\leq \\left[\\begin{matrix}0.6675\\\\-0.5955\\\\0.018\\\\0.6145\\\\-0.0493\\\\-0.0704\\end{matrix}\\right] \\leq \\left[\\begin{matrix}1.5\\\\1.5\\\\0.02\\\\1.0\\\\0.1\\\\0.5\\end{matrix}\\right]$"
      ],
      "text/plain": [
       "                                       ⎡-1.5 ⎤   ⎡0.6675 ⎤   ⎡1.5 ⎤\n",
       "                                       ⎢     ⎥   ⎢       ⎥   ⎢    ⎥\n",
       "                                       ⎢-1.5 ⎥   ⎢-0.5955⎥   ⎢1.5 ⎥\n",
       "                                       ⎢     ⎥   ⎢       ⎥   ⎢    ⎥\n",
       "                                       ⎢-0.02⎥   ⎢ 0.018 ⎥   ⎢0.02⎥\n",
       "-sensors\\_std ≤ noise ≤ sensors\\_std = ⎢     ⎥ ≤ ⎢       ⎥ ≤ ⎢    ⎥\n",
       "                                       ⎢-1.0 ⎥   ⎢0.6145 ⎥   ⎢1.0 ⎥\n",
       "                                       ⎢     ⎥   ⎢       ⎥   ⎢    ⎥\n",
       "                                       ⎢-0.1 ⎥   ⎢-0.0493⎥   ⎢0.1 ⎥\n",
       "                                       ⎢     ⎥   ⎢       ⎥   ⎢    ⎥\n",
       "                                       ⎣-0.5 ⎦   ⎣-0.0704⎦   ⎣0.5 ⎦"
      ]
     },
     "metadata": {},
     "output_type": "display_data"
    },
    {
     "name": "stdout",
     "output_type": "stream",
     "text": [
      "====================================================================================================\n",
      "Iteration 13, dt = 0.4237:\n",
      "====================================================================================================\n"
     ]
    },
    {
     "data": {
      "text/latex": [
       "$\\displaystyle predicted\\_{state} = \\left[\\begin{matrix}\\hat x\\\\\\hat y\\\\\\hat \\psi\\\\\\hat v\\\\\\hat{\\dot{\\psi}}\\\\\\hat a\\end{matrix}\\right] = \\left[\\begin{matrix}-27.1349875580111\\\\30.6244965594972\\\\1.89762440780832\\\\17.2305422926983\\\\-0.249852051013261\\\\5.10882645101094\\end{matrix}\\right]$"
      ],
      "text/plain": [
       "                  ⎡     \\hat x     ⎤   ⎡-27.1349875580111 ⎤\n",
       "                  ⎢                ⎥   ⎢                  ⎥\n",
       "                  ⎢     \\hat y     ⎥   ⎢ 30.6244965594972 ⎥\n",
       "                  ⎢                ⎥   ⎢                  ⎥\n",
       "                  ⎢   \\hat \\psi    ⎥   ⎢ 1.89762440780832 ⎥\n",
       "predicted\\ₛₜₐₜₑ = ⎢                ⎥ = ⎢                  ⎥\n",
       "                  ⎢     \\hat v     ⎥   ⎢ 17.2305422926983 ⎥\n",
       "                  ⎢                ⎥   ⎢                  ⎥\n",
       "                  ⎢\\hat{\\dot{\\psi}}⎥   ⎢-0.249852051013261⎥\n",
       "                  ⎢                ⎥   ⎢                  ⎥\n",
       "                  ⎣     \\hat a     ⎦   ⎣ 5.10882645101094 ⎦"
      ]
     },
     "metadata": {},
     "output_type": "display_data"
    },
    {
     "name": "stdout",
     "output_type": "stream",
     "text": [
      "----------------------------------------------------------------------------------------------------\n"
     ]
    },
    {
     "data": {
      "text/latex": [
       "$\\displaystyle updated\\_{state} = \\left[\\begin{matrix}x\\\\y\\\\\\psi\\\\v\\\\\\dot\\psi\\\\a\\end{matrix}\\right] = \\left[\\begin{matrix}-27.5353989451235\\\\31.131869781891\\\\2.01456075281981\\\\16.5579733116502\\\\0.0566420352821705\\\\2.19846961246152\\end{matrix}\\right]$"
      ],
      "text/plain": [
       "                ⎡   x    ⎤   ⎡-27.5353989451235 ⎤\n",
       "                ⎢        ⎥   ⎢                  ⎥\n",
       "                ⎢   y    ⎥   ⎢ 31.131869781891  ⎥\n",
       "                ⎢        ⎥   ⎢                  ⎥\n",
       "                ⎢  \\psi  ⎥   ⎢ 2.01456075281981 ⎥\n",
       "updated\\ₛₜₐₜₑ = ⎢        ⎥ = ⎢                  ⎥\n",
       "                ⎢   v    ⎥   ⎢ 16.5579733116502 ⎥\n",
       "                ⎢        ⎥   ⎢                  ⎥\n",
       "                ⎢\\dot\\psi⎥   ⎢0.0566420352821705⎥\n",
       "                ⎢        ⎥   ⎢                  ⎥\n",
       "                ⎣   a    ⎦   ⎣ 2.19846961246152 ⎦"
      ]
     },
     "metadata": {},
     "output_type": "display_data"
    },
    {
     "name": "stdout",
     "output_type": "stream",
     "text": [
      "*Noise included\n",
      "----------------------------------------------------------------------------------------------------\n"
     ]
    },
    {
     "data": {
      "text/latex": [
       "$\\displaystyle - sensors\\_{std} \\leq noise \\leq sensors\\_{std} = \\left[\\begin{matrix}-1.5\\\\-1.5\\\\-0.02\\\\-1.0\\\\-0.1\\\\-0.5\\end{matrix}\\right] \\leq \\left[\\begin{matrix}1.391\\\\-1.0449\\\\0.0106\\\\0.9431\\\\0.0677\\\\0.3961\\end{matrix}\\right] \\leq \\left[\\begin{matrix}1.5\\\\1.5\\\\0.02\\\\1.0\\\\0.1\\\\0.5\\end{matrix}\\right]$"
      ],
      "text/plain": [
       "                                       ⎡-1.5 ⎤   ⎡ 1.391 ⎤   ⎡1.5 ⎤\n",
       "                                       ⎢     ⎥   ⎢       ⎥   ⎢    ⎥\n",
       "                                       ⎢-1.5 ⎥   ⎢-1.0449⎥   ⎢1.5 ⎥\n",
       "                                       ⎢     ⎥   ⎢       ⎥   ⎢    ⎥\n",
       "                                       ⎢-0.02⎥   ⎢0.0106 ⎥   ⎢0.02⎥\n",
       "-sensors\\_std ≤ noise ≤ sensors\\_std = ⎢     ⎥ ≤ ⎢       ⎥ ≤ ⎢    ⎥\n",
       "                                       ⎢-1.0 ⎥   ⎢0.9431 ⎥   ⎢1.0 ⎥\n",
       "                                       ⎢     ⎥   ⎢       ⎥   ⎢    ⎥\n",
       "                                       ⎢-0.1 ⎥   ⎢0.0677 ⎥   ⎢0.1 ⎥\n",
       "                                       ⎢     ⎥   ⎢       ⎥   ⎢    ⎥\n",
       "                                       ⎣-0.5 ⎦   ⎣0.3961 ⎦   ⎣0.5 ⎦"
      ]
     },
     "metadata": {},
     "output_type": "display_data"
    },
    {
     "name": "stdout",
     "output_type": "stream",
     "text": [
      "====================================================================================================\n"
     ]
    }
   ],
   "source": [
    "import numpy as np\n",
    "from numpy.random import default_rng\n",
    "from sympy import Matrix, Eq, Le, Ge, symbols, init_printing\n",
    "from copy import deepcopy\n",
    "from IPython.display import display\n",
    "\n",
    "init_printing()\n",
    "\n",
    "STATE_SIZE = 6 # States\n",
    "STATE_X_IDX, STATE_Y_IDX, STATE_YAW_IDX, STATE_VELOCITY_IDX, STATE_YAW_RATE_IDX, STATE_ACCELERATION_IDX = range(STATE_SIZE)\n",
    "\n",
    "# Generated running the loop with correction commented, just with prediction\n",
    "measurement_mock = np.array([\n",
    "    [4.0, -2.0, 1.5707963267948966, 5.0, 0.4487989505128276, 4.0],\n",
    "    [3.7538, 0.4616, 1.761, 6.6948, 0.4488, 4.0],\n",
    "    [2.8449, 3.5203, 1.9512, 8.3896, 0.4488, 4.0],\n",
    "    [1.0564, 6.6834, 2.2174, 8.8133, 0.6283, 1.0],\n",
    "    [-1.627, 9.3919, 2.4836, 9.237, 0.6283, 1.0],\n",
    "    [-5.0039, 11.3473, 2.7498, 9.237, 0.6283, 0.0],\n",
    "    [-8.7762, 12.3455, 3.016, 9.237, 0.6283, 0.0],\n",
    "    [-12.7749, 13.1978, 2.8496, 10.0844, -0.3927, 2.0],\n",
    "    [-16.9109, 14.8321, 2.6832, 10.9318, -0.3927, 2.0],\n",
    "    [-20.7895, 17.6414, 2.3504, 11.7792, -0.7854, 2.0],\n",
    "    [-23.7432, 21.856, 2.0176, 12.6266, -0.7854, 2.0],\n",
    "    [-26.3263, 27.2473, 2.0176, 15.5925, 0.0, 7.0],\n",
    "    [-29.1809, 33.2053, 2.0176, 15.5925, 0.0, 0],\n",
    "])\n",
    "\n",
    "noises_mock = np.array([\n",
    "    [-1.044, 1.0289, -0.0145, 0.9013, -0.0183, 0.0579],\n",
    "    [0.7317, 0.8656, 0.0095, -0.5005, 0.0835, -0.4629],\n",
    "    [-0.0571, -1.0837, -0.0015, 0.4288, -0.0634, -0.0808],\n",
    "    [-0.5773, -1.1117, -0.0182, -0.778, 0.0696, -0.4022],\n",
    "    [0.8567, 1.2855, 0.0112, -0.2399, 0.0904, -0.3941],\n",
    "    [-0.8416, 0.1583, 0.0063, -0.6525, 0.084, -0.3697],\n",
    "    [1.1896, -0.95, 0.0111, 0.4016, 0.0349, -0.1406],\n",
    "    [0.5857, -0.9672, -0.0158, 0.3913, -0.0223, 0.2368],\n",
    "    [-0.5729, -0.5062, 0.0078, -0.6339, -0.0688, 0.1991],\n",
    "    [0.2298, 0.2873, -0.0159, 0.0898, -0.0375, -0.3652],\n",
    "    [-0.2236, 0.5324, -0.0147, -0.1144, 0.0552, 0.3881],\n",
    "    [0.6675, -0.5955, 0.018, 0.6145, -0.0493, -0.0704],\n",
    "    [1.391, -1.0449, 0.0106, 0.9431, 0.0677, 0.3961],\n",
    "])\n",
    "\n",
    "def predict(x, P, dt):\n",
    "    noise_pos     = 0.5*8.8*dt**2  # assume 8.8m/s2 as maximum acceleration, forcing the vehicle\n",
    "    noise_course  = 0.1*dt # assume 0.1rad/s as maximum turn rate for the vehicle\n",
    "    noise_velocity= 8.8*dt # assume 8.8m/s2 as maximum acceleration, forcing the vehicle\n",
    "    noise_yawrate = 1.0*dt # assume 1.0rad/s2 as the maximum turn rate acceleration for the vehicle\n",
    "    noise_accel   = 0.5 # assume 0.5m/s2\n",
    "\n",
    "    # TODO: Can be improved and calibratred\n",
    "    Q = np.diag([noise_pos**2, noise_pos**2, noise_course**2, noise_velocity**2, noise_yawrate**2, noise_accel**2])\n",
    "\n",
    "    if np.abs(x[STATE_YAW_RATE_IDX]) < 0.00001: # Driving straight\n",
    "        x[STATE_YAW_RATE_IDX] = 0.00001\n",
    "\n",
    "    x[STATE_X_IDX] = x[STATE_X_IDX] + (1 / x[STATE_YAW_RATE_IDX]**2) * \\\n",
    "        ( \\\n",
    "            (x[STATE_VELOCITY_IDX]*x[STATE_YAW_RATE_IDX] + x[STATE_ACCELERATION_IDX] * x[STATE_YAW_RATE_IDX] * dt) * np.sin(x[STATE_YAW_IDX] + x[STATE_YAW_RATE_IDX]* dt) \\\n",
    "            + x[STATE_ACCELERATION_IDX] * np.cos(x[STATE_YAW_IDX] + x[STATE_YAW_RATE_IDX] * dt) \\\n",
    "            - x[STATE_VELOCITY_IDX] * x[STATE_YAW_RATE_IDX] * np.sin(x[STATE_YAW_IDX]) - x[STATE_ACCELERATION_IDX] * np.cos(x[STATE_YAW_IDX]) \\\n",
    "        )\n",
    "\n",
    "    x[STATE_Y_IDX] = x[STATE_Y_IDX] + (1 / x[STATE_YAW_RATE_IDX]**2) * \\\n",
    "        ( \\\n",
    "            (-x[STATE_VELOCITY_IDX]*x[STATE_YAW_RATE_IDX] - x[STATE_ACCELERATION_IDX] * x[STATE_YAW_RATE_IDX] * dt) * np.cos(x[STATE_YAW_IDX] + x[STATE_YAW_RATE_IDX]* dt) \\\n",
    "            + x[STATE_ACCELERATION_IDX] * np.sin(x[STATE_YAW_IDX] + x[STATE_YAW_RATE_IDX] * dt) \\\n",
    "            + x[STATE_VELOCITY_IDX] * x[STATE_YAW_RATE_IDX] * np.cos(x[STATE_YAW_IDX]) - x[STATE_ACCELERATION_IDX] * np.sin(x[STATE_YAW_IDX]) \\\n",
    "        )\n",
    "\n",
    "    x[STATE_YAW_IDX] = (x[STATE_YAW_IDX] + x[STATE_YAW_RATE_IDX] * dt + np.pi) % (2.0 * np.pi) - np.pi\n",
    "    x[STATE_VELOCITY_IDX] = x[STATE_VELOCITY_IDX] + x[STATE_ACCELERATION_IDX] * dt \n",
    "    x[STATE_YAW_RATE_IDX] = x[STATE_YAW_RATE_IDX]\n",
    "    x[STATE_ACCELERATION_IDX] = x[STATE_ACCELERATION_IDX]\n",
    "\n",
    "    # Calculate the Jacobian of the Dynamic Matrix A\n",
    "    a13 = ( \\\n",
    "      (-x[STATE_YAW_RATE_IDX]*x[STATE_VELOCITY_IDX]*np.cos(x[STATE_YAW_IDX]) + x[STATE_ACCELERATION_IDX]*np.sin(x[STATE_YAW_IDX]) \\\n",
    "      - x[STATE_ACCELERATION_IDX]*np.sin(dt*x[STATE_YAW_RATE_IDX] + x[STATE_YAW_IDX]) + (dt*x[STATE_YAW_RATE_IDX]*x[STATE_ACCELERATION_IDX] + x[STATE_YAW_RATE_IDX]*x[STATE_VELOCITY_IDX])*np.cos(dt*x[STATE_YAW_RATE_IDX] \\\n",
    "      + x[STATE_YAW_IDX]))/x[STATE_YAW_RATE_IDX]**2 \\\n",
    "    ).item(0)\n",
    "\n",
    "    a14 = ( \\\n",
    "      (-x[STATE_YAW_RATE_IDX]*np.sin(x[STATE_YAW_IDX]) + x[STATE_YAW_RATE_IDX]*np.sin(dt*x[STATE_YAW_RATE_IDX] + x[STATE_YAW_IDX]))/x[STATE_YAW_RATE_IDX]**2 \\\n",
    "    ).item(0)\n",
    "\n",
    "    a15 = ( \\\n",
    "      ( \\\n",
    "        -dt*x[STATE_ACCELERATION_IDX]*np.sin(dt*x[STATE_YAW_RATE_IDX] + x[STATE_YAW_IDX]) + dt*(dt*x[STATE_YAW_RATE_IDX]*x[STATE_ACCELERATION_IDX] + x[STATE_YAW_RATE_IDX]*x[STATE_VELOCITY_IDX]) \\\n",
    "        * np.cos(dt*x[STATE_YAW_RATE_IDX] + x[STATE_YAW_IDX]) - x[STATE_VELOCITY_IDX]*np.sin(x[STATE_YAW_IDX]) + (dt*x[STATE_ACCELERATION_IDX] + x[STATE_VELOCITY_IDX]) \\\n",
    "        * np.sin(dt*x[STATE_YAW_RATE_IDX] + x[STATE_YAW_IDX]) \\\n",
    "      ) / x[STATE_YAW_RATE_IDX]**2 \\\n",
    "      - 2*( \\\n",
    "        -x[STATE_YAW_RATE_IDX]*x[STATE_VELOCITY_IDX]*np.sin(x[STATE_YAW_IDX]) - x[STATE_ACCELERATION_IDX] \\\n",
    "        * np.cos(x[STATE_YAW_IDX]) + x[STATE_ACCELERATION_IDX]*np.cos(dt*x[STATE_YAW_RATE_IDX] + x[STATE_YAW_IDX]) + (dt*x[STATE_YAW_RATE_IDX]*x[STATE_ACCELERATION_IDX] + x[STATE_YAW_RATE_IDX]*x[STATE_VELOCITY_IDX]) \\\n",
    "        * np.sin(dt*x[STATE_YAW_RATE_IDX] + x[STATE_YAW_IDX]) \\\n",
    "      ) / x[STATE_YAW_RATE_IDX]**3 \\\n",
    "    ).item(0)\n",
    "\n",
    "    a16 = ( \\\n",
    "      (dt*x[STATE_YAW_RATE_IDX]*np.sin(dt*x[STATE_YAW_RATE_IDX] + x[STATE_YAW_IDX]) - np.cos(x[STATE_YAW_IDX]) + np.cos(dt * x[STATE_YAW_RATE_IDX] + x[STATE_YAW_IDX]))/x[STATE_YAW_RATE_IDX]**2 \\\n",
    "    ).item(0)\n",
    "\n",
    "    a23 = ( \\\n",
    "      ( \\\n",
    "        -x[STATE_YAW_RATE_IDX] * x[STATE_VELOCITY_IDX] * np.sin(x[STATE_YAW_IDX]) - x[STATE_ACCELERATION_IDX] * np.cos(x[STATE_YAW_IDX]) + x[STATE_ACCELERATION_IDX] * np.cos(dt * x[STATE_YAW_RATE_IDX] + x[STATE_YAW_IDX]) \\\n",
    "        - (-dt * x[STATE_YAW_RATE_IDX]*x[STATE_ACCELERATION_IDX] - x[STATE_YAW_RATE_IDX] * x[STATE_VELOCITY_IDX]) * np.sin(dt * x[STATE_YAW_RATE_IDX] + x[STATE_YAW_IDX]) \\\n",
    "      ) / x[STATE_YAW_RATE_IDX]**2 \\\n",
    "    ).item(0)\n",
    "\n",
    "    a24 = ( \\\n",
    "      (x[STATE_YAW_RATE_IDX] * np.cos(x[STATE_YAW_IDX]) - x[STATE_YAW_RATE_IDX]*np.cos(dt*x[STATE_YAW_RATE_IDX] + x[STATE_YAW_IDX]))/x[STATE_YAW_RATE_IDX]**2 \\\n",
    "    ).item(0)\n",
    "\n",
    "    a25 = ( \\\n",
    "      ( \\\n",
    "        dt * x[STATE_ACCELERATION_IDX]*np.cos(dt*x[STATE_YAW_RATE_IDX] + x[STATE_YAW_IDX]) - dt * (-dt*x[STATE_YAW_RATE_IDX]*x[STATE_ACCELERATION_IDX] - x[STATE_YAW_RATE_IDX] * x[STATE_VELOCITY_IDX]) \\\n",
    "        * np.sin(dt * x[STATE_YAW_RATE_IDX] + x[STATE_YAW_IDX]) + x[STATE_VELOCITY_IDX]*np.cos(x[STATE_YAW_IDX]) + (-dt*x[STATE_ACCELERATION_IDX] - x[STATE_VELOCITY_IDX])*np.cos(dt*x[STATE_YAW_RATE_IDX] + x[STATE_YAW_IDX]) \\\n",
    "      ) / x[STATE_YAW_RATE_IDX]**2 \\\n",
    "      - 2*( \\\n",
    "        x[STATE_YAW_RATE_IDX]*x[STATE_VELOCITY_IDX]*np.cos(x[STATE_YAW_IDX]) - x[STATE_ACCELERATION_IDX] * np.sin(x[STATE_YAW_IDX]) + x[STATE_ACCELERATION_IDX] * np.sin(dt*x[STATE_YAW_RATE_IDX] + x[STATE_YAW_IDX]) \\\n",
    "        + (-dt * x[STATE_YAW_RATE_IDX] * x[STATE_ACCELERATION_IDX] - x[STATE_YAW_RATE_IDX] * x[STATE_VELOCITY_IDX])*np.cos(dt*x[STATE_YAW_RATE_IDX] + x[STATE_YAW_IDX]) \\\n",
    "      ) / x[STATE_YAW_RATE_IDX]**3 \\\n",
    "    ).item(0)\n",
    "\n",
    "    a26 = ( \\\n",
    "      (-dt*x[STATE_YAW_RATE_IDX]*np.cos(dt*x[STATE_YAW_RATE_IDX] + x[STATE_YAW_IDX]) - np.sin(x[STATE_YAW_IDX]) + np.sin(dt*x[STATE_YAW_RATE_IDX] + x[STATE_YAW_IDX]))/x[STATE_YAW_RATE_IDX]**2 \\\n",
    "    ).item(0)\n",
    "      \n",
    "    JA = np.matrix([[1.0, 0.0, a13, a14, a15, a16],\n",
    "                    [0.0, 1.0, a23, a24, a25, a26],\n",
    "                    [0.0, 0.0, 1.0, 0.0, dt, 0.0],\n",
    "                    [0.0, 0.0, 0.0, 1.0, 0.0, dt],\n",
    "                    [0.0, 0.0, 0.0, 0.0, 1.0, 0.0],\n",
    "                    [0.0, 0.0, 0.0, 0.0, 0.0, 1.0]])\n",
    "  \n",
    "    # Project the error covariance ahead\n",
    "    P = JA*P*JA.T + Q\n",
    "\n",
    "    return x, P\n",
    "\n",
    "\n",
    "def correct(measurement, x, P, R):\n",
    "    hx = x.copy()  # Not making any transformation and considering all the atributes are being measured\n",
    "\n",
    "    # Identity because is assumed that for each attribute in state there exists a respective measurement attribute\n",
    "    JH = np.eye(hx.shape[0])\n",
    "\n",
    "    S = JH*P*JH.T + R\n",
    "    K = (P*JH.T) * np.linalg.inv(S)\n",
    "\n",
    "    # Update the estimate via\n",
    "    Z = measurement.reshape(JH.shape[0], 1)\n",
    "    y = Z - hx  # Innovation or Residual\n",
    "    x = x + K*y\n",
    "\n",
    "    # Update the error covariance\n",
    "    P = (np.eye(STATE_SIZE) - K*JH)*P\n",
    "            \n",
    "    # TODO: Remove in main C++ code\n",
    "    x0.append(float(x[0]))\n",
    "    x1.append(float(x[1]))\n",
    "    x2.append(float(x[2]))\n",
    "    x3.append(float(x[3]))\n",
    "    x4.append(float(x[4]))\n",
    "    x5.append(float(x[5]))\n",
    "    Zx.append(float(Z[0]))\n",
    "    Zy.append(float(Z[1]))    \n",
    "    Px.append(float(P[0,0]))\n",
    "    Py.append(float(P[1,1]))\n",
    "    Pdx.append(float(P[2,2]))\n",
    "    Pdy.append(float(P[3,3]))\n",
    "    Pddx.append(float(P[4,4]))\n",
    "    Pdv.append(float(P[5,5]))\n",
    "    Kx.append(float(K[0,0]))\n",
    "    Ky.append(float(K[1,0]))\n",
    "    Kdx.append(float(K[2,0]))\n",
    "    Kdy.append(float(K[3,0]))\n",
    "    Kddx.append(float(K[4,0]))\n",
    "    Kdv.append(float(K[5,0]))\n",
    "\n",
    "    return x, P\n",
    "\n",
    "if __name__ == '__main__':\n",
    "    P = np.diag([10.0, 10.0, 10.0, 10.0, 10.0, 10.0])\n",
    "    \n",
    "    std_pos = 1.5 # standard deviation of positioning measurements\n",
    "    std_speed = 1.0 # standard deviation of the speed measurements\n",
    "    std_yawrate = 0.1 # standard deviation of the yawrate measurements\n",
    "    std_yaw = 0.02 # standard deviation of the yaw measurements\n",
    "    std_acc = 0.5 # standard deviation of the longitudinal acceleration\n",
    "\n",
    "    R = np.diag([std_pos**2, std_pos**2, std_yaw**2, std_speed**2, std_yawrate**2, std_acc**2])\n",
    "\n",
    "    initial_state = np.array([[4, -2, np.pi/2, 5, np.pi/7, 4]], dtype='float64').T\n",
    "    x = deepcopy(initial_state)\n",
    "      \n",
    "    random_generator = default_rng()\n",
    "    \n",
    "#     dts = [random_generator.random() for _ in measurement_mock]\n",
    "#     dts = [np.round(dt, 4) for dt in dts]\n",
    "#     print(dts)\n",
    "    dts = (0.4571, 0.5364, 0.1067, 0.5539, 0.0843, 0.0452, 0.017, 0.1824, 0.5568, 0.9355, 0.2909, 0.1086, 0.4237)\n",
    "    \n",
    "    measurements = deepcopy(measurement_mock)\n",
    "    \n",
    "    all_noises, all_states, all_ps = [], [], []\n",
    "\n",
    "    # for i, (measurement, dt) in enumerate(zip(measurements, dts), 1):\n",
    "    for i, (measurement, noises, dt) in enumerate(zip(measurements, noises_mock, dts), 1):\n",
    "        sensors_std = np.array([std_pos, std_pos, std_yaw, std_speed, std_yawrate, std_acc])\n",
    "        \n",
    "        # Adding noise\n",
    "#         noises = (random_generator.random() for _ in sensors_std)\n",
    "#         noises = np.array([n * 2*std - std for std, n in zip(sensors_std, noises)])  # Putting noises in std range\n",
    "        measurement += noises\n",
    "        all_noises.append(noises)\n",
    "        \n",
    "        x_noisy_measurement.append(measurement[STATE_X_IDX])\n",
    "        y_noisy_measurement.append(measurement[STATE_Y_IDX])\n",
    "    \n",
    "        x_old = deepcopy(x)\n",
    "       \n",
    "        x, P = predict(x, P, dt)\n",
    "        predicted_state = deepcopy(x)\n",
    "\n",
    "        x, P = correct(measurement, x, P, R)\n",
    "\n",
    "        log_state_and_noises(i, state, predicted_state, noises, dt)\n",
    "        all_states.append(x)\n",
    "        all_ps.append(P)\n",
    "        \n",
    "        x_predicted.append(predicted_state[STATE_X_IDX])\n",
    "        y_predicted.append(predicted_state[STATE_Y_IDX])\n",
    "        "
   ]
  },
  {
   "cell_type": "code",
   "execution_count": 4,
   "id": "velvet-replacement",
   "metadata": {},
   "outputs": [
    {
     "name": "stdout",
     "output_type": "stream",
     "text": [
      "Noises:\n",
      "[-1.044, 1.0289, -0.0145, 0.9013, -0.0183, 0.0579],\n",
      "[0.7317, 0.8656, 0.0095, -0.5005, 0.0835, -0.4629],\n",
      "[-0.0571, -1.0837, -0.0015, 0.4288, -0.0634, -0.0808],\n",
      "[-0.5773, -1.1117, -0.0182, -0.778, 0.0696, -0.4022],\n",
      "[0.8567, 1.2855, 0.0112, -0.2399, 0.0904, -0.3941],\n",
      "[-0.8416, 0.1583, 0.0063, -0.6525, 0.084, -0.3697],\n",
      "[1.1896, -0.95, 0.0111, 0.4016, 0.0349, -0.1406],\n",
      "[0.5857, -0.9672, -0.0158, 0.3913, -0.0223, 0.2368],\n",
      "[-0.5729, -0.5062, 0.0078, -0.6339, -0.0688, 0.1991],\n",
      "[0.2298, 0.2873, -0.0159, 0.0898, -0.0375, -0.3652],\n",
      "[-0.2236, 0.5324, -0.0147, -0.1144, 0.0552, 0.3881],\n",
      "[0.6675, -0.5955, 0.018, 0.6145, -0.0493, -0.0704],\n",
      "[1.391, -1.0449, 0.0106, 0.9431, 0.0677, 0.3961],\n",
      "----------------------------------------------------------------------------------------------------\n",
      "Saved states:\n",
      "[2.8196, 3.039, 1.7868, 8.0959, 0.4293, 4.0523],\n",
      "[3.7054, 2.6077, 1.8279, 6.6559, 0.5284, 3.7028],\n",
      "[1.0515, 7.0898, 2.1607, 10.1888, 0.4754, 3.8435],\n",
      "[0.3546, 6.7265, 2.2552, 8.2551, 0.6918, 1.8312],\n",
      "[-0.435, 8.3574, 2.423, 8.7766, 0.7914, 1.0772],\n",
      "[-2.0529, 9.2134, 2.5667, 8.741, 0.8727, 0.1834],\n",
      "[-4.8242, 10.2031, 2.8661, 9.0544, 0.926, -0.0156],\n",
      "[-11.7483, 12.5645, 2.7676, 10.9566, -0.1282, 1.3827],\n",
      "[-22.9753, 19.9938, 2.2721, 12.1246, -0.4529, 1.898],\n",
      "[-22.974, 20.9738, 2.0948, 12.3733, -0.8184, 1.7311],\n",
      "[-23.9533, 22.9615, 1.9373, 12.7464, -0.7495, 2.1385],\n",
      "[-27.135, 30.6245, 1.8976, 17.2305, -0.2499, 5.1088],\n",
      "[-27.5354, 31.1319, 2.0146, 16.558, 0.0566, 2.1985],\n",
      "----------------------------------------------------------------------------------------------------\n",
      "Saved Ps:\n",
      "[1.8709, -0.0089, -0.0002, -0.0079, 0.0012, -0.0004, -0.0089, 1.8958, -0.0001, 0.025, 0.0004, 0.0009, -0.0002, -0.0001, 0.0004, 0.0, 0.0, -0.0, -0.0079, 0.025, 0.0, 0.9614, 0.0, 0.0039, 0.0012, 0.0004, 0.0, 0.0, 0.01, 0.0, -0.0004, 0.0009, -0.0, 0.0039, 0.0, 0.2436],\n",
      "[1.3721, -0.0138, -0.0002, -0.0028, -0.0001, -0.0016, -0.0138, 1.408, -0.0001, 0.008, -0.0, 0.0041, -0.0002, -0.0001, 0.0004, 0.0, 0.0, -0.0, -0.0028, 0.008, 0.0, 0.9587, 0.0, 0.0018, -0.0001, -0.0, 0.0, 0.0, 0.0097, 0.0, -0.0016, 0.0041, -0.0, 0.0018, 0.0, 0.1658],\n",
      "[0.8536, -0.0061, -0.0001, -0.0068, 0.0, -0.0004, -0.0061, 0.8699, -0.0, 0.023, 0.0, 0.001, -0.0001, -0.0, 0.0002, 0.0, 0.0001, -0.0, -0.0068, 0.023, 0.0, 0.6477, -0.0, 0.0026, 0.0, 0.0, 0.0001, -0.0, 0.0067, 0.0, -0.0004, 0.001, -0.0, 0.0026, 0.0, 0.1561],\n",
      "[1.2427, -0.0205, -0.0002, -0.0043, -0.0001, -0.0028, -0.0205, 1.2531, -0.0002, 0.0051, -0.0001, 0.003, -0.0002, -0.0002, 0.0004, 0.0, 0.0, -0.0, -0.0043, 0.0051, 0.0, 0.9607, 0.0, 0.0013, -0.0001, -0.0001, 0.0, 0.0, 0.0097, 0.0, -0.0028, 0.003, -0.0, 0.0013, 0.0, 0.1547],\n",
      "[0.8018, -0.0094, -0.0001, -0.0146, 0.0, -0.0007, -0.0094, 0.8064, -0.0001, 0.0169, 0.0, 0.0008, -0.0001, -0.0001, 0.0002, 0.0, 0.0001, -0.0, -0.0146, 0.0169, 0.0, 0.6016, -0.0, 0.0022, 0.0, 0.0, 0.0001, -0.0, 0.0062, 0.0, -0.0007, 0.0008, -0.0, 0.0022, 0.0, 0.1545],\n",
      "[0.5917, -0.0056, -0.0001, -0.0148, 0.0, -0.0002, -0.0056, 0.5941, -0.0001, 0.0144, 0.0, 0.0002, -0.0001, -0.0001, 0.0002, -0.0, 0.0001, -0.0, -0.0148, 0.0144, -0.0, 0.4316, 0.0, 0.002, 0.0, 0.0, 0.0001, 0.0, 0.0044, 0.0, -0.0002, 0.0002, -0.0, 0.002, 0.0, 0.1545],\n",
      "[0.4686, -0.0036, -0.0001, -0.0114, 0.0, -0.0001, -0.0036, 0.4701, -0.0001, 0.0099, 0.0, 0.0001, -0.0001, -0.0001, 0.0001, -0.0, 0.0001, -0.0, -0.0114, 0.0099, -0.0, 0.3121, 0.0, 0.0012, 0.0, 0.0, 0.0001, 0.0, 0.0032, 0.0, -0.0001, 0.0001, -0.0, 0.0012, 0.0, 0.1545],\n",
      "[0.4111, -0.0048, -0.0, -0.0142, -0.0, -0.0007, -0.0048, 0.4043, -0.0001, 0.0043, -0.0001, 0.0001, -0.0, -0.0001, 0.0002, 0.0, 0.0001, -0.0, -0.0142, 0.0043, 0.0, 0.743, 0.0, 0.0029, -0.0, -0.0001, 0.0001, 0.0, 0.0078, 0.0, -0.0007, 0.0001, -0.0, 0.0029, 0.0, 0.1545],\n",
      "[1.1794, -0.0198, -0.0001, -0.0074, -0.0, -0.0041, -0.0198, 1.1422, -0.0003, 0.0032, -0.0001, 0.0018, -0.0001, -0.0003, 0.0004, -0.0, 0.0, -0.0, -0.0074, 0.0032, -0.0, 0.9612, -0.0, 0.0013, -0.0, -0.0001, 0.0, -0.0, 0.0097, -0.0, -0.0041, 0.0018, -0.0, 0.0013, -0.0, 0.1544],\n",
      "[1.978, -0.0043, -0.0001, -0.0008, -0.0, -0.0014, -0.0043, 1.9823, -0.0001, 0.0014, -0.0, 0.0028, -0.0001, -0.0001, 0.0004, -0.0, 0.0, -0.0, -0.0008, 0.0014, -0.0, 0.9857, -0.0, 0.0008, -0.0, -0.0, 0.0, -0.0, 0.0099, -0.0, -0.0014, 0.0028, -0.0, 0.0008, -0.0, 0.1544],\n",
      "[1.0948, -0.0077, -0.0002, -0.0068, -0.0001, -0.0006, -0.0077, 1.1084, -0.0001, 0.0158, -0.0, 0.0015, -0.0002, -0.0001, 0.0003, -0.0, 0.0, -0.0, -0.0068, 0.0158, -0.0, 0.8828, -0.0, 0.002, -0.0001, -0.0, 0.0, -0.0, 0.009, -0.0, -0.0006, 0.0015, -0.0, 0.002, -0.0, 0.1545],\n",
      "[0.7384, -0.0047, -0.0002, -0.0089, 0.0, -0.0002, -0.0047, 0.7476, -0.0001, 0.0255, 0.0, 0.0005, -0.0002, -0.0001, 0.0002, 0.0, 0.0001, -0.0, -0.0089, 0.0255, 0.0, 0.6421, -0.0, 0.0026, 0.0, 0.0, 0.0001, -0.0, 0.0066, -0.0, -0.0002, 0.0005, -0.0, 0.0026, -0.0, 0.1545],\n",
      "[0.8611, -0.0125, -0.0005, -0.0032, -0.0002, -0.0008, -0.0125, 0.8986, -0.0001, 0.0112, -0.0001, 0.0031, -0.0005, -0.0001, 0.0004, -0.0, 0.0, 0.0, -0.0032, 0.0112, -0.0, 0.9357, -0.0, 0.0016, -0.0002, -0.0001, 0.0, -0.0, 0.0095, -0.0, -0.0008, 0.0031, 0.0, 0.0016, -0.0, 0.1545],\n",
      "[[3.0, 3.0, 2.0, 8.0, 0.0, 4.0]]\n"
     ]
    }
   ],
   "source": [
    "# Saved info copy and paste friendly\n",
    "\n",
    "print(\"Noises:\")\n",
    "for noises in all_noises:\n",
    "    noises = np.round(noises, 4).tolist()\n",
    "    print(str(noises) + ',')\n",
    "print('-'*100)\n",
    "print(\"Saved states:\")\n",
    "for state in all_states:\n",
    "    state = np.round(state.T, 4).tolist()\n",
    "    print(str(state[0]) + ',')\n",
    "print('-'*100)\n",
    "print(\"Saved Ps:\")\n",
    "for ps in all_ps:\n",
    "    ps = np.round(ps.reshape(-1), 4).tolist()\n",
    "    print(str(ps[0]) + ',')\n",
    "\n",
    "print(np.round(all_states[0]).reshape(-1).tolist())"
   ]
  },
  {
   "cell_type": "code",
   "execution_count": 5,
   "id": "korean-zoning",
   "metadata": {},
   "outputs": [
    {
     "name": "stdout",
     "output_type": "stream",
     "text": [
      "# Copy and paste as content of 'mock' array\n",
      "[4.0, -2.0, 1.5707963267948966, 5.0, 0.4487989505128276, 4.0],\n",
      "[3.7538, 0.4616, 1.761, 6.6948, 0.4488, 4.0],\n",
      "[2.8449, 3.5203, 1.9512, 8.3896, 0.4488, 4.0],\n",
      "[1.0564, 6.6834, 2.2174, 8.8133, 0.6283, 1.0],\n",
      "[-1.627, 9.3919, 2.4836, 9.237, 0.6283, 1.0],\n",
      "[-5.0039, 11.3473, 2.7498, 9.237, 0.6283, 0.0],\n",
      "[-8.7762, 12.3455, 3.016, 9.237, 0.6283, 0.0],\n",
      "[-12.7749, 13.1978, 2.8496, 10.0844, -0.3927, 2.0],\n",
      "[-16.9109, 14.8321, 2.6832, 10.9318, -0.3927, 2.0],\n",
      "[-20.7895, 17.6414, 2.3504, 11.7792, -0.7854, 2.0],\n",
      "[-23.7432, 21.856, 2.0176, 12.6266, -0.7854, 2.0],\n",
      "[-26.3263, 27.2473, 2.0176, 15.5925, 0.0, 7.0],\n",
      "[-29.1809, 33.2053, 2.0176, 15.5925, 0.0, 0.0],\n"
     ]
    }
   ],
   "source": [
    "# Used to generate the measurements_mock array used previously\n",
    "def generate_mock(initial_state, dts):\n",
    "    x = list(initial_state.T[0])\n",
    "    P = np.diag([10.0, 10.0, 10.0, 10.0, 10.0, 10.0])\n",
    "\n",
    "    print(\"# Copy and paste as content of 'mock' array\")\n",
    "    print(str(x) + ',')\n",
    "    for i, _ in enumerate(dts, 1):\n",
    "        if i == 3:\n",
    "            x[STATE_ACCELERATION_IDX] -= 3\n",
    "            x[STATE_YAW_RATE_IDX] = np.pi/5\n",
    "        elif i == 5:\n",
    "            x[STATE_ACCELERATION_IDX] -= 1\n",
    "        elif i == 7:\n",
    "            x[STATE_ACCELERATION_IDX] += 2\n",
    "            x[STATE_YAW_RATE_IDX] = -np.pi/8\n",
    "        elif i == 9:\n",
    "            x[STATE_YAW_RATE_IDX] = -np.pi/4\n",
    "        elif i == 11:\n",
    "            x[STATE_ACCELERATION_IDX] += 5\n",
    "            x[STATE_YAW_RATE_IDX] = 0\n",
    "        elif i == 12:\n",
    "            x[STATE_ACCELERATION_IDX] = 0\n",
    "            x[STATE_YAW_RATE_IDX] = 0\n",
    "\n",
    "        x, P = predict(x, P, dt)\n",
    "\n",
    "        if i < len(dts):\n",
    "            x = np.round(x, 4)\n",
    "            print(str(list(x)) + ',')\n",
    "        \n",
    "generate_mock(initial_state, dts)"
   ]
  },
  {
   "cell_type": "markdown",
   "id": "hindu-necklace",
   "metadata": {},
   "source": [
    "## Plots"
   ]
  },
  {
   "cell_type": "code",
   "execution_count": 6,
   "id": "juvenile-contrast",
   "metadata": {},
   "outputs": [],
   "source": [
    "import matplotlib.pyplot as plt\n",
    "%matplotlib inline\n",
    "\n",
    "m = len(measurement_mock)"
   ]
  },
  {
   "cell_type": "markdown",
   "id": "radical-officer",
   "metadata": {},
   "source": [
    "### Kalman Gain"
   ]
  },
  {
   "cell_type": "code",
   "execution_count": 7,
   "id": "unauthorized-congo",
   "metadata": {},
   "outputs": [
    {
     "data": {
      "image/png": "[encoded data removed]",
      "text/plain": [
       "<Figure size 1152x648 with 1 Axes>"
      ]
     },
     "metadata": {
      "needs_background": "light"
     },
     "output_type": "display_data"
    }
   ],
   "source": [
    "fig = plt.figure(figsize=(16,9))\n",
    "plt.step(range(m),Kx, label='$x$')\n",
    "plt.step(range(m),Ky, label='$y$')\n",
    "plt.step(range(m),Kdx, label='$\\psi$')\n",
    "plt.step(range(m),Kdy, label='$v$')\n",
    "\n",
    "\n",
    "plt.xlabel('Filter Step')\n",
    "plt.ylabel('')\n",
    "plt.title('Kalman Gain (the lower, the more the measurement fullfill the prediction)')\n",
    "plt.legend(prop={'size':18})\n",
    "plt.ylim([-0.2,0.2]);"
   ]
  },
  {
   "cell_type": "markdown",
   "id": "breeding-license",
   "metadata": {},
   "source": [
    "### Uncertainties"
   ]
  },
  {
   "cell_type": "code",
   "execution_count": 8,
   "id": "adjusted-funds",
   "metadata": {},
   "outputs": [
    {
     "data": {
      "text/plain": [
       "<matplotlib.legend.Legend at 0x7faa691319e8>"
      ]
     },
     "execution_count": 8,
     "metadata": {},
     "output_type": "execute_result"
    },
    {
     "data": {
      "image/png": "[encoded data removed]",
      "text/plain": [
       "<Figure size 1152x648 with 1 Axes>"
      ]
     },
     "metadata": {
      "needs_background": "light"
     },
     "output_type": "display_data"
    }
   ],
   "source": [
    "\n",
    "fig = plt.figure(figsize=(16,9))\n",
    "plt.semilogy(range(m),Px, label='$x$')\n",
    "plt.step(range(m),Py, label='$y$')\n",
    "plt.step(range(m),Pdx, label='$\\psi$')\n",
    "plt.step(range(m),Pdy, label='$v$')\n",
    "plt.step(range(m),Pddx, label='$\\dot \\psi$')\n",
    "\n",
    "plt.xlabel('Filter Step')\n",
    "plt.ylabel('')\n",
    "plt.title('Uncertainty (Elements from Matrix $P$)')\n",
    "plt.legend(loc='best',prop={'size':22})"
   ]
  },
  {
   "cell_type": "markdown",
   "id": "dying-duration",
   "metadata": {},
   "source": [
    "### Position x/y"
   ]
  },
  {
   "cell_type": "code",
   "execution_count": 9,
   "id": "brilliant-shade",
   "metadata": {},
   "outputs": [
    {
     "data": {
      "image/png": "[encoded data removed]",
      "text/plain": [
       "<Figure size 864x648 with 1 Axes>"
      ]
     },
     "metadata": {
      "needs_background": "light"
     },
     "output_type": "display_data"
    }
   ],
   "source": [
    "fig = plt.figure(figsize=(12,9))\n",
    "\n",
    "x_measurement, y_measurement = measurement_mock[:, STATE_X_IDX], measurement_mock[:, STATE_Y_IDX]\n",
    "x_noisy_measurement, y_noisy_measurement, x_predicted, y_predicted = np.array(\n",
    "    [x_noisy_measurement, y_noisy_measurement, x_predicted, y_predicted],\n",
    "    dtype='float64'\n",
    ")\n",
    "\n",
    "plt.plot(x0, x1, label='EKF', c='g', lw=3)\n",
    "plt.plot(x_predicted, y_predicted, label='Predicted', c='r', lw=1.5, ls='--')\n",
    "\n",
    "# plt.plot(x_measurement, y_measurement, label='Measurement - no noise', c='b', lw=1.5, ls=':')\n",
    "plt.plot(x_noisy_measurement, y_noisy_measurement, label='Measurement - with noise', c='y', lw=1.5, ls='--')\n",
    "\n",
    "plt.legend(loc=\"lower left\")\n",
    "plt.show()"
   ]
  }
 ],
 "metadata": {
  "kernelspec": {
   "display_name": "Python 3",
   "language": "python",
   "name": "python3"
  },
  "language_info": {
   "codemirror_mode": {
    "name": "ipython",
    "version": 3
   },
   "file_extension": ".py",
   "mimetype": "text/x-python",
   "name": "python",
   "nbconvert_exporter": "python",
   "pygments_lexer": "ipython3",
   "version": "3.7.3"
  }
 },
 "nbformat": 4,
 "nbformat_minor": 5
}
