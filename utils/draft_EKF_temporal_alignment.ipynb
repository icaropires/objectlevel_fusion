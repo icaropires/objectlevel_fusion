{
 "cells": [
  {
   "cell_type": "markdown",
   "id": "educational-component",
   "metadata": {},
   "source": [
    "# Draft of EKF implementation for temporal alignment\n",
    "\n",
    "Using CTRA model.\n",
    "\n",
    "Heavily based on [balzer82 implementation](https://github.com/balzer82/Kalman/blob/master/Extended-Kalman-Filter-CTRA.ipynb) and [giovannix adaptation](https://github.com/giovannix/kalman/blob/master/Extended-Kalman-Filter-CTRA.ipynb)."
   ]
  },
  {
   "cell_type": "code",
   "execution_count": 1,
   "id": "together-portugal",
   "metadata": {},
   "outputs": [],
   "source": [
    "from sympy import symbols, Matrix, init_printing\n",
    "from IPython.display import display\n",
    "\n",
    "init_printing()\n",
    "\n",
    "vs, psis, dpsis, dts, xs, ys, lats, lons, axs = symbols('v \\psi \\dot\\psi T x y lat lon a')\n",
    "\n",
    "hs = Matrix([[xs],\n",
    "             [ys],\n",
    "             [psis],\n",
    "             [vs],\n",
    "             [dpsis],\n",
    "             [axs]])\n",
    "\n",
    "state = Matrix([xs,ys,psis,vs,dpsis,axs])\n",
    "\n",
    "# Preallocation for Plotting\n",
    "x0 = []\n",
    "x1 = []\n",
    "x2 = []\n",
    "x3 = []\n",
    "x4 = []\n",
    "x5 = []\n",
    "x6 = []\n",
    "Zx = []\n",
    "Zy = []\n",
    "Px = []\n",
    "Py = []\n",
    "Pdx= []\n",
    "Pdy= []\n",
    "Pddx=[]\n",
    "Pddy=[]\n",
    "Pdv =[]\n",
    "Kx = []\n",
    "Ky = []\n",
    "Kdx= []\n",
    "Kdy= []\n",
    "Kddx=[]\n",
    "Kdv= []\n",
    "dstate=[]\n",
    "x_noisy_measurement = []\n",
    "y_noisy_measurement = []\n",
    "x_predicted = []\n",
    "y_predicted = []"
   ]
  },
  {
   "cell_type": "code",
   "execution_count": 2,
   "id": "polish-modern",
   "metadata": {},
   "outputs": [],
   "source": [
    "def log_state_and_noises(iteration, state, predicted_state, noises, dt):\n",
    "    updated_state_s, noise_s, sensors_std_s, = symbols('updated\\_state noise sensors\\_std')\n",
    "    \n",
    "    p_x, p_y, p_psi, p_v, p_dotpsi, p_a = symbols('\\hat\\ x \\hat\\ y \\hat\\ \\psi \\hat\\ v \\hat{\\dot{\\psi}} \\hat\\ a')\n",
    "    predicted_state_matrix_s = Matrix([p_x, p_y, p_psi, p_v, p_dotpsi, p_a])\n",
    "    predicted_state_s = symbols('predicted\\_state')\n",
    "    \n",
    "    print(f'Iteration {iteration}, dt = {dt}:')\n",
    "    print('='*100)\n",
    "    \n",
    "    print(\"Predicted state\", list(predicted_state.T[0]))\n",
    "    print(\"Updated state\", x.reshape(-1).tolist()[0])\n",
    "\n",
    "    display(Eq(\n",
    "        predicted_state_s,\n",
    "        Eq(\n",
    "            predicted_state_matrix_s,\n",
    "            Matrix(predicted_state),\n",
    "            evaluate=False\n",
    "        )\n",
    "    ))\n",
    "    \n",
    "    print('-'*100)\n",
    "    display(Eq(\n",
    "        updated_state_s,\n",
    "        Eq(state, Matrix(x), evaluate=False)\n",
    "    ))\n",
    "    \n",
    "    print('*Noise included')  \n",
    "    print('-'*100)\n",
    "    \n",
    "    display(Eq(\n",
    "        Le(\n",
    "            -sensors_std_s,\n",
    "            Le(noise_s, sensors_std_s),\n",
    "            evaluate=False\n",
    "        ),\n",
    "        Le(\n",
    "            Matrix(-sensors_std),\n",
    "            Le(Matrix(noises), Matrix(sensors_std), evaluate=False),\n",
    "            evaluate=False\n",
    "        )\n",
    "    ))\n",
    "\n",
    "    print('='*100)"
   ]
  },
  {
   "cell_type": "code",
   "execution_count": 3,
   "id": "medieval-enhancement",
   "metadata": {},
   "outputs": [
    {
     "name": "stdout",
     "output_type": "stream",
     "text": [
      "Iteration 1, dt = 0.4571:\n",
      "====================================================================================================\n",
      "Predicted state [2.6810304950959454, 2.133156663915952, 1.7530773970743105, 7.75616609, 0.4304989505128276, 4.0579]\n",
      "Updated state [4.20009035106605, 1.4065263332970936, 1.7703242101697527, 6.231636758416404, 0.5331593429620153, 3.5436312687426756]\n"
     ]
    },
    {
     "data": {
      "text/latex": [
       "$\\displaystyle predicted\\_{state} = \\left[\\begin{matrix}\\hat x\\\\\\hat y\\\\\\hat \\psi\\\\\\hat v\\\\\\hat{\\dot{\\psi}}\\\\\\hat a\\end{matrix}\\right] = \\left[\\begin{matrix}2.68103049509595\\\\2.13315666391595\\\\1.75307739707431\\\\7.75616609\\\\0.430498950512828\\\\4.0579\\end{matrix}\\right]$"
      ],
      "text/plain": [
       "                  ⎡     \\hat x     ⎤   ⎡2.68103049509595 ⎤\n",
       "                  ⎢                ⎥   ⎢                 ⎥\n",
       "                  ⎢     \\hat y     ⎥   ⎢2.13315666391595 ⎥\n",
       "                  ⎢                ⎥   ⎢                 ⎥\n",
       "                  ⎢   \\hat \\psi    ⎥   ⎢1.75307739707431 ⎥\n",
       "predicted\\ₛₜₐₜₑ = ⎢                ⎥ = ⎢                 ⎥\n",
       "                  ⎢     \\hat v     ⎥   ⎢   7.75616609    ⎥\n",
       "                  ⎢                ⎥   ⎢                 ⎥\n",
       "                  ⎢\\hat{\\dot{\\psi}}⎥   ⎢0.430498950512828⎥\n",
       "                  ⎢                ⎥   ⎢                 ⎥\n",
       "                  ⎣     \\hat a     ⎦   ⎣     4.0579      ⎦"
      ]
     },
     "metadata": {},
     "output_type": "display_data"
    },
    {
     "name": "stdout",
     "output_type": "stream",
     "text": [
      "----------------------------------------------------------------------------------------------------\n"
     ]
    },
    {
     "data": {
      "text/latex": [
       "$\\displaystyle updated\\_{state} = \\left[\\begin{matrix}x\\\\y\\\\\\psi\\\\v\\\\\\dot\\psi\\\\a\\end{matrix}\\right] = \\left[\\begin{matrix}4.20009035106605\\\\1.40652633329709\\\\1.77032421016975\\\\6.2316367584164\\\\0.533159342962015\\\\3.54363126874268\\end{matrix}\\right]$"
      ],
      "text/plain": [
       "                ⎡   x    ⎤   ⎡4.20009035106605 ⎤\n",
       "                ⎢        ⎥   ⎢                 ⎥\n",
       "                ⎢   y    ⎥   ⎢1.40652633329709 ⎥\n",
       "                ⎢        ⎥   ⎢                 ⎥\n",
       "                ⎢  \\psi  ⎥   ⎢1.77032421016975 ⎥\n",
       "updated\\ₛₜₐₜₑ = ⎢        ⎥ = ⎢                 ⎥\n",
       "                ⎢   v    ⎥   ⎢ 6.2316367584164 ⎥\n",
       "                ⎢        ⎥   ⎢                 ⎥\n",
       "                ⎢\\dot\\psi⎥   ⎢0.533159342962015⎥\n",
       "                ⎢        ⎥   ⎢                 ⎥\n",
       "                ⎣   a    ⎦   ⎣3.54363126874268 ⎦"
      ]
     },
     "metadata": {},
     "output_type": "display_data"
    },
    {
     "name": "stdout",
     "output_type": "stream",
     "text": [
      "*Noise included\n",
      "----------------------------------------------------------------------------------------------------\n"
     ]
    },
    {
     "data": {
      "text/latex": [
       "$\\displaystyle - sensors\\_{std} \\leq noise \\leq sensors\\_{std} = \\left[\\begin{matrix}-1.5\\\\-1.5\\\\-0.02\\\\-1.0\\\\-0.1\\\\-0.5\\end{matrix}\\right] \\leq \\left[\\begin{matrix}0.7317\\\\0.8656\\\\0.0095\\\\-0.5005\\\\0.0835\\\\-0.4629\\end{matrix}\\right] \\leq \\left[\\begin{matrix}1.5\\\\1.5\\\\0.02\\\\1.0\\\\0.1\\\\0.5\\end{matrix}\\right]$"
      ],
      "text/plain": [
       "                                       ⎡-1.5 ⎤   ⎡0.7317 ⎤   ⎡1.5 ⎤\n",
       "                                       ⎢     ⎥   ⎢       ⎥   ⎢    ⎥\n",
       "                                       ⎢-1.5 ⎥   ⎢0.8656 ⎥   ⎢1.5 ⎥\n",
       "                                       ⎢     ⎥   ⎢       ⎥   ⎢    ⎥\n",
       "                                       ⎢-0.02⎥   ⎢0.0095 ⎥   ⎢0.02⎥\n",
       "-sensors\\_std ≤ noise ≤ sensors\\_std = ⎢     ⎥ ≤ ⎢       ⎥ ≤ ⎢    ⎥\n",
       "                                       ⎢-1.0 ⎥   ⎢-0.5005⎥   ⎢1.0 ⎥\n",
       "                                       ⎢     ⎥   ⎢       ⎥   ⎢    ⎥\n",
       "                                       ⎢-0.1 ⎥   ⎢0.0835 ⎥   ⎢0.1 ⎥\n",
       "                                       ⎢     ⎥   ⎢       ⎥   ⎢    ⎥\n",
       "                                       ⎣-0.5 ⎦   ⎣-0.4629⎦   ⎣0.5 ⎦"
      ]
     },
     "metadata": {},
     "output_type": "display_data"
    },
    {
     "name": "stdout",
     "output_type": "stream",
     "text": [
      "====================================================================================================\n",
      "Iteration 2, dt = 0.5364:\n",
      "====================================================================================================\n",
      "Predicted state [matrix([[2.88776078, 5.0146889 , 2.05631088, 8.13244057, 0.53315934,\n",
      "         3.54363127]])]\n",
      "Updated state [2.8852973674160736, 3.458358682552544, 1.956315006275554, 8.78507759735717, 0.3874558538512966, 3.790217831441626]\n"
     ]
    },
    {
     "data": {
      "text/latex": [
       "$\\displaystyle predicted\\_{state} = \\left[\\begin{matrix}\\hat x\\\\\\hat y\\\\\\hat \\psi\\\\\\hat v\\\\\\hat{\\dot{\\psi}}\\\\\\hat a\\end{matrix}\\right] = \\left[\\begin{matrix}2.88776078354664\\\\5.01468889656252\\\\2.05631088173458\\\\8.13244057096998\\\\0.533159342962015\\\\3.54363126874268\\end{matrix}\\right]$"
      ],
      "text/plain": [
       "                  ⎡     \\hat x     ⎤   ⎡2.88776078354664 ⎤\n",
       "                  ⎢                ⎥   ⎢                 ⎥\n",
       "                  ⎢     \\hat y     ⎥   ⎢5.01468889656252 ⎥\n",
       "                  ⎢                ⎥   ⎢                 ⎥\n",
       "                  ⎢   \\hat \\psi    ⎥   ⎢2.05631088173458 ⎥\n",
       "predicted\\ₛₜₐₜₑ = ⎢                ⎥ = ⎢                 ⎥\n",
       "                  ⎢     \\hat v     ⎥   ⎢8.13244057096998 ⎥\n",
       "                  ⎢                ⎥   ⎢                 ⎥\n",
       "                  ⎢\\hat{\\dot{\\psi}}⎥   ⎢0.533159342962015⎥\n",
       "                  ⎢                ⎥   ⎢                 ⎥\n",
       "                  ⎣     \\hat a     ⎦   ⎣3.54363126874268 ⎦"
      ]
     },
     "metadata": {},
     "output_type": "display_data"
    },
    {
     "name": "stdout",
     "output_type": "stream",
     "text": [
      "----------------------------------------------------------------------------------------------------\n"
     ]
    },
    {
     "data": {
      "text/latex": [
       "$\\displaystyle updated\\_{state} = \\left[\\begin{matrix}x\\\\y\\\\\\psi\\\\v\\\\\\dot\\psi\\\\a\\end{matrix}\\right] = \\left[\\begin{matrix}2.88529736741607\\\\3.45835868255254\\\\1.95631500627555\\\\8.78507759735717\\\\0.387455853851297\\\\3.79021783144163\\end{matrix}\\right]$"
      ],
      "text/plain": [
       "                ⎡   x    ⎤   ⎡2.88529736741607 ⎤\n",
       "                ⎢        ⎥   ⎢                 ⎥\n",
       "                ⎢   y    ⎥   ⎢3.45835868255254 ⎥\n",
       "                ⎢        ⎥   ⎢                 ⎥\n",
       "                ⎢  \\psi  ⎥   ⎢1.95631500627555 ⎥\n",
       "updated\\ₛₜₐₜₑ = ⎢        ⎥ = ⎢                 ⎥\n",
       "                ⎢   v    ⎥   ⎢8.78507759735717 ⎥\n",
       "                ⎢        ⎥   ⎢                 ⎥\n",
       "                ⎢\\dot\\psi⎥   ⎢0.387455853851297⎥\n",
       "                ⎢        ⎥   ⎢                 ⎥\n",
       "                ⎣   a    ⎦   ⎣3.79021783144163 ⎦"
      ]
     },
     "metadata": {},
     "output_type": "display_data"
    },
    {
     "name": "stdout",
     "output_type": "stream",
     "text": [
      "*Noise included\n",
      "----------------------------------------------------------------------------------------------------\n"
     ]
    },
    {
     "data": {
      "text/latex": [
       "$\\displaystyle - sensors\\_{std} \\leq noise \\leq sensors\\_{std} = \\left[\\begin{matrix}-1.5\\\\-1.5\\\\-0.02\\\\-1.0\\\\-0.1\\\\-0.5\\end{matrix}\\right] \\leq \\left[\\begin{matrix}-0.0571\\\\-1.0837\\\\-0.0015\\\\0.4288\\\\-0.0634\\\\-0.0808\\end{matrix}\\right] \\leq \\left[\\begin{matrix}1.5\\\\1.5\\\\0.02\\\\1.0\\\\0.1\\\\0.5\\end{matrix}\\right]$"
      ],
      "text/plain": [
       "                                       ⎡-1.5 ⎤   ⎡-0.0571⎤   ⎡1.5 ⎤\n",
       "                                       ⎢     ⎥   ⎢       ⎥   ⎢    ⎥\n",
       "                                       ⎢-1.5 ⎥   ⎢-1.0837⎥   ⎢1.5 ⎥\n",
       "                                       ⎢     ⎥   ⎢       ⎥   ⎢    ⎥\n",
       "                                       ⎢-0.02⎥   ⎢-0.0015⎥   ⎢0.02⎥\n",
       "-sensors\\_std ≤ noise ≤ sensors\\_std = ⎢     ⎥ ≤ ⎢       ⎥ ≤ ⎢    ⎥\n",
       "                                       ⎢-1.0 ⎥   ⎢0.4288 ⎥   ⎢1.0 ⎥\n",
       "                                       ⎢     ⎥   ⎢       ⎥   ⎢    ⎥\n",
       "                                       ⎢-0.1 ⎥   ⎢-0.0634⎥   ⎢0.1 ⎥\n",
       "                                       ⎢     ⎥   ⎢       ⎥   ⎢    ⎥\n",
       "                                       ⎣-0.5 ⎦   ⎣-0.0808⎦   ⎣0.5 ⎦"
      ]
     },
     "metadata": {},
     "output_type": "display_data"
    },
    {
     "name": "stdout",
     "output_type": "stream",
     "text": [
      "====================================================================================================\n",
      "Iteration 3, dt = 0.1067:\n",
      "====================================================================================================\n",
      "Predicted state [matrix([[2.50629803, 4.33915433, 1.99765655, 9.18949384, 0.38745585,\n",
      "         3.79021783]])]\n",
      "Updated state [1.6803729482842633, 4.745379253143368, 2.1201655632219043, 8.4306370472555, 0.6643258142409749, 1.7948046228444299]\n"
     ]
    },
    {
     "data": {
      "text/latex": [
       "$\\displaystyle predicted\\_{state} = \\left[\\begin{matrix}\\hat x\\\\\\hat y\\\\\\hat \\psi\\\\\\hat v\\\\\\hat{\\dot{\\psi}}\\\\\\hat a\\end{matrix}\\right] = \\left[\\begin{matrix}2.50629803108141\\\\4.33915433346289\\\\1.99765654588149\\\\9.18949383997199\\\\0.387455853851297\\\\3.79021783144163\\end{matrix}\\right]$"
      ],
      "text/plain": [
       "                  ⎡     \\hat x     ⎤   ⎡2.50629803108141 ⎤\n",
       "                  ⎢                ⎥   ⎢                 ⎥\n",
       "                  ⎢     \\hat y     ⎥   ⎢4.33915433346289 ⎥\n",
       "                  ⎢                ⎥   ⎢                 ⎥\n",
       "                  ⎢   \\hat \\psi    ⎥   ⎢1.99765654588149 ⎥\n",
       "predicted\\ₛₜₐₜₑ = ⎢                ⎥ = ⎢                 ⎥\n",
       "                  ⎢     \\hat v     ⎥   ⎢9.18949383997199 ⎥\n",
       "                  ⎢                ⎥   ⎢                 ⎥\n",
       "                  ⎢\\hat{\\dot{\\psi}}⎥   ⎢0.387455853851297⎥\n",
       "                  ⎢                ⎥   ⎢                 ⎥\n",
       "                  ⎣     \\hat a     ⎦   ⎣3.79021783144163 ⎦"
      ]
     },
     "metadata": {},
     "output_type": "display_data"
    },
    {
     "name": "stdout",
     "output_type": "stream",
     "text": [
      "----------------------------------------------------------------------------------------------------\n"
     ]
    },
    {
     "data": {
      "text/latex": [
       "$\\displaystyle updated\\_{state} = \\left[\\begin{matrix}x\\\\y\\\\\\psi\\\\v\\\\\\dot\\psi\\\\a\\end{matrix}\\right] = \\left[\\begin{matrix}1.68037294828426\\\\4.74537925314337\\\\2.1201655632219\\\\8.4306370472555\\\\0.664325814240975\\\\1.79480462284443\\end{matrix}\\right]$"
      ],
      "text/plain": [
       "                ⎡   x    ⎤   ⎡1.68037294828426 ⎤\n",
       "                ⎢        ⎥   ⎢                 ⎥\n",
       "                ⎢   y    ⎥   ⎢4.74537925314337 ⎥\n",
       "                ⎢        ⎥   ⎢                 ⎥\n",
       "                ⎢  \\psi  ⎥   ⎢ 2.1201655632219 ⎥\n",
       "updated\\ₛₜₐₜₑ = ⎢        ⎥ = ⎢                 ⎥\n",
       "                ⎢   v    ⎥   ⎢ 8.4306370472555 ⎥\n",
       "                ⎢        ⎥   ⎢                 ⎥\n",
       "                ⎢\\dot\\psi⎥   ⎢0.664325814240975⎥\n",
       "                ⎢        ⎥   ⎢                 ⎥\n",
       "                ⎣   a    ⎦   ⎣1.79480462284443 ⎦"
      ]
     },
     "metadata": {},
     "output_type": "display_data"
    },
    {
     "name": "stdout",
     "output_type": "stream",
     "text": [
      "*Noise included\n",
      "----------------------------------------------------------------------------------------------------\n"
     ]
    },
    {
     "data": {
      "text/latex": [
       "$\\displaystyle - sensors\\_{std} \\leq noise \\leq sensors\\_{std} = \\left[\\begin{matrix}-1.5\\\\-1.5\\\\-0.02\\\\-1.0\\\\-0.1\\\\-0.5\\end{matrix}\\right] \\leq \\left[\\begin{matrix}-0.5773\\\\-1.1117\\\\-0.0182\\\\-0.778\\\\0.0696\\\\-0.4022\\end{matrix}\\right] \\leq \\left[\\begin{matrix}1.5\\\\1.5\\\\0.02\\\\1.0\\\\0.1\\\\0.5\\end{matrix}\\right]$"
      ],
      "text/plain": [
       "                                       ⎡-1.5 ⎤   ⎡-0.5773⎤   ⎡1.5 ⎤\n",
       "                                       ⎢     ⎥   ⎢       ⎥   ⎢    ⎥\n",
       "                                       ⎢-1.5 ⎥   ⎢-1.1117⎥   ⎢1.5 ⎥\n",
       "                                       ⎢     ⎥   ⎢       ⎥   ⎢    ⎥\n",
       "                                       ⎢-0.02⎥   ⎢-0.0182⎥   ⎢0.02⎥\n",
       "-sensors\\_std ≤ noise ≤ sensors\\_std = ⎢     ⎥ ≤ ⎢       ⎥ ≤ ⎢    ⎥\n",
       "                                       ⎢-1.0 ⎥   ⎢-0.778 ⎥   ⎢1.0 ⎥\n",
       "                                       ⎢     ⎥   ⎢       ⎥   ⎢    ⎥\n",
       "                                       ⎢-0.1 ⎥   ⎢0.0696 ⎥   ⎢0.1 ⎥\n",
       "                                       ⎢     ⎥   ⎢       ⎥   ⎢    ⎥\n",
       "                                       ⎣-0.5 ⎦   ⎣-0.4022⎦   ⎣0.5 ⎦"
      ]
     },
     "metadata": {},
     "output_type": "display_data"
    },
    {
     "name": "stdout",
     "output_type": "stream",
     "text": [
      "====================================================================================================\n",
      "Iteration 4, dt = 0.5539:\n",
      "====================================================================================================\n",
      "Predicted state [matrix([[-1.62353688,  8.38727129,  2.48813563,  9.42477933,  0.66432581,\n",
      "          1.79480462]])]\n",
      "Updated state [-1.1473434810234227, 9.626337021148673, 2.4941321896864523, 9.008778587586454, 0.7170480449398828, 1.0589448581378393]\n"
     ]
    },
    {
     "data": {
      "text/latex": [
       "$\\displaystyle predicted\\_{state} = \\left[\\begin{matrix}\\hat x\\\\\\hat y\\\\\\hat \\psi\\\\\\hat v\\\\\\hat{\\dot{\\psi}}\\\\\\hat a\\end{matrix}\\right] = \\left[\\begin{matrix}-1.62353688087509\\\\8.38727129181504\\\\2.48813563172998\\\\9.42477932784903\\\\0.664325814240975\\\\1.79480462284443\\end{matrix}\\right]$"
      ],
      "text/plain": [
       "                  ⎡     \\hat x     ⎤   ⎡-1.62353688087509⎤\n",
       "                  ⎢                ⎥   ⎢                 ⎥\n",
       "                  ⎢     \\hat y     ⎥   ⎢8.38727129181504 ⎥\n",
       "                  ⎢                ⎥   ⎢                 ⎥\n",
       "                  ⎢   \\hat \\psi    ⎥   ⎢2.48813563172998 ⎥\n",
       "predicted\\ₛₜₐₜₑ = ⎢                ⎥ = ⎢                 ⎥\n",
       "                  ⎢     \\hat v     ⎥   ⎢9.42477932784903 ⎥\n",
       "                  ⎢                ⎥   ⎢                 ⎥\n",
       "                  ⎢\\hat{\\dot{\\psi}}⎥   ⎢0.664325814240975⎥\n",
       "                  ⎢                ⎥   ⎢                 ⎥\n",
       "                  ⎣     \\hat a     ⎦   ⎣1.79480462284443 ⎦"
      ]
     },
     "metadata": {},
     "output_type": "display_data"
    },
    {
     "name": "stdout",
     "output_type": "stream",
     "text": [
      "----------------------------------------------------------------------------------------------------\n"
     ]
    },
    {
     "data": {
      "text/latex": [
       "$\\displaystyle updated\\_{state} = \\left[\\begin{matrix}x\\\\y\\\\\\psi\\\\v\\\\\\dot\\psi\\\\a\\end{matrix}\\right] = \\left[\\begin{matrix}-1.14734348102342\\\\9.62633702114867\\\\2.49413218968645\\\\9.00877858758645\\\\0.717048044939883\\\\1.05894485813784\\end{matrix}\\right]$"
      ],
      "text/plain": [
       "                ⎡   x    ⎤   ⎡-1.14734348102342⎤\n",
       "                ⎢        ⎥   ⎢                 ⎥\n",
       "                ⎢   y    ⎥   ⎢9.62633702114867 ⎥\n",
       "                ⎢        ⎥   ⎢                 ⎥\n",
       "                ⎢  \\psi  ⎥   ⎢2.49413218968645 ⎥\n",
       "updated\\ₛₜₐₜₑ = ⎢        ⎥ = ⎢                 ⎥\n",
       "                ⎢   v    ⎥   ⎢9.00877858758645 ⎥\n",
       "                ⎢        ⎥   ⎢                 ⎥\n",
       "                ⎢\\dot\\psi⎥   ⎢0.717048044939883⎥\n",
       "                ⎢        ⎥   ⎢                 ⎥\n",
       "                ⎣   a    ⎦   ⎣1.05894485813784 ⎦"
      ]
     },
     "metadata": {},
     "output_type": "display_data"
    },
    {
     "name": "stdout",
     "output_type": "stream",
     "text": [
      "*Noise included\n",
      "----------------------------------------------------------------------------------------------------\n"
     ]
    },
    {
     "data": {
      "text/latex": [
       "$\\displaystyle - sensors\\_{std} \\leq noise \\leq sensors\\_{std} = \\left[\\begin{matrix}-1.5\\\\-1.5\\\\-0.02\\\\-1.0\\\\-0.1\\\\-0.5\\end{matrix}\\right] \\leq \\left[\\begin{matrix}0.8567\\\\1.2855\\\\0.0112\\\\-0.2399\\\\0.0904\\\\-0.3941\\end{matrix}\\right] \\leq \\left[\\begin{matrix}1.5\\\\1.5\\\\0.02\\\\1.0\\\\0.1\\\\0.5\\end{matrix}\\right]$"
      ],
      "text/plain": [
       "                                       ⎡-1.5 ⎤   ⎡0.8567 ⎤   ⎡1.5 ⎤\n",
       "                                       ⎢     ⎥   ⎢       ⎥   ⎢    ⎥\n",
       "                                       ⎢-1.5 ⎥   ⎢1.2855 ⎥   ⎢1.5 ⎥\n",
       "                                       ⎢     ⎥   ⎢       ⎥   ⎢    ⎥\n",
       "                                       ⎢-0.02⎥   ⎢0.0112 ⎥   ⎢0.02⎥\n",
       "-sensors\\_std ≤ noise ≤ sensors\\_std = ⎢     ⎥ ≤ ⎢       ⎥ ≤ ⎢    ⎥\n",
       "                                       ⎢-1.0 ⎥   ⎢-0.2399⎥   ⎢1.0 ⎥\n",
       "                                       ⎢     ⎥   ⎢       ⎥   ⎢    ⎥\n",
       "                                       ⎢-0.1 ⎥   ⎢0.0904 ⎥   ⎢0.1 ⎥\n",
       "                                       ⎢     ⎥   ⎢       ⎥   ⎢    ⎥\n",
       "                                       ⎣-0.5 ⎦   ⎣-0.3941⎦   ⎣0.5 ⎦"
      ]
     },
     "metadata": {},
     "output_type": "display_data"
    },
    {
     "name": "stdout",
     "output_type": "stream",
     "text": [
      "====================================================================================================\n",
      "Iteration 5, dt = 0.0843:\n",
      "====================================================================================================\n",
      "Predicted state [matrix([[-1.76964785, 10.06796847,  2.55457934,  9.09804764,  0.71704804,\n",
      "          1.05894486]])]\n",
      "Updated state [-3.262337015138033, 10.51575544005283, 2.665352110328649, 8.818769860751926, 0.7839350612765527, 0.17681219842871987]\n"
     ]
    },
    {
     "data": {
      "text/latex": [
       "$\\displaystyle predicted\\_{state} = \\left[\\begin{matrix}\\hat x\\\\\\hat y\\\\\\hat \\psi\\\\\\hat v\\\\\\hat{\\dot{\\psi}}\\\\\\hat a\\end{matrix}\\right] = \\left[\\begin{matrix}-1.76964784890326\\\\10.0679684728357\\\\2.55457933987488\\\\9.09804763912747\\\\0.717048044939883\\\\1.05894485813784\\end{matrix}\\right]$"
      ],
      "text/plain": [
       "                  ⎡     \\hat x     ⎤   ⎡-1.76964784890326⎤\n",
       "                  ⎢                ⎥   ⎢                 ⎥\n",
       "                  ⎢     \\hat y     ⎥   ⎢10.0679684728357 ⎥\n",
       "                  ⎢                ⎥   ⎢                 ⎥\n",
       "                  ⎢   \\hat \\psi    ⎥   ⎢2.55457933987488 ⎥\n",
       "predicted\\ₛₜₐₜₑ = ⎢                ⎥ = ⎢                 ⎥\n",
       "                  ⎢     \\hat v     ⎥   ⎢9.09804763912747 ⎥\n",
       "                  ⎢                ⎥   ⎢                 ⎥\n",
       "                  ⎢\\hat{\\dot{\\psi}}⎥   ⎢0.717048044939883⎥\n",
       "                  ⎢                ⎥   ⎢                 ⎥\n",
       "                  ⎣     \\hat a     ⎦   ⎣1.05894485813784 ⎦"
      ]
     },
     "metadata": {},
     "output_type": "display_data"
    },
    {
     "name": "stdout",
     "output_type": "stream",
     "text": [
      "----------------------------------------------------------------------------------------------------\n"
     ]
    },
    {
     "data": {
      "text/latex": [
       "$\\displaystyle updated\\_{state} = \\left[\\begin{matrix}x\\\\y\\\\\\psi\\\\v\\\\\\dot\\psi\\\\a\\end{matrix}\\right] = \\left[\\begin{matrix}-3.26233701513803\\\\10.5157554400528\\\\2.66535211032865\\\\8.81876986075193\\\\0.783935061276553\\\\0.17681219842872\\end{matrix}\\right]$"
      ],
      "text/plain": [
       "                ⎡   x    ⎤   ⎡-3.26233701513803⎤\n",
       "                ⎢        ⎥   ⎢                 ⎥\n",
       "                ⎢   y    ⎥   ⎢10.5157554400528 ⎥\n",
       "                ⎢        ⎥   ⎢                 ⎥\n",
       "                ⎢  \\psi  ⎥   ⎢2.66535211032865 ⎥\n",
       "updated\\ₛₜₐₜₑ = ⎢        ⎥ = ⎢                 ⎥\n",
       "                ⎢   v    ⎥   ⎢8.81876986075193 ⎥\n",
       "                ⎢        ⎥   ⎢                 ⎥\n",
       "                ⎢\\dot\\psi⎥   ⎢0.783935061276553⎥\n",
       "                ⎢        ⎥   ⎢                 ⎥\n",
       "                ⎣   a    ⎦   ⎣0.17681219842872 ⎦"
      ]
     },
     "metadata": {},
     "output_type": "display_data"
    },
    {
     "name": "stdout",
     "output_type": "stream",
     "text": [
      "*Noise included\n",
      "----------------------------------------------------------------------------------------------------\n"
     ]
    },
    {
     "data": {
      "text/latex": [
       "$\\displaystyle - sensors\\_{std} \\leq noise \\leq sensors\\_{std} = \\left[\\begin{matrix}-1.5\\\\-1.5\\\\-0.02\\\\-1.0\\\\-0.1\\\\-0.5\\end{matrix}\\right] \\leq \\left[\\begin{matrix}-0.8416\\\\0.1583\\\\0.0063\\\\-0.6525\\\\0.084\\\\-0.3697\\end{matrix}\\right] \\leq \\left[\\begin{matrix}1.5\\\\1.5\\\\0.02\\\\1.0\\\\0.1\\\\0.5\\end{matrix}\\right]$"
      ],
      "text/plain": [
       "                                       ⎡-1.5 ⎤   ⎡-0.8416⎤   ⎡1.5 ⎤\n",
       "                                       ⎢     ⎥   ⎢       ⎥   ⎢    ⎥\n",
       "                                       ⎢-1.5 ⎥   ⎢0.1583 ⎥   ⎢1.5 ⎥\n",
       "                                       ⎢     ⎥   ⎢       ⎥   ⎢    ⎥\n",
       "                                       ⎢-0.02⎥   ⎢0.0063 ⎥   ⎢0.02⎥\n",
       "-sensors\\_std ≤ noise ≤ sensors\\_std = ⎢     ⎥ ≤ ⎢       ⎥ ≤ ⎢    ⎥\n",
       "                                       ⎢-1.0 ⎥   ⎢-0.6525⎥   ⎢1.0 ⎥\n",
       "                                       ⎢     ⎥   ⎢       ⎥   ⎢    ⎥\n",
       "                                       ⎢-0.1 ⎥   ⎢ 0.084 ⎥   ⎢0.1 ⎥\n",
       "                                       ⎢     ⎥   ⎢       ⎥   ⎢    ⎥\n",
       "                                       ⎣-0.5 ⎦   ⎣-0.3697⎦   ⎣0.5 ⎦"
      ]
     },
     "metadata": {},
     "output_type": "display_data"
    },
    {
     "name": "stdout",
     "output_type": "stream",
     "text": [
      "====================================================================================================\n",
      "Iteration 6, dt = 0.0452:\n",
      "====================================================================================================\n",
      "Predicted state [matrix([[-3.61991567, 10.69225912,  2.70078598,  8.82676177,  0.78393506,\n",
      "          0.1768122 ]])]\n",
      "Updated state [-4.72776731662939, 10.811298444987038, 2.826462682575155, 9.209923742404575, 0.8444530542082817, -0.017235838040433854]\n"
     ]
    },
    {
     "data": {
      "text/latex": [
       "$\\displaystyle predicted\\_{state} = \\left[\\begin{matrix}\\hat x\\\\\\hat y\\\\\\hat \\psi\\\\\\hat v\\\\\\hat{\\dot{\\psi}}\\\\\\hat a\\end{matrix}\\right] = \\left[\\begin{matrix}-3.61991566546654\\\\10.6922591180914\\\\2.70078597509835\\\\8.8267617721209\\\\0.783935061276553\\\\0.17681219842872\\end{matrix}\\right]$"
      ],
      "text/plain": [
       "                  ⎡     \\hat x     ⎤   ⎡-3.61991566546654⎤\n",
       "                  ⎢                ⎥   ⎢                 ⎥\n",
       "                  ⎢     \\hat y     ⎥   ⎢10.6922591180914 ⎥\n",
       "                  ⎢                ⎥   ⎢                 ⎥\n",
       "                  ⎢   \\hat \\psi    ⎥   ⎢2.70078597509835 ⎥\n",
       "predicted\\ₛₜₐₜₑ = ⎢                ⎥ = ⎢                 ⎥\n",
       "                  ⎢     \\hat v     ⎥   ⎢ 8.8267617721209 ⎥\n",
       "                  ⎢                ⎥   ⎢                 ⎥\n",
       "                  ⎢\\hat{\\dot{\\psi}}⎥   ⎢0.783935061276553⎥\n",
       "                  ⎢                ⎥   ⎢                 ⎥\n",
       "                  ⎣     \\hat a     ⎦   ⎣0.17681219842872 ⎦"
      ]
     },
     "metadata": {},
     "output_type": "display_data"
    },
    {
     "name": "stdout",
     "output_type": "stream",
     "text": [
      "----------------------------------------------------------------------------------------------------\n"
     ]
    },
    {
     "data": {
      "text/latex": [
       "$\\displaystyle updated\\_{state} = \\left[\\begin{matrix}x\\\\y\\\\\\psi\\\\v\\\\\\dot\\psi\\\\a\\end{matrix}\\right] = \\left[\\begin{matrix}-4.72776731662939\\\\10.811298444987\\\\2.82646268257515\\\\9.20992374240458\\\\0.844453054208282\\\\-0.0172358380404339\\end{matrix}\\right]$"
      ],
      "text/plain": [
       "                ⎡   x    ⎤   ⎡ -4.72776731662939 ⎤\n",
       "                ⎢        ⎥   ⎢                   ⎥\n",
       "                ⎢   y    ⎥   ⎢  10.811298444987  ⎥\n",
       "                ⎢        ⎥   ⎢                   ⎥\n",
       "                ⎢  \\psi  ⎥   ⎢ 2.82646268257515  ⎥\n",
       "updated\\ₛₜₐₜₑ = ⎢        ⎥ = ⎢                   ⎥\n",
       "                ⎢   v    ⎥   ⎢ 9.20992374240458  ⎥\n",
       "                ⎢        ⎥   ⎢                   ⎥\n",
       "                ⎢\\dot\\psi⎥   ⎢ 0.844453054208282 ⎥\n",
       "                ⎢        ⎥   ⎢                   ⎥\n",
       "                ⎣   a    ⎦   ⎣-0.0172358380404339⎦"
      ]
     },
     "metadata": {},
     "output_type": "display_data"
    },
    {
     "name": "stdout",
     "output_type": "stream",
     "text": [
      "*Noise included\n",
      "----------------------------------------------------------------------------------------------------\n"
     ]
    },
    {
     "data": {
      "text/latex": [
       "$\\displaystyle - sensors\\_{std} \\leq noise \\leq sensors\\_{std} = \\left[\\begin{matrix}-1.5\\\\-1.5\\\\-0.02\\\\-1.0\\\\-0.1\\\\-0.5\\end{matrix}\\right] \\leq \\left[\\begin{matrix}1.1896\\\\-0.95\\\\0.0111\\\\0.4016\\\\0.0349\\\\-0.1406\\end{matrix}\\right] \\leq \\left[\\begin{matrix}1.5\\\\1.5\\\\0.02\\\\1.0\\\\0.1\\\\0.5\\end{matrix}\\right]$"
      ],
      "text/plain": [
       "                                       ⎡-1.5 ⎤   ⎡1.1896 ⎤   ⎡1.5 ⎤\n",
       "                                       ⎢     ⎥   ⎢       ⎥   ⎢    ⎥\n",
       "                                       ⎢-1.5 ⎥   ⎢ -0.95 ⎥   ⎢1.5 ⎥\n",
       "                                       ⎢     ⎥   ⎢       ⎥   ⎢    ⎥\n",
       "                                       ⎢-0.02⎥   ⎢0.0111 ⎥   ⎢0.02⎥\n",
       "-sensors\\_std ≤ noise ≤ sensors\\_std = ⎢     ⎥ ≤ ⎢       ⎥ ≤ ⎢    ⎥\n",
       "                                       ⎢-1.0 ⎥   ⎢0.4016 ⎥   ⎢1.0 ⎥\n",
       "                                       ⎢     ⎥   ⎢       ⎥   ⎢    ⎥\n",
       "                                       ⎢-0.1 ⎥   ⎢0.0349 ⎥   ⎢0.1 ⎥\n",
       "                                       ⎢     ⎥   ⎢       ⎥   ⎢    ⎥\n",
       "                                       ⎣-0.5 ⎦   ⎣-0.1406⎦   ⎣0.5 ⎦"
      ]
     },
     "metadata": {},
     "output_type": "display_data"
    },
    {
     "name": "stdout",
     "output_type": "stream",
     "text": [
      "====================================================================================================\n",
      "Iteration 7, dt = 0.017:\n",
      "====================================================================================================\n",
      "Predicted state [matrix([[-4.87696679, 10.85875447,  2.84081838,  9.20963073,  0.84445305,\n",
      "         -0.01723584]])]\n",
      "Updated state [-6.429071133739131, 11.160548281412646, 2.8257622493197494, 9.664303554811173, 0.44377447300680056, 1.3775961186965087]\n"
     ]
    },
    {
     "data": {
      "text/latex": [
       "$\\displaystyle predicted\\_{state} = \\left[\\begin{matrix}\\hat x\\\\\\hat y\\\\\\hat \\psi\\\\\\hat v\\\\\\hat{\\dot{\\psi}}\\\\\\hat a\\end{matrix}\\right] = \\left[\\begin{matrix}-4.87696679210409\\\\10.8587544731098\\\\2.8408183844967\\\\9.20963073315789\\\\0.844453054208282\\\\-0.0172358380404339\\end{matrix}\\right]$"
      ],
      "text/plain": [
       "                  ⎡     \\hat x     ⎤   ⎡ -4.87696679210409 ⎤\n",
       "                  ⎢                ⎥   ⎢                   ⎥\n",
       "                  ⎢     \\hat y     ⎥   ⎢ 10.8587544731098  ⎥\n",
       "                  ⎢                ⎥   ⎢                   ⎥\n",
       "                  ⎢   \\hat \\psi    ⎥   ⎢  2.8408183844967  ⎥\n",
       "predicted\\ₛₜₐₜₑ = ⎢                ⎥ = ⎢                   ⎥\n",
       "                  ⎢     \\hat v     ⎥   ⎢ 9.20963073315789  ⎥\n",
       "                  ⎢                ⎥   ⎢                   ⎥\n",
       "                  ⎢\\hat{\\dot{\\psi}}⎥   ⎢ 0.844453054208282 ⎥\n",
       "                  ⎢                ⎥   ⎢                   ⎥\n",
       "                  ⎣     \\hat a     ⎦   ⎣-0.0172358380404339⎦"
      ]
     },
     "metadata": {},
     "output_type": "display_data"
    },
    {
     "name": "stdout",
     "output_type": "stream",
     "text": [
      "----------------------------------------------------------------------------------------------------\n"
     ]
    },
    {
     "data": {
      "text/latex": [
       "$\\displaystyle updated\\_{state} = \\left[\\begin{matrix}x\\\\y\\\\\\psi\\\\v\\\\\\dot\\psi\\\\a\\end{matrix}\\right] = \\left[\\begin{matrix}-6.42907113373913\\\\11.1605482814126\\\\2.82576224931975\\\\9.66430355481117\\\\0.443774473006801\\\\1.37759611869651\\end{matrix}\\right]$"
      ],
      "text/plain": [
       "                ⎡   x    ⎤   ⎡-6.42907113373913⎤\n",
       "                ⎢        ⎥   ⎢                 ⎥\n",
       "                ⎢   y    ⎥   ⎢11.1605482814126 ⎥\n",
       "                ⎢        ⎥   ⎢                 ⎥\n",
       "                ⎢  \\psi  ⎥   ⎢2.82576224931975 ⎥\n",
       "updated\\ₛₜₐₜₑ = ⎢        ⎥ = ⎢                 ⎥\n",
       "                ⎢   v    ⎥   ⎢9.66430355481117 ⎥\n",
       "                ⎢        ⎥   ⎢                 ⎥\n",
       "                ⎢\\dot\\psi⎥   ⎢0.443774473006801⎥\n",
       "                ⎢        ⎥   ⎢                 ⎥\n",
       "                ⎣   a    ⎦   ⎣1.37759611869651 ⎦"
      ]
     },
     "metadata": {},
     "output_type": "display_data"
    },
    {
     "name": "stdout",
     "output_type": "stream",
     "text": [
      "*Noise included\n",
      "----------------------------------------------------------------------------------------------------\n"
     ]
    },
    {
     "data": {
      "text/latex": [
       "$\\displaystyle - sensors\\_{std} \\leq noise \\leq sensors\\_{std} = \\left[\\begin{matrix}-1.5\\\\-1.5\\\\-0.02\\\\-1.0\\\\-0.1\\\\-0.5\\end{matrix}\\right] \\leq \\left[\\begin{matrix}0.5857\\\\-0.9672\\\\-0.0158\\\\0.3913\\\\-0.0223\\\\0.2368\\end{matrix}\\right] \\leq \\left[\\begin{matrix}1.5\\\\1.5\\\\0.02\\\\1.0\\\\0.1\\\\0.5\\end{matrix}\\right]$"
      ],
      "text/plain": [
       "                                       ⎡-1.5 ⎤   ⎡0.5857 ⎤   ⎡1.5 ⎤\n",
       "                                       ⎢     ⎥   ⎢       ⎥   ⎢    ⎥\n",
       "                                       ⎢-1.5 ⎥   ⎢-0.9672⎥   ⎢1.5 ⎥\n",
       "                                       ⎢     ⎥   ⎢       ⎥   ⎢    ⎥\n",
       "                                       ⎢-0.02⎥   ⎢-0.0158⎥   ⎢0.02⎥\n",
       "-sensors\\_std ≤ noise ≤ sensors\\_std = ⎢     ⎥ ≤ ⎢       ⎥ ≤ ⎢    ⎥\n",
       "                                       ⎢-1.0 ⎥   ⎢0.3913 ⎥   ⎢1.0 ⎥\n",
       "                                       ⎢     ⎥   ⎢       ⎥   ⎢    ⎥\n",
       "                                       ⎢-0.1 ⎥   ⎢-0.0223⎥   ⎢0.1 ⎥\n",
       "                                       ⎢     ⎥   ⎢       ⎥   ⎢    ⎥\n",
       "                                       ⎣-0.5 ⎦   ⎣0.2368 ⎦   ⎣0.5 ⎦"
      ]
     },
     "metadata": {},
     "output_type": "display_data"
    },
    {
     "name": "stdout",
     "output_type": "stream",
     "text": [
      "====================================================================================================\n",
      "Iteration 8, dt = 0.1824:\n",
      "====================================================================================================\n",
      "Predicted state [matrix([[-8.14710065, 11.64563113,  2.90670671,  9.91557709,  0.44377447,\n",
      "          1.37759612]])]\n",
      "Updated state [-9.856405596752928, 12.224769734492988, 2.773496556017854, 10.27430595761297, -0.29687543310466274, 1.889415676908437]\n"
     ]
    },
    {
     "data": {
      "text/latex": [
       "$\\displaystyle predicted\\_{state} = \\left[\\begin{matrix}\\hat x\\\\\\hat y\\\\\\hat \\psi\\\\\\hat v\\\\\\hat{\\dot{\\psi}}\\\\\\hat a\\end{matrix}\\right] = \\left[\\begin{matrix}-8.14710064986805\\\\11.6456311294589\\\\2.90670671319619\\\\9.91557708686142\\\\0.443774473006801\\\\1.37759611869651\\end{matrix}\\right]$"
      ],
      "text/plain": [
       "                  ⎡     \\hat x     ⎤   ⎡-8.14710064986805⎤\n",
       "                  ⎢                ⎥   ⎢                 ⎥\n",
       "                  ⎢     \\hat y     ⎥   ⎢11.6456311294589 ⎥\n",
       "                  ⎢                ⎥   ⎢                 ⎥\n",
       "                  ⎢   \\hat \\psi    ⎥   ⎢2.90670671319619 ⎥\n",
       "predicted\\ₛₜₐₜₑ = ⎢                ⎥ = ⎢                 ⎥\n",
       "                  ⎢     \\hat v     ⎥   ⎢9.91557708686142 ⎥\n",
       "                  ⎢                ⎥   ⎢                 ⎥\n",
       "                  ⎢\\hat{\\dot{\\psi}}⎥   ⎢0.443774473006801⎥\n",
       "                  ⎢                ⎥   ⎢                 ⎥\n",
       "                  ⎣     \\hat a     ⎦   ⎣1.37759611869651 ⎦"
      ]
     },
     "metadata": {},
     "output_type": "display_data"
    },
    {
     "name": "stdout",
     "output_type": "stream",
     "text": [
      "----------------------------------------------------------------------------------------------------\n"
     ]
    },
    {
     "data": {
      "text/latex": [
       "$\\displaystyle updated\\_{state} = \\left[\\begin{matrix}x\\\\y\\\\\\psi\\\\v\\\\\\dot\\psi\\\\a\\end{matrix}\\right] = \\left[\\begin{matrix}-9.85640559675293\\\\12.224769734493\\\\2.77349655601785\\\\10.274305957613\\\\-0.296875433104663\\\\1.88941567690844\\end{matrix}\\right]$"
      ],
      "text/plain": [
       "                ⎡   x    ⎤   ⎡-9.85640559675293 ⎤\n",
       "                ⎢        ⎥   ⎢                  ⎥\n",
       "                ⎢   y    ⎥   ⎢ 12.224769734493  ⎥\n",
       "                ⎢        ⎥   ⎢                  ⎥\n",
       "                ⎢  \\psi  ⎥   ⎢ 2.77349655601785 ⎥\n",
       "updated\\ₛₜₐₜₑ = ⎢        ⎥ = ⎢                  ⎥\n",
       "                ⎢   v    ⎥   ⎢ 10.274305957613  ⎥\n",
       "                ⎢        ⎥   ⎢                  ⎥\n",
       "                ⎢\\dot\\psi⎥   ⎢-0.296875433104663⎥\n",
       "                ⎢        ⎥   ⎢                  ⎥\n",
       "                ⎣   a    ⎦   ⎣ 1.88941567690844 ⎦"
      ]
     },
     "metadata": {},
     "output_type": "display_data"
    },
    {
     "name": "stdout",
     "output_type": "stream",
     "text": [
      "*Noise included\n",
      "----------------------------------------------------------------------------------------------------\n"
     ]
    },
    {
     "data": {
      "text/latex": [
       "$\\displaystyle - sensors\\_{std} \\leq noise \\leq sensors\\_{std} = \\left[\\begin{matrix}-1.5\\\\-1.5\\\\-0.02\\\\-1.0\\\\-0.1\\\\-0.5\\end{matrix}\\right] \\leq \\left[\\begin{matrix}-0.5729\\\\-0.5062\\\\0.0078\\\\-0.6339\\\\-0.0688\\\\0.1991\\end{matrix}\\right] \\leq \\left[\\begin{matrix}1.5\\\\1.5\\\\0.02\\\\1.0\\\\0.1\\\\0.5\\end{matrix}\\right]$"
      ],
      "text/plain": [
       "                                       ⎡-1.5 ⎤   ⎡-0.5729⎤   ⎡1.5 ⎤\n",
       "                                       ⎢     ⎥   ⎢       ⎥   ⎢    ⎥\n",
       "                                       ⎢-1.5 ⎥   ⎢-0.5062⎥   ⎢1.5 ⎥\n",
       "                                       ⎢     ⎥   ⎢       ⎥   ⎢    ⎥\n",
       "                                       ⎢-0.02⎥   ⎢0.0078 ⎥   ⎢0.02⎥\n",
       "-sensors\\_std ≤ noise ≤ sensors\\_std = ⎢     ⎥ ≤ ⎢       ⎥ ≤ ⎢    ⎥\n",
       "                                       ⎢-1.0 ⎥   ⎢-0.6339⎥   ⎢1.0 ⎥\n",
       "                                       ⎢     ⎥   ⎢       ⎥   ⎢    ⎥\n",
       "                                       ⎢-0.1 ⎥   ⎢-0.0688⎥   ⎢0.1 ⎥\n",
       "                                       ⎢     ⎥   ⎢       ⎥   ⎢    ⎥\n",
       "                                       ⎣-0.5 ⎦   ⎣0.1991 ⎦   ⎣0.5 ⎦"
      ]
     },
     "metadata": {},
     "output_type": "display_data"
    },
    {
     "name": "stdout",
     "output_type": "stream",
     "text": [
      "====================================================================================================\n",
      "Iteration 9, dt = 0.5568:\n",
      "====================================================================================================\n",
      "Predicted state [matrix([[-15.25972353,  14.84880271,   2.60819631,  11.32633261,\n",
      "          -0.29687543,   1.88941568]])]\n",
      "Updated state [-17.919684591897862, 16.664128563885036, 2.3519388282026954, 11.868480305696389, -0.8126130365424269, 1.7448691035375292]\n"
     ]
    },
    {
     "data": {
      "text/latex": [
       "$\\displaystyle predicted\\_{state} = \\left[\\begin{matrix}\\hat x\\\\\\hat y\\\\\\hat \\psi\\\\\\hat v\\\\\\hat{\\dot{\\psi}}\\\\\\hat a\\end{matrix}\\right] = \\left[\\begin{matrix}-15.2597235262631\\\\14.8488027123312\\\\2.60819631486518\\\\11.3263326065156\\\\-0.296875433104663\\\\1.88941567690844\\end{matrix}\\right]$"
      ],
      "text/plain": [
       "                  ⎡     \\hat x     ⎤   ⎡-15.2597235262631 ⎤\n",
       "                  ⎢                ⎥   ⎢                  ⎥\n",
       "                  ⎢     \\hat y     ⎥   ⎢ 14.8488027123312 ⎥\n",
       "                  ⎢                ⎥   ⎢                  ⎥\n",
       "                  ⎢   \\hat \\psi    ⎥   ⎢ 2.60819631486518 ⎥\n",
       "predicted\\ₛₜₐₜₑ = ⎢                ⎥ = ⎢                  ⎥\n",
       "                  ⎢     \\hat v     ⎥   ⎢ 11.3263326065156 ⎥\n",
       "                  ⎢                ⎥   ⎢                  ⎥\n",
       "                  ⎢\\hat{\\dot{\\psi}}⎥   ⎢-0.296875433104663⎥\n",
       "                  ⎢                ⎥   ⎢                  ⎥\n",
       "                  ⎣     \\hat a     ⎦   ⎣ 1.88941567690844 ⎦"
      ]
     },
     "metadata": {},
     "output_type": "display_data"
    },
    {
     "name": "stdout",
     "output_type": "stream",
     "text": [
      "----------------------------------------------------------------------------------------------------\n"
     ]
    },
    {
     "data": {
      "text/latex": [
       "$\\displaystyle updated\\_{state} = \\left[\\begin{matrix}x\\\\y\\\\\\psi\\\\v\\\\\\dot\\psi\\\\a\\end{matrix}\\right] = \\left[\\begin{matrix}-17.9196845918979\\\\16.664128563885\\\\2.3519388282027\\\\11.8684803056964\\\\-0.812613036542427\\\\1.74486910353753\\end{matrix}\\right]$"
      ],
      "text/plain": [
       "                ⎡   x    ⎤   ⎡-17.9196845918979 ⎤\n",
       "                ⎢        ⎥   ⎢                  ⎥\n",
       "                ⎢   y    ⎥   ⎢ 16.664128563885  ⎥\n",
       "                ⎢        ⎥   ⎢                  ⎥\n",
       "                ⎢  \\psi  ⎥   ⎢ 2.3519388282027  ⎥\n",
       "updated\\ₛₜₐₜₑ = ⎢        ⎥ = ⎢                  ⎥\n",
       "                ⎢   v    ⎥   ⎢ 11.8684803056964 ⎥\n",
       "                ⎢        ⎥   ⎢                  ⎥\n",
       "                ⎢\\dot\\psi⎥   ⎢-0.812613036542427⎥\n",
       "                ⎢        ⎥   ⎢                  ⎥\n",
       "                ⎣   a    ⎦   ⎣ 1.74486910353753 ⎦"
      ]
     },
     "metadata": {},
     "output_type": "display_data"
    },
    {
     "name": "stdout",
     "output_type": "stream",
     "text": [
      "*Noise included\n",
      "----------------------------------------------------------------------------------------------------\n"
     ]
    },
    {
     "data": {
      "text/latex": [
       "$\\displaystyle - sensors\\_{std} \\leq noise \\leq sensors\\_{std} = \\left[\\begin{matrix}-1.5\\\\-1.5\\\\-0.02\\\\-1.0\\\\-0.1\\\\-0.5\\end{matrix}\\right] \\leq \\left[\\begin{matrix}0.2298\\\\0.2873\\\\-0.0159\\\\0.0898\\\\-0.0375\\\\-0.3652\\end{matrix}\\right] \\leq \\left[\\begin{matrix}1.5\\\\1.5\\\\0.02\\\\1.0\\\\0.1\\\\0.5\\end{matrix}\\right]$"
      ],
      "text/plain": [
       "                                       ⎡-1.5 ⎤   ⎡0.2298 ⎤   ⎡1.5 ⎤\n",
       "                                       ⎢     ⎥   ⎢       ⎥   ⎢    ⎥\n",
       "                                       ⎢-1.5 ⎥   ⎢0.2873 ⎥   ⎢1.5 ⎥\n",
       "                                       ⎢     ⎥   ⎢       ⎥   ⎢    ⎥\n",
       "                                       ⎢-0.02⎥   ⎢-0.0159⎥   ⎢0.02⎥\n",
       "-sensors\\_std ≤ noise ≤ sensors\\_std = ⎢     ⎥ ≤ ⎢       ⎥ ≤ ⎢    ⎥\n",
       "                                       ⎢-1.0 ⎥   ⎢0.0898 ⎥   ⎢1.0 ⎥\n",
       "                                       ⎢     ⎥   ⎢       ⎥   ⎢    ⎥\n",
       "                                       ⎢-0.1 ⎥   ⎢-0.0375⎥   ⎢0.1 ⎥\n",
       "                                       ⎢     ⎥   ⎢       ⎥   ⎢    ⎥\n",
       "                                       ⎣-0.5 ⎦   ⎣-0.3652⎦   ⎣0.5 ⎦"
      ]
     },
     "metadata": {},
     "output_type": "display_data"
    },
    {
     "name": "stdout",
     "output_type": "stream",
     "text": [
      "====================================================================================================\n",
      "Iteration 10, dt = 0.9355:\n",
      "====================================================================================================\n",
      "Predicted state [matrix([[-22.35358086,  27.3651097 ,   1.59173933,  13.50080535,\n",
      "          -0.81261304,   1.7448691 ]])]\n",
      "Updated state [-23.926076375820642, 23.059597885354464, 1.9935824707068264, 12.524601800174167, -0.7288431802838485, 2.13437418056173]\n"
     ]
    },
    {
     "data": {
      "text/latex": [
       "$\\displaystyle predicted\\_{state} = \\left[\\begin{matrix}\\hat x\\\\\\hat y\\\\\\hat \\psi\\\\\\hat v\\\\\\hat{\\dot{\\psi}}\\\\\\hat a\\end{matrix}\\right] = \\left[\\begin{matrix}-22.3535808634516\\\\27.3651097018012\\\\1.59173933251726\\\\13.5008053520557\\\\-0.812613036542427\\\\1.74486910353753\\end{matrix}\\right]$"
      ],
      "text/plain": [
       "                  ⎡     \\hat x     ⎤   ⎡-22.3535808634516 ⎤\n",
       "                  ⎢                ⎥   ⎢                  ⎥\n",
       "                  ⎢     \\hat y     ⎥   ⎢ 27.3651097018012 ⎥\n",
       "                  ⎢                ⎥   ⎢                  ⎥\n",
       "                  ⎢   \\hat \\psi    ⎥   ⎢ 1.59173933251726 ⎥\n",
       "predicted\\ₛₜₐₜₑ = ⎢                ⎥ = ⎢                  ⎥\n",
       "                  ⎢     \\hat v     ⎥   ⎢ 13.5008053520557 ⎥\n",
       "                  ⎢                ⎥   ⎢                  ⎥\n",
       "                  ⎢\\hat{\\dot{\\psi}}⎥   ⎢-0.812613036542427⎥\n",
       "                  ⎢                ⎥   ⎢                  ⎥\n",
       "                  ⎣     \\hat a     ⎦   ⎣ 1.74486910353753 ⎦"
      ]
     },
     "metadata": {},
     "output_type": "display_data"
    },
    {
     "name": "stdout",
     "output_type": "stream",
     "text": [
      "----------------------------------------------------------------------------------------------------\n"
     ]
    },
    {
     "data": {
      "text/latex": [
       "$\\displaystyle updated\\_{state} = \\left[\\begin{matrix}x\\\\y\\\\\\psi\\\\v\\\\\\dot\\psi\\\\a\\end{matrix}\\right] = \\left[\\begin{matrix}-23.9260763758206\\\\23.0595978853545\\\\1.99358247070683\\\\12.5246018001742\\\\-0.728843180283849\\\\2.13437418056173\\end{matrix}\\right]$"
      ],
      "text/plain": [
       "                ⎡   x    ⎤   ⎡-23.9260763758206 ⎤\n",
       "                ⎢        ⎥   ⎢                  ⎥\n",
       "                ⎢   y    ⎥   ⎢ 23.0595978853545 ⎥\n",
       "                ⎢        ⎥   ⎢                  ⎥\n",
       "                ⎢  \\psi  ⎥   ⎢ 1.99358247070683 ⎥\n",
       "updated\\ₛₜₐₜₑ = ⎢        ⎥ = ⎢                  ⎥\n",
       "                ⎢   v    ⎥   ⎢ 12.5246018001742 ⎥\n",
       "                ⎢        ⎥   ⎢                  ⎥\n",
       "                ⎢\\dot\\psi⎥   ⎢-0.728843180283849⎥\n",
       "                ⎢        ⎥   ⎢                  ⎥\n",
       "                ⎣   a    ⎦   ⎣ 2.13437418056173 ⎦"
      ]
     },
     "metadata": {},
     "output_type": "display_data"
    },
    {
     "name": "stdout",
     "output_type": "stream",
     "text": [
      "*Noise included\n",
      "----------------------------------------------------------------------------------------------------\n"
     ]
    },
    {
     "data": {
      "text/latex": [
       "$\\displaystyle - sensors\\_{std} \\leq noise \\leq sensors\\_{std} = \\left[\\begin{matrix}-1.5\\\\-1.5\\\\-0.02\\\\-1.0\\\\-0.1\\\\-0.5\\end{matrix}\\right] \\leq \\left[\\begin{matrix}-0.2236\\\\0.5324\\\\-0.0147\\\\-0.1144\\\\0.0552\\\\0.3881\\end{matrix}\\right] \\leq \\left[\\begin{matrix}1.5\\\\1.5\\\\0.02\\\\1.0\\\\0.1\\\\0.5\\end{matrix}\\right]$"
      ],
      "text/plain": [
       "                                       ⎡-1.5 ⎤   ⎡-0.2236⎤   ⎡1.5 ⎤\n",
       "                                       ⎢     ⎥   ⎢       ⎥   ⎢    ⎥\n",
       "                                       ⎢-1.5 ⎥   ⎢0.5324 ⎥   ⎢1.5 ⎥\n",
       "                                       ⎢     ⎥   ⎢       ⎥   ⎢    ⎥\n",
       "                                       ⎢-0.02⎥   ⎢-0.0147⎥   ⎢0.02⎥\n",
       "-sensors\\_std ≤ noise ≤ sensors\\_std = ⎢     ⎥ ≤ ⎢       ⎥ ≤ ⎢    ⎥\n",
       "                                       ⎢-1.0 ⎥   ⎢-0.1144⎥   ⎢1.0 ⎥\n",
       "                                       ⎢     ⎥   ⎢       ⎥   ⎢    ⎥\n",
       "                                       ⎢-0.1 ⎥   ⎢0.0552 ⎥   ⎢0.1 ⎥\n",
       "                                       ⎢     ⎥   ⎢       ⎥   ⎢    ⎥\n",
       "                                       ⎣-0.5 ⎦   ⎣0.3881 ⎦   ⎣0.5 ⎦"
      ]
     },
     "metadata": {},
     "output_type": "display_data"
    },
    {
     "name": "stdout",
     "output_type": "stream",
     "text": [
      "====================================================================================================\n",
      "Iteration 11, dt = 0.2909:\n",
      "====================================================================================================\n",
      "Predicted state [matrix([[-25.08393917,  26.60189201,   1.78156199,  13.14549125,\n",
      "          -0.72884318,   2.13437418]])]\n",
      "Updated state [-25.544077751789494, 26.698097213856915, 1.996340873140073, 15.88754321699708, -0.08725991476448314, 5.10322368687676]\n"
     ]
    },
    {
     "data": {
      "text/latex": [
       "$\\displaystyle predicted\\_{state} = \\left[\\begin{matrix}\\hat x\\\\\\hat y\\\\\\hat \\psi\\\\\\hat v\\\\\\hat{\\dot{\\psi}}\\\\\\hat a\\end{matrix}\\right] = \\left[\\begin{matrix}-25.0839391706721\\\\26.6018920100255\\\\1.78156198956225\\\\13.1454912492996\\\\-0.728843180283849\\\\2.13437418056173\\end{matrix}\\right]$"
      ],
      "text/plain": [
       "                  ⎡     \\hat x     ⎤   ⎡-25.0839391706721 ⎤\n",
       "                  ⎢                ⎥   ⎢                  ⎥\n",
       "                  ⎢     \\hat y     ⎥   ⎢ 26.6018920100255 ⎥\n",
       "                  ⎢                ⎥   ⎢                  ⎥\n",
       "                  ⎢   \\hat \\psi    ⎥   ⎢ 1.78156198956225 ⎥\n",
       "predicted\\ₛₜₐₜₑ = ⎢                ⎥ = ⎢                  ⎥\n",
       "                  ⎢     \\hat v     ⎥   ⎢ 13.1454912492996 ⎥\n",
       "                  ⎢                ⎥   ⎢                  ⎥\n",
       "                  ⎢\\hat{\\dot{\\psi}}⎥   ⎢-0.728843180283849⎥\n",
       "                  ⎢                ⎥   ⎢                  ⎥\n",
       "                  ⎣     \\hat a     ⎦   ⎣ 2.13437418056173 ⎦"
      ]
     },
     "metadata": {},
     "output_type": "display_data"
    },
    {
     "name": "stdout",
     "output_type": "stream",
     "text": [
      "----------------------------------------------------------------------------------------------------\n"
     ]
    },
    {
     "data": {
      "text/latex": [
       "$\\displaystyle updated\\_{state} = \\left[\\begin{matrix}x\\\\y\\\\\\psi\\\\v\\\\\\dot\\psi\\\\a\\end{matrix}\\right] = \\left[\\begin{matrix}-25.5440777517895\\\\26.6980972138569\\\\1.99634087314007\\\\15.8875432169971\\\\-0.0872599147644831\\\\5.10322368687676\\end{matrix}\\right]$"
      ],
      "text/plain": [
       "                ⎡   x    ⎤   ⎡ -25.5440777517895 ⎤\n",
       "                ⎢        ⎥   ⎢                   ⎥\n",
       "                ⎢   y    ⎥   ⎢ 26.6980972138569  ⎥\n",
       "                ⎢        ⎥   ⎢                   ⎥\n",
       "                ⎢  \\psi  ⎥   ⎢ 1.99634087314007  ⎥\n",
       "updated\\ₛₜₐₜₑ = ⎢        ⎥ = ⎢                   ⎥\n",
       "                ⎢   v    ⎥   ⎢ 15.8875432169971  ⎥\n",
       "                ⎢        ⎥   ⎢                   ⎥\n",
       "                ⎢\\dot\\psi⎥   ⎢-0.0872599147644831⎥\n",
       "                ⎢        ⎥   ⎢                   ⎥\n",
       "                ⎣   a    ⎦   ⎣ 5.10322368687676  ⎦"
      ]
     },
     "metadata": {},
     "output_type": "display_data"
    },
    {
     "name": "stdout",
     "output_type": "stream",
     "text": [
      "*Noise included\n",
      "----------------------------------------------------------------------------------------------------\n"
     ]
    },
    {
     "data": {
      "text/latex": [
       "$\\displaystyle - sensors\\_{std} \\leq noise \\leq sensors\\_{std} = \\left[\\begin{matrix}-1.5\\\\-1.5\\\\-0.02\\\\-1.0\\\\-0.1\\\\-0.5\\end{matrix}\\right] \\leq \\left[\\begin{matrix}0.6675\\\\-0.5955\\\\0.018\\\\0.6145\\\\-0.0493\\\\-0.0704\\end{matrix}\\right] \\leq \\left[\\begin{matrix}1.5\\\\1.5\\\\0.02\\\\1.0\\\\0.1\\\\0.5\\end{matrix}\\right]$"
      ],
      "text/plain": [
       "                                       ⎡-1.5 ⎤   ⎡0.6675 ⎤   ⎡1.5 ⎤\n",
       "                                       ⎢     ⎥   ⎢       ⎥   ⎢    ⎥\n",
       "                                       ⎢-1.5 ⎥   ⎢-0.5955⎥   ⎢1.5 ⎥\n",
       "                                       ⎢     ⎥   ⎢       ⎥   ⎢    ⎥\n",
       "                                       ⎢-0.02⎥   ⎢ 0.018 ⎥   ⎢0.02⎥\n",
       "-sensors\\_std ≤ noise ≤ sensors\\_std = ⎢     ⎥ ≤ ⎢       ⎥ ≤ ⎢    ⎥\n",
       "                                       ⎢-1.0 ⎥   ⎢0.6145 ⎥   ⎢1.0 ⎥\n",
       "                                       ⎢     ⎥   ⎢       ⎥   ⎢    ⎥\n",
       "                                       ⎢-0.1 ⎥   ⎢-0.0493⎥   ⎢0.1 ⎥\n",
       "                                       ⎢     ⎥   ⎢       ⎥   ⎢    ⎥\n",
       "                                       ⎣-0.5 ⎦   ⎣-0.0704⎦   ⎣0.5 ⎦"
      ]
     },
     "metadata": {},
     "output_type": "display_data"
    },
    {
     "name": "stdout",
     "output_type": "stream",
     "text": [
      "====================================================================================================\n",
      "Iteration 12, dt = 0.1086:\n",
      "====================================================================================================\n",
      "Predicted state [matrix([[-26.26113958,  28.30044303,   1.98686445,  16.44175331,\n",
      "          -0.08725991,   5.10322369]])]\n",
      "Updated state [-26.79329490026252, 29.570863828719137, 2.0127218298060887, 16.503343419000615, 0.030261461027486364, 2.1956080617197573]\n"
     ]
    },
    {
     "data": {
      "text/latex": [
       "$\\displaystyle predicted\\_{state} = \\left[\\begin{matrix}\\hat x\\\\\\hat y\\\\\\hat \\psi\\\\\\hat v\\\\\\hat{\\dot{\\psi}}\\\\\\hat a\\end{matrix}\\right] = \\left[\\begin{matrix}-26.2611395785135\\\\28.3004430319744\\\\1.98686444639665\\\\16.4417533093919\\\\-0.0872599147644831\\\\5.10322368687676\\end{matrix}\\right]$"
      ],
      "text/plain": [
       "                  ⎡     \\hat x     ⎤   ⎡ -26.2611395785135 ⎤\n",
       "                  ⎢                ⎥   ⎢                   ⎥\n",
       "                  ⎢     \\hat y     ⎥   ⎢ 28.3004430319744  ⎥\n",
       "                  ⎢                ⎥   ⎢                   ⎥\n",
       "                  ⎢   \\hat \\psi    ⎥   ⎢ 1.98686444639665  ⎥\n",
       "predicted\\ₛₜₐₜₑ = ⎢                ⎥ = ⎢                   ⎥\n",
       "                  ⎢     \\hat v     ⎥   ⎢ 16.4417533093919  ⎥\n",
       "                  ⎢                ⎥   ⎢                   ⎥\n",
       "                  ⎢\\hat{\\dot{\\psi}}⎥   ⎢-0.0872599147644831⎥\n",
       "                  ⎢                ⎥   ⎢                   ⎥\n",
       "                  ⎣     \\hat a     ⎦   ⎣ 5.10322368687676  ⎦"
      ]
     },
     "metadata": {},
     "output_type": "display_data"
    },
    {
     "name": "stdout",
     "output_type": "stream",
     "text": [
      "----------------------------------------------------------------------------------------------------\n"
     ]
    },
    {
     "data": {
      "text/latex": [
       "$\\displaystyle updated\\_{state} = \\left[\\begin{matrix}x\\\\y\\\\\\psi\\\\v\\\\\\dot\\psi\\\\a\\end{matrix}\\right] = \\left[\\begin{matrix}-26.7932949002625\\\\29.5708638287191\\\\2.01272182980609\\\\16.5033434190006\\\\0.0302614610274864\\\\2.19560806171976\\end{matrix}\\right]$"
      ],
      "text/plain": [
       "                ⎡   x    ⎤   ⎡-26.7932949002625 ⎤\n",
       "                ⎢        ⎥   ⎢                  ⎥\n",
       "                ⎢   y    ⎥   ⎢ 29.5708638287191 ⎥\n",
       "                ⎢        ⎥   ⎢                  ⎥\n",
       "                ⎢  \\psi  ⎥   ⎢ 2.01272182980609 ⎥\n",
       "updated\\ₛₜₐₜₑ = ⎢        ⎥ = ⎢                  ⎥\n",
       "                ⎢   v    ⎥   ⎢ 16.5033434190006 ⎥\n",
       "                ⎢        ⎥   ⎢                  ⎥\n",
       "                ⎢\\dot\\psi⎥   ⎢0.0302614610274864⎥\n",
       "                ⎢        ⎥   ⎢                  ⎥\n",
       "                ⎣   a    ⎦   ⎣ 2.19560806171976 ⎦"
      ]
     },
     "metadata": {},
     "output_type": "display_data"
    },
    {
     "name": "stdout",
     "output_type": "stream",
     "text": [
      "*Noise included\n",
      "----------------------------------------------------------------------------------------------------\n"
     ]
    },
    {
     "data": {
      "text/latex": [
       "$\\displaystyle - sensors\\_{std} \\leq noise \\leq sensors\\_{std} = \\left[\\begin{matrix}-1.5\\\\-1.5\\\\-0.02\\\\-1.0\\\\-0.1\\\\-0.5\\end{matrix}\\right] \\leq \\left[\\begin{matrix}1.391\\\\-1.0449\\\\0.0106\\\\0.9431\\\\0.0677\\\\0.3961\\end{matrix}\\right] \\leq \\left[\\begin{matrix}1.5\\\\1.5\\\\0.02\\\\1.0\\\\0.1\\\\0.5\\end{matrix}\\right]$"
      ],
      "text/plain": [
       "                                       ⎡-1.5 ⎤   ⎡ 1.391 ⎤   ⎡1.5 ⎤\n",
       "                                       ⎢     ⎥   ⎢       ⎥   ⎢    ⎥\n",
       "                                       ⎢-1.5 ⎥   ⎢-1.0449⎥   ⎢1.5 ⎥\n",
       "                                       ⎢     ⎥   ⎢       ⎥   ⎢    ⎥\n",
       "                                       ⎢-0.02⎥   ⎢0.0106 ⎥   ⎢0.02⎥\n",
       "-sensors\\_std ≤ noise ≤ sensors\\_std = ⎢     ⎥ ≤ ⎢       ⎥ ≤ ⎢    ⎥\n",
       "                                       ⎢-1.0 ⎥   ⎢0.9431 ⎥   ⎢1.0 ⎥\n",
       "                                       ⎢     ⎥   ⎢       ⎥   ⎢    ⎥\n",
       "                                       ⎢-0.1 ⎥   ⎢0.0677 ⎥   ⎢0.1 ⎥\n",
       "                                       ⎢     ⎥   ⎢       ⎥   ⎢    ⎥\n",
       "                                       ⎣-0.5 ⎦   ⎣0.3961 ⎦   ⎣0.5 ⎦"
      ]
     },
     "metadata": {},
     "output_type": "display_data"
    },
    {
     "name": "stdout",
     "output_type": "stream",
     "text": [
      "====================================================================================================\n"
     ]
    }
   ],
   "source": [
    "import numpy as np\n",
    "from numpy.random import default_rng\n",
    "from sympy import Matrix, Eq, Le, Ge, symbols, init_printing\n",
    "from copy import deepcopy\n",
    "from IPython.display import display\n",
    "\n",
    "init_printing()\n",
    "\n",
    "STATE_SIZE = 6 # States\n",
    "STATE_X_IDX, STATE_Y_IDX, STATE_YAW_IDX, STATE_VELOCITY_IDX, STATE_YAW_RATE_IDX, STATE_ACCELERATION_IDX = range(STATE_SIZE)\n",
    "\n",
    "# Generated running the loop with correction commented, just with prediction\n",
    "measurements_mock = np.array([\n",
    "    [3.7538, 0.4616, 1.761, 6.6948, 0.4488, 4.0],\n",
    "    [2.8449, 3.5203, 1.9512, 8.3896, 0.4488, 4.0],\n",
    "    [1.0564, 6.6834, 2.2174, 8.8133, 0.6283, 1.0],\n",
    "    [-1.627, 9.3919, 2.4836, 9.237, 0.6283, 1.0],\n",
    "    [-5.0039, 11.3473, 2.7498, 9.237, 0.6283, 0.0],\n",
    "    [-8.7762, 12.3455, 3.016, 9.237, 0.6283, 0.0],\n",
    "    [-12.7749, 13.1978, 2.8496, 10.0844, -0.3927, 2.0],\n",
    "    [-16.9109, 14.8321, 2.6832, 10.9318, -0.3927, 2.0],\n",
    "    [-20.7895, 17.6414, 2.3504, 11.7792, -0.7854, 2.0],\n",
    "    [-23.7432, 21.856, 2.0176, 12.6266, -0.7854, 2.0],\n",
    "    [-26.3263, 27.2473, 2.0176, 15.5925, 0.0, 7.0],\n",
    "    [-29.1809, 33.2053, 2.0176, 15.5925, 0.0, 0.0],\n",
    "])\n",
    "\n",
    "noises_mock = np.array([\n",
    "    [0.7317, 0.8656, 0.0095, -0.5005, 0.0835, -0.4629],\n",
    "    [-0.0571, -1.0837, -0.0015, 0.4288, -0.0634, -0.0808],\n",
    "    [-0.5773, -1.1117, -0.0182, -0.778, 0.0696, -0.4022],\n",
    "    [0.8567, 1.2855, 0.0112, -0.2399, 0.0904, -0.3941],\n",
    "    [-0.8416, 0.1583, 0.0063, -0.6525, 0.084, -0.3697],\n",
    "    [1.1896, -0.95, 0.0111, 0.4016, 0.0349, -0.1406],\n",
    "    [0.5857, -0.9672, -0.0158, 0.3913, -0.0223, 0.2368],\n",
    "    [-0.5729, -0.5062, 0.0078, -0.6339, -0.0688, 0.1991],\n",
    "    [0.2298, 0.2873, -0.0159, 0.0898, -0.0375, -0.3652],\n",
    "    [-0.2236, 0.5324, -0.0147, -0.1144, 0.0552, 0.3881],\n",
    "    [0.6675, -0.5955, 0.018, 0.6145, -0.0493, -0.0704],\n",
    "    [1.391, -1.0449, 0.0106, 0.9431, 0.0677, 0.3961],\n",
    "])\n",
    "\n",
    "def predict(x, P, dt):\n",
    "    noise_pos     = 0.5*8.8*dt**2  # assume 8.8m/s2 as maximum acceleration, forcing the vehicle\n",
    "    noise_course  = 0.1*dt # assume 0.1rad/s as maximum turn rate for the vehicle\n",
    "    noise_velocity= 8.8*dt # assume 8.8m/s2 as maximum acceleration, forcing the vehicle\n",
    "    noise_yawrate = 1.0*dt # assume 1.0rad/s2 as the maximum turn rate acceleration for the vehicle\n",
    "    noise_accel   = 0.5 # assume 0.5m/s2\n",
    "\n",
    "    # TODO: Can be improved and calibratred\n",
    "    Q = np.diag([noise_pos**2, noise_pos**2, noise_course**2, noise_velocity**2, noise_yawrate**2, noise_accel**2])\n",
    "    \n",
    "    pos_x, pos_y, yaw, velocity, yaw_rate, acceleration = x\n",
    "\n",
    "    if np.abs(yaw_rate) < 0.00001: # Driving straight\n",
    "        yaw_rate = 0.00001\n",
    "\n",
    "    x[STATE_X_IDX] = pos_x + (1 / yaw_rate**2) * \\\n",
    "        ( \\\n",
    "            (velocity*yaw_rate + acceleration * yaw_rate * dt) * np.sin(yaw + yaw_rate* dt) \\\n",
    "            + acceleration * np.cos(yaw + yaw_rate * dt) \\\n",
    "            - velocity * yaw_rate * np.sin(yaw) - acceleration * np.cos(yaw) \\\n",
    "        )\n",
    "\n",
    "    x[STATE_Y_IDX] = pos_y + (1 / yaw_rate**2) * \\\n",
    "        ( \\\n",
    "            (-velocity*yaw_rate - acceleration * yaw_rate * dt) * np.cos(yaw + yaw_rate* dt) \\\n",
    "            + acceleration * np.sin(yaw + yaw_rate * dt) \\\n",
    "            + velocity * yaw_rate * np.cos(yaw) - acceleration * np.sin(yaw) \\\n",
    "        )\n",
    "\n",
    "    x[STATE_YAW_IDX] = (yaw + yaw_rate * dt + np.pi) % (2.0 * np.pi) - np.pi\n",
    "    x[STATE_VELOCITY_IDX] = velocity + acceleration * dt \n",
    "    x[STATE_YAW_RATE_IDX] = yaw_rate\n",
    "    x[STATE_ACCELERATION_IDX] = acceleration\n",
    "\n",
    "    pos_x, pos_y, yaw, velocity, yaw_rate, acceleration = x\n",
    "\n",
    "    # Calculate the Jacobian of the Dynamic Matrix A\n",
    "    a13 = ( \\\n",
    "      (-yaw_rate*velocity*np.cos(yaw) + acceleration*np.sin(yaw) \\\n",
    "      - acceleration*np.sin(dt*yaw_rate + yaw) + (dt*yaw_rate*acceleration + yaw_rate*velocity)*np.cos(dt*yaw_rate \\\n",
    "      + yaw))/yaw_rate**2 \\\n",
    "    ).item(0)\n",
    "\n",
    "    a14 = ( \\\n",
    "      (-yaw_rate*np.sin(yaw) + yaw_rate*np.sin(dt*yaw_rate + yaw))/yaw_rate**2 \\\n",
    "    ).item(0)\n",
    "\n",
    "    a15 = ( \\\n",
    "      ( \\\n",
    "        -dt*acceleration*np.sin(dt*yaw_rate + yaw) + dt*(dt*yaw_rate*acceleration + yaw_rate*velocity) \\\n",
    "        * np.cos(dt*yaw_rate + yaw) - velocity*np.sin(yaw) + (dt*acceleration + velocity) \\\n",
    "        * np.sin(dt*yaw_rate + yaw) \\\n",
    "      ) / yaw_rate**2 \\\n",
    "      - 2*( \\\n",
    "        -yaw_rate*velocity*np.sin(yaw) - acceleration \\\n",
    "        * np.cos(yaw) + acceleration*np.cos(dt*yaw_rate + yaw) + (dt*yaw_rate*acceleration + yaw_rate*velocity) \\\n",
    "        * np.sin(dt*yaw_rate + yaw) \\\n",
    "      ) / yaw_rate**3 \\\n",
    "    ).item(0)\n",
    "\n",
    "    a16 = ( \\\n",
    "      (dt*yaw_rate*np.sin(dt*yaw_rate + yaw) - np.cos(yaw) + np.cos(dt * yaw_rate + yaw))/yaw_rate**2 \\\n",
    "    ).item(0)\n",
    "\n",
    "    a23 = ( \\\n",
    "      ( \\\n",
    "        -yaw_rate * velocity * np.sin(yaw) - acceleration * np.cos(yaw) + acceleration * np.cos(dt * yaw_rate + yaw) \\\n",
    "        - (-dt * yaw_rate*acceleration - yaw_rate * velocity) * np.sin(dt * yaw_rate + yaw) \\\n",
    "      ) / yaw_rate**2 \\\n",
    "    ).item(0)\n",
    "\n",
    "    a24 = ( \\\n",
    "      (yaw_rate * np.cos(yaw) - yaw_rate*np.cos(dt*yaw_rate + yaw))/yaw_rate**2 \\\n",
    "    ).item(0)\n",
    "\n",
    "    a25 = ( \\\n",
    "      ( \\\n",
    "        dt * acceleration*np.cos(dt*yaw_rate + yaw) - dt * (-dt*yaw_rate*acceleration - yaw_rate * velocity) \\\n",
    "        * np.sin(dt * yaw_rate + yaw) + velocity*np.cos(yaw) + (-dt*acceleration - velocity)*np.cos(dt*yaw_rate + yaw) \\\n",
    "      ) / yaw_rate**2 \\\n",
    "      - 2*( \\\n",
    "        yaw_rate*velocity*np.cos(yaw) - acceleration * np.sin(yaw) + acceleration * np.sin(dt*yaw_rate + yaw) \\\n",
    "        + (-dt * yaw_rate * acceleration - yaw_rate * velocity)*np.cos(dt*yaw_rate + yaw) \\\n",
    "      ) / yaw_rate**3 \\\n",
    "    ).item(0)\n",
    "\n",
    "    a26 = ( \\\n",
    "      (-dt*yaw_rate*np.cos(dt*yaw_rate + yaw) - np.sin(yaw) + np.sin(dt*yaw_rate + yaw))/yaw_rate**2 \\\n",
    "    ).item(0)\n",
    "      \n",
    "    JA = np.matrix([[1.0, 0.0, a13, a14, a15, a16],\n",
    "                    [0.0, 1.0, a23, a24, a25, a26],\n",
    "                    [0.0, 0.0, 1.0, 0.0, dt, 0.0],\n",
    "                    [0.0, 0.0, 0.0, 1.0, 0.0, dt],\n",
    "                    [0.0, 0.0, 0.0, 0.0, 1.0, 0.0],\n",
    "                    [0.0, 0.0, 0.0, 0.0, 0.0, 1.0]])\n",
    "  \n",
    "    # Project the error covariance ahead\n",
    "    P = JA*P*JA.T + Q\n",
    "\n",
    "    return x, P\n",
    "\n",
    "\n",
    "def update(measurement, x, P, R):\n",
    "    hx = x.copy()  # Not making any transformation and considering all the atributes are being measured\n",
    "\n",
    "    # Identity because is assumed that for each attribute in state there exists a respective measurement attribute\n",
    "    JH = np.eye(hx.shape[0])\n",
    "\n",
    "    S = JH*P*JH.T + R\n",
    "    K = (P*JH.T) * np.linalg.inv(S)\n",
    "\n",
    "    # Update the estimate via\n",
    "    Z = measurement.reshape(JH.shape[0], 1)\n",
    "    y = Z - hx  # Innovation or Residual\n",
    "    x = x + K*y\n",
    "\n",
    "    # Update the error covariance\n",
    "    P = (np.eye(STATE_SIZE) - K*JH)*P\n",
    "            \n",
    "    # TODO: Remove in main C++ code\n",
    "    x0.append(float(x[0]))\n",
    "    x1.append(float(x[1]))\n",
    "    x2.append(float(x[2]))\n",
    "    x3.append(float(x[3]))\n",
    "    x4.append(float(x[4]))\n",
    "    x5.append(float(x[5]))\n",
    "    Zx.append(float(Z[0]))\n",
    "    Zy.append(float(Z[1]))    \n",
    "    Px.append(float(P[0,0]))\n",
    "    Py.append(float(P[1,1]))\n",
    "    Pdx.append(float(P[2,2]))\n",
    "    Pdy.append(float(P[3,3]))\n",
    "    Pddx.append(float(P[4,4]))\n",
    "    Pdv.append(float(P[5,5]))\n",
    "    Kx.append(float(K[0,0]))\n",
    "    Ky.append(float(K[1,0]))\n",
    "    Kdx.append(float(K[2,0]))\n",
    "    Kdy.append(float(K[3,0]))\n",
    "    Kddx.append(float(K[4,0]))\n",
    "    Kdv.append(float(K[5,0]))\n",
    "\n",
    "    return x, P\n",
    "\n",
    "if __name__ == '__main__':\n",
    "    P = np.diag([10.0, 10.0, 10.0, 10.0, 10.0, 10.0])\n",
    "    \n",
    "    std_pos = 1.5 # standard deviation of positioning measurements\n",
    "    std_speed = 1.0 # standard deviation of the speed measurements\n",
    "    std_yawrate = 0.1 # standard deviation of the yawrate measurements\n",
    "    std_yaw = 0.02 # standard deviation of the yaw measurements\n",
    "    std_acc = 0.5 # standard deviation of the longitudinal acceleration\n",
    "\n",
    "    R = np.diag([std_pos**2, std_pos**2, std_yaw**2, std_speed**2, std_yawrate**2, std_acc**2])\n",
    "\n",
    "    initial_state = np.array([[4, -2, np.pi/2, 5, np.pi/7, 4]], dtype='float64').T\n",
    "    initial_noise = np.array([[-1.044, 1.0289, -0.0145, 0.9013, -0.0183, 0.0579]]).T\n",
    "      \n",
    "    x = initial_state + initial_noise\n",
    "      \n",
    "    random_generator = default_rng()\n",
    "    \n",
    "#     dts = [random_generator.random() for _ in measurements_mock]\n",
    "#     dts = [np.round(dt, 4) for dt in dts]\n",
    "#     print(dts)\n",
    "    dts = (0.4571, 0.5364, 0.1067, 0.5539, 0.0843, 0.0452, 0.017, 0.1824, 0.5568, 0.9355, 0.2909, 0.1086, 0.4237)\n",
    "    \n",
    "    measurements = deepcopy(measurements_mock)\n",
    "    \n",
    "    all_noises, all_states, all_ps = [], [], []\n",
    "\n",
    "    # for i, (measurement, dt) in enumerate(zip(measurements, dts), 1):\n",
    "    for i, (measurement, noises, dt) in enumerate(zip(measurements, noises_mock, dts), 1):\n",
    "        sensors_std = np.array([std_pos, std_pos, std_yaw, std_speed, std_yawrate, std_acc])\n",
    "        \n",
    "        # Adding noise\n",
    "#         noises = (random_generator.random() for _ in sensors_std)\n",
    "#         noises = np.array([n * 2*std - std for std, n in zip(sensors_std, noises)])  # Putting noises in std range\n",
    "        measurement += noises\n",
    "        all_noises.append(noises)\n",
    "        \n",
    "        x_noisy_measurement.append(measurement[STATE_X_IDX])\n",
    "        y_noisy_measurement.append(measurement[STATE_Y_IDX])\n",
    "         \n",
    "        x, P = predict(x, P, dt)  # <==== EKF\n",
    "        predicted_state = deepcopy(x)\n",
    "\n",
    "        x, P = update(measurement, x, P, R)  # <===== EKF\n",
    "\n",
    "        log_state_and_noises(i, state, predicted_state, noises, dt)\n",
    "        all_states.append(x)\n",
    "        all_ps.append(P)\n",
    "        \n",
    "        x_predicted.append(predicted_state[STATE_X_IDX])\n",
    "        y_predicted.append(predicted_state[STATE_Y_IDX])\n",
    "        "
   ]
  },
  {
   "cell_type": "code",
   "execution_count": 4,
   "id": "bridal-account",
   "metadata": {},
   "outputs": [
    {
     "name": "stdout",
     "output_type": "stream",
     "text": [
      "Noises:\n",
      "[0.7317, 0.8656, 0.0095, -0.5005, 0.0835, -0.4629],\n",
      "[-0.0571, -1.0837, -0.0015, 0.4288, -0.0634, -0.0808],\n",
      "[-0.5773, -1.1117, -0.0182, -0.778, 0.0696, -0.4022],\n",
      "[0.8567, 1.2855, 0.0112, -0.2399, 0.0904, -0.3941],\n",
      "[-0.8416, 0.1583, 0.0063, -0.6525, 0.084, -0.3697],\n",
      "[1.1896, -0.95, 0.0111, 0.4016, 0.0349, -0.1406],\n",
      "[0.5857, -0.9672, -0.0158, 0.3913, -0.0223, 0.2368],\n",
      "[-0.5729, -0.5062, 0.0078, -0.6339, -0.0688, 0.1991],\n",
      "[0.2298, 0.2873, -0.0159, 0.0898, -0.0375, -0.3652],\n",
      "[-0.2236, 0.5324, -0.0147, -0.1144, 0.0552, 0.3881],\n",
      "[0.6675, -0.5955, 0.018, 0.6145, -0.0493, -0.0704],\n",
      "[1.391, -1.0449, 0.0106, 0.9431, 0.0677, 0.3961],\n",
      "----------------------------------------------------------------------------------------------------\n",
      "Saved states:\n",
      "[2.8878, 5.0147, 2.0563, 8.1324, 0.5332, 3.5436],\n",
      "[2.5063, 4.3392, 1.9977, 9.1895, 0.3875, 3.7902],\n",
      "[-1.6235, 8.3873, 2.4881, 9.4248, 0.6643, 1.7948],\n",
      "[-1.7696, 10.068, 2.5546, 9.098, 0.717, 1.0589],\n",
      "[-3.6199, 10.6923, 2.7008, 8.8268, 0.7839, 0.1768],\n",
      "[-4.877, 10.8588, 2.8408, 9.2096, 0.8445, -0.0172],\n",
      "[-8.1471, 11.6456, 2.9067, 9.9156, 0.4438, 1.3776],\n",
      "[-15.2597, 14.8488, 2.6082, 11.3263, -0.2969, 1.8894],\n",
      "[-22.3536, 27.3651, 1.5917, 13.5008, -0.8126, 1.7449],\n",
      "[-25.0839, 26.6019, 1.7816, 13.1455, -0.7288, 2.1344],\n",
      "[-26.2611, 28.3004, 1.9869, 16.4418, -0.0873, 5.1032],\n",
      "[-26.7933, 29.5709, 2.0127, 16.5033, 0.0303, 2.1956],\n",
      "----------------------------------------------------------------------------------------------------\n",
      "Saved Ps:\n",
      "[1.8716, -0.008, -0.0003, -0.0073, 0.0014, -0.0004, -0.008, 1.8964, -0.0001, 0.0252, 0.0004, 0.0009, -0.0003, -0.0001, 0.0004, 0.0, 0.0, -0.0, -0.0073, 0.0252, 0.0, 0.9614, 0.0, 0.0039, 0.0014, 0.0004, 0.0, 0.0, 0.01, 0.0, -0.0004, 0.0009, -0.0, 0.0039, 0.0, 0.2436],\n",
      "[1.3812, -0.0202, -0.0002, -0.0049, -0.0, -0.0027, -0.0202, 1.3987, -0.0001, 0.0069, -0.0, 0.0034, -0.0002, -0.0001, 0.0004, 0.0, 0.0, 0.0, -0.0049, 0.0069, 0.0, 0.9587, 0.0, 0.0018, -0.0, -0.0, 0.0, 0.0, 0.0097, 0.0, -0.0027, 0.0034, 0.0, 0.0018, 0.0, 0.1658],\n",
      "[0.8575, -0.0089, -0.0001, -0.0106, 0.0, -0.0007, -0.0089, 0.866, -0.0001, 0.0215, 0.0, 0.0009, -0.0001, -0.0001, 0.0002, 0.0, 0.0001, -0.0, -0.0106, 0.0215, 0.0, 0.6477, -0.0, 0.0026, 0.0, 0.0, 0.0001, -0.0, 0.0067, -0.0, -0.0007, 0.0009, -0.0, 0.0026, -0.0, 0.1561],\n",
      "[1.2566, -0.0186, -0.0001, -0.0058, -0.0, -0.0038, -0.0186, 1.2375, -0.0002, 0.0032, -0.0001, 0.0017, -0.0001, -0.0002, 0.0004, 0.0, 0.0, -0.0, -0.0058, 0.0032, 0.0, 0.9607, 0.0, 0.0013, -0.0, -0.0001, 0.0, 0.0, 0.0097, 0.0, -0.0038, 0.0017, -0.0, 0.0013, 0.0, 0.1547],\n",
      "[0.8081, -0.0085, -0.0001, -0.019, 0.0, -0.001, -0.0085, 0.7994, -0.0001, 0.0117, 0.0, 0.0004, -0.0001, -0.0001, 0.0002, 0.0, 0.0001, -0.0, -0.019, 0.0117, 0.0, 0.6016, -0.0, 0.0022, 0.0, 0.0, 0.0001, -0.0, 0.0062, 0.0, -0.001, 0.0004, -0.0, 0.0022, 0.0, 0.1545],\n",
      "[0.5954, -0.005, -0.0001, -0.0183, 0.0, -0.0003, -0.005, 0.5901, -0.0001, 0.0095, 0.0, 0.0001, -0.0001, -0.0001, 0.0002, 0.0, 0.0001, -0.0, -0.0183, 0.0095, 0.0, 0.4316, -0.0, 0.002, 0.0, 0.0, 0.0001, -0.0, 0.0044, 0.0, -0.0003, 0.0001, -0.0, 0.002, 0.0, 0.1545],\n",
      "[0.471, -0.0032, -0.0, -0.0138, 0.0, -0.0001, -0.0032, 0.4675, -0.0001, 0.0063, 0.0, 0.0, -0.0, -0.0001, 0.0001, 0.0, 0.0001, -0.0, -0.0138, 0.0063, 0.0, 0.3121, 0.0, 0.0012, 0.0, 0.0, 0.0001, 0.0, 0.0032, 0.0, -0.0001, 0.0, -0.0, 0.0012, 0.0, 0.1545],\n",
      "[0.4132, -0.0042, -0.0, -0.0147, -0.0, -0.0007, -0.0042, 0.4025, -0.0001, 0.0036, -0.0001, 0.0001, -0.0, -0.0001, 0.0002, 0.0, 0.0001, -0.0, -0.0147, 0.0036, 0.0, 0.743, 0.0, 0.0029, -0.0, -0.0001, 0.0001, 0.0, 0.0078, 0.0, -0.0007, 0.0001, -0.0, 0.0029, 0.0, 0.1545],\n",
      "[1.1713, -0.0248, -0.0002, -0.0066, -0.0001, -0.0036, -0.0248, 1.1506, -0.0003, 0.0046, -0.0001, 0.0026, -0.0002, -0.0003, 0.0004, -0.0, 0.0, 0.0, -0.0066, 0.0046, -0.0, 0.9612, -0.0, 0.0013, -0.0001, -0.0001, 0.0, -0.0, 0.0097, -0.0, -0.0036, 0.0026, 0.0, 0.0013, -0.0, 0.1544],\n",
      "[1.9769, 0.0021, -0.0001, 0.0005, -0.0, 0.0012, 0.0021, 1.9834, 0.0001, 0.0015, 0.0, 0.0027, -0.0001, 0.0001, 0.0004, -0.0, 0.0, -0.0, 0.0005, 0.0015, -0.0, 0.9857, -0.0, 0.0008, -0.0, 0.0, 0.0, -0.0, 0.0099, -0.0, 0.0012, 0.0027, -0.0, 0.0008, -0.0, 0.1544],\n",
      "[1.0921, -0.0013, -0.0003, -0.0017, -0.0001, 0.0002, -0.0013, 1.1113, -0.0, 0.0171, -0.0, 0.0015, -0.0003, -0.0, 0.0003, -0.0, 0.0, 0.0, -0.0017, 0.0171, -0.0, 0.8828, -0.0, 0.002, -0.0001, -0.0, 0.0, -0.0, 0.009, 0.0, 0.0002, 0.0015, 0.0, 0.002, 0.0, 0.1545],\n",
      "[0.7375, -0.0019, -0.0003, -0.0096, 0.0, 0.0, -0.0019, 0.7488, -0.0001, 0.0251, -0.0, 0.0005, -0.0003, -0.0001, 0.0002, -0.0, 0.0001, 0.0, -0.0096, 0.0251, -0.0, 0.6421, 0.0, 0.0026, 0.0, -0.0, 0.0001, 0.0, 0.0066, 0.0, 0.0, 0.0005, 0.0, 0.0026, 0.0, 0.1545],\n",
      "[[3.0, 5.0, 2.0, 8.0, 1.0, 4.0]]\n"
     ]
    }
   ],
   "source": [
    "# Saved info copy and paste friendly\n",
    "\n",
    "print(\"Noises:\")\n",
    "for noises in all_noises:\n",
    "    noises = np.round(noises, 4).tolist()\n",
    "    print(str(noises) + ',')\n",
    "print('-'*100)\n",
    "print(\"Saved states:\")\n",
    "for state in all_states:\n",
    "    state = np.round(state.T, 4).tolist()\n",
    "    print(str(state[0]) + ',')\n",
    "print('-'*100)\n",
    "print(\"Saved Ps:\")\n",
    "for ps in all_ps:\n",
    "    ps = np.round(ps.reshape(-1), 4).tolist()\n",
    "    print(str(ps[0]) + ',')\n",
    "\n",
    "print(np.round(all_states[0]).reshape(-1).tolist())"
   ]
  },
  {
   "cell_type": "code",
   "execution_count": 5,
   "id": "sorted-dress",
   "metadata": {},
   "outputs": [
    {
     "name": "stdout",
     "output_type": "stream",
     "text": [
      "# Copy and paste as content of 'mock' array\n",
      "[4.0, -2.0, 1.5708, 5.0, 0.4488, 4.0],\n",
      "[3.986, -1.4336, 1.6195, 5.4344, 0.4488, 4.0],\n",
      "[3.941, -0.8215, 1.6682, 5.8688, 0.4488, 4.0],\n",
      "[3.8566, -0.1839, 1.7364, 5.9774, 0.6283, 1.0],\n",
      "[3.7266, 0.458, 1.8046, 6.086, 0.6283, 1.0],\n",
      "[3.5517, 1.0952, 1.8728, 6.086, 0.6283, 0.0],\n",
      "[3.3337, 1.719, 1.941, 6.086, 0.6283, 0.0],\n",
      "[3.1038, 2.3512, 1.8984, 6.3032, -0.3927, 2.0],\n",
      "[2.8939, 3.0151, 1.8558, 6.5204, -0.3927, 2.0],\n",
      "[2.7213, 3.7138, 1.7705, 6.7376, -0.7854, 2.0],\n",
      "[2.6052, 4.4479, 1.6852, 6.9548, -0.7854, 2.0],\n",
      "[2.5143, 5.2393, 1.6852, 7.715, 0.0, 7.0],\n",
      "[2.4187, 6.0717, 1.6852, 7.715, 0.0, 0.0],\n"
     ]
    }
   ],
   "source": [
    "# Used to generate the measurements_mock array used previously\n",
    "def generate_mock(initial_state, dts):\n",
    "    x = list(np.round(initial_state.T[0], 4))\n",
    "    P = np.diag([10.0, 10.0, 10.0, 10.0, 10.0, 10.0])\n",
    "\n",
    "    print(\"# Copy and paste as content of 'mock' array\")\n",
    "    print(str(x) + ',')\n",
    "    for i, _ in enumerate(dts, 1):\n",
    "        if i == 3:\n",
    "            x[STATE_ACCELERATION_IDX] -= 3\n",
    "            x[STATE_YAW_RATE_IDX] = np.pi/5\n",
    "        elif i == 5:\n",
    "            x[STATE_ACCELERATION_IDX] -= 1\n",
    "        elif i == 7:\n",
    "            x[STATE_ACCELERATION_IDX] += 2\n",
    "            x[STATE_YAW_RATE_IDX] = -np.pi/8\n",
    "        elif i == 9:\n",
    "            x[STATE_YAW_RATE_IDX] = -np.pi/4\n",
    "        elif i == 11:\n",
    "            x[STATE_ACCELERATION_IDX] += 5\n",
    "            x[STATE_YAW_RATE_IDX] = 0\n",
    "        elif i == 12:\n",
    "            x[STATE_ACCELERATION_IDX] = 0\n",
    "            x[STATE_YAW_RATE_IDX] = 0\n",
    "\n",
    "        x, P = predict(x, P, dt)\n",
    "\n",
    "        if i < len(dts):\n",
    "            x = np.round(x, 4)\n",
    "            print(str(list(x)) + ',')\n",
    "        \n",
    "generate_mock(initial_state, dts)"
   ]
  },
  {
   "cell_type": "markdown",
   "id": "authorized-astronomy",
   "metadata": {},
   "source": [
    "## Conversions to/from Object Model"
   ]
  },
  {
   "cell_type": "code",
   "execution_count": 6,
   "id": "backed-garlic",
   "metadata": {},
   "outputs": [
    {
     "name": "stdout",
     "output_type": "stream",
     "text": [
      "Object Model: [ 4.     -2.      0.      5.      0.      4.      1.5708  0.4488]\n",
      "Local state format: [ 4.     -2.      1.5708  5.      0.4488  4.    ]\n"
     ]
    }
   ],
   "source": [
    "def convert_to_object_model(state):\n",
    "    # From [x, y, yaw, v, yaw_rate, a] to [x, y, vx, vy, ax, ay, yaw, yaw_rate] \n",
    "    new_state = np.zeros(8)\n",
    "    new_state[0], new_state[1], new_state[2], new_state[3] = state[0], state[1], np.cos(state[2])*state[3], np.sin(state[2])*state[3]\n",
    "    new_state[4], new_state[5], new_state[6], new_state[7] = np.cos(state[2])*state[5], np.sin(state[2])*state[5], state[2], state[4]\n",
    "    \n",
    "    return np.round(new_state, 4)\n",
    "\n",
    "def convert_from_object_model(state):\n",
    "    # From [x, y, vx, vy, ax, ay, yaw, yaw_rate] to [x, y, yaw, v, yaw_rate, a]\n",
    "    new_state = np.zeros(6)\n",
    "    new_state[0], new_state[1], new_state[2] = state[0], state[1], state[6]\n",
    "    new_state[3], new_state[4], new_state[5]= np.hypot(state[2], state[3]), state[7], np.hypot(state[4], state[5])\n",
    "    \n",
    "    return np.round(new_state, 4)\n",
    "    \n",
    "v = np.array([4.0, -2.0, np.pi/2, 5.0, np.pi/7, 4.0], dtype='float64')\n",
    "object_model = convert_to_object_model(v)\n",
    "print(\"Object Model:\", object_model)\n",
    "state = convert_from_object_model(object_model)\n",
    "print(\"Local state format:\", state)\n",
    "\n",
    "assert len(state) == len(v)\n",
    "assert np.allclose(state, v)\n",
    "assert np.allclose(object_model, [4, -2, 0, 5, 0, 4, np.pi/2, np.pi/7])"
   ]
  },
  {
   "cell_type": "markdown",
   "id": "hindu-necklace",
   "metadata": {},
   "source": [
    "## Plots"
   ]
  },
  {
   "cell_type": "code",
   "execution_count": 7,
   "id": "juvenile-contrast",
   "metadata": {},
   "outputs": [],
   "source": [
    "import matplotlib.pyplot as plt\n",
    "%matplotlib inline\n",
    "\n",
    "m = len(measurements_mock)"
   ]
  },
  {
   "cell_type": "markdown",
   "id": "radical-officer",
   "metadata": {},
   "source": [
    "### Kalman Gain"
   ]
  },
  {
   "cell_type": "code",
   "execution_count": 8,
   "id": "unauthorized-congo",
   "metadata": {},
   "outputs": [
    {
     "data": {
      "image/png": "[encoded data removed]",
      "text/plain": [
       "<Figure size 1152x648 with 1 Axes>"
      ]
     },
     "metadata": {
      "needs_background": "light"
     },
     "output_type": "display_data"
    }
   ],
   "source": [
    "fig = plt.figure(figsize=(16,9))\n",
    "plt.step(range(m),Kx, label='$x$')\n",
    "plt.step(range(m),Ky, label='$y$')\n",
    "plt.step(range(m),Kdx, label='$\\psi$')\n",
    "plt.step(range(m),Kdy, label='$v$')\n",
    "\n",
    "\n",
    "plt.xlabel('Filter Step')\n",
    "plt.ylabel('')\n",
    "plt.title('Kalman Gain (the lower, the more the measurement fullfill the prediction)')\n",
    "plt.legend(prop={'size':18})\n",
    "plt.ylim([-0.2,0.2]);"
   ]
  },
  {
   "cell_type": "markdown",
   "id": "breeding-license",
   "metadata": {},
   "source": [
    "### Uncertainties"
   ]
  },
  {
   "cell_type": "code",
   "execution_count": 9,
   "id": "adjusted-funds",
   "metadata": {},
   "outputs": [
    {
     "data": {
      "text/plain": [
       "<matplotlib.legend.Legend at 0x7fda49169198>"
      ]
     },
     "execution_count": 9,
     "metadata": {},
     "output_type": "execute_result"
    },
    {
     "data": {
      "image/png": "[encoded data removed]",
      "text/plain": [
       "<Figure size 1152x648 with 1 Axes>"
      ]
     },
     "metadata": {
      "needs_background": "light"
     },
     "output_type": "display_data"
    }
   ],
   "source": [
    "\n",
    "fig = plt.figure(figsize=(16,9))\n",
    "plt.semilogy(range(m),Px, label='$x$')\n",
    "plt.step(range(m),Py, label='$y$')\n",
    "plt.step(range(m),Pdx, label='$\\psi$')\n",
    "plt.step(range(m),Pdy, label='$v$')\n",
    "plt.step(range(m),Pddx, label='$\\dot \\psi$')\n",
    "\n",
    "plt.xlabel('Filter Step')\n",
    "plt.ylabel('')\n",
    "plt.title('Uncertainty (Elements from Matrix $P$)')\n",
    "plt.legend(loc='best',prop={'size':22})"
   ]
  },
  {
   "cell_type": "markdown",
   "id": "dying-duration",
   "metadata": {},
   "source": [
    "### Position x/y"
   ]
  },
  {
   "cell_type": "code",
   "execution_count": 10,
   "id": "brilliant-shade",
   "metadata": {},
   "outputs": [
    {
     "data": {
      "image/png": "[encoded data removed]",
      "text/plain": [
       "<Figure size 864x648 with 1 Axes>"
      ]
     },
     "metadata": {
      "needs_background": "light"
     },
     "output_type": "display_data"
    }
   ],
   "source": [
    "fig = plt.figure(figsize=(12,9))\n",
    "\n",
    "x_measurement, y_measurement = measurements_mock[:, STATE_X_IDX], measurements_mock[:, STATE_Y_IDX]\n",
    "x_noisy_measurement, y_noisy_measurement, x_predicted, y_predicted = np.array(\n",
    "    [x_noisy_measurement, y_noisy_measurement, x_predicted, y_predicted],\n",
    "    dtype='float64'\n",
    ")\n",
    "\n",
    "plt.plot(x0, x1, label='EKF', c='g', lw=3)\n",
    "plt.plot(x_predicted, y_predicted, label='Predicted', c='r', lw=1.5, ls='--')\n",
    "\n",
    "# plt.plot(x_measurement, y_measurement, label='Measurement - no noise', c='b', lw=1.5, ls=':')\n",
    "plt.plot(x_noisy_measurement, y_noisy_measurement, label='Measurement - with noise', c='y', lw=1.5, ls='--')\n",
    "\n",
    "plt.legend(loc=\"lower left\")\n",
    "plt.show()"
   ]
  }
 ],
 "metadata": {
  "kernelspec": {
   "display_name": "Python 3",
   "language": "python",
   "name": "python3"
  },
  "language_info": {
   "codemirror_mode": {
    "name": "ipython",
    "version": 3
   },
   "file_extension": ".py",
   "mimetype": "text/x-python",
   "name": "python",
   "nbconvert_exporter": "python",
   "pygments_lexer": "ipython3",
   "version": "3.7.3"
  }
 },
 "nbformat": 4,
 "nbformat_minor": 5
}
