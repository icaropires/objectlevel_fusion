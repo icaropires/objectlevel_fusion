{
 "cells": [
  {
   "cell_type": "markdown",
   "id": "valuable-snowboard",
   "metadata": {},
   "source": [
    "# Draft of EKF implementation for temporal alignment\n",
    "\n",
    "Using CTRA model.\n",
    "\n",
    "Heavily based on [balzer82 implementation](https://github.com/balzer82/Kalman/blob/master/Extended-Kalman-Filter-CTRA.ipynb) and [giovannix adaptation](https://github.com/giovannix/kalman/blob/master/Extended-Kalman-Filter-CTRA.ipynb)."
   ]
  },
  {
   "cell_type": "code",
   "execution_count": 1,
   "id": "together-portugal",
   "metadata": {},
   "outputs": [],
   "source": [
    "from sympy import symbols, Matrix, init_printing\n",
    "from IPython.display import display\n",
    "\n",
    "init_printing()\n",
    "\n",
    "vs, psis, dpsis, dts, xs, ys, lats, lons, axs = symbols('v \\psi \\dot\\psi T x y lat lon a')\n",
    "\n",
    "hs = Matrix([[xs],\n",
    "             [ys],\n",
    "             [psis],\n",
    "             [vs],\n",
    "             [dpsis],\n",
    "             [axs]])\n",
    "\n",
    "state = Matrix([xs,ys,psis,vs,dpsis,axs])\n",
    "\n",
    "# Preallocation for Plotting\n",
    "x0 = []\n",
    "x1 = []\n",
    "x2 = []\n",
    "x3 = []\n",
    "x4 = []\n",
    "x5 = []\n",
    "x6 = []\n",
    "Zx = []\n",
    "Zy = []\n",
    "Px = []\n",
    "Py = []\n",
    "Pdx= []\n",
    "Pdy= []\n",
    "Pddx=[]\n",
    "Pddy=[]\n",
    "Pdv =[]\n",
    "Kx = []\n",
    "Ky = []\n",
    "Kdx= []\n",
    "Kdy= []\n",
    "Kddx=[]\n",
    "Kdv= []\n",
    "dstate=[]"
   ]
  },
  {
   "cell_type": "code",
   "execution_count": 2,
   "id": "drawn-offering",
   "metadata": {},
   "outputs": [],
   "source": [
    "def log_state_and_noises(iteration, state, predicted_state, noises):\n",
    "    updated_state_s, noise_s, sensors_std_s, = symbols('updated\\_state noise sensors\\_std')\n",
    "    \n",
    "    p_x, p_y, p_psi, p_v, p_dotpsi, p_a = symbols('\\hat\\ x \\hat\\ y \\hat\\ \\psi \\hat\\ v \\hat{\\dot{\\psi}} \\hat\\ a')\n",
    "    predicted_state_matrix_s = Matrix([p_x, p_y, p_psi, p_v, p_dotpsi, p_a])\n",
    "    predicted_state_s = symbols('predicted\\_state')\n",
    "    \n",
    "    print(f'Iteration {iteration}:')\n",
    "    print('='*100)\n",
    "        \n",
    "    display(Eq(\n",
    "        predicted_state_s,\n",
    "        Eq(\n",
    "            predicted_state_matrix_s,\n",
    "            Matrix(predicted_state),\n",
    "            evaluate=False\n",
    "        )\n",
    "    ))\n",
    "    \n",
    "    print('-'*100)\n",
    "    display(Eq(\n",
    "        updated_state_s,\n",
    "        Eq(state, Matrix(x), evaluate=False)\n",
    "    ))\n",
    "    \n",
    "    print('*Noise included')  \n",
    "    print('-'*100)\n",
    "    \n",
    "    display(Eq(\n",
    "        Le(\n",
    "            -sensors_std_s,\n",
    "            Le(noise_s, sensors_std_s),\n",
    "            evaluate=False\n",
    "        ),\n",
    "        Le(\n",
    "            Matrix(-sensors_std),\n",
    "            Le(Matrix(noises), Matrix(sensors_std), evaluate=False),\n",
    "            evaluate=False\n",
    "        )\n",
    "    ))\n",
    "\n",
    "    print('='*100)"
   ]
  },
  {
   "cell_type": "code",
   "execution_count": 3,
   "id": "medieval-enhancement",
   "metadata": {},
   "outputs": [
    {
     "name": "stdout",
     "output_type": "stream",
     "text": [
      "Iteration 1:\n",
      "====================================================================================================\n"
     ]
    },
    {
     "data": {
      "text/latex": [
       "$\\displaystyle predicted\\_{state} = \\left[\\begin{matrix}\\hat x\\\\\\hat y\\\\\\hat \\psi\\\\\\hat v\\\\\\hat{\\dot{\\psi}}\\\\\\hat a\\end{matrix}\\right] = \\left[\\begin{matrix}9.980628447241\\\\11.2247964494881\\\\1.60221225333079\\\\12.5\\\\0.314159265358979\\\\5.0\\end{matrix}\\right]$"
      ],
      "text/plain": [
       "                  ⎡     \\hat x     ⎤   ⎡ 9.980628447241  ⎤\n",
       "                  ⎢                ⎥   ⎢                 ⎥\n",
       "                  ⎢     \\hat y     ⎥   ⎢11.2247964494881 ⎥\n",
       "                  ⎢                ⎥   ⎢                 ⎥\n",
       "                  ⎢   \\hat \\psi    ⎥   ⎢1.60221225333079 ⎥\n",
       "predicted\\ₛₜₐₜₑ = ⎢                ⎥ = ⎢                 ⎥\n",
       "                  ⎢     \\hat v     ⎥   ⎢      12.5       ⎥\n",
       "                  ⎢                ⎥   ⎢                 ⎥\n",
       "                  ⎢\\hat{\\dot{\\psi}}⎥   ⎢0.314159265358979⎥\n",
       "                  ⎢                ⎥   ⎢                 ⎥\n",
       "                  ⎣     \\hat a     ⎦   ⎣       5.0       ⎦"
      ]
     },
     "metadata": {},
     "output_type": "display_data"
    },
    {
     "name": "stdout",
     "output_type": "stream",
     "text": [
      "----------------------------------------------------------------------------------------------------\n"
     ]
    },
    {
     "data": {
      "text/latex": [
       "$\\displaystyle updated\\_{state} = \\left[\\begin{matrix}x\\\\y\\\\\\psi\\\\v\\\\\\dot\\psi\\\\a\\end{matrix}\\right] = \\left[\\begin{matrix}10.1215040643967\\\\11.5636454038111\\\\1.60989215129984\\\\8.56141197577739\\\\0.399731898144421\\\\5.79314573432738\\end{matrix}\\right]$"
      ],
      "text/plain": [
       "                ⎡   x    ⎤   ⎡10.1215040643967 ⎤\n",
       "                ⎢        ⎥   ⎢                 ⎥\n",
       "                ⎢   y    ⎥   ⎢11.5636454038111 ⎥\n",
       "                ⎢        ⎥   ⎢                 ⎥\n",
       "                ⎢  \\psi  ⎥   ⎢1.60989215129984 ⎥\n",
       "updated\\ₛₜₐₜₑ = ⎢        ⎥ = ⎢                 ⎥\n",
       "                ⎢   v    ⎥   ⎢8.56141197577739 ⎥\n",
       "                ⎢        ⎥   ⎢                 ⎥\n",
       "                ⎢\\dot\\psi⎥   ⎢0.399731898144421⎥\n",
       "                ⎢        ⎥   ⎢                 ⎥\n",
       "                ⎣   a    ⎦   ⎣5.79314573432738 ⎦"
      ]
     },
     "metadata": {},
     "output_type": "display_data"
    },
    {
     "name": "stdout",
     "output_type": "stream",
     "text": [
      "*Noise included\n",
      "----------------------------------------------------------------------------------------------------\n"
     ]
    },
    {
     "data": {
      "text/latex": [
       "$\\displaystyle - sensors\\_{std} \\leq noise \\leq sensors\\_{std} = \\left[\\begin{matrix}-5.0\\\\-5.0\\\\-0.01\\\\-3.0\\\\-0.1\\\\-1.0\\end{matrix}\\right] \\leq \\left[\\begin{matrix}0.44960423795705\\\\2.80584657911564\\\\0.00768194672816877\\\\-0.350886938162107\\\\0.0856482423728604\\\\0.907174440475937\\end{matrix}\\right] \\leq \\left[\\begin{matrix}5.0\\\\5.0\\\\0.01\\\\3.0\\\\0.1\\\\1.0\\end{matrix}\\right]$"
      ],
      "text/plain": [
       "                                       ⎡-5.0 ⎤   ⎡ 0.44960423795705  ⎤   ⎡5.0 \n",
       "                                       ⎢     ⎥   ⎢                   ⎥   ⎢    \n",
       "                                       ⎢-5.0 ⎥   ⎢ 2.80584657911564  ⎥   ⎢5.0 \n",
       "                                       ⎢     ⎥   ⎢                   ⎥   ⎢    \n",
       "                                       ⎢-0.01⎥   ⎢0.00768194672816877⎥   ⎢0.01\n",
       "-sensors\\_std ≤ noise ≤ sensors\\_std = ⎢     ⎥ ≤ ⎢                   ⎥ ≤ ⎢    \n",
       "                                       ⎢-3.0 ⎥   ⎢-0.350886938162107 ⎥   ⎢3.0 \n",
       "                                       ⎢     ⎥   ⎢                   ⎥   ⎢    \n",
       "                                       ⎢-0.1 ⎥   ⎢0.0856482423728604 ⎥   ⎢0.1 \n",
       "                                       ⎢     ⎥   ⎢                   ⎥   ⎢    \n",
       "                                       ⎣-1.0 ⎦   ⎣ 0.907174440475937 ⎦   ⎣1.0 \n",
       "\n",
       "⎤\n",
       "⎥\n",
       "⎥\n",
       "⎥\n",
       "⎥\n",
       "⎥\n",
       "⎥\n",
       "⎥\n",
       "⎥\n",
       "⎥\n",
       "⎦"
      ]
     },
     "metadata": {},
     "output_type": "display_data"
    },
    {
     "name": "stdout",
     "output_type": "stream",
     "text": [
      "====================================================================================================\n",
      "Iteration 2:\n",
      "====================================================================================================\n"
     ]
    },
    {
     "data": {
      "text/latex": [
       "$\\displaystyle predicted\\_{state} = \\left[\\begin{matrix}\\hat x\\\\\\hat y\\\\\\hat \\psi\\\\\\hat v\\\\\\hat{\\dot{\\psi}}\\\\\\hat a\\end{matrix}\\right] = \\left[\\begin{matrix}10.0690510731542\\\\12.447137725304\\\\1.64986534111429\\\\9.14072654921013\\\\0.399731898144421\\\\5.79314573432738\\end{matrix}\\right]$"
      ],
      "text/plain": [
       "                  ⎡     \\hat x     ⎤   ⎡10.0690510731542 ⎤\n",
       "                  ⎢                ⎥   ⎢                 ⎥\n",
       "                  ⎢     \\hat y     ⎥   ⎢ 12.447137725304 ⎥\n",
       "                  ⎢                ⎥   ⎢                 ⎥\n",
       "                  ⎢   \\hat \\psi    ⎥   ⎢1.64986534111429 ⎥\n",
       "predicted\\ₛₜₐₜₑ = ⎢                ⎥ = ⎢                 ⎥\n",
       "                  ⎢     \\hat v     ⎥   ⎢9.14072654921013 ⎥\n",
       "                  ⎢                ⎥   ⎢                 ⎥\n",
       "                  ⎢\\hat{\\dot{\\psi}}⎥   ⎢0.399731898144421⎥\n",
       "                  ⎢                ⎥   ⎢                 ⎥\n",
       "                  ⎣     \\hat a     ⎦   ⎣5.79314573432738 ⎦"
      ]
     },
     "metadata": {},
     "output_type": "display_data"
    },
    {
     "name": "stdout",
     "output_type": "stream",
     "text": [
      "----------------------------------------------------------------------------------------------------\n"
     ]
    },
    {
     "data": {
      "text/latex": [
       "$\\displaystyle updated\\_{state} = \\left[\\begin{matrix}x\\\\y\\\\\\psi\\\\v\\\\\\dot\\psi\\\\a\\end{matrix}\\right] = \\left[\\begin{matrix}9.99884696515117\\\\11.5507360174476\\\\1.63668325009072\\\\8.0850793494191\\\\0.299406605773403\\\\5.70355843392602\\end{matrix}\\right]$"
      ],
      "text/plain": [
       "                ⎡   x    ⎤   ⎡9.99884696515117 ⎤\n",
       "                ⎢        ⎥   ⎢                 ⎥\n",
       "                ⎢   y    ⎥   ⎢11.5507360174476 ⎥\n",
       "                ⎢        ⎥   ⎢                 ⎥\n",
       "                ⎢  \\psi  ⎥   ⎢1.63668325009072 ⎥\n",
       "updated\\ₛₜₐₜₑ = ⎢        ⎥ = ⎢                 ⎥\n",
       "                ⎢   v    ⎥   ⎢ 8.0850793494191 ⎥\n",
       "                ⎢        ⎥   ⎢                 ⎥\n",
       "                ⎢\\dot\\psi⎥   ⎢0.299406605773403⎥\n",
       "                ⎢        ⎥   ⎢                 ⎥\n",
       "                ⎣   a    ⎦   ⎣5.70355843392602 ⎦"
      ]
     },
     "metadata": {},
     "output_type": "display_data"
    },
    {
     "name": "stdout",
     "output_type": "stream",
     "text": [
      "*Noise included\n",
      "----------------------------------------------------------------------------------------------------\n"
     ]
    },
    {
     "data": {
      "text/latex": [
       "$\\displaystyle - sensors\\_{std} \\leq noise \\leq sensors\\_{std} = \\left[\\begin{matrix}-5.0\\\\-5.0\\\\-0.01\\\\-3.0\\\\-0.1\\\\-1.0\\end{matrix}\\right] \\leq \\left[\\begin{matrix}-0.274701849331671\\\\-2.15351687155639\\\\-0.000214135205314284\\\\0.560447872173322\\\\-0.0486044241384701\\\\0.646323137281514\\end{matrix}\\right] \\leq \\left[\\begin{matrix}5.0\\\\5.0\\\\0.01\\\\3.0\\\\0.1\\\\1.0\\end{matrix}\\right]$"
      ],
      "text/plain": [
       "                                       ⎡-5.0 ⎤   ⎡ -0.274701849331671  ⎤   ⎡5.\n",
       "                                       ⎢     ⎥   ⎢                     ⎥   ⎢  \n",
       "                                       ⎢-5.0 ⎥   ⎢  -2.15351687155639  ⎥   ⎢5.\n",
       "                                       ⎢     ⎥   ⎢                     ⎥   ⎢  \n",
       "                                       ⎢-0.01⎥   ⎢-0.000214135205314284⎥   ⎢0.\n",
       "-sensors\\_std ≤ noise ≤ sensors\\_std = ⎢     ⎥ ≤ ⎢                     ⎥ ≤ ⎢  \n",
       "                                       ⎢-3.0 ⎥   ⎢  0.560447872173322  ⎥   ⎢3.\n",
       "                                       ⎢     ⎥   ⎢                     ⎥   ⎢  \n",
       "                                       ⎢-0.1 ⎥   ⎢ -0.0486044241384701 ⎥   ⎢0.\n",
       "                                       ⎢     ⎥   ⎢                     ⎥   ⎢  \n",
       "                                       ⎣-1.0 ⎦   ⎣  0.646323137281514  ⎦   ⎣1.\n",
       "\n",
       "0 ⎤\n",
       "  ⎥\n",
       "0 ⎥\n",
       "  ⎥\n",
       "01⎥\n",
       "  ⎥\n",
       "0 ⎥\n",
       "  ⎥\n",
       "1 ⎥\n",
       "  ⎥\n",
       "0 ⎦"
      ]
     },
     "metadata": {},
     "output_type": "display_data"
    },
    {
     "name": "stdout",
     "output_type": "stream",
     "text": [
      "====================================================================================================\n",
      "Iteration 3:\n",
      "====================================================================================================\n"
     ]
    },
    {
     "data": {
      "text/latex": [
       "$\\displaystyle predicted\\_{state} = \\left[\\begin{matrix}\\hat x\\\\\\hat y\\\\\\hat \\psi\\\\\\hat v\\\\\\hat{\\dot{\\psi}}\\\\\\hat a\\end{matrix}\\right] = \\left[\\begin{matrix}9.93110177296961\\\\12.3849843859543\\\\1.66662391066806\\\\8.6554351928117\\\\0.299406605773403\\\\5.70355843392602\\end{matrix}\\right]$"
      ],
      "text/plain": [
       "                  ⎡     \\hat x     ⎤   ⎡9.93110177296961 ⎤\n",
       "                  ⎢                ⎥   ⎢                 ⎥\n",
       "                  ⎢     \\hat y     ⎥   ⎢12.3849843859543 ⎥\n",
       "                  ⎢                ⎥   ⎢                 ⎥\n",
       "                  ⎢   \\hat \\psi    ⎥   ⎢1.66662391066806 ⎥\n",
       "predicted\\ₛₜₐₜₑ = ⎢                ⎥ = ⎢                 ⎥\n",
       "                  ⎢     \\hat v     ⎥   ⎢ 8.6554351928117 ⎥\n",
       "                  ⎢                ⎥   ⎢                 ⎥\n",
       "                  ⎢\\hat{\\dot{\\psi}}⎥   ⎢0.299406605773403⎥\n",
       "                  ⎢                ⎥   ⎢                 ⎥\n",
       "                  ⎣     \\hat a     ⎦   ⎣5.70355843392602 ⎦"
      ]
     },
     "metadata": {},
     "output_type": "display_data"
    },
    {
     "name": "stdout",
     "output_type": "stream",
     "text": [
      "----------------------------------------------------------------------------------------------------\n"
     ]
    },
    {
     "data": {
      "text/latex": [
       "$\\displaystyle updated\\_{state} = \\left[\\begin{matrix}x\\\\y\\\\\\psi\\\\v\\\\\\dot\\psi\\\\a\\end{matrix}\\right] = \\left[\\begin{matrix}9.47029127843386\\\\11.9375567158672\\\\1.66662046272374\\\\8.42454443805508\\\\0.296165604213109\\\\5.75747417811491\\end{matrix}\\right]$"
      ],
      "text/plain": [
       "                ⎡   x    ⎤   ⎡9.47029127843386 ⎤\n",
       "                ⎢        ⎥   ⎢                 ⎥\n",
       "                ⎢   y    ⎥   ⎢11.9375567158672 ⎥\n",
       "                ⎢        ⎥   ⎢                 ⎥\n",
       "                ⎢  \\psi  ⎥   ⎢1.66662046272374 ⎥\n",
       "updated\\ₛₜₐₜₑ = ⎢        ⎥ = ⎢                 ⎥\n",
       "                ⎢   v    ⎥   ⎢8.42454443805508 ⎥\n",
       "                ⎢        ⎥   ⎢                 ⎥\n",
       "                ⎢\\dot\\psi⎥   ⎢0.296165604213109⎥\n",
       "                ⎢        ⎥   ⎢                 ⎥\n",
       "                ⎣   a    ⎦   ⎣5.75747417811491 ⎦"
      ]
     },
     "metadata": {},
     "output_type": "display_data"
    },
    {
     "name": "stdout",
     "output_type": "stream",
     "text": [
      "*Noise included\n",
      "----------------------------------------------------------------------------------------------------\n"
     ]
    },
    {
     "data": {
      "text/latex": [
       "$\\displaystyle - sensors\\_{std} \\leq noise \\leq sensors\\_{std} = \\left[\\begin{matrix}-5.0\\\\-5.0\\\\-0.01\\\\-3.0\\\\-0.1\\\\-1.0\\end{matrix}\\right] \\leq \\left[\\begin{matrix}-2.53502053618686\\\\-1.60324595786667\\\\0.00163461117900923\\\\1.52317705454504\\\\-0.0202472855288931\\\\0.831685031806979\\end{matrix}\\right] \\leq \\left[\\begin{matrix}5.0\\\\5.0\\\\0.01\\\\3.0\\\\0.1\\\\1.0\\end{matrix}\\right]$"
      ],
      "text/plain": [
       "                                       ⎡-5.0 ⎤   ⎡ -2.53502053618686 ⎤   ⎡5.0 \n",
       "                                       ⎢     ⎥   ⎢                   ⎥   ⎢    \n",
       "                                       ⎢-5.0 ⎥   ⎢ -1.60324595786667 ⎥   ⎢5.0 \n",
       "                                       ⎢     ⎥   ⎢                   ⎥   ⎢    \n",
       "                                       ⎢-0.01⎥   ⎢0.00163461117900923⎥   ⎢0.01\n",
       "-sensors\\_std ≤ noise ≤ sensors\\_std = ⎢     ⎥ ≤ ⎢                   ⎥ ≤ ⎢    \n",
       "                                       ⎢-3.0 ⎥   ⎢ 1.52317705454504  ⎥   ⎢3.0 \n",
       "                                       ⎢     ⎥   ⎢                   ⎥   ⎢    \n",
       "                                       ⎢-0.1 ⎥   ⎢-0.0202472855288931⎥   ⎢0.1 \n",
       "                                       ⎢     ⎥   ⎢                   ⎥   ⎢    \n",
       "                                       ⎣-1.0 ⎦   ⎣ 0.831685031806979 ⎦   ⎣1.0 \n",
       "\n",
       "⎤\n",
       "⎥\n",
       "⎥\n",
       "⎥\n",
       "⎥\n",
       "⎥\n",
       "⎥\n",
       "⎥\n",
       "⎥\n",
       "⎥\n",
       "⎦"
      ]
     },
     "metadata": {},
     "output_type": "display_data"
    },
    {
     "name": "stdout",
     "output_type": "stream",
     "text": [
      "====================================================================================================\n",
      "Iteration 4:\n",
      "====================================================================================================\n"
     ]
    },
    {
     "data": {
      "text/latex": [
       "$\\displaystyle predicted\\_{state} = \\left[\\begin{matrix}\\hat x\\\\\\hat y\\\\\\hat \\psi\\\\\\hat v\\\\\\hat{\\dot{\\psi}}\\\\\\hat a\\end{matrix}\\right] = \\left[\\begin{matrix}9.37396248445753\\\\12.803424835871\\\\1.69623702314505\\\\9.00029185586657\\\\0.296165604213109\\\\5.75747417811491\\end{matrix}\\right]$"
      ],
      "text/plain": [
       "                  ⎡     \\hat x     ⎤   ⎡9.37396248445753 ⎤\n",
       "                  ⎢                ⎥   ⎢                 ⎥\n",
       "                  ⎢     \\hat y     ⎥   ⎢ 12.803424835871 ⎥\n",
       "                  ⎢                ⎥   ⎢                 ⎥\n",
       "                  ⎢   \\hat \\psi    ⎥   ⎢1.69623702314505 ⎥\n",
       "predicted\\ₛₜₐₜₑ = ⎢                ⎥ = ⎢                 ⎥\n",
       "                  ⎢     \\hat v     ⎥   ⎢9.00029185586657 ⎥\n",
       "                  ⎢                ⎥   ⎢                 ⎥\n",
       "                  ⎢\\hat{\\dot{\\psi}}⎥   ⎢0.296165604213109⎥\n",
       "                  ⎢                ⎥   ⎢                 ⎥\n",
       "                  ⎣     \\hat a     ⎦   ⎣5.75747417811491 ⎦"
      ]
     },
     "metadata": {},
     "output_type": "display_data"
    },
    {
     "name": "stdout",
     "output_type": "stream",
     "text": [
      "----------------------------------------------------------------------------------------------------\n"
     ]
    },
    {
     "data": {
      "text/latex": [
       "$\\displaystyle updated\\_{state} = \\left[\\begin{matrix}x\\\\y\\\\\\psi\\\\v\\\\\\dot\\psi\\\\a\\end{matrix}\\right] = \\left[\\begin{matrix}10.0741857769201\\\\12.7085083104439\\\\1.69468592120436\\\\8.69909649180014\\\\0.114836339150711\\\\4.38610586736422\\end{matrix}\\right]$"
      ],
      "text/plain": [
       "                ⎡   x    ⎤   ⎡10.0741857769201 ⎤\n",
       "                ⎢        ⎥   ⎢                 ⎥\n",
       "                ⎢   y    ⎥   ⎢12.7085083104439 ⎥\n",
       "                ⎢        ⎥   ⎢                 ⎥\n",
       "                ⎢  \\psi  ⎥   ⎢1.69468592120436 ⎥\n",
       "updated\\ₛₜₐₜₑ = ⎢        ⎥ = ⎢                 ⎥\n",
       "                ⎢   v    ⎥   ⎢8.69909649180014 ⎥\n",
       "                ⎢        ⎥   ⎢                 ⎥\n",
       "                ⎢\\dot\\psi⎥   ⎢0.114836339150711⎥\n",
       "                ⎢        ⎥   ⎢                 ⎥\n",
       "                ⎣   a    ⎦   ⎣4.38610586736422 ⎦"
      ]
     },
     "metadata": {},
     "output_type": "display_data"
    },
    {
     "name": "stdout",
     "output_type": "stream",
     "text": [
      "*Noise included\n",
      "----------------------------------------------------------------------------------------------------\n"
     ]
    },
    {
     "data": {
      "text/latex": [
       "$\\displaystyle - sensors\\_{std} \\leq noise \\leq sensors\\_{std} = \\left[\\begin{matrix}-5.0\\\\-5.0\\\\-0.01\\\\-3.0\\\\-0.1\\\\-1.0\\end{matrix}\\right] \\leq \\left[\\begin{matrix}4.0489018875486\\\\0.0227822395211899\\\\0.00107195356933785\\\\1.39155125761508\\\\-0.0107271895611901\\\\0.403368937438011\\end{matrix}\\right] \\leq \\left[\\begin{matrix}5.0\\\\5.0\\\\0.01\\\\3.0\\\\0.1\\\\1.0\\end{matrix}\\right]$"
      ],
      "text/plain": [
       "                                       ⎡-5.0 ⎤   ⎡  4.0489018875486  ⎤   ⎡5.0 \n",
       "                                       ⎢     ⎥   ⎢                   ⎥   ⎢    \n",
       "                                       ⎢-5.0 ⎥   ⎢0.0227822395211899 ⎥   ⎢5.0 \n",
       "                                       ⎢     ⎥   ⎢                   ⎥   ⎢    \n",
       "                                       ⎢-0.01⎥   ⎢0.00107195356933785⎥   ⎢0.01\n",
       "-sensors\\_std ≤ noise ≤ sensors\\_std = ⎢     ⎥ ≤ ⎢                   ⎥ ≤ ⎢    \n",
       "                                       ⎢-3.0 ⎥   ⎢ 1.39155125761508  ⎥   ⎢3.0 \n",
       "                                       ⎢     ⎥   ⎢                   ⎥   ⎢    \n",
       "                                       ⎢-0.1 ⎥   ⎢-0.0107271895611901⎥   ⎢0.1 \n",
       "                                       ⎢     ⎥   ⎢                   ⎥   ⎢    \n",
       "                                       ⎣-1.0 ⎦   ⎣ 0.403368937438011 ⎦   ⎣1.0 \n",
       "\n",
       "⎤\n",
       "⎥\n",
       "⎥\n",
       "⎥\n",
       "⎥\n",
       "⎥\n",
       "⎥\n",
       "⎥\n",
       "⎥\n",
       "⎥\n",
       "⎦"
      ]
     },
     "metadata": {},
     "output_type": "display_data"
    },
    {
     "name": "stdout",
     "output_type": "stream",
     "text": [
      "====================================================================================================\n",
      "Iteration 5:\n",
      "====================================================================================================\n"
     ]
    },
    {
     "data": {
      "text/latex": [
       "$\\displaystyle predicted\\_{state} = \\left[\\begin{matrix}\\hat x\\\\\\hat y\\\\\\hat \\psi\\\\\\hat v\\\\\\hat{\\dot{\\psi}}\\\\\\hat a\\end{matrix}\\right] = \\left[\\begin{matrix}9.95885780831948\\\\13.5928553151141\\\\1.70616955511943\\\\9.13770707853657\\\\0.114836339150711\\\\4.38610586736422\\end{matrix}\\right]$"
      ],
      "text/plain": [
       "                  ⎡     \\hat x     ⎤   ⎡9.95885780831948 ⎤\n",
       "                  ⎢                ⎥   ⎢                 ⎥\n",
       "                  ⎢     \\hat y     ⎥   ⎢13.5928553151141 ⎥\n",
       "                  ⎢                ⎥   ⎢                 ⎥\n",
       "                  ⎢   \\hat \\psi    ⎥   ⎢1.70616955511943 ⎥\n",
       "predicted\\ₛₜₐₜₑ = ⎢                ⎥ = ⎢                 ⎥\n",
       "                  ⎢     \\hat v     ⎥   ⎢9.13770707853657 ⎥\n",
       "                  ⎢                ⎥   ⎢                 ⎥\n",
       "                  ⎢\\hat{\\dot{\\psi}}⎥   ⎢0.114836339150711⎥\n",
       "                  ⎢                ⎥   ⎢                 ⎥\n",
       "                  ⎣     \\hat a     ⎦   ⎣4.38610586736422 ⎦"
      ]
     },
     "metadata": {},
     "output_type": "display_data"
    },
    {
     "name": "stdout",
     "output_type": "stream",
     "text": [
      "----------------------------------------------------------------------------------------------------\n"
     ]
    },
    {
     "data": {
      "text/latex": [
       "$\\displaystyle updated\\_{state} = \\left[\\begin{matrix}x\\\\y\\\\\\psi\\\\v\\\\\\dot\\psi\\\\a\\end{matrix}\\right] = \\left[\\begin{matrix}10.0145595258538\\\\13.7283246027851\\\\1.70381569044343\\\\8.95575724389326\\\\0.0191164291120008\\\\3.3961343027325\\end{matrix}\\right]$"
      ],
      "text/plain": [
       "                ⎡   x    ⎤   ⎡ 10.0145595258538 ⎤\n",
       "                ⎢        ⎥   ⎢                  ⎥\n",
       "                ⎢   y    ⎥   ⎢ 13.7283246027851 ⎥\n",
       "                ⎢        ⎥   ⎢                  ⎥\n",
       "                ⎢  \\psi  ⎥   ⎢ 1.70381569044343 ⎥\n",
       "updated\\ₛₜₐₜₑ = ⎢        ⎥ = ⎢                  ⎥\n",
       "                ⎢   v    ⎥   ⎢ 8.95575724389326 ⎥\n",
       "                ⎢        ⎥   ⎢                  ⎥\n",
       "                ⎢\\dot\\psi⎥   ⎢0.0191164291120008⎥\n",
       "                ⎢        ⎥   ⎢                  ⎥\n",
       "                ⎣   a    ⎦   ⎣ 3.3961343027325  ⎦"
      ]
     },
     "metadata": {},
     "output_type": "display_data"
    },
    {
     "name": "stdout",
     "output_type": "stream",
     "text": [
      "*Noise included\n",
      "----------------------------------------------------------------------------------------------------\n"
     ]
    },
    {
     "data": {
      "text/latex": [
       "$\\displaystyle - sensors\\_{std} \\leq noise \\leq sensors\\_{std} = \\left[\\begin{matrix}-5.0\\\\-5.0\\\\-0.01\\\\-3.0\\\\-0.1\\\\-1.0\\end{matrix}\\right] \\leq \\left[\\begin{matrix}0.596766296403361\\\\1.64088350364337\\\\0.00813770084762925\\\\1.49728170596932\\\\-0.0442415758970011\\\\-0.105120443490838\\end{matrix}\\right] \\leq \\left[\\begin{matrix}5.0\\\\5.0\\\\0.01\\\\3.0\\\\0.1\\\\1.0\\end{matrix}\\right]$"
      ],
      "text/plain": [
       "                                       ⎡-5.0 ⎤   ⎡ 0.596766296403361 ⎤   ⎡5.0 \n",
       "                                       ⎢     ⎥   ⎢                   ⎥   ⎢    \n",
       "                                       ⎢-5.0 ⎥   ⎢ 1.64088350364337  ⎥   ⎢5.0 \n",
       "                                       ⎢     ⎥   ⎢                   ⎥   ⎢    \n",
       "                                       ⎢-0.01⎥   ⎢0.00813770084762925⎥   ⎢0.01\n",
       "-sensors\\_std ≤ noise ≤ sensors\\_std = ⎢     ⎥ ≤ ⎢                   ⎥ ≤ ⎢    \n",
       "                                       ⎢-3.0 ⎥   ⎢ 1.49728170596932  ⎥   ⎢3.0 \n",
       "                                       ⎢     ⎥   ⎢                   ⎥   ⎢    \n",
       "                                       ⎢-0.1 ⎥   ⎢-0.0442415758970011⎥   ⎢0.1 \n",
       "                                       ⎢     ⎥   ⎢                   ⎥   ⎢    \n",
       "                                       ⎣-1.0 ⎦   ⎣-0.105120443490838 ⎦   ⎣1.0 \n",
       "\n",
       "⎤\n",
       "⎥\n",
       "⎥\n",
       "⎥\n",
       "⎥\n",
       "⎥\n",
       "⎥\n",
       "⎥\n",
       "⎥\n",
       "⎥\n",
       "⎦"
      ]
     },
     "metadata": {},
     "output_type": "display_data"
    },
    {
     "name": "stdout",
     "output_type": "stream",
     "text": [
      "====================================================================================================\n",
      "Iteration 6:\n",
      "====================================================================================================\n"
     ]
    },
    {
     "data": {
      "text/latex": [
       "$\\displaystyle predicted\\_{state} = \\left[\\begin{matrix}\\hat x\\\\\\hat y\\\\\\hat \\psi\\\\\\hat v\\\\\\hat{\\dot{\\psi}}\\\\\\hat a\\end{matrix}\\right] = \\left[\\begin{matrix}9.89265969023118\\\\14.6327024840968\\\\1.70572733335463\\\\9.29537067416651\\\\0.0191164291120008\\\\3.3961343027325\\end{matrix}\\right]$"
      ],
      "text/plain": [
       "                  ⎡     \\hat x     ⎤   ⎡ 9.89265969023118 ⎤\n",
       "                  ⎢                ⎥   ⎢                  ⎥\n",
       "                  ⎢     \\hat y     ⎥   ⎢ 14.6327024840968 ⎥\n",
       "                  ⎢                ⎥   ⎢                  ⎥\n",
       "                  ⎢   \\hat \\psi    ⎥   ⎢ 1.70572733335463 ⎥\n",
       "predicted\\ₛₜₐₜₑ = ⎢                ⎥ = ⎢                  ⎥\n",
       "                  ⎢     \\hat v     ⎥   ⎢ 9.29537067416651 ⎥\n",
       "                  ⎢                ⎥   ⎢                  ⎥\n",
       "                  ⎢\\hat{\\dot{\\psi}}⎥   ⎢0.0191164291120008⎥\n",
       "                  ⎢                ⎥   ⎢                  ⎥\n",
       "                  ⎣     \\hat a     ⎦   ⎣ 3.3961343027325  ⎦"
      ]
     },
     "metadata": {},
     "output_type": "display_data"
    },
    {
     "name": "stdout",
     "output_type": "stream",
     "text": [
      "----------------------------------------------------------------------------------------------------\n"
     ]
    },
    {
     "data": {
      "text/latex": [
       "$\\displaystyle updated\\_{state} = \\left[\\begin{matrix}x\\\\y\\\\\\psi\\\\v\\\\\\dot\\psi\\\\a\\end{matrix}\\right] = \\left[\\begin{matrix}9.87600650924932\\\\14.524677850072\\\\1.69452633763764\\\\8.45763493351817\\\\-0.0363644238126959\\\\3.13225595389209\\end{matrix}\\right]$"
      ],
      "text/plain": [
       "                ⎡   x    ⎤   ⎡ 9.87600650924932  ⎤\n",
       "                ⎢        ⎥   ⎢                   ⎥\n",
       "                ⎢   y    ⎥   ⎢  14.524677850072  ⎥\n",
       "                ⎢        ⎥   ⎢                   ⎥\n",
       "                ⎢  \\psi  ⎥   ⎢ 1.69452633763764  ⎥\n",
       "updated\\ₛₜₐₜₑ = ⎢        ⎥ = ⎢                   ⎥\n",
       "                ⎢   v    ⎥   ⎢ 8.45763493351817  ⎥\n",
       "                ⎢        ⎥   ⎢                   ⎥\n",
       "                ⎢\\dot\\psi⎥   ⎢-0.0363644238126959⎥\n",
       "                ⎢        ⎥   ⎢                   ⎥\n",
       "                ⎣   a    ⎦   ⎣ 3.13225595389209  ⎦"
      ]
     },
     "metadata": {},
     "output_type": "display_data"
    },
    {
     "name": "stdout",
     "output_type": "stream",
     "text": [
      "*Noise included\n",
      "----------------------------------------------------------------------------------------------------\n"
     ]
    },
    {
     "data": {
      "text/latex": [
       "$\\displaystyle - sensors\\_{std} \\leq noise \\leq sensors\\_{std} = \\left[\\begin{matrix}-5.0\\\\-5.0\\\\-0.01\\\\-3.0\\\\-0.1\\\\-1.0\\end{matrix}\\right] \\leq \\left[\\begin{matrix}-0.119513053732705\\\\1.13513394630986\\\\-0.00603173074601445\\\\-1.23370344947337\\\\-0.05388376700916\\\\0.752422473280245\\end{matrix}\\right] \\leq \\left[\\begin{matrix}5.0\\\\5.0\\\\0.01\\\\3.0\\\\0.1\\\\1.0\\end{matrix}\\right]$"
      ],
      "text/plain": [
       "                                       ⎡-5.0 ⎤   ⎡ -0.119513053732705 ⎤   ⎡5.0\n",
       "                                       ⎢     ⎥   ⎢                    ⎥   ⎢   \n",
       "                                       ⎢-5.0 ⎥   ⎢  1.13513394630986  ⎥   ⎢5.0\n",
       "                                       ⎢     ⎥   ⎢                    ⎥   ⎢   \n",
       "                                       ⎢-0.01⎥   ⎢-0.00603173074601445⎥   ⎢0.0\n",
       "-sensors\\_std ≤ noise ≤ sensors\\_std = ⎢     ⎥ ≤ ⎢                    ⎥ ≤ ⎢   \n",
       "                                       ⎢-3.0 ⎥   ⎢ -1.23370344947337  ⎥   ⎢3.0\n",
       "                                       ⎢     ⎥   ⎢                    ⎥   ⎢   \n",
       "                                       ⎢-0.1 ⎥   ⎢ -0.05388376700916  ⎥   ⎢0.1\n",
       "                                       ⎢     ⎥   ⎢                    ⎥   ⎢   \n",
       "                                       ⎣-1.0 ⎦   ⎣ 0.752422473280245  ⎦   ⎣1.0\n",
       "\n",
       " ⎤\n",
       " ⎥\n",
       " ⎥\n",
       " ⎥\n",
       "1⎥\n",
       " ⎥\n",
       " ⎥\n",
       " ⎥\n",
       " ⎥\n",
       " ⎥\n",
       " ⎦"
      ]
     },
     "metadata": {},
     "output_type": "display_data"
    },
    {
     "name": "stdout",
     "output_type": "stream",
     "text": [
      "====================================================================================================\n",
      "Iteration 7:\n",
      "====================================================================================================\n"
     ]
    },
    {
     "data": {
      "text/latex": [
       "$\\displaystyle predicted\\_{state} = \\left[\\begin{matrix}\\hat x\\\\\\hat y\\\\\\hat \\psi\\\\\\hat v\\\\\\hat{\\dot{\\psi}}\\\\\\hat a\\end{matrix}\\right] = \\left[\\begin{matrix}9.77125809707806\\\\15.379709774775\\\\1.69088989525637\\\\8.77086052890738\\\\-0.0363644238126959\\\\3.13225595389209\\end{matrix}\\right]$"
      ],
      "text/plain": [
       "                  ⎡     \\hat x     ⎤   ⎡ 9.77125809707806  ⎤\n",
       "                  ⎢                ⎥   ⎢                   ⎥\n",
       "                  ⎢     \\hat y     ⎥   ⎢  15.379709774775  ⎥\n",
       "                  ⎢                ⎥   ⎢                   ⎥\n",
       "                  ⎢   \\hat \\psi    ⎥   ⎢ 1.69088989525637  ⎥\n",
       "predicted\\ₛₜₐₜₑ = ⎢                ⎥ = ⎢                   ⎥\n",
       "                  ⎢     \\hat v     ⎥   ⎢ 8.77086052890738  ⎥\n",
       "                  ⎢                ⎥   ⎢                   ⎥\n",
       "                  ⎢\\hat{\\dot{\\psi}}⎥   ⎢-0.0363644238126959⎥\n",
       "                  ⎢                ⎥   ⎢                   ⎥\n",
       "                  ⎣     \\hat a     ⎦   ⎣ 3.13225595389209  ⎦"
      ]
     },
     "metadata": {},
     "output_type": "display_data"
    },
    {
     "name": "stdout",
     "output_type": "stream",
     "text": [
      "----------------------------------------------------------------------------------------------------\n"
     ]
    },
    {
     "data": {
      "text/latex": [
       "$\\displaystyle updated\\_{state} = \\left[\\begin{matrix}x\\\\y\\\\\\psi\\\\v\\\\\\dot\\psi\\\\a\\end{matrix}\\right] = \\left[\\begin{matrix}9.28125000974189\\\\14.9551427646498\\\\1.68381477740924\\\\8.96966232604163\\\\-0.413610776678297\\\\1.97752092394588\\end{matrix}\\right]$"
      ],
      "text/plain": [
       "                ⎡   x    ⎤   ⎡ 9.28125000974189 ⎤\n",
       "                ⎢        ⎥   ⎢                  ⎥\n",
       "                ⎢   y    ⎥   ⎢ 14.9551427646498 ⎥\n",
       "                ⎢        ⎥   ⎢                  ⎥\n",
       "                ⎢  \\psi  ⎥   ⎢ 1.68381477740924 ⎥\n",
       "updated\\ₛₜₐₜₑ = ⎢        ⎥ = ⎢                  ⎥\n",
       "                ⎢   v    ⎥   ⎢ 8.96966232604163 ⎥\n",
       "                ⎢        ⎥   ⎢                  ⎥\n",
       "                ⎢\\dot\\psi⎥   ⎢-0.413610776678297⎥\n",
       "                ⎢        ⎥   ⎢                  ⎥\n",
       "                ⎣   a    ⎦   ⎣ 1.97752092394588 ⎦"
      ]
     },
     "metadata": {},
     "output_type": "display_data"
    },
    {
     "name": "stdout",
     "output_type": "stream",
     "text": [
      "*Noise included\n",
      "----------------------------------------------------------------------------------------------------\n"
     ]
    },
    {
     "data": {
      "text/latex": [
       "$\\displaystyle - sensors\\_{std} \\leq noise \\leq sensors\\_{std} = \\left[\\begin{matrix}-5.0\\\\-5.0\\\\-0.01\\\\-3.0\\\\-0.1\\\\-1.0\\end{matrix}\\right] \\leq \\left[\\begin{matrix}-4.52579301069265\\\\-2.80757692115168\\\\-0.00856150034235829\\\\2.76525294288207\\\\-0.0392747359756396\\\\-0.332870251933709\\end{matrix}\\right] \\leq \\left[\\begin{matrix}5.0\\\\5.0\\\\0.01\\\\3.0\\\\0.1\\\\1.0\\end{matrix}\\right]$"
      ],
      "text/plain": [
       "                                       ⎡-5.0 ⎤   ⎡ -4.52579301069265  ⎤   ⎡5.0\n",
       "                                       ⎢     ⎥   ⎢                    ⎥   ⎢   \n",
       "                                       ⎢-5.0 ⎥   ⎢ -2.80757692115168  ⎥   ⎢5.0\n",
       "                                       ⎢     ⎥   ⎢                    ⎥   ⎢   \n",
       "                                       ⎢-0.01⎥   ⎢-0.00856150034235829⎥   ⎢0.0\n",
       "-sensors\\_std ≤ noise ≤ sensors\\_std = ⎢     ⎥ ≤ ⎢                    ⎥ ≤ ⎢   \n",
       "                                       ⎢-3.0 ⎥   ⎢  2.76525294288207  ⎥   ⎢3.0\n",
       "                                       ⎢     ⎥   ⎢                    ⎥   ⎢   \n",
       "                                       ⎢-0.1 ⎥   ⎢-0.0392747359756396 ⎥   ⎢0.1\n",
       "                                       ⎢     ⎥   ⎢                    ⎥   ⎢   \n",
       "                                       ⎣-1.0 ⎦   ⎣ -0.332870251933709 ⎦   ⎣1.0\n",
       "\n",
       " ⎤\n",
       " ⎥\n",
       " ⎥\n",
       " ⎥\n",
       "1⎥\n",
       " ⎥\n",
       " ⎥\n",
       " ⎥\n",
       " ⎥\n",
       " ⎥\n",
       " ⎦"
      ]
     },
     "metadata": {},
     "output_type": "display_data"
    },
    {
     "name": "stdout",
     "output_type": "stream",
     "text": [
      "====================================================================================================\n",
      "Iteration 8:\n",
      "====================================================================================================\n"
     ]
    },
    {
     "data": {
      "text/latex": [
       "$\\displaystyle predicted\\_{state} = \\left[\\begin{matrix}\\hat x\\\\\\hat y\\\\\\hat \\psi\\\\\\hat v\\\\\\hat{\\dot{\\psi}}\\\\\\hat a\\end{matrix}\\right] = \\left[\\begin{matrix}9.19770579100173\\\\15.8580752187141\\\\1.64245369974141\\\\9.16741441843622\\\\-0.413610776678297\\\\1.97752092394588\\end{matrix}\\right]$"
      ],
      "text/plain": [
       "                  ⎡     \\hat x     ⎤   ⎡ 9.19770579100173 ⎤\n",
       "                  ⎢                ⎥   ⎢                  ⎥\n",
       "                  ⎢     \\hat y     ⎥   ⎢ 15.8580752187141 ⎥\n",
       "                  ⎢                ⎥   ⎢                  ⎥\n",
       "                  ⎢   \\hat \\psi    ⎥   ⎢ 1.64245369974141 ⎥\n",
       "predicted\\ₛₜₐₜₑ = ⎢                ⎥ = ⎢                  ⎥\n",
       "                  ⎢     \\hat v     ⎥   ⎢ 9.16741441843622 ⎥\n",
       "                  ⎢                ⎥   ⎢                  ⎥\n",
       "                  ⎢\\hat{\\dot{\\psi}}⎥   ⎢-0.413610776678297⎥\n",
       "                  ⎢                ⎥   ⎢                  ⎥\n",
       "                  ⎣     \\hat a     ⎦   ⎣ 1.97752092394588 ⎦"
      ]
     },
     "metadata": {},
     "output_type": "display_data"
    },
    {
     "name": "stdout",
     "output_type": "stream",
     "text": [
      "----------------------------------------------------------------------------------------------------\n"
     ]
    },
    {
     "data": {
      "text/latex": [
       "$\\displaystyle updated\\_{state} = \\left[\\begin{matrix}x\\\\y\\\\\\psi\\\\v\\\\\\dot\\psi\\\\a\\end{matrix}\\right] = \\left[\\begin{matrix}8.80186328903041\\\\16.2796960807967\\\\1.63840079298311\\\\9.52795211389154\\\\-0.501987215627161\\\\1.77044273992876\\end{matrix}\\right]$"
      ],
      "text/plain": [
       "                ⎡   x    ⎤   ⎡ 8.80186328903041 ⎤\n",
       "                ⎢        ⎥   ⎢                  ⎥\n",
       "                ⎢   y    ⎥   ⎢ 16.2796960807967 ⎥\n",
       "                ⎢        ⎥   ⎢                  ⎥\n",
       "                ⎢  \\psi  ⎥   ⎢ 1.63840079298311 ⎥\n",
       "updated\\ₛₜₐₜₑ = ⎢        ⎥ = ⎢                  ⎥\n",
       "                ⎢   v    ⎥   ⎢ 9.52795211389154 ⎥\n",
       "                ⎢        ⎥   ⎢                  ⎥\n",
       "                ⎢\\dot\\psi⎥   ⎢-0.501987215627161⎥\n",
       "                ⎢        ⎥   ⎢                  ⎥\n",
       "                ⎣   a    ⎦   ⎣ 1.77044273992876 ⎦"
      ]
     },
     "metadata": {},
     "output_type": "display_data"
    },
    {
     "name": "stdout",
     "output_type": "stream",
     "text": [
      "*Noise included\n",
      "----------------------------------------------------------------------------------------------------\n"
     ]
    },
    {
     "data": {
      "text/latex": [
       "$\\displaystyle - sensors\\_{std} \\leq noise \\leq sensors\\_{std} = \\left[\\begin{matrix}-5.0\\\\-5.0\\\\-0.01\\\\-3.0\\\\-0.1\\\\-1.0\\end{matrix}\\right] \\leq \\left[\\begin{matrix}-4.46191238319123\\\\4.75307553394018\\\\0.00461454422652865\\\\2.92748539869686\\\\0.0715094370001697\\\\0.935573165013281\\end{matrix}\\right] \\leq \\left[\\begin{matrix}5.0\\\\5.0\\\\0.01\\\\3.0\\\\0.1\\\\1.0\\end{matrix}\\right]$"
      ],
      "text/plain": [
       "                                       ⎡-5.0 ⎤   ⎡ -4.46191238319123 ⎤   ⎡5.0 \n",
       "                                       ⎢     ⎥   ⎢                   ⎥   ⎢    \n",
       "                                       ⎢-5.0 ⎥   ⎢ 4.75307553394018  ⎥   ⎢5.0 \n",
       "                                       ⎢     ⎥   ⎢                   ⎥   ⎢    \n",
       "                                       ⎢-0.01⎥   ⎢0.00461454422652865⎥   ⎢0.01\n",
       "-sensors\\_std ≤ noise ≤ sensors\\_std = ⎢     ⎥ ≤ ⎢                   ⎥ ≤ ⎢    \n",
       "                                       ⎢-3.0 ⎥   ⎢ 2.92748539869686  ⎥   ⎢3.0 \n",
       "                                       ⎢     ⎥   ⎢                   ⎥   ⎢    \n",
       "                                       ⎢-0.1 ⎥   ⎢0.0715094370001697 ⎥   ⎢0.1 \n",
       "                                       ⎢     ⎥   ⎢                   ⎥   ⎢    \n",
       "                                       ⎣-1.0 ⎦   ⎣ 0.935573165013281 ⎦   ⎣1.0 \n",
       "\n",
       "⎤\n",
       "⎥\n",
       "⎥\n",
       "⎥\n",
       "⎥\n",
       "⎥\n",
       "⎥\n",
       "⎥\n",
       "⎥\n",
       "⎥\n",
       "⎦"
      ]
     },
     "metadata": {},
     "output_type": "display_data"
    },
    {
     "name": "stdout",
     "output_type": "stream",
     "text": [
      "====================================================================================================\n",
      "Iteration 9:\n",
      "====================================================================================================\n"
     ]
    },
    {
     "data": {
      "text/latex": [
       "$\\displaystyle predicted\\_{state} = \\left[\\begin{matrix}\\hat x\\\\\\hat y\\\\\\hat \\psi\\\\\\hat v\\\\\\hat{\\dot{\\psi}}\\\\\\hat a\\end{matrix}\\right] = \\left[\\begin{matrix}8.76107895113326\\\\17.2403772119504\\\\1.5882020714204\\\\9.70499638788441\\\\-0.501987215627161\\\\1.77044273992876\\end{matrix}\\right]$"
      ],
      "text/plain": [
       "                  ⎡     \\hat x     ⎤   ⎡ 8.76107895113326 ⎤\n",
       "                  ⎢                ⎥   ⎢                  ⎥\n",
       "                  ⎢     \\hat y     ⎥   ⎢ 17.2403772119504 ⎥\n",
       "                  ⎢                ⎥   ⎢                  ⎥\n",
       "                  ⎢   \\hat \\psi    ⎥   ⎢ 1.5882020714204  ⎥\n",
       "predicted\\ₛₜₐₜₑ = ⎢                ⎥ = ⎢                  ⎥\n",
       "                  ⎢     \\hat v     ⎥   ⎢ 9.70499638788441 ⎥\n",
       "                  ⎢                ⎥   ⎢                  ⎥\n",
       "                  ⎢\\hat{\\dot{\\psi}}⎥   ⎢-0.501987215627161⎥\n",
       "                  ⎢                ⎥   ⎢                  ⎥\n",
       "                  ⎣     \\hat a     ⎦   ⎣ 1.77044273992876 ⎦"
      ]
     },
     "metadata": {},
     "output_type": "display_data"
    },
    {
     "name": "stdout",
     "output_type": "stream",
     "text": [
      "----------------------------------------------------------------------------------------------------\n"
     ]
    },
    {
     "data": {
      "text/latex": [
       "$\\displaystyle updated\\_{state} = \\left[\\begin{matrix}x\\\\y\\\\\\psi\\\\v\\\\\\dot\\psi\\\\a\\end{matrix}\\right] = \\left[\\begin{matrix}8.961735161901\\\\16.58039378695\\\\1.62053468180049\\\\9.04076680150578\\\\-0.142942274242998\\\\-1.8919315232026\\end{matrix}\\right]$"
      ],
      "text/plain": [
       "                ⎡   x    ⎤   ⎡  8.961735161901  ⎤\n",
       "                ⎢        ⎥   ⎢                  ⎥\n",
       "                ⎢   y    ⎥   ⎢  16.58039378695  ⎥\n",
       "                ⎢        ⎥   ⎢                  ⎥\n",
       "                ⎢  \\psi  ⎥   ⎢ 1.62053468180049 ⎥\n",
       "updated\\ₛₜₐₜₑ = ⎢        ⎥ = ⎢                  ⎥\n",
       "                ⎢   v    ⎥   ⎢ 9.04076680150578 ⎥\n",
       "                ⎢        ⎥   ⎢                  ⎥\n",
       "                ⎢\\dot\\psi⎥   ⎢-0.142942274242998⎥\n",
       "                ⎢        ⎥   ⎢                  ⎥\n",
       "                ⎣   a    ⎦   ⎣ -1.8919315232026 ⎦"
      ]
     },
     "metadata": {},
     "output_type": "display_data"
    },
    {
     "name": "stdout",
     "output_type": "stream",
     "text": [
      "*Noise included\n",
      "----------------------------------------------------------------------------------------------------\n"
     ]
    },
    {
     "data": {
      "text/latex": [
       "$\\displaystyle - sensors\\_{std} \\leq noise \\leq sensors\\_{std} = \\left[\\begin{matrix}-5.0\\\\-5.0\\\\-0.01\\\\-3.0\\\\-0.1\\\\-1.0\\end{matrix}\\right] \\leq \\left[\\begin{matrix}1.64496139942854\\\\-4.19830049633425\\\\-0.00515268637404835\\\\1.98701872789156\\\\0.0487819925181423\\\\-0.604088539812404\\end{matrix}\\right] \\leq \\left[\\begin{matrix}5.0\\\\5.0\\\\0.01\\\\3.0\\\\0.1\\\\1.0\\end{matrix}\\right]$"
      ],
      "text/plain": [
       "                                       ⎡-5.0 ⎤   ⎡  1.64496139942854  ⎤   ⎡5.0\n",
       "                                       ⎢     ⎥   ⎢                    ⎥   ⎢   \n",
       "                                       ⎢-5.0 ⎥   ⎢ -4.19830049633425  ⎥   ⎢5.0\n",
       "                                       ⎢     ⎥   ⎢                    ⎥   ⎢   \n",
       "                                       ⎢-0.01⎥   ⎢-0.00515268637404835⎥   ⎢0.0\n",
       "-sensors\\_std ≤ noise ≤ sensors\\_std = ⎢     ⎥ ≤ ⎢                    ⎥ ≤ ⎢   \n",
       "                                       ⎢-3.0 ⎥   ⎢  1.98701872789156  ⎥   ⎢3.0\n",
       "                                       ⎢     ⎥   ⎢                    ⎥   ⎢   \n",
       "                                       ⎢-0.1 ⎥   ⎢ 0.0487819925181423 ⎥   ⎢0.1\n",
       "                                       ⎢     ⎥   ⎢                    ⎥   ⎢   \n",
       "                                       ⎣-1.0 ⎦   ⎣ -0.604088539812404 ⎦   ⎣1.0\n",
       "\n",
       " ⎤\n",
       " ⎥\n",
       " ⎥\n",
       " ⎥\n",
       "1⎥\n",
       " ⎥\n",
       " ⎥\n",
       " ⎥\n",
       " ⎥\n",
       " ⎥\n",
       " ⎦"
      ]
     },
     "metadata": {},
     "output_type": "display_data"
    },
    {
     "name": "stdout",
     "output_type": "stream",
     "text": [
      "====================================================================================================\n",
      "Iteration 10:\n",
      "====================================================================================================\n"
     ]
    },
    {
     "data": {
      "text/latex": [
       "$\\displaystyle predicted\\_{state} = \\left[\\begin{matrix}\\hat x\\\\\\hat y\\\\\\hat \\psi\\\\\\hat v\\\\\\hat{\\dot{\\psi}}\\\\\\hat a\\end{matrix}\\right] = \\left[\\begin{matrix}8.92362163966112\\\\17.474190939321\\\\1.60624045437619\\\\8.85157364918552\\\\-0.142942274242998\\\\-1.8919315232026\\end{matrix}\\right]$"
      ],
      "text/plain": [
       "                  ⎡     \\hat x     ⎤   ⎡ 8.92362163966112 ⎤\n",
       "                  ⎢                ⎥   ⎢                  ⎥\n",
       "                  ⎢     \\hat y     ⎥   ⎢ 17.474190939321  ⎥\n",
       "                  ⎢                ⎥   ⎢                  ⎥\n",
       "                  ⎢   \\hat \\psi    ⎥   ⎢ 1.60624045437619 ⎥\n",
       "predicted\\ₛₜₐₜₑ = ⎢                ⎥ = ⎢                  ⎥\n",
       "                  ⎢     \\hat v     ⎥   ⎢ 8.85157364918552 ⎥\n",
       "                  ⎢                ⎥   ⎢                  ⎥\n",
       "                  ⎢\\hat{\\dot{\\psi}}⎥   ⎢-0.142942274242998⎥\n",
       "                  ⎢                ⎥   ⎢                  ⎥\n",
       "                  ⎣     \\hat a     ⎦   ⎣ -1.8919315232026 ⎦"
      ]
     },
     "metadata": {},
     "output_type": "display_data"
    },
    {
     "name": "stdout",
     "output_type": "stream",
     "text": [
      "----------------------------------------------------------------------------------------------------\n"
     ]
    },
    {
     "data": {
      "text/latex": [
       "$\\displaystyle updated\\_{state} = \\left[\\begin{matrix}x\\\\y\\\\\\psi\\\\v\\\\\\dot\\psi\\\\a\\end{matrix}\\right] = \\left[\\begin{matrix}9.13274486603532\\\\17.5119996416593\\\\1.62906546146981\\\\7.74453209321956\\\\-0.0513733335730426\\\\-3.62493674292536\\end{matrix}\\right]$"
      ],
      "text/plain": [
       "                ⎡   x    ⎤   ⎡ 9.13274486603532  ⎤\n",
       "                ⎢        ⎥   ⎢                   ⎥\n",
       "                ⎢   y    ⎥   ⎢ 17.5119996416593  ⎥\n",
       "                ⎢        ⎥   ⎢                   ⎥\n",
       "                ⎢  \\psi  ⎥   ⎢ 1.62906546146981  ⎥\n",
       "updated\\ₛₜₐₜₑ = ⎢        ⎥ = ⎢                   ⎥\n",
       "                ⎢   v    ⎥   ⎢ 7.74453209321956  ⎥\n",
       "                ⎢        ⎥   ⎢                   ⎥\n",
       "                ⎢\\dot\\psi⎥   ⎢-0.0513733335730426⎥\n",
       "                ⎢        ⎥   ⎢                   ⎥\n",
       "                ⎣   a    ⎦   ⎣ -3.62493674292536 ⎦"
      ]
     },
     "metadata": {},
     "output_type": "display_data"
    },
    {
     "name": "stdout",
     "output_type": "stream",
     "text": [
      "*Noise included\n",
      "----------------------------------------------------------------------------------------------------\n"
     ]
    },
    {
     "data": {
      "text/latex": [
       "$\\displaystyle - sensors\\_{std} \\leq noise \\leq sensors\\_{std} = \\left[\\begin{matrix}-5.0\\\\-5.0\\\\-0.01\\\\-3.0\\\\-0.1\\\\-1.0\\end{matrix}\\right] \\leq \\left[\\begin{matrix}2.07178413168234\\\\4.35449606158082\\\\0.00420516704110603\\\\-1.20108640267751\\\\-0.030959883040313\\\\0.703091862380958\\end{matrix}\\right] \\leq \\left[\\begin{matrix}5.0\\\\5.0\\\\0.01\\\\3.0\\\\0.1\\\\1.0\\end{matrix}\\right]$"
      ],
      "text/plain": [
       "                                       ⎡-5.0 ⎤   ⎡ 2.07178413168234  ⎤   ⎡5.0 \n",
       "                                       ⎢     ⎥   ⎢                   ⎥   ⎢    \n",
       "                                       ⎢-5.0 ⎥   ⎢ 4.35449606158082  ⎥   ⎢5.0 \n",
       "                                       ⎢     ⎥   ⎢                   ⎥   ⎢    \n",
       "                                       ⎢-0.01⎥   ⎢0.00420516704110603⎥   ⎢0.01\n",
       "-sensors\\_std ≤ noise ≤ sensors\\_std = ⎢     ⎥ ≤ ⎢                   ⎥ ≤ ⎢    \n",
       "                                       ⎢-3.0 ⎥   ⎢ -1.20108640267751 ⎥   ⎢3.0 \n",
       "                                       ⎢     ⎥   ⎢                   ⎥   ⎢    \n",
       "                                       ⎢-0.1 ⎥   ⎢-0.030959883040313 ⎥   ⎢0.1 \n",
       "                                       ⎢     ⎥   ⎢                   ⎥   ⎢    \n",
       "                                       ⎣-1.0 ⎦   ⎣ 0.703091862380958 ⎦   ⎣1.0 \n",
       "\n",
       "⎤\n",
       "⎥\n",
       "⎥\n",
       "⎥\n",
       "⎥\n",
       "⎥\n",
       "⎥\n",
       "⎥\n",
       "⎥\n",
       "⎥\n",
       "⎦"
      ]
     },
     "metadata": {},
     "output_type": "display_data"
    },
    {
     "name": "stdout",
     "output_type": "stream",
     "text": [
      "====================================================================================================\n",
      "Iteration 11:\n",
      "====================================================================================================\n"
     ]
    },
    {
     "data": {
      "text/latex": [
       "$\\displaystyle predicted\\_{state} = \\left[\\begin{matrix}\\hat x\\\\\\hat y\\\\\\hat \\psi\\\\\\hat v\\\\\\hat{\\dot{\\psi}}\\\\\\hat a\\end{matrix}\\right] = \\left[\\begin{matrix}9.09062334535133\\\\18.2671535056397\\\\1.6239281281125\\\\7.38203841892702\\\\-0.0513733335730426\\\\-3.62493674292536\\end{matrix}\\right]$"
      ],
      "text/plain": [
       "                  ⎡     \\hat x     ⎤   ⎡ 9.09062334535133  ⎤\n",
       "                  ⎢                ⎥   ⎢                   ⎥\n",
       "                  ⎢     \\hat y     ⎥   ⎢ 18.2671535056397  ⎥\n",
       "                  ⎢                ⎥   ⎢                   ⎥\n",
       "                  ⎢   \\hat \\psi    ⎥   ⎢  1.6239281281125  ⎥\n",
       "predicted\\ₛₜₐₜₑ = ⎢                ⎥ = ⎢                   ⎥\n",
       "                  ⎢     \\hat v     ⎥   ⎢ 7.38203841892702  ⎥\n",
       "                  ⎢                ⎥   ⎢                   ⎥\n",
       "                  ⎢\\hat{\\dot{\\psi}}⎥   ⎢-0.0513733335730426⎥\n",
       "                  ⎢                ⎥   ⎢                   ⎥\n",
       "                  ⎣     \\hat a     ⎦   ⎣ -3.62493674292536 ⎦"
      ]
     },
     "metadata": {},
     "output_type": "display_data"
    },
    {
     "name": "stdout",
     "output_type": "stream",
     "text": [
      "----------------------------------------------------------------------------------------------------\n"
     ]
    },
    {
     "data": {
      "text/latex": [
       "$\\displaystyle updated\\_{state} = \\left[\\begin{matrix}x\\\\y\\\\\\psi\\\\v\\\\\\dot\\psi\\\\a\\end{matrix}\\right] = \\left[\\begin{matrix}8.80415869165463\\\\17.617399234641\\\\1.62904165563159\\\\6.1775747128149\\\\-0.0130183700936907\\\\-4.58984867036229\\end{matrix}\\right]$"
      ],
      "text/plain": [
       "                ⎡   x    ⎤   ⎡ 8.80415869165463  ⎤\n",
       "                ⎢        ⎥   ⎢                   ⎥\n",
       "                ⎢   y    ⎥   ⎢  17.617399234641  ⎥\n",
       "                ⎢        ⎥   ⎢                   ⎥\n",
       "                ⎢  \\psi  ⎥   ⎢ 1.62904165563159  ⎥\n",
       "updated\\ₛₜₐₜₑ = ⎢        ⎥ = ⎢                   ⎥\n",
       "                ⎢   v    ⎥   ⎢  6.1775747128149  ⎥\n",
       "                ⎢        ⎥   ⎢                   ⎥\n",
       "                ⎢\\dot\\psi⎥   ⎢-0.0130183700936907⎥\n",
       "                ⎢        ⎥   ⎢                   ⎥\n",
       "                ⎣   a    ⎦   ⎣ -4.58984867036229 ⎦"
      ]
     },
     "metadata": {},
     "output_type": "display_data"
    },
    {
     "name": "stdout",
     "output_type": "stream",
     "text": [
      "*Noise included\n",
      "----------------------------------------------------------------------------------------------------\n"
     ]
    },
    {
     "data": {
      "text/latex": [
       "$\\displaystyle - sensors\\_{std} \\leq noise \\leq sensors\\_{std} = \\left[\\begin{matrix}-5.0\\\\-5.0\\\\-0.01\\\\-3.0\\\\-0.1\\\\-1.0\\end{matrix}\\right] \\leq \\left[\\begin{matrix}-4.39302754119541\\\\-3.28535537185289\\\\-0.00298380586014372\\\\-2.05790309210122\\\\0.00421474597451239\\\\0.940490824276022\\end{matrix}\\right] \\leq \\left[\\begin{matrix}5.0\\\\5.0\\\\0.01\\\\3.0\\\\0.1\\\\1.0\\end{matrix}\\right]$"
      ],
      "text/plain": [
       "                                       ⎡-5.0 ⎤   ⎡ -4.39302754119541  ⎤   ⎡5.0\n",
       "                                       ⎢     ⎥   ⎢                    ⎥   ⎢   \n",
       "                                       ⎢-5.0 ⎥   ⎢ -3.28535537185289  ⎥   ⎢5.0\n",
       "                                       ⎢     ⎥   ⎢                    ⎥   ⎢   \n",
       "                                       ⎢-0.01⎥   ⎢-0.00298380586014372⎥   ⎢0.0\n",
       "-sensors\\_std ≤ noise ≤ sensors\\_std = ⎢     ⎥ ≤ ⎢                    ⎥ ≤ ⎢   \n",
       "                                       ⎢-3.0 ⎥   ⎢ -2.05790309210122  ⎥   ⎢3.0\n",
       "                                       ⎢     ⎥   ⎢                    ⎥   ⎢   \n",
       "                                       ⎢-0.1 ⎥   ⎢0.00421474597451239 ⎥   ⎢0.1\n",
       "                                       ⎢     ⎥   ⎢                    ⎥   ⎢   \n",
       "                                       ⎣-1.0 ⎦   ⎣ 0.940490824276022  ⎦   ⎣1.0\n",
       "\n",
       " ⎤\n",
       " ⎥\n",
       " ⎥\n",
       " ⎥\n",
       "1⎥\n",
       " ⎥\n",
       " ⎥\n",
       " ⎥\n",
       " ⎥\n",
       " ⎥\n",
       " ⎦"
      ]
     },
     "metadata": {},
     "output_type": "display_data"
    },
    {
     "name": "stdout",
     "output_type": "stream",
     "text": [
      "====================================================================================================\n"
     ]
    }
   ],
   "source": [
    "import numpy as np\n",
    "from numpy.random import default_rng\n",
    "from sympy import Matrix, Eq, Le, Ge, symbols, init_printing\n",
    "from IPython.display import display\n",
    "\n",
    "init_printing()\n",
    "\n",
    "STATE_SIZE = 6 # States\n",
    "STATE_X_IDX, STATE_Y_IDX, STATE_YAW_IDX, STATE_VELOCITY_IDX, STATE_YAW_RATE_IDX, STATE_ACCELERATION_IDX = range(STATE_SIZE)\n",
    "\n",
    "# Generated running the loop with correction commented, just with prediction\n",
    "mock = np.array([\n",
    "    # Generated with x = [10, 10, np.pi/2, 5, np.pi/10, 5]\n",
    "    [9.99162312, 10.52491159, 1.60221225, 5.5, 0.31415927, 5.],\n",
    "    [9.96440727, 11.09924348, 1.63362818, 6. , 0.31415927, 5.],\n",
    "    [9.91524186, 11.72228092, 1.66504411, 6.5, 0.31415927, 5.],\n",
    "\n",
    "    # Generated with x = [9.84104414, 12.39316261, 1.69646003, 7 , 0, 2]\n",
    "    [9.84104414, 12.39316261, 1.69646003, 7 , 0, 2],\n",
    "    [9.75205920946478, 13.097565812433922, 1.69646103, 7.2, 1e-05, 2.0],\n",
    "    [9.660566840228446, 13.821813141209995, 1.6964620300000002, 7.4, 1e-05, 2.0],\n",
    "\n",
    "    # Generated with x = [9.660566840228446, 13.821813141209995, 1.6964620300000002, 7.4, -np.pi/5, 0.5]\n",
    "    [9.660566840228446, 13.821813141209995, 1.6964620300000002, 7.4, -np.pi/5, 0.5],\n",
    "    [9.590727496248219, 14.560898635653817, 1.6336301769282038, 7.45, -0.6283185307179586, 0.5],\n",
    "\n",
    "    # Generated with x = [9.546139274244736, 15.269496260674774, 1.633631176928204, 6.75, 1e-05, -7.0]\n",
    "    [9.546139274244736, 15.269496260674774, 1.633631176928204, 6.75, 1e-05, -7.0],\n",
    "    [9.505945314972719, 15.90822977120212, 1.633632176928204, 6.05, 1e-05, -7.0],\n",
    "    [9.470145618432168, 16.47710804902005, 1.6336331769282042, 5.35, 1e-05, -7.0],\n",
    "])\n",
    "\n",
    "def predict(x, P, dt):\n",
    "    noise_pos     = 0.5*8.8*dt**2  # assume 8.8m/s2 as maximum acceleration, forcing the vehicle\n",
    "    noise_course  = 0.1*dt # assume 0.1rad/s as maximum turn rate for the vehicle\n",
    "    noise_velocity= 8.8*dt # assume 8.8m/s2 as maximum acceleration, forcing the vehicle\n",
    "    noise_yawrate = 1.0*dt # assume 1.0rad/s2 as the maximum turn rate acceleration for the vehicle\n",
    "    noise_accel   = 0.5 # assume 0.5m/s2\n",
    "\n",
    "    # TODO: Can be improved and calibratred\n",
    "    Q = np.diag([noise_pos**2, noise_pos**2, noise_course**2, noise_velocity**2, noise_yawrate**2, noise_accel**2])\n",
    "\n",
    "    if np.abs(x[STATE_YAW_RATE_IDX]) < 0.00001: # Driving straight\n",
    "        x[STATE_YAW_RATE_IDX] = 0.00001\n",
    "\n",
    "    x[STATE_X_IDX] = x[STATE_X_IDX] + (1 / x[STATE_YAW_RATE_IDX]**2) * \\\n",
    "        ( \\\n",
    "            (x[STATE_VELOCITY_IDX]*x[STATE_YAW_RATE_IDX] + x[STATE_ACCELERATION_IDX] * x[STATE_YAW_RATE_IDX] * dt) * np.sin(x[STATE_YAW_IDX] + x[STATE_YAW_RATE_IDX]* dt) \\\n",
    "            + x[STATE_ACCELERATION_IDX] * np.cos(x[STATE_YAW_IDX] + x[STATE_YAW_RATE_IDX] * dt) \\\n",
    "            - x[STATE_VELOCITY_IDX] * x[STATE_YAW_RATE_IDX] * np.sin(x[STATE_YAW_IDX]) - x[STATE_ACCELERATION_IDX] * np.cos(x[STATE_YAW_IDX]) \\\n",
    "        )\n",
    "\n",
    "    x[STATE_Y_IDX] = x[STATE_Y_IDX] + (1 / x[STATE_YAW_RATE_IDX]**2) * \\\n",
    "        ( \\\n",
    "            (-x[STATE_VELOCITY_IDX]*x[STATE_YAW_RATE_IDX] - x[STATE_ACCELERATION_IDX] * x[STATE_YAW_RATE_IDX] * dt) * np.cos(x[STATE_YAW_IDX] + x[STATE_YAW_RATE_IDX]* dt) \\\n",
    "            + x[STATE_ACCELERATION_IDX] * np.sin(x[STATE_YAW_IDX] + x[STATE_YAW_RATE_IDX] * dt) \\\n",
    "            + x[STATE_VELOCITY_IDX] * x[STATE_YAW_RATE_IDX] * np.cos(x[STATE_YAW_IDX]) - x[STATE_ACCELERATION_IDX] * np.sin(x[STATE_YAW_IDX]) \\\n",
    "        )\n",
    "\n",
    "    x[STATE_YAW_IDX] = (x[STATE_YAW_IDX] + x[STATE_YAW_RATE_IDX] * dt + np.pi) % (2.0 * np.pi) - np.pi\n",
    "    x[STATE_VELOCITY_IDX] = x[STATE_VELOCITY_IDX] + x[STATE_ACCELERATION_IDX] * dt \n",
    "    x[STATE_YAW_RATE_IDX] = x[STATE_YAW_RATE_IDX]\n",
    "    x[STATE_ACCELERATION_IDX] = x[STATE_ACCELERATION_IDX]\n",
    "\n",
    "    # Calculate the Jacobian of the Dynamic Matrix A\n",
    "    a13 = ( \\\n",
    "      (-x[STATE_YAW_RATE_IDX]*x[STATE_VELOCITY_IDX]*np.cos(x[STATE_YAW_IDX]) + x[STATE_ACCELERATION_IDX]*np.sin(x[STATE_YAW_IDX]) \\\n",
    "      - x[STATE_ACCELERATION_IDX]*np.sin(dt*x[STATE_YAW_RATE_IDX] + x[STATE_YAW_IDX]) + (dt*x[STATE_YAW_RATE_IDX]*x[STATE_ACCELERATION_IDX] + x[STATE_YAW_RATE_IDX]*x[STATE_VELOCITY_IDX])*np.cos(dt*x[STATE_YAW_RATE_IDX] \\\n",
    "      + x[STATE_YAW_IDX]))/x[STATE_YAW_RATE_IDX]**2 \\\n",
    "    ).item(0)\n",
    "\n",
    "    a14 = ( \\\n",
    "      (-x[STATE_YAW_RATE_IDX]*np.sin(x[STATE_YAW_IDX]) + x[STATE_YAW_RATE_IDX]*np.sin(dt*x[STATE_YAW_RATE_IDX] + x[STATE_YAW_IDX]))/x[STATE_YAW_RATE_IDX]**2 \\\n",
    "    ).item(0)\n",
    "\n",
    "    a15 = ( \\\n",
    "      ( \\\n",
    "        -dt*x[STATE_ACCELERATION_IDX]*np.sin(dt*x[STATE_YAW_RATE_IDX] + x[STATE_YAW_IDX]) + dt*(dt*x[STATE_YAW_RATE_IDX]*x[STATE_ACCELERATION_IDX] + x[STATE_YAW_RATE_IDX]*x[STATE_VELOCITY_IDX]) \\\n",
    "        * np.cos(dt*x[STATE_YAW_RATE_IDX] + x[STATE_YAW_IDX]) - x[STATE_VELOCITY_IDX]*np.sin(x[STATE_YAW_IDX]) + (dt*x[STATE_ACCELERATION_IDX] + x[STATE_VELOCITY_IDX]) \\\n",
    "        * np.sin(dt*x[STATE_YAW_RATE_IDX] + x[STATE_YAW_IDX]) \\\n",
    "      ) / x[STATE_YAW_RATE_IDX]**2 \\\n",
    "      - 2*( \\\n",
    "        -x[STATE_YAW_RATE_IDX]*x[STATE_VELOCITY_IDX]*np.sin(x[STATE_YAW_IDX]) - x[STATE_ACCELERATION_IDX] \\\n",
    "        * np.cos(x[STATE_YAW_IDX]) + x[STATE_ACCELERATION_IDX]*np.cos(dt*x[STATE_YAW_RATE_IDX] + x[STATE_YAW_IDX]) + (dt*x[STATE_YAW_RATE_IDX]*x[STATE_ACCELERATION_IDX] + x[STATE_YAW_RATE_IDX]*x[STATE_VELOCITY_IDX]) \\\n",
    "        * np.sin(dt*x[STATE_YAW_RATE_IDX] + x[STATE_YAW_IDX]) \\\n",
    "      ) / x[STATE_YAW_RATE_IDX]**3 \\\n",
    "    ).item(0)\n",
    "\n",
    "    a16 = ( \\\n",
    "      (dt*x[STATE_YAW_RATE_IDX]*np.sin(dt*x[STATE_YAW_RATE_IDX] + x[STATE_YAW_IDX]) - np.cos(x[STATE_YAW_IDX]) + np.cos(dt * x[STATE_YAW_RATE_IDX] + x[STATE_YAW_IDX]))/x[STATE_YAW_RATE_IDX]**2 \\\n",
    "    ).item(0)\n",
    "\n",
    "    a23 = ( \\\n",
    "      ( \\\n",
    "        -x[STATE_YAW_RATE_IDX] * x[STATE_VELOCITY_IDX] * np.sin(x[STATE_YAW_IDX]) - x[STATE_ACCELERATION_IDX] * np.cos(x[STATE_YAW_IDX]) + x[STATE_ACCELERATION_IDX] * np.cos(dt * x[STATE_YAW_RATE_IDX] + x[STATE_YAW_IDX]) \\\n",
    "        - (-dt * x[STATE_YAW_RATE_IDX]*x[STATE_ACCELERATION_IDX] - x[STATE_YAW_RATE_IDX] * x[STATE_VELOCITY_IDX]) * np.sin(dt * x[STATE_YAW_RATE_IDX] + x[STATE_YAW_IDX]) \\\n",
    "      ) / x[STATE_YAW_RATE_IDX]**2 \\\n",
    "    ).item(0)\n",
    "\n",
    "    a24 = ( \\\n",
    "      (x[STATE_YAW_RATE_IDX] * np.cos(x[STATE_YAW_IDX]) - x[STATE_YAW_RATE_IDX]*np.cos(dt*x[STATE_YAW_RATE_IDX] + x[STATE_YAW_IDX]))/x[STATE_YAW_RATE_IDX]**2 \\\n",
    "    ).item(0)\n",
    "\n",
    "    a25 = ( \\\n",
    "      ( \\\n",
    "        dt * x[STATE_ACCELERATION_IDX]*np.cos(dt*x[STATE_YAW_RATE_IDX] + x[STATE_YAW_IDX]) - dt * (-dt*x[STATE_YAW_RATE_IDX]*x[STATE_ACCELERATION_IDX] - x[STATE_YAW_RATE_IDX] * x[STATE_VELOCITY_IDX]) \\\n",
    "        * np.sin(dt * x[STATE_YAW_RATE_IDX] + x[STATE_YAW_IDX]) + x[STATE_VELOCITY_IDX]*np.cos(x[STATE_YAW_IDX]) + (-dt*x[STATE_ACCELERATION_IDX] - x[STATE_VELOCITY_IDX])*np.cos(dt*x[STATE_YAW_RATE_IDX] + x[STATE_YAW_IDX]) \\\n",
    "      ) / x[STATE_YAW_RATE_IDX]**2 \\\n",
    "      - 2*( \\\n",
    "        x[STATE_YAW_RATE_IDX]*x[STATE_VELOCITY_IDX]*np.cos(x[STATE_YAW_IDX]) - x[STATE_ACCELERATION_IDX] * np.sin(x[STATE_YAW_IDX]) + x[STATE_ACCELERATION_IDX] * np.sin(dt*x[STATE_YAW_RATE_IDX] + x[STATE_YAW_IDX]) \\\n",
    "        + (-dt * x[STATE_YAW_RATE_IDX] * x[STATE_ACCELERATION_IDX] - x[STATE_YAW_RATE_IDX] * x[STATE_VELOCITY_IDX])*np.cos(dt*x[STATE_YAW_RATE_IDX] + x[STATE_YAW_IDX]) \\\n",
    "      ) / x[STATE_YAW_RATE_IDX]**3 \\\n",
    "    ).item(0)\n",
    "\n",
    "    a26 = ( \\\n",
    "      (-dt*x[STATE_YAW_RATE_IDX]*np.cos(dt*x[STATE_YAW_RATE_IDX] + x[STATE_YAW_IDX]) - np.sin(x[STATE_YAW_IDX]) + np.sin(dt*x[STATE_YAW_RATE_IDX] + x[STATE_YAW_IDX]))/x[STATE_YAW_RATE_IDX]**2 \\\n",
    "    ).item(0)\n",
    "      \n",
    "    JA = np.matrix([[1.0, 0.0, a13, a14, a15, a16],\n",
    "                    [0.0, 1.0, a23, a24, a25, a26],\n",
    "                    [0.0, 0.0, 1.0, 0.0, dt, 0.0],\n",
    "                    [0.0, 0.0, 0.0, 1.0, 0.0, dt],\n",
    "                    [0.0, 0.0, 0.0, 0.0, 1.0, 0.0],\n",
    "                    [0.0, 0.0, 0.0, 0.0, 0.0, 1.0]])\n",
    "  \n",
    "    # Project the error covariance ahead\n",
    "    P = JA*P*JA.T + Q\n",
    "\n",
    "    return x, P\n",
    "\n",
    "\n",
    "def correct(measurement, x, P, R):\n",
    "    hx = x.copy()  # Not making any transformation and considering all the atributes are being measured\n",
    "\n",
    "    # Indentity because is assumed that for each attribute in state there exists a respective measurement attribute\n",
    "    JH = np.eye(hx.shape[0])\n",
    "\n",
    "    S = JH*P*JH.T + R\n",
    "    K = (P*JH.T) * np.linalg.inv(S)\n",
    "\n",
    "    # Update the estimate via\n",
    "    Z = measurement.reshape(JH.shape[0], 1)\n",
    "    y = Z - hx  # Innovation or Residual\n",
    "    x = x + K*y\n",
    "\n",
    "    # Update the error covariance\n",
    "    P = (np.eye(STATE_SIZE) - K*JH)*P\n",
    "            \n",
    "    # TODO: Remove in main C++ code\n",
    "    x0.append(float(x[0]))\n",
    "    x1.append(float(x[1]))\n",
    "    x2.append(float(x[2]))\n",
    "    x3.append(float(x[3]))\n",
    "    x4.append(float(x[4]))\n",
    "    x5.append(float(x[5]))\n",
    "    Zx.append(float(Z[0]))\n",
    "    Zy.append(float(Z[1]))    \n",
    "    Px.append(float(P[0,0]))\n",
    "    Py.append(float(P[1,1]))\n",
    "    Pdx.append(float(P[2,2]))\n",
    "    Pdy.append(float(P[3,3]))\n",
    "    Pddx.append(float(P[4,4]))\n",
    "    Pdv.append(float(P[5,5]))\n",
    "    Kx.append(float(K[0,0]))\n",
    "    Ky.append(float(K[1,0]))\n",
    "    Kdx.append(float(K[2,0]))\n",
    "    Kdy.append(float(K[3,0]))\n",
    "    Kddx.append(float(K[4,0]))\n",
    "    Kdv.append(float(K[5,0]))\n",
    "\n",
    "    return x, P\n",
    "\n",
    "\n",
    "if __name__ == '__main__':\n",
    "    P = np.diag([10.0, 10.0, 10.0, 10.0, 10.0, 10.0])\n",
    "    \n",
    "    std_pos = 5.0 # standard deviation of positioning measurements\n",
    "    std_speed = 3.0 # standard deviation of the speed measurements\n",
    "    std_yawrate = 0.1 # standard deviation of the yawrate measurements\n",
    "    std_yaw = 0.01 # standard deviation of the yaw measurements\n",
    "    std_acc = 1.0 # standard deviation of the longitudinal acceleration\n",
    "\n",
    "    R = np.diag([std_pos**2, std_pos**2, std_yaw**2, std_speed**2, std_yawrate**2, std_acc**2])\n",
    "\n",
    "    inital_x, initial_y = 10, 10\n",
    "    yaw = np.pi/2\n",
    "    speed = 12\n",
    "    yaw_rate = np.pi/10\n",
    "    acc = 5\n",
    "\n",
    "    x = np.array([[inital_x, initial_y, yaw, speed, yaw_rate, acc]], dtype='float64').T\n",
    "    \n",
    "    dt = 1/10\n",
    "    \n",
    "    random_generator = default_rng()\n",
    "\n",
    "    for i, measurement in enumerate(mock, 1):\n",
    "        sensors_std = np.array([std_pos, std_pos, std_yaw, std_speed, std_yawrate, std_acc])\n",
    "        \n",
    "        # Adding noise\n",
    "        noises = (random_generator.random() for _ in sensors_std)\n",
    "        noises = np.array([n * 2*std - std for std, n in zip(sensors_std, noises)])  # Putting noises in std range\n",
    "        measurement += noises\n",
    "        \n",
    "        x, P = predict(x, P, dt)\n",
    "        predicted_state = x.copy()\n",
    "        \n",
    "        x, P = correct(measurement, x, P, R)\n",
    "\n",
    "        log_state_and_noises(i, state, predicted_state, noises)\n"
   ]
  },
  {
   "cell_type": "markdown",
   "id": "hindu-necklace",
   "metadata": {},
   "source": [
    "## Plots"
   ]
  },
  {
   "cell_type": "code",
   "execution_count": 4,
   "id": "juvenile-contrast",
   "metadata": {},
   "outputs": [],
   "source": [
    "import matplotlib.pyplot as plt\n",
    "%matplotlib inline\n",
    "\n",
    "m = len(mock)"
   ]
  },
  {
   "cell_type": "markdown",
   "id": "radical-officer",
   "metadata": {},
   "source": [
    "### Kalman Gain"
   ]
  },
  {
   "cell_type": "code",
   "execution_count": 5,
   "id": "unauthorized-congo",
   "metadata": {},
   "outputs": [
    {
     "data": {
      "image/png": "[encoded data removed]",
      "text/plain": [
       "<Figure size 1152x648 with 1 Axes>"
      ]
     },
     "metadata": {
      "needs_background": "light"
     },
     "output_type": "display_data"
    }
   ],
   "source": [
    "fig = plt.figure(figsize=(16,9))\n",
    "plt.step(range(m),Kx, label='$x$')\n",
    "plt.step(range(m),Ky, label='$y$')\n",
    "plt.step(range(m),Kdx, label='$\\psi$')\n",
    "plt.step(range(m),Kdy, label='$v$')\n",
    "plt.step(range(m),Kddx, label='$\\dot \\psi$')\n",
    "\n",
    "\n",
    "plt.xlabel('Filter Step')\n",
    "plt.ylabel('')\n",
    "plt.title('Kalman Gain (the lower, the more the measurement fullfill the prediction)')\n",
    "plt.legend(prop={'size':18})\n",
    "plt.ylim([-0.2,0.2]);"
   ]
  },
  {
   "cell_type": "markdown",
   "id": "breeding-license",
   "metadata": {},
   "source": [
    "### Uncertainties"
   ]
  },
  {
   "cell_type": "code",
   "execution_count": 6,
   "id": "adjusted-funds",
   "metadata": {},
   "outputs": [
    {
     "data": {
      "text/plain": [
       "<matplotlib.legend.Legend at 0x7f0a5ec6af60>"
      ]
     },
     "execution_count": 6,
     "metadata": {},
     "output_type": "execute_result"
    },
    {
     "data": {
      "image/png": "[encoded data removed]",
      "text/plain": [
       "<Figure size 1152x648 with 1 Axes>"
      ]
     },
     "metadata": {
      "needs_background": "light"
     },
     "output_type": "display_data"
    }
   ],
   "source": [
    "\n",
    "fig = plt.figure(figsize=(16,9))\n",
    "plt.semilogy(range(m),Px, label='$x$')\n",
    "plt.step(range(m),Py, label='$y$')\n",
    "plt.step(range(m),Pdx, label='$\\psi$')\n",
    "plt.step(range(m),Pdy, label='$v$')\n",
    "plt.step(range(m),Pddx, label='$\\dot \\psi$')\n",
    "\n",
    "plt.xlabel('Filter Step')\n",
    "plt.ylabel('')\n",
    "plt.title('Uncertainty (Elements from Matrix $P$)')\n",
    "plt.legend(loc='best',prop={'size':22})"
   ]
  },
  {
   "cell_type": "markdown",
   "id": "dying-duration",
   "metadata": {},
   "source": [
    "### Position x/y"
   ]
  },
  {
   "cell_type": "code",
   "execution_count": 7,
   "id": "brilliant-shade",
   "metadata": {},
   "outputs": [
    {
     "data": {
      "text/plain": [
       "[<matplotlib.lines.Line2D at 0x7f0a5f7098d0>]"
      ]
     },
     "execution_count": 7,
     "metadata": {},
     "output_type": "execute_result"
    },
    {
     "data": {
      "image/png": "[encoded data removed]",
      "text/plain": [
       "<Figure size 864x648 with 1 Axes>"
      ]
     },
     "metadata": {
      "needs_background": "light"
     },
     "output_type": "display_data"
    }
   ],
   "source": [
    "fig = plt.figure(figsize=(12,9))\n",
    "\n",
    "plt.plot(x0,x1, label='EKF Position', c='g', lw=5)"
   ]
  }
 ],
 "metadata": {
  "kernelspec": {
   "display_name": "Python 3",
   "language": "python",
   "name": "python3"
  },
  "language_info": {
   "codemirror_mode": {
    "name": "ipython",
    "version": 3
   },
   "file_extension": ".py",
   "mimetype": "text/x-python",
   "name": "python",
   "nbconvert_exporter": "python",
   "pygments_lexer": "ipython3",
   "version": "3.7.3"
  }
 },
 "nbformat": 4,
 "nbformat_minor": 5
}
