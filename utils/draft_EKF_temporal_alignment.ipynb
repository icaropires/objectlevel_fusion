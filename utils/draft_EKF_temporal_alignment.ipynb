{
 "cells": [
  {
   "cell_type": "markdown",
   "id": "south-snowboard",
   "metadata": {},
   "source": [
    "# Draft of EKF implementation for temporal alignment\n",
    "\n",
    "Using CTRA model.\n",
    "\n",
    "Heavily based on [balzer82 implementation](https://github.com/balzer82/Kalman/blob/master/Extended-Kalman-Filter-CTRA.ipynb) and [giovannix adaptation](https://github.com/giovannix/kalman/blob/master/Extended-Kalman-Filter-CTRA.ipynb)."
   ]
  },
  {
   "cell_type": "code",
   "execution_count": 1,
   "id": "together-portugal",
   "metadata": {},
   "outputs": [],
   "source": [
    "from sympy import symbols, Matrix, init_printing\n",
    "from IPython.display import display\n",
    "\n",
    "init_printing()\n",
    "\n",
    "vs, psis, dpsis, dts, xs, ys, lats, lons, axs = symbols('v \\psi \\dot\\psi T x y lat lon a')\n",
    "\n",
    "hs = Matrix([[xs],\n",
    "             [ys],\n",
    "             [psis],\n",
    "             [vs],\n",
    "             [dpsis],\n",
    "             [axs]])\n",
    "\n",
    "state = Matrix([xs,ys,psis,vs,dpsis,axs])\n",
    "\n",
    "# Preallocation for Plotting\n",
    "x0 = []\n",
    "x1 = []\n",
    "x2 = []\n",
    "x3 = []\n",
    "x4 = []\n",
    "x5 = []\n",
    "x6 = []\n",
    "Zx = []\n",
    "Zy = []\n",
    "Px = []\n",
    "Py = []\n",
    "Pdx= []\n",
    "Pdy= []\n",
    "Pddx=[]\n",
    "Pddy=[]\n",
    "Pdv =[]\n",
    "Kx = []\n",
    "Ky = []\n",
    "Kdx= []\n",
    "Kdy= []\n",
    "Kddx=[]\n",
    "Kdv= []\n",
    "dstate=[]"
   ]
  },
  {
   "cell_type": "code",
   "execution_count": 2,
   "id": "yellow-singapore",
   "metadata": {},
   "outputs": [],
   "source": [
    "def log_state_and_noises(iteration, state, noises):\n",
    "    state_s, noise_s, sensors_std_s, measurement_s = symbols('state noise sensors\\_std measurement')\n",
    "    \n",
    "    print(f'Iteration {iteration}:')\n",
    "    print('='*100)\n",
    "    display(Eq(state_s, measurement_s + noise_s))\n",
    "    display(Eq(\n",
    "        state_s,\n",
    "        Eq(state, Matrix(x), evaluate=False)\n",
    "    ))\n",
    "\n",
    "    display(Eq(\n",
    "        Le(\n",
    "            -sensors_std_s,\n",
    "            Le(noise_s, sensors_std_s),\n",
    "            evaluate=False\n",
    "        ),\n",
    "        Le(\n",
    "            Matrix(-sensors_std),\n",
    "            Le(Matrix(noises), Matrix(sensors_std), evaluate=False),\n",
    "            evaluate=False\n",
    "        )\n",
    "    ))\n",
    "    print('='*100)"
   ]
  },
  {
   "cell_type": "code",
   "execution_count": 3,
   "id": "medieval-enhancement",
   "metadata": {},
   "outputs": [
    {
     "name": "stdout",
     "output_type": "stream",
     "text": [
      "Iteration 1:\n",
      "====================================================================================================\n"
     ]
    },
    {
     "data": {
      "image/png": "[encoded data removed]",
      "text/latex": [
       "$\\displaystyle state = measurement + noise$"
      ],
      "text/plain": [
       "state = measurement + noise"
      ]
     },
     "metadata": {},
     "output_type": "display_data"
    },
    {
     "data": {
      "text/latex": [
       "$\\displaystyle state = \\left[\\begin{matrix}x\\\\y\\\\\\psi\\\\v\\\\\\dot\\psi\\\\a\\end{matrix}\\right] = \\left[\\begin{matrix}9.9518462926435\\\\10.5530143443817\\\\1.60170915466012\\\\8.63309817299014\\\\0.327781721034681\\\\5.14125944573808\\end{matrix}\\right]$"
      ],
      "text/plain": [
       "        ⎡   x    ⎤   ⎡ 9.9518462926435 ⎤\n",
       "        ⎢        ⎥   ⎢                 ⎥\n",
       "        ⎢   y    ⎥   ⎢10.5530143443817 ⎥\n",
       "        ⎢        ⎥   ⎢                 ⎥\n",
       "        ⎢  \\psi  ⎥   ⎢1.60170915466012 ⎥\n",
       "state = ⎢        ⎥ = ⎢                 ⎥\n",
       "        ⎢   v    ⎥   ⎢8.63309817299014 ⎥\n",
       "        ⎢        ⎥   ⎢                 ⎥\n",
       "        ⎢\\dot\\psi⎥   ⎢0.327781721034681⎥\n",
       "        ⎢        ⎥   ⎢                 ⎥\n",
       "        ⎣   a    ⎦   ⎣5.14125944573808 ⎦"
      ]
     },
     "metadata": {},
     "output_type": "display_data"
    },
    {
     "data": {
      "text/latex": [
       "$\\displaystyle - sensors\\_{std} \\leq noise \\leq sensors\\_{std} = \\left[\\begin{matrix}-0.1\\\\-0.1\\\\-0.01\\\\-3.0\\\\-0.1\\\\-1.0\\end{matrix}\\right] \\leq \\left[\\begin{matrix}-0.0398240397329281\\\\0.027790225023657\\\\-0.000503903337859202\\\\-0.0818671776187041\\\\0.0136400597682193\\\\0.19004246293668\\end{matrix}\\right] \\leq \\left[\\begin{matrix}0.1\\\\0.1\\\\0.01\\\\3.0\\\\0.1\\\\1.0\\end{matrix}\\right]$"
      ],
      "text/plain": [
       "                                       ⎡-0.1 ⎤   ⎡ -0.0398240397329281 ⎤   ⎡0.\n",
       "                                       ⎢     ⎥   ⎢                     ⎥   ⎢  \n",
       "                                       ⎢-0.1 ⎥   ⎢  0.027790225023657  ⎥   ⎢0.\n",
       "                                       ⎢     ⎥   ⎢                     ⎥   ⎢  \n",
       "                                       ⎢-0.01⎥   ⎢-0.000503903337859202⎥   ⎢0.\n",
       "-sensors\\_std ≤ noise ≤ sensors\\_std = ⎢     ⎥ ≤ ⎢                     ⎥ ≤ ⎢  \n",
       "                                       ⎢-3.0 ⎥   ⎢ -0.0818671776187041 ⎥   ⎢3.\n",
       "                                       ⎢     ⎥   ⎢                     ⎥   ⎢  \n",
       "                                       ⎢-0.1 ⎥   ⎢ 0.0136400597682193  ⎥   ⎢0.\n",
       "                                       ⎢     ⎥   ⎢                     ⎥   ⎢  \n",
       "                                       ⎣-1.0 ⎦   ⎣  0.19004246293668   ⎦   ⎣1.\n",
       "\n",
       "1 ⎤\n",
       "  ⎥\n",
       "1 ⎥\n",
       "  ⎥\n",
       "01⎥\n",
       "  ⎥\n",
       "0 ⎥\n",
       "  ⎥\n",
       "1 ⎥\n",
       "  ⎥\n",
       "0 ⎦"
      ]
     },
     "metadata": {},
     "output_type": "display_data"
    },
    {
     "name": "stdout",
     "output_type": "stream",
     "text": [
      "====================================================================================================\n",
      "Iteration 2:\n",
      "====================================================================================================\n"
     ]
    },
    {
     "data": {
      "image/png": "[encoded data removed]",
      "text/latex": [
       "$\\displaystyle state = measurement + noise$"
      ],
      "text/plain": [
       "state = measurement + noise"
      ]
     },
     "metadata": {},
     "output_type": "display_data"
    },
    {
     "data": {
      "text/latex": [
       "$\\displaystyle state = \\left[\\begin{matrix}x\\\\y\\\\\\psi\\\\v\\\\\\dot\\psi\\\\a\\end{matrix}\\right] = \\left[\\begin{matrix}9.99896431183282\\\\11.1632807238634\\\\1.63856995202915\\\\6.53288148516703\\\\0.366116230133148\\\\5.49940407533175\\end{matrix}\\right]$"
      ],
      "text/plain": [
       "        ⎡   x    ⎤   ⎡9.99896431183282 ⎤\n",
       "        ⎢        ⎥   ⎢                 ⎥\n",
       "        ⎢   y    ⎥   ⎢11.1632807238634 ⎥\n",
       "        ⎢        ⎥   ⎢                 ⎥\n",
       "        ⎢  \\psi  ⎥   ⎢1.63856995202915 ⎥\n",
       "state = ⎢        ⎥ = ⎢                 ⎥\n",
       "        ⎢   v    ⎥   ⎢6.53288148516703 ⎥\n",
       "        ⎢        ⎥   ⎢                 ⎥\n",
       "        ⎢\\dot\\psi⎥   ⎢0.366116230133148⎥\n",
       "        ⎢        ⎥   ⎢                 ⎥\n",
       "        ⎣   a    ⎦   ⎣5.49940407533175 ⎦"
      ]
     },
     "metadata": {},
     "output_type": "display_data"
    },
    {
     "data": {
      "text/latex": [
       "$\\displaystyle - sensors\\_{std} \\leq noise \\leq sensors\\_{std} = \\left[\\begin{matrix}-0.1\\\\-0.1\\\\-0.01\\\\-3.0\\\\-0.1\\\\-1.0\\end{matrix}\\right] \\leq \\left[\\begin{matrix}0.0942556839301166\\\\0.0379660380205364\\\\0.00607912572754112\\\\-1.29577251291806\\\\0.0668056826520064\\\\0.853888279927018\\end{matrix}\\right] \\leq \\left[\\begin{matrix}0.1\\\\0.1\\\\0.01\\\\3.0\\\\0.1\\\\1.0\\end{matrix}\\right]$"
      ],
      "text/plain": [
       "                                       ⎡-0.1 ⎤   ⎡0.0942556839301166 ⎤   ⎡0.1 \n",
       "                                       ⎢     ⎥   ⎢                   ⎥   ⎢    \n",
       "                                       ⎢-0.1 ⎥   ⎢0.0379660380205364 ⎥   ⎢0.1 \n",
       "                                       ⎢     ⎥   ⎢                   ⎥   ⎢    \n",
       "                                       ⎢-0.01⎥   ⎢0.00607912572754112⎥   ⎢0.01\n",
       "-sensors\\_std ≤ noise ≤ sensors\\_std = ⎢     ⎥ ≤ ⎢                   ⎥ ≤ ⎢    \n",
       "                                       ⎢-3.0 ⎥   ⎢ -1.29577251291806 ⎥   ⎢3.0 \n",
       "                                       ⎢     ⎥   ⎢                   ⎥   ⎢    \n",
       "                                       ⎢-0.1 ⎥   ⎢0.0668056826520064 ⎥   ⎢0.1 \n",
       "                                       ⎢     ⎥   ⎢                   ⎥   ⎢    \n",
       "                                       ⎣-1.0 ⎦   ⎣ 0.853888279927018 ⎦   ⎣1.0 \n",
       "\n",
       "⎤\n",
       "⎥\n",
       "⎥\n",
       "⎥\n",
       "⎥\n",
       "⎥\n",
       "⎥\n",
       "⎥\n",
       "⎥\n",
       "⎥\n",
       "⎦"
      ]
     },
     "metadata": {},
     "output_type": "display_data"
    },
    {
     "name": "stdout",
     "output_type": "stream",
     "text": [
      "====================================================================================================\n",
      "Iteration 3:\n",
      "====================================================================================================\n"
     ]
    },
    {
     "data": {
      "image/png": "[encoded data removed]",
      "text/latex": [
       "$\\displaystyle state = measurement + noise$"
      ],
      "text/plain": [
       "state = measurement + noise"
      ]
     },
     "metadata": {},
     "output_type": "display_data"
    },
    {
     "data": {
      "text/latex": [
       "$\\displaystyle state = \\left[\\begin{matrix}x\\\\y\\\\\\psi\\\\v\\\\\\dot\\psi\\\\a\\end{matrix}\\right] = \\left[\\begin{matrix}9.97569056382751\\\\11.7378871988011\\\\1.67082348986042\\\\6.44033787565458\\\\0.362555474318006\\\\5.48747415247821\\end{matrix}\\right]$"
      ],
      "text/plain": [
       "        ⎡   x    ⎤   ⎡9.97569056382751 ⎤\n",
       "        ⎢        ⎥   ⎢                 ⎥\n",
       "        ⎢   y    ⎥   ⎢11.7378871988011 ⎥\n",
       "        ⎢        ⎥   ⎢                 ⎥\n",
       "        ⎢  \\psi  ⎥   ⎢1.67082348986042 ⎥\n",
       "state = ⎢        ⎥ = ⎢                 ⎥\n",
       "        ⎢   v    ⎥   ⎢6.44033787565458 ⎥\n",
       "        ⎢        ⎥   ⎢                 ⎥\n",
       "        ⎢\\dot\\psi⎥   ⎢0.362555474318006⎥\n",
       "        ⎢        ⎥   ⎢                 ⎥\n",
       "        ⎣   a    ⎦   ⎣5.48747415247821 ⎦"
      ]
     },
     "metadata": {},
     "output_type": "display_data"
    },
    {
     "data": {
      "text/latex": [
       "$\\displaystyle - sensors\\_{std} \\leq noise \\leq sensors\\_{std} = \\left[\\begin{matrix}-0.1\\\\-0.1\\\\-0.01\\\\-3.0\\\\-0.1\\\\-1.0\\end{matrix}\\right] \\leq \\left[\\begin{matrix}0.0927761573731089\\\\-0.00832445998995339\\\\0.00400827023909056\\\\-0.0242676463484273\\\\0.0546658409110194\\\\0.49201625118626\\end{matrix}\\right] \\leq \\left[\\begin{matrix}0.1\\\\0.1\\\\0.01\\\\3.0\\\\0.1\\\\1.0\\end{matrix}\\right]$"
      ],
      "text/plain": [
       "                                       ⎡-0.1 ⎤   ⎡ 0.0927761573731089 ⎤   ⎡0.1\n",
       "                                       ⎢     ⎥   ⎢                    ⎥   ⎢   \n",
       "                                       ⎢-0.1 ⎥   ⎢-0.00832445998995339⎥   ⎢0.1\n",
       "                                       ⎢     ⎥   ⎢                    ⎥   ⎢   \n",
       "                                       ⎢-0.01⎥   ⎢0.00400827023909056 ⎥   ⎢0.0\n",
       "-sensors\\_std ≤ noise ≤ sensors\\_std = ⎢     ⎥ ≤ ⎢                    ⎥ ≤ ⎢   \n",
       "                                       ⎢-3.0 ⎥   ⎢-0.0242676463484273 ⎥   ⎢3.0\n",
       "                                       ⎢     ⎥   ⎢                    ⎥   ⎢   \n",
       "                                       ⎢-0.1 ⎥   ⎢ 0.0546658409110194 ⎥   ⎢0.1\n",
       "                                       ⎢     ⎥   ⎢                    ⎥   ⎢   \n",
       "                                       ⎣-1.0 ⎦   ⎣  0.49201625118626  ⎦   ⎣1.0\n",
       "\n",
       " ⎤\n",
       " ⎥\n",
       " ⎥\n",
       " ⎥\n",
       "1⎥\n",
       " ⎥\n",
       " ⎥\n",
       " ⎥\n",
       " ⎥\n",
       " ⎥\n",
       " ⎦"
      ]
     },
     "metadata": {},
     "output_type": "display_data"
    },
    {
     "name": "stdout",
     "output_type": "stream",
     "text": [
      "====================================================================================================\n",
      "Iteration 4:\n",
      "====================================================================================================\n"
     ]
    },
    {
     "data": {
      "image/png": "[encoded data removed]",
      "text/latex": [
       "$\\displaystyle state = measurement + noise$"
      ],
      "text/plain": [
       "state = measurement + noise"
      ]
     },
     "metadata": {},
     "output_type": "display_data"
    },
    {
     "data": {
      "text/latex": [
       "$\\displaystyle state = \\left[\\begin{matrix}x\\\\y\\\\\\psi\\\\v\\\\\\dot\\psi\\\\a\\end{matrix}\\right] = \\left[\\begin{matrix}9.86456811636119\\\\12.4384665924435\\\\1.69561677544409\\\\6.82097749538071\\\\0.127693653802351\\\\3.72265697073559\\end{matrix}\\right]$"
      ],
      "text/plain": [
       "        ⎡   x    ⎤   ⎡9.86456811636119 ⎤\n",
       "        ⎢        ⎥   ⎢                 ⎥\n",
       "        ⎢   y    ⎥   ⎢12.4384665924435 ⎥\n",
       "        ⎢        ⎥   ⎢                 ⎥\n",
       "        ⎢  \\psi  ⎥   ⎢1.69561677544409 ⎥\n",
       "state = ⎢        ⎥ = ⎢                 ⎥\n",
       "        ⎢   v    ⎥   ⎢6.82097749538071 ⎥\n",
       "        ⎢        ⎥   ⎢                 ⎥\n",
       "        ⎢\\dot\\psi⎥   ⎢0.127693653802351⎥\n",
       "        ⎢        ⎥   ⎢                 ⎥\n",
       "        ⎣   a    ⎦   ⎣3.72265697073559 ⎦"
      ]
     },
     "metadata": {},
     "output_type": "display_data"
    },
    {
     "data": {
      "text/latex": [
       "$\\displaystyle - sensors\\_{std} \\leq noise \\leq sensors\\_{std} = \\left[\\begin{matrix}-0.1\\\\-0.1\\\\-0.01\\\\-3.0\\\\-0.1\\\\-1.0\\end{matrix}\\right] \\leq \\left[\\begin{matrix}-0.0317323923770035\\\\0.067996892148574\\\\-0.00172379862007372\\\\-2.38776230208445\\\\-0.016510942221565\\\\-0.833730503480996\\end{matrix}\\right] \\leq \\left[\\begin{matrix}0.1\\\\0.1\\\\0.01\\\\3.0\\\\0.1\\\\1.0\\end{matrix}\\right]$"
      ],
      "text/plain": [
       "                                       ⎡-0.1 ⎤   ⎡-0.0317323923770035 ⎤   ⎡0.1\n",
       "                                       ⎢     ⎥   ⎢                    ⎥   ⎢   \n",
       "                                       ⎢-0.1 ⎥   ⎢ 0.067996892148574  ⎥   ⎢0.1\n",
       "                                       ⎢     ⎥   ⎢                    ⎥   ⎢   \n",
       "                                       ⎢-0.01⎥   ⎢-0.00172379862007372⎥   ⎢0.0\n",
       "-sensors\\_std ≤ noise ≤ sensors\\_std = ⎢     ⎥ ≤ ⎢                    ⎥ ≤ ⎢   \n",
       "                                       ⎢-3.0 ⎥   ⎢ -2.38776230208445  ⎥   ⎢3.0\n",
       "                                       ⎢     ⎥   ⎢                    ⎥   ⎢   \n",
       "                                       ⎢-0.1 ⎥   ⎢ -0.016510942221565 ⎥   ⎢0.1\n",
       "                                       ⎢     ⎥   ⎢                    ⎥   ⎢   \n",
       "                                       ⎣-1.0 ⎦   ⎣ -0.833730503480996 ⎦   ⎣1.0\n",
       "\n",
       " ⎤\n",
       " ⎥\n",
       " ⎥\n",
       " ⎥\n",
       "1⎥\n",
       " ⎥\n",
       " ⎥\n",
       " ⎥\n",
       " ⎥\n",
       " ⎥\n",
       " ⎦"
      ]
     },
     "metadata": {},
     "output_type": "display_data"
    },
    {
     "name": "stdout",
     "output_type": "stream",
     "text": [
      "====================================================================================================\n",
      "Iteration 5:\n",
      "====================================================================================================\n"
     ]
    },
    {
     "data": {
      "image/png": "[encoded data removed]",
      "text/latex": [
       "$\\displaystyle state = measurement + noise$"
      ],
      "text/plain": [
       "state = measurement + noise"
      ]
     },
     "metadata": {},
     "output_type": "display_data"
    },
    {
     "data": {
      "text/latex": [
       "$\\displaystyle state = \\left[\\begin{matrix}x\\\\y\\\\\\psi\\\\v\\\\\\dot\\psi\\\\a\\end{matrix}\\right] = \\left[\\begin{matrix}9.75206430057718\\\\13.0657583677175\\\\1.69922435806144\\\\6.80404339175784\\\\0.0982061152669809\\\\3.30989092858582\\end{matrix}\\right]$"
      ],
      "text/plain": [
       "        ⎡   x    ⎤   ⎡ 9.75206430057718 ⎤\n",
       "        ⎢        ⎥   ⎢                  ⎥\n",
       "        ⎢   y    ⎥   ⎢ 13.0657583677175 ⎥\n",
       "        ⎢        ⎥   ⎢                  ⎥\n",
       "        ⎢  \\psi  ⎥   ⎢ 1.69922435806144 ⎥\n",
       "state = ⎢        ⎥ = ⎢                  ⎥\n",
       "        ⎢   v    ⎥   ⎢ 6.80404339175784 ⎥\n",
       "        ⎢        ⎥   ⎢                  ⎥\n",
       "        ⎢\\dot\\psi⎥   ⎢0.0982061152669809⎥\n",
       "        ⎢        ⎥   ⎢                  ⎥\n",
       "        ⎣   a    ⎦   ⎣ 3.30989092858582 ⎦"
      ]
     },
     "metadata": {},
     "output_type": "display_data"
    },
    {
     "data": {
      "text/latex": [
       "$\\displaystyle - sensors\\_{std} \\leq noise \\leq sensors\\_{std} = \\left[\\begin{matrix}-0.1\\\\-0.1\\\\-0.01\\\\-3.0\\\\-0.1\\\\-1.0\\end{matrix}\\right] \\leq \\left[\\begin{matrix}-0.055113448428988\\\\-0.0604763195969654\\\\-0.00113711640949252\\\\-0.562270000216825\\\\0.0950574182960058\\\\0.700154349753178\\end{matrix}\\right] \\leq \\left[\\begin{matrix}0.1\\\\0.1\\\\0.01\\\\3.0\\\\0.1\\\\1.0\\end{matrix}\\right]$"
      ],
      "text/plain": [
       "                                       ⎡-0.1 ⎤   ⎡ -0.055113448428988 ⎤   ⎡0.1\n",
       "                                       ⎢     ⎥   ⎢                    ⎥   ⎢   \n",
       "                                       ⎢-0.1 ⎥   ⎢-0.0604763195969654 ⎥   ⎢0.1\n",
       "                                       ⎢     ⎥   ⎢                    ⎥   ⎢   \n",
       "                                       ⎢-0.01⎥   ⎢-0.00113711640949252⎥   ⎢0.0\n",
       "-sensors\\_std ≤ noise ≤ sensors\\_std = ⎢     ⎥ ≤ ⎢                    ⎥ ≤ ⎢   \n",
       "                                       ⎢-3.0 ⎥   ⎢ -0.562270000216825 ⎥   ⎢3.0\n",
       "                                       ⎢     ⎥   ⎢                    ⎥   ⎢   \n",
       "                                       ⎢-0.1 ⎥   ⎢ 0.0950574182960058 ⎥   ⎢0.1\n",
       "                                       ⎢     ⎥   ⎢                    ⎥   ⎢   \n",
       "                                       ⎣-1.0 ⎦   ⎣ 0.700154349753178  ⎦   ⎣1.0\n",
       "\n",
       " ⎤\n",
       " ⎥\n",
       " ⎥\n",
       " ⎥\n",
       "1⎥\n",
       " ⎥\n",
       " ⎥\n",
       " ⎥\n",
       " ⎥\n",
       " ⎥\n",
       " ⎦"
      ]
     },
     "metadata": {},
     "output_type": "display_data"
    },
    {
     "name": "stdout",
     "output_type": "stream",
     "text": [
      "====================================================================================================\n",
      "Iteration 6:\n",
      "====================================================================================================\n"
     ]
    },
    {
     "data": {
      "image/png": "[encoded data removed]",
      "text/latex": [
       "$\\displaystyle state = measurement + noise$"
      ],
      "text/plain": [
       "state = measurement + noise"
      ]
     },
     "metadata": {},
     "output_type": "display_data"
    },
    {
     "data": {
      "text/latex": [
       "$\\displaystyle state = \\left[\\begin{matrix}x\\\\y\\\\\\psi\\\\v\\\\\\dot\\psi\\\\a\\end{matrix}\\right] = \\left[\\begin{matrix}9.65599134687549\\\\13.7350360149432\\\\1.69945277847757\\\\6.87790820256345\\\\0.0568687827163909\\\\2.44235035936633\\end{matrix}\\right]$"
      ],
      "text/plain": [
       "        ⎡   x    ⎤   ⎡ 9.65599134687549 ⎤\n",
       "        ⎢        ⎥   ⎢                  ⎥\n",
       "        ⎢   y    ⎥   ⎢ 13.7350360149432 ⎥\n",
       "        ⎢        ⎥   ⎢                  ⎥\n",
       "        ⎢  \\psi  ⎥   ⎢ 1.69945277847757 ⎥\n",
       "state = ⎢        ⎥ = ⎢                  ⎥\n",
       "        ⎢   v    ⎥   ⎢ 6.87790820256345 ⎥\n",
       "        ⎢        ⎥   ⎢                  ⎥\n",
       "        ⎢\\dot\\psi⎥   ⎢0.0568687827163909⎥\n",
       "        ⎢        ⎥   ⎢                  ⎥\n",
       "        ⎣   a    ⎦   ⎣ 2.44235035936633 ⎦"
      ]
     },
     "metadata": {},
     "output_type": "display_data"
    },
    {
     "data": {
      "text/latex": [
       "$\\displaystyle - sensors\\_{std} \\leq noise \\leq sensors\\_{std} = \\left[\\begin{matrix}-0.1\\\\-0.1\\\\-0.01\\\\-3.0\\\\-0.1\\\\-1.0\\end{matrix}\\right] \\leq \\left[\\begin{matrix}-0.0228727629283378\\\\-0.0897812375611379\\\\-0.000714871686527447\\\\-1.29749611600947\\\\0.0462213090242675\\\\-0.890823776784139\\end{matrix}\\right] \\leq \\left[\\begin{matrix}0.1\\\\0.1\\\\0.01\\\\3.0\\\\0.1\\\\1.0\\end{matrix}\\right]$"
      ],
      "text/plain": [
       "                                       ⎡-0.1 ⎤   ⎡ -0.0228727629283378 ⎤   ⎡0.\n",
       "                                       ⎢     ⎥   ⎢                     ⎥   ⎢  \n",
       "                                       ⎢-0.1 ⎥   ⎢ -0.0897812375611379 ⎥   ⎢0.\n",
       "                                       ⎢     ⎥   ⎢                     ⎥   ⎢  \n",
       "                                       ⎢-0.01⎥   ⎢-0.000714871686527447⎥   ⎢0.\n",
       "-sensors\\_std ≤ noise ≤ sensors\\_std = ⎢     ⎥ ≤ ⎢                     ⎥ ≤ ⎢  \n",
       "                                       ⎢-3.0 ⎥   ⎢  -1.29749611600947  ⎥   ⎢3.\n",
       "                                       ⎢     ⎥   ⎢                     ⎥   ⎢  \n",
       "                                       ⎢-0.1 ⎥   ⎢ 0.0462213090242675  ⎥   ⎢0.\n",
       "                                       ⎢     ⎥   ⎢                     ⎥   ⎢  \n",
       "                                       ⎣-1.0 ⎦   ⎣ -0.890823776784139  ⎦   ⎣1.\n",
       "\n",
       "1 ⎤\n",
       "  ⎥\n",
       "1 ⎥\n",
       "  ⎥\n",
       "01⎥\n",
       "  ⎥\n",
       "0 ⎥\n",
       "  ⎥\n",
       "1 ⎥\n",
       "  ⎥\n",
       "0 ⎦"
      ]
     },
     "metadata": {},
     "output_type": "display_data"
    },
    {
     "name": "stdout",
     "output_type": "stream",
     "text": [
      "====================================================================================================\n",
      "Iteration 7:\n",
      "====================================================================================================\n"
     ]
    },
    {
     "data": {
      "image/png": "[encoded data removed]",
      "text/latex": [
       "$\\displaystyle state = measurement + noise$"
      ],
      "text/plain": [
       "state = measurement + noise"
      ]
     },
     "metadata": {},
     "output_type": "display_data"
    },
    {
     "data": {
      "text/latex": [
       "$\\displaystyle state = \\left[\\begin{matrix}x\\\\y\\\\\\psi\\\\v\\\\\\dot\\psi\\\\a\\end{matrix}\\right] = \\left[\\begin{matrix}9.6521138313812\\\\13.9610464346332\\\\1.68995996591463\\\\5.12269888220604\\\\-0.369254007969745\\\\1.55869137187754\\end{matrix}\\right]$"
      ],
      "text/plain": [
       "        ⎡   x    ⎤   ⎡ 9.6521138313812  ⎤\n",
       "        ⎢        ⎥   ⎢                  ⎥\n",
       "        ⎢   y    ⎥   ⎢ 13.9610464346332 ⎥\n",
       "        ⎢        ⎥   ⎢                  ⎥\n",
       "        ⎢  \\psi  ⎥   ⎢ 1.68995996591463 ⎥\n",
       "state = ⎢        ⎥ = ⎢                  ⎥\n",
       "        ⎢   v    ⎥   ⎢ 5.12269888220604 ⎥\n",
       "        ⎢        ⎥   ⎢                  ⎥\n",
       "        ⎢\\dot\\psi⎥   ⎢-0.369254007969745⎥\n",
       "        ⎢        ⎥   ⎢                  ⎥\n",
       "        ⎣   a    ⎦   ⎣ 1.55869137187754 ⎦"
      ]
     },
     "metadata": {},
     "output_type": "display_data"
    },
    {
     "data": {
      "text/latex": [
       "$\\displaystyle - sensors\\_{std} \\leq noise \\leq sensors\\_{std} = \\left[\\begin{matrix}-0.1\\\\-0.1\\\\-0.01\\\\-3.0\\\\-0.1\\\\-1.0\\end{matrix}\\right] \\leq \\left[\\begin{matrix}0.0462163910220594\\\\-0.0554294821278288\\\\-0.00508753888901712\\\\2.90927911581377\\\\-0.0137431609113086\\\\-0.218448106448931\\end{matrix}\\right] \\leq \\left[\\begin{matrix}0.1\\\\0.1\\\\0.01\\\\3.0\\\\0.1\\\\1.0\\end{matrix}\\right]$"
      ],
      "text/plain": [
       "                                       ⎡-0.1 ⎤   ⎡ 0.0462163910220594 ⎤   ⎡0.1\n",
       "                                       ⎢     ⎥   ⎢                    ⎥   ⎢   \n",
       "                                       ⎢-0.1 ⎥   ⎢-0.0554294821278288 ⎥   ⎢0.1\n",
       "                                       ⎢     ⎥   ⎢                    ⎥   ⎢   \n",
       "                                       ⎢-0.01⎥   ⎢-0.00508753888901712⎥   ⎢0.0\n",
       "-sensors\\_std ≤ noise ≤ sensors\\_std = ⎢     ⎥ ≤ ⎢                    ⎥ ≤ ⎢   \n",
       "                                       ⎢-3.0 ⎥   ⎢  2.90927911581377  ⎥   ⎢3.0\n",
       "                                       ⎢     ⎥   ⎢                    ⎥   ⎢   \n",
       "                                       ⎢-0.1 ⎥   ⎢-0.0137431609113086 ⎥   ⎢0.1\n",
       "                                       ⎢     ⎥   ⎢                    ⎥   ⎢   \n",
       "                                       ⎣-1.0 ⎦   ⎣ -0.218448106448931 ⎦   ⎣1.0\n",
       "\n",
       " ⎤\n",
       " ⎥\n",
       " ⎥\n",
       " ⎥\n",
       "1⎥\n",
       " ⎥\n",
       " ⎥\n",
       " ⎥\n",
       " ⎥\n",
       " ⎥\n",
       " ⎦"
      ]
     },
     "metadata": {},
     "output_type": "display_data"
    },
    {
     "name": "stdout",
     "output_type": "stream",
     "text": [
      "====================================================================================================\n",
      "Iteration 8:\n",
      "====================================================================================================\n"
     ]
    },
    {
     "data": {
      "image/png": "[encoded data removed]",
      "text/latex": [
       "$\\displaystyle state = measurement + noise$"
      ],
      "text/plain": [
       "state = measurement + noise"
      ]
     },
     "metadata": {},
     "output_type": "display_data"
    },
    {
     "data": {
      "text/latex": [
       "$\\displaystyle state = \\left[\\begin{matrix}x\\\\y\\\\\\psi\\\\v\\\\\\dot\\psi\\\\a\\end{matrix}\\right] = \\left[\\begin{matrix}9.60188367095635\\\\14.5824422247367\\\\1.63218895817851\\\\6.31196608468125\\\\-0.557746999359111\\\\1.54212391302372\\end{matrix}\\right]$"
      ],
      "text/plain": [
       "        ⎡   x    ⎤   ⎡ 9.60188367095635 ⎤\n",
       "        ⎢        ⎥   ⎢                  ⎥\n",
       "        ⎢   y    ⎥   ⎢ 14.5824422247367 ⎥\n",
       "        ⎢        ⎥   ⎢                  ⎥\n",
       "        ⎢  \\psi  ⎥   ⎢ 1.63218895817851 ⎥\n",
       "state = ⎢        ⎥ = ⎢                  ⎥\n",
       "        ⎢   v    ⎥   ⎢ 6.31196608468125 ⎥\n",
       "        ⎢        ⎥   ⎢                  ⎥\n",
       "        ⎢\\dot\\psi⎥   ⎢-0.557746999359111⎥\n",
       "        ⎢        ⎥   ⎢                  ⎥\n",
       "        ⎣   a    ⎦   ⎣ 1.54212391302372 ⎦"
      ]
     },
     "metadata": {},
     "output_type": "display_data"
    },
    {
     "data": {
      "text/latex": [
       "$\\displaystyle - sensors\\_{std} \\leq noise \\leq sensors\\_{std} = \\left[\\begin{matrix}-0.1\\\\-0.1\\\\-0.01\\\\-3.0\\\\-0.1\\\\-1.0\\end{matrix}\\right] \\leq \\left[\\begin{matrix}0.0166072383464808\\\\0.0364895009574537\\\\-0.00737944145163043\\\\2.65092184000928\\\\-0.0225178498061711\\\\0.964870725982973\\end{matrix}\\right] \\leq \\left[\\begin{matrix}0.1\\\\0.1\\\\0.01\\\\3.0\\\\0.1\\\\1.0\\end{matrix}\\right]$"
      ],
      "text/plain": [
       "                                       ⎡-0.1 ⎤   ⎡ 0.0166072383464808 ⎤   ⎡0.1\n",
       "                                       ⎢     ⎥   ⎢                    ⎥   ⎢   \n",
       "                                       ⎢-0.1 ⎥   ⎢ 0.0364895009574537 ⎥   ⎢0.1\n",
       "                                       ⎢     ⎥   ⎢                    ⎥   ⎢   \n",
       "                                       ⎢-0.01⎥   ⎢-0.00737944145163043⎥   ⎢0.0\n",
       "-sensors\\_std ≤ noise ≤ sensors\\_std = ⎢     ⎥ ≤ ⎢                    ⎥ ≤ ⎢   \n",
       "                                       ⎢-3.0 ⎥   ⎢  2.65092184000928  ⎥   ⎢3.0\n",
       "                                       ⎢     ⎥   ⎢                    ⎥   ⎢   \n",
       "                                       ⎢-0.1 ⎥   ⎢-0.0225178498061711 ⎥   ⎢0.1\n",
       "                                       ⎢     ⎥   ⎢                    ⎥   ⎢   \n",
       "                                       ⎣-1.0 ⎦   ⎣ 0.964870725982973  ⎦   ⎣1.0\n",
       "\n",
       " ⎤\n",
       " ⎥\n",
       " ⎥\n",
       " ⎥\n",
       "1⎥\n",
       " ⎥\n",
       " ⎥\n",
       " ⎥\n",
       " ⎥\n",
       " ⎥\n",
       " ⎦"
      ]
     },
     "metadata": {},
     "output_type": "display_data"
    },
    {
     "name": "stdout",
     "output_type": "stream",
     "text": [
      "====================================================================================================\n",
      "Iteration 9:\n",
      "====================================================================================================\n"
     ]
    },
    {
     "data": {
      "image/png": "[encoded data removed]",
      "text/latex": [
       "$\\displaystyle state = measurement + noise$"
      ],
      "text/plain": [
       "state = measurement + noise"
      ]
     },
     "metadata": {},
     "output_type": "display_data"
    },
    {
     "data": {
      "text/latex": [
       "$\\displaystyle state = \\left[\\begin{matrix}x\\\\y\\\\\\psi\\\\v\\\\\\dot\\psi\\\\a\\end{matrix}\\right] = \\left[\\begin{matrix}9.52189851419167\\\\15.2807621346244\\\\1.61873585363835\\\\6.75548707761153\\\\-0.177696502577887\\\\-1.71970683170387\\end{matrix}\\right]$"
      ],
      "text/plain": [
       "        ⎡   x    ⎤   ⎡ 9.52189851419167 ⎤\n",
       "        ⎢        ⎥   ⎢                  ⎥\n",
       "        ⎢   y    ⎥   ⎢ 15.2807621346244 ⎥\n",
       "        ⎢        ⎥   ⎢                  ⎥\n",
       "        ⎢  \\psi  ⎥   ⎢ 1.61873585363835 ⎥\n",
       "state = ⎢        ⎥ = ⎢                  ⎥\n",
       "        ⎢   v    ⎥   ⎢ 6.75548707761153 ⎥\n",
       "        ⎢        ⎥   ⎢                  ⎥\n",
       "        ⎢\\dot\\psi⎥   ⎢-0.177696502577887⎥\n",
       "        ⎢        ⎥   ⎢                  ⎥\n",
       "        ⎣   a    ⎦   ⎣-1.71970683170387 ⎦"
      ]
     },
     "metadata": {},
     "output_type": "display_data"
    },
    {
     "data": {
      "text/latex": [
       "$\\displaystyle - sensors\\_{std} \\leq noise \\leq sensors\\_{std} = \\left[\\begin{matrix}-0.1\\\\-0.1\\\\-0.01\\\\-3.0\\\\-0.1\\\\-1.0\\end{matrix}\\right] \\leq \\left[\\begin{matrix}-0.0996969456538982\\\\0.0337499982017404\\\\-0.00301724804886256\\\\1.22180859275472\\\\0.00930530701682437\\\\0.156601666539083\\end{matrix}\\right] \\leq \\left[\\begin{matrix}0.1\\\\0.1\\\\0.01\\\\3.0\\\\0.1\\\\1.0\\end{matrix}\\right]$"
      ],
      "text/plain": [
       "                                       ⎡-0.1 ⎤   ⎡-0.0996969456538982 ⎤   ⎡0.1\n",
       "                                       ⎢     ⎥   ⎢                    ⎥   ⎢   \n",
       "                                       ⎢-0.1 ⎥   ⎢ 0.0337499982017404 ⎥   ⎢0.1\n",
       "                                       ⎢     ⎥   ⎢                    ⎥   ⎢   \n",
       "                                       ⎢-0.01⎥   ⎢-0.00301724804886256⎥   ⎢0.0\n",
       "-sensors\\_std ≤ noise ≤ sensors\\_std = ⎢     ⎥ ≤ ⎢                    ⎥ ≤ ⎢   \n",
       "                                       ⎢-3.0 ⎥   ⎢  1.22180859275472  ⎥   ⎢3.0\n",
       "                                       ⎢     ⎥   ⎢                    ⎥   ⎢   \n",
       "                                       ⎢-0.1 ⎥   ⎢0.00930530701682437 ⎥   ⎢0.1\n",
       "                                       ⎢     ⎥   ⎢                    ⎥   ⎢   \n",
       "                                       ⎣-1.0 ⎦   ⎣ 0.156601666539083  ⎦   ⎣1.0\n",
       "\n",
       " ⎤\n",
       " ⎥\n",
       " ⎥\n",
       " ⎥\n",
       "1⎥\n",
       " ⎥\n",
       " ⎥\n",
       " ⎥\n",
       " ⎥\n",
       " ⎥\n",
       " ⎦"
      ]
     },
     "metadata": {},
     "output_type": "display_data"
    },
    {
     "name": "stdout",
     "output_type": "stream",
     "text": [
      "====================================================================================================\n",
      "Iteration 10:\n",
      "====================================================================================================\n"
     ]
    },
    {
     "data": {
      "image/png": "[encoded data removed]",
      "text/latex": [
       "$\\displaystyle state = measurement + noise$"
      ],
      "text/plain": [
       "state = measurement + noise"
      ]
     },
     "metadata": {},
     "output_type": "display_data"
    },
    {
     "data": {
      "text/latex": [
       "$\\displaystyle state = \\left[\\begin{matrix}x\\\\y\\\\\\psi\\\\v\\\\\\dot\\psi\\\\a\\end{matrix}\\right] = \\left[\\begin{matrix}9.50706948575839\\\\15.8781291110254\\\\1.62197134294159\\\\6.12717275262149\\\\-0.00292474606371626\\\\-3.85779170079678\\end{matrix}\\right]$"
      ],
      "text/plain": [
       "        ⎡   x    ⎤   ⎡  9.50706948575839  ⎤\n",
       "        ⎢        ⎥   ⎢                    ⎥\n",
       "        ⎢   y    ⎥   ⎢  15.8781291110254  ⎥\n",
       "        ⎢        ⎥   ⎢                    ⎥\n",
       "        ⎢  \\psi  ⎥   ⎢  1.62197134294159  ⎥\n",
       "state = ⎢        ⎥ = ⎢                    ⎥\n",
       "        ⎢   v    ⎥   ⎢  6.12717275262149  ⎥\n",
       "        ⎢        ⎥   ⎢                    ⎥\n",
       "        ⎢\\dot\\psi⎥   ⎢-0.00292474606371626⎥\n",
       "        ⎢        ⎥   ⎢                    ⎥\n",
       "        ⎣   a    ⎦   ⎣ -3.85779170079678  ⎦"
      ]
     },
     "metadata": {},
     "output_type": "display_data"
    },
    {
     "data": {
      "text/latex": [
       "$\\displaystyle - sensors\\_{std} \\leq noise \\leq sensors\\_{std} = \\left[\\begin{matrix}-0.1\\\\-0.1\\\\-0.01\\\\-3.0\\\\-0.1\\\\-1.0\\end{matrix}\\right] \\leq \\left[\\begin{matrix}0.0344247224693224\\\\-0.0505213164701512\\\\-0.00523843463879951\\\\0.370394716003501\\\\0.0801454723292205\\\\-0.185763789390367\\end{matrix}\\right] \\leq \\left[\\begin{matrix}0.1\\\\0.1\\\\0.01\\\\3.0\\\\0.1\\\\1.0\\end{matrix}\\right]$"
      ],
      "text/plain": [
       "                                       ⎡-0.1 ⎤   ⎡ 0.0344247224693224 ⎤   ⎡0.1\n",
       "                                       ⎢     ⎥   ⎢                    ⎥   ⎢   \n",
       "                                       ⎢-0.1 ⎥   ⎢-0.0505213164701512 ⎥   ⎢0.1\n",
       "                                       ⎢     ⎥   ⎢                    ⎥   ⎢   \n",
       "                                       ⎢-0.01⎥   ⎢-0.00523843463879951⎥   ⎢0.0\n",
       "-sensors\\_std ≤ noise ≤ sensors\\_std = ⎢     ⎥ ≤ ⎢                    ⎥ ≤ ⎢   \n",
       "                                       ⎢-3.0 ⎥   ⎢ 0.370394716003501  ⎥   ⎢3.0\n",
       "                                       ⎢     ⎥   ⎢                    ⎥   ⎢   \n",
       "                                       ⎢-0.1 ⎥   ⎢ 0.0801454723292205 ⎥   ⎢0.1\n",
       "                                       ⎢     ⎥   ⎢                    ⎥   ⎢   \n",
       "                                       ⎣-1.0 ⎦   ⎣ -0.185763789390367 ⎦   ⎣1.0\n",
       "\n",
       " ⎤\n",
       " ⎥\n",
       " ⎥\n",
       " ⎥\n",
       "1⎥\n",
       " ⎥\n",
       " ⎥\n",
       " ⎥\n",
       " ⎥\n",
       " ⎥\n",
       " ⎦"
      ]
     },
     "metadata": {},
     "output_type": "display_data"
    },
    {
     "name": "stdout",
     "output_type": "stream",
     "text": [
      "====================================================================================================\n",
      "Iteration 11:\n",
      "====================================================================================================\n"
     ]
    },
    {
     "data": {
      "image/png": "[encoded data removed]",
      "text/latex": [
       "$\\displaystyle state = measurement + noise$"
      ],
      "text/plain": [
       "state = measurement + noise"
      ]
     },
     "metadata": {},
     "output_type": "display_data"
    },
    {
     "data": {
      "text/latex": [
       "$\\displaystyle state = \\left[\\begin{matrix}x\\\\y\\\\\\psi\\\\v\\\\\\dot\\psi\\\\a\\end{matrix}\\right] = \\left[\\begin{matrix}9.4654886308845\\\\16.4243332653641\\\\1.63151616628965\\\\5.47947322631559\\\\-0.0272789542460383\\\\-5.429334703431\\end{matrix}\\right]$"
      ],
      "text/plain": [
       "        ⎡   x    ⎤   ⎡  9.4654886308845  ⎤\n",
       "        ⎢        ⎥   ⎢                   ⎥\n",
       "        ⎢   y    ⎥   ⎢ 16.4243332653641  ⎥\n",
       "        ⎢        ⎥   ⎢                   ⎥\n",
       "        ⎢  \\psi  ⎥   ⎢ 1.63151616628965  ⎥\n",
       "state = ⎢        ⎥ = ⎢                   ⎥\n",
       "        ⎢   v    ⎥   ⎢ 5.47947322631559  ⎥\n",
       "        ⎢        ⎥   ⎢                   ⎥\n",
       "        ⎢\\dot\\psi⎥   ⎢-0.0272789542460383⎥\n",
       "        ⎢        ⎥   ⎢                   ⎥\n",
       "        ⎣   a    ⎦   ⎣  -5.429334703431  ⎦"
      ]
     },
     "metadata": {},
     "output_type": "display_data"
    },
    {
     "data": {
      "text/latex": [
       "$\\displaystyle - sensors\\_{std} \\leq noise \\leq sensors\\_{std} = \\left[\\begin{matrix}-0.1\\\\-0.1\\\\-0.01\\\\-3.0\\\\-0.1\\\\-1.0\\end{matrix}\\right] \\leq \\left[\\begin{matrix}-0.0220022322606685\\\\-0.0693197942413132\\\\0.00285011415812405\\\\0.720424744177626\\\\-0.0638082655873679\\\\-0.879333942888701\\end{matrix}\\right] \\leq \\left[\\begin{matrix}0.1\\\\0.1\\\\0.01\\\\3.0\\\\0.1\\\\1.0\\end{matrix}\\right]$"
      ],
      "text/plain": [
       "                                       ⎡-0.1 ⎤   ⎡-0.0220022322606685⎤   ⎡0.1 \n",
       "                                       ⎢     ⎥   ⎢                   ⎥   ⎢    \n",
       "                                       ⎢-0.1 ⎥   ⎢-0.0693197942413132⎥   ⎢0.1 \n",
       "                                       ⎢     ⎥   ⎢                   ⎥   ⎢    \n",
       "                                       ⎢-0.01⎥   ⎢0.00285011415812405⎥   ⎢0.01\n",
       "-sensors\\_std ≤ noise ≤ sensors\\_std = ⎢     ⎥ ≤ ⎢                   ⎥ ≤ ⎢    \n",
       "                                       ⎢-3.0 ⎥   ⎢ 0.720424744177626 ⎥   ⎢3.0 \n",
       "                                       ⎢     ⎥   ⎢                   ⎥   ⎢    \n",
       "                                       ⎢-0.1 ⎥   ⎢-0.0638082655873679⎥   ⎢0.1 \n",
       "                                       ⎢     ⎥   ⎢                   ⎥   ⎢    \n",
       "                                       ⎣-1.0 ⎦   ⎣-0.879333942888701 ⎦   ⎣1.0 \n",
       "\n",
       "⎤\n",
       "⎥\n",
       "⎥\n",
       "⎥\n",
       "⎥\n",
       "⎥\n",
       "⎥\n",
       "⎥\n",
       "⎥\n",
       "⎥\n",
       "⎦"
      ]
     },
     "metadata": {},
     "output_type": "display_data"
    },
    {
     "name": "stdout",
     "output_type": "stream",
     "text": [
      "====================================================================================================\n"
     ]
    }
   ],
   "source": [
    "import numpy as np\n",
    "from numpy.random import default_rng\n",
    "from sympy import Matrix, Eq, Le, Ge, symbols, init_printing\n",
    "from IPython.display import display\n",
    "\n",
    "init_printing()\n",
    "\n",
    "STATE_SIZE = 6 # States\n",
    "STATE_X_IDX, STATE_Y_IDX, STATE_YAW_IDX, STATE_VELOCITY_IDX, STATE_YAW_RATE_IDX, STATE_ACCELERATION_IDX = range(STATE_SIZE)\n",
    "\n",
    "# Generated running the loop with correction commented, just with prediction\n",
    "mock = np.array([\n",
    "    # Generated with x = [10, 10, np.pi/2, 5, np.pi/10, 5]\n",
    "    [9.99162312, 10.52491159, 1.60221225, 5.5, 0.31415927, 5.],\n",
    "    [9.96440727, 11.09924348, 1.63362818, 6. , 0.31415927, 5.],\n",
    "    [9.91524186, 11.72228092, 1.66504411, 6.5, 0.31415927, 5.],\n",
    "\n",
    "    # Generated with x = [9.84104414, 12.39316261, 1.69646003, 7 , 0, 2]\n",
    "    [9.84104414, 12.39316261, 1.69646003, 7 , 0, 2],\n",
    "    [9.75205920946478, 13.097565812433922, 1.69646103, 7.2, 1e-05, 2.0],\n",
    "    [9.660566840228446, 13.821813141209995, 1.6964620300000002, 7.4, 1e-05, 2.0],\n",
    "\n",
    "    # Generated with x = [9.660566840228446, 13.821813141209995, 1.6964620300000002, 7.4, -np.pi/5, 0.5]\n",
    "    [9.660566840228446, 13.821813141209995, 1.6964620300000002, 7.4, -np.pi/5, 0.5],\n",
    "    [9.590727496248219, 14.560898635653817, 1.6336301769282038, 7.45, -0.6283185307179586, 0.5],\n",
    "\n",
    "    # Generated with x = [9.546139274244736, 15.269496260674774, 1.633631176928204, 6.75, 1e-05, -7.0]\n",
    "    [9.546139274244736, 15.269496260674774, 1.633631176928204, 6.75, 1e-05, -7.0],\n",
    "    [9.505945314972719, 15.90822977120212, 1.633632176928204, 6.05, 1e-05, -7.0],\n",
    "    [9.470145618432168, 16.47710804902005, 1.6336331769282042, 5.35, 1e-05, -7.0],\n",
    "])\n",
    "\n",
    "def predict(x, P, Q, dt):\n",
    "    if np.abs(x[STATE_YAW_RATE_IDX]) < 0.00001: # Driving straight\n",
    "        x[STATE_YAW_RATE_IDX] = 0.00001\n",
    "\n",
    "    x[STATE_X_IDX] = x[STATE_X_IDX] + (1 / x[STATE_YAW_RATE_IDX]**2) * \\\n",
    "        ( \\\n",
    "            (x[STATE_VELOCITY_IDX]*x[STATE_YAW_RATE_IDX] + x[STATE_ACCELERATION_IDX] * x[STATE_YAW_RATE_IDX] * dt) * np.sin(x[STATE_YAW_IDX] + x[STATE_YAW_RATE_IDX]* dt) \\\n",
    "            + x[STATE_ACCELERATION_IDX] * np.cos(x[STATE_YAW_IDX] + x[STATE_YAW_RATE_IDX] * dt) \\\n",
    "            - x[STATE_VELOCITY_IDX] * x[STATE_YAW_RATE_IDX] * np.sin(x[STATE_YAW_IDX]) - x[STATE_ACCELERATION_IDX] * np.cos(x[STATE_YAW_IDX]) \\\n",
    "        )\n",
    "\n",
    "    x[STATE_Y_IDX] = x[STATE_Y_IDX] + (1 / x[STATE_YAW_RATE_IDX]**2) * \\\n",
    "        ( \\\n",
    "            (-x[STATE_VELOCITY_IDX]*x[STATE_YAW_RATE_IDX] - x[STATE_ACCELERATION_IDX] * x[STATE_YAW_RATE_IDX] * dt) * np.cos(x[STATE_YAW_IDX] + x[STATE_YAW_RATE_IDX]* dt) \\\n",
    "            + x[STATE_ACCELERATION_IDX] * np.sin(x[STATE_YAW_IDX] + x[STATE_YAW_RATE_IDX] * dt) \\\n",
    "            + x[STATE_VELOCITY_IDX] * x[STATE_YAW_RATE_IDX] * np.cos(x[STATE_YAW_IDX]) - x[STATE_ACCELERATION_IDX] * np.sin(x[STATE_YAW_IDX]) \\\n",
    "        )\n",
    "\n",
    "    x[STATE_YAW_IDX] = (x[STATE_YAW_IDX] + x[STATE_YAW_RATE_IDX] * dt + np.pi) % (2.0 * np.pi) - np.pi\n",
    "    x[STATE_VELOCITY_IDX] = x[STATE_VELOCITY_IDX] + x[STATE_ACCELERATION_IDX] * dt \n",
    "    x[STATE_YAW_RATE_IDX] = x[STATE_YAW_RATE_IDX]\n",
    "    x[STATE_ACCELERATION_IDX] = x[STATE_ACCELERATION_IDX]\n",
    "\n",
    "    # Calculate the Jacobian of the Dynamic Matrix A\n",
    "    a13 = ( \\\n",
    "      (-x[STATE_YAW_RATE_IDX]*x[STATE_VELOCITY_IDX]*np.cos(x[STATE_YAW_IDX]) + x[STATE_ACCELERATION_IDX]*np.sin(x[STATE_YAW_IDX]) \\\n",
    "      - x[STATE_ACCELERATION_IDX]*np.sin(dt*x[STATE_YAW_RATE_IDX] + x[STATE_YAW_IDX]) + (dt*x[STATE_YAW_RATE_IDX]*x[STATE_ACCELERATION_IDX] + x[STATE_YAW_RATE_IDX]*x[STATE_VELOCITY_IDX])*np.cos(dt*x[STATE_YAW_RATE_IDX] \\\n",
    "      + x[STATE_YAW_IDX]))/x[STATE_YAW_RATE_IDX]**2 \\\n",
    "    ).item(0)\n",
    "\n",
    "    a14 = ( \\\n",
    "      (-x[STATE_YAW_RATE_IDX]*np.sin(x[STATE_YAW_IDX]) + x[STATE_YAW_RATE_IDX]*np.sin(dt*x[STATE_YAW_RATE_IDX] + x[STATE_YAW_IDX]))/x[STATE_YAW_RATE_IDX]**2 \\\n",
    "    ).item(0)\n",
    "\n",
    "    a15 = ( \\\n",
    "      ( \\\n",
    "        -dt*x[STATE_ACCELERATION_IDX]*np.sin(dt*x[STATE_YAW_RATE_IDX] + x[STATE_YAW_IDX]) + dt*(dt*x[STATE_YAW_RATE_IDX]*x[STATE_ACCELERATION_IDX] + x[STATE_YAW_RATE_IDX]*x[STATE_VELOCITY_IDX]) \\\n",
    "        * np.cos(dt*x[STATE_YAW_RATE_IDX] + x[STATE_YAW_IDX]) - x[STATE_VELOCITY_IDX]*np.sin(x[STATE_YAW_IDX]) + (dt*x[STATE_ACCELERATION_IDX] + x[STATE_VELOCITY_IDX]) \\\n",
    "        * np.sin(dt*x[STATE_YAW_RATE_IDX] + x[STATE_YAW_IDX]) \\\n",
    "      ) / x[STATE_YAW_RATE_IDX]**2 \\\n",
    "      - 2*( \\\n",
    "        -x[STATE_YAW_RATE_IDX]*x[STATE_VELOCITY_IDX]*np.sin(x[STATE_YAW_IDX]) - x[STATE_ACCELERATION_IDX] \\\n",
    "        * np.cos(x[STATE_YAW_IDX]) + x[STATE_ACCELERATION_IDX]*np.cos(dt*x[STATE_YAW_RATE_IDX] + x[STATE_YAW_IDX]) + (dt*x[STATE_YAW_RATE_IDX]*x[STATE_ACCELERATION_IDX] + x[STATE_YAW_RATE_IDX]*x[STATE_VELOCITY_IDX]) \\\n",
    "        * np.sin(dt*x[STATE_YAW_RATE_IDX] + x[STATE_YAW_IDX]) \\\n",
    "      ) / x[STATE_YAW_RATE_IDX]**3 \\\n",
    "    ).item(0)\n",
    "\n",
    "    a16 = ( \\\n",
    "      (dt*x[STATE_YAW_RATE_IDX]*np.sin(dt*x[STATE_YAW_RATE_IDX] + x[STATE_YAW_IDX]) - np.cos(x[STATE_YAW_IDX]) + np.cos(dt * x[STATE_YAW_RATE_IDX] + x[STATE_YAW_IDX]))/x[STATE_YAW_RATE_IDX]**2 \\\n",
    "    ).item(0)\n",
    "\n",
    "    a23 = ( \\\n",
    "      ( \\\n",
    "        -x[STATE_YAW_RATE_IDX] * x[STATE_VELOCITY_IDX] * np.sin(x[STATE_YAW_IDX]) - x[STATE_ACCELERATION_IDX] * np.cos(x[STATE_YAW_IDX]) + x[STATE_ACCELERATION_IDX] * np.cos(dt * x[STATE_YAW_RATE_IDX] + x[STATE_YAW_IDX]) \\\n",
    "        - (-dt * x[STATE_YAW_RATE_IDX]*x[STATE_ACCELERATION_IDX] - x[STATE_YAW_RATE_IDX] * x[STATE_VELOCITY_IDX]) * np.sin(dt * x[STATE_YAW_RATE_IDX] + x[STATE_YAW_IDX]) \\\n",
    "      ) / x[STATE_YAW_RATE_IDX]**2 \\\n",
    "    ).item(0)\n",
    "\n",
    "    a24 = ( \\\n",
    "      (x[STATE_YAW_RATE_IDX] * np.cos(x[STATE_YAW_IDX]) - x[STATE_YAW_RATE_IDX]*np.cos(dt*x[STATE_YAW_RATE_IDX] + x[STATE_YAW_IDX]))/x[STATE_YAW_RATE_IDX]**2 \\\n",
    "    ).item(0)\n",
    "\n",
    "    a25 = ( \\\n",
    "      ( \\\n",
    "        dt * x[STATE_ACCELERATION_IDX]*np.cos(dt*x[STATE_YAW_RATE_IDX] + x[STATE_YAW_IDX]) - dt * (-dt*x[STATE_YAW_RATE_IDX]*x[STATE_ACCELERATION_IDX] - x[STATE_YAW_RATE_IDX] * x[STATE_VELOCITY_IDX]) \\\n",
    "        * np.sin(dt * x[STATE_YAW_RATE_IDX] + x[STATE_YAW_IDX]) + x[STATE_VELOCITY_IDX]*np.cos(x[STATE_YAW_IDX]) + (-dt*x[STATE_ACCELERATION_IDX] - x[STATE_VELOCITY_IDX])*np.cos(dt*x[STATE_YAW_RATE_IDX] + x[STATE_YAW_IDX]) \\\n",
    "      ) / x[STATE_YAW_RATE_IDX]**2 \\\n",
    "      - 2*( \\\n",
    "        x[STATE_YAW_RATE_IDX]*x[STATE_VELOCITY_IDX]*np.cos(x[STATE_YAW_IDX]) - x[STATE_ACCELERATION_IDX] * np.sin(x[STATE_YAW_IDX]) + x[STATE_ACCELERATION_IDX] * np.sin(dt*x[STATE_YAW_RATE_IDX] + x[STATE_YAW_IDX]) \\\n",
    "        + (-dt * x[STATE_YAW_RATE_IDX] * x[STATE_ACCELERATION_IDX] - x[STATE_YAW_RATE_IDX] * x[STATE_VELOCITY_IDX])*np.cos(dt*x[STATE_YAW_RATE_IDX] + x[STATE_YAW_IDX]) \\\n",
    "      ) / x[STATE_YAW_RATE_IDX]**3 \\\n",
    "    ).item(0)\n",
    "\n",
    "    a26 = ( \\\n",
    "      (-dt*x[STATE_YAW_RATE_IDX]*np.cos(dt*x[STATE_YAW_RATE_IDX] + x[STATE_YAW_IDX]) - np.sin(x[STATE_YAW_IDX]) + np.sin(dt*x[STATE_YAW_RATE_IDX] + x[STATE_YAW_IDX]))/x[STATE_YAW_RATE_IDX]**2 \\\n",
    "    ).item(0)\n",
    "      \n",
    "    JA = np.matrix([[1.0, 0.0, a13, a14, a15, a16],\n",
    "                    [0.0, 1.0, a23, a24, a25, a26],\n",
    "                    [0.0, 0.0, 1.0, 0.0, dt, 0.0],\n",
    "                    [0.0, 0.0, 0.0, 1.0, 0.0, dt],\n",
    "                    [0.0, 0.0, 0.0, 0.0, 1.0, 0.0],\n",
    "                    [0.0, 0.0, 0.0, 0.0, 0.0, 1.0]])\n",
    "  \n",
    "    # Project the error covariance ahead\n",
    "    P = JA*P*JA.T + Q\n",
    "\n",
    "    return x, P\n",
    "\n",
    "\n",
    "def correct(measurement, x, P, R):\n",
    "    hx = x.copy()  # Not making any transformation and considering all the atributes are being measured\n",
    "\n",
    "    # Indentity because is assumed that for each attribute in state there exists a respective measurement attribute\n",
    "    JH = np.eye(hx.shape[0])\n",
    "\n",
    "    S = JH*P*JH.T + R\n",
    "    K = (P*JH.T) * np.linalg.inv(S)\n",
    "\n",
    "    # Update the estimate via\n",
    "    Z = measurement.reshape(JH.shape[0], 1)\n",
    "    y = Z - hx  # Innovation or Residual\n",
    "    x = x + K*y\n",
    "\n",
    "    # Update the error covariance\n",
    "    P = (np.eye(STATE_SIZE) - K*JH)*P\n",
    "            \n",
    "    # TODO: Remove in main C++ code\n",
    "    x0.append(float(x[0]))\n",
    "    x1.append(float(x[1]))\n",
    "    x2.append(float(x[2]))\n",
    "    x3.append(float(x[3]))\n",
    "    x4.append(float(x[4]))\n",
    "    x5.append(float(x[5]))\n",
    "    Zx.append(float(Z[0]))\n",
    "    Zy.append(float(Z[1]))    \n",
    "    Px.append(float(P[0,0]))\n",
    "    Py.append(float(P[1,1]))\n",
    "    Pdx.append(float(P[2,2]))\n",
    "    Pdy.append(float(P[3,3]))\n",
    "    Pddx.append(float(P[4,4]))\n",
    "    Pdv.append(float(P[5,5]))\n",
    "    Kx.append(float(K[0,0]))\n",
    "    Ky.append(float(K[1,0]))\n",
    "    Kdx.append(float(K[2,0]))\n",
    "    Kdy.append(float(K[3,0]))\n",
    "    Kddx.append(float(K[4,0]))\n",
    "    Kdv.append(float(K[5,0]))\n",
    "\n",
    "    return x, P\n",
    "\n",
    "\n",
    "if __name__ == '__main__':\n",
    "    P = np.diag([10.0, 10.0, 10.0, 10.0, 10.0, 10.0])\n",
    "\n",
    "    dt = 1/10\n",
    "\n",
    "    variance_gps     = 0.5*8.8*dt**2  # assume 8.8m/s2 as maximum acceleration, forcing the vehicle\n",
    "    variance_course  = 0.1*dt # assume 0.1rad/s as maximum turn rate for the vehicle\n",
    "    variance_velocity= 8.8*dt # assume 8.8m/s2 as maximum acceleration, forcing the vehicle\n",
    "    variance_yawrate = 1.0*dt # assume 1.0rad/s2 as the maximum turn rate acceleration for the vehicle\n",
    "    variance_accel   = 0.5 # assume 0.5m/s2\n",
    "\n",
    "    # TODO: Can be improved and calibratred\n",
    "    Q = np.diag([variance_gps**2, variance_gps**2, variance_course**2, variance_velocity**2, variance_yawrate**2, variance_accel**2])\n",
    "    \n",
    "    std_gps = 0.1 # standard deviation of gps measurement\n",
    "    std_speed = 3.0 # standard deviation of the speed measurement\n",
    "    std_yawrate = 0.1 # standard deviation of the yawrate measurement\n",
    "    std_yaw = 0.01 # standard deviation of the yaw measurement\n",
    "    std_acc = 1.0 # standard deviation of the longitudinal acceleration\n",
    "\n",
    "    R = np.diag([std_gps**2, std_gps**2, std_yaw**2, std_speed**2, std_yawrate**2, std_acc**2])\n",
    "\n",
    "\n",
    "    inital_x, initial_y = 10, 10\n",
    "    yaw = np.pi/2\n",
    "    speed = 12\n",
    "    yaw_rate = np.pi/10\n",
    "    acc = 5\n",
    "\n",
    "    x = np.array([[inital_x, initial_y, yaw, speed, yaw_rate, acc]], dtype='float64').T\n",
    "    \n",
    "    random_generator = default_rng()\n",
    "\n",
    "    for i, measurement in enumerate(mock, 1):\n",
    "        sensors_std = np.array([std_gps, std_gps, std_yaw, std_speed, std_yawrate, std_acc])\n",
    "        \n",
    "        # Adding noise\n",
    "        noises = (random_generator.random() for _ in sensors_std)\n",
    "        noises = np.array([n * 2*std - std for std, n in zip(sensors_std, noises)])  # Putting noises in std range\n",
    "        measurement += noises\n",
    "        \n",
    "        x, P = predict(x, P, Q, dt)        \n",
    "        x, P = correct(measurement, x, P, R)\n",
    "\n",
    "        log_state_and_noises(i, state, noises)\n"
   ]
  },
  {
   "cell_type": "markdown",
   "id": "hindu-necklace",
   "metadata": {},
   "source": [
    "## Plots"
   ]
  },
  {
   "cell_type": "code",
   "execution_count": 4,
   "id": "juvenile-contrast",
   "metadata": {},
   "outputs": [],
   "source": [
    "import matplotlib.pyplot as plt\n",
    "%matplotlib inline\n",
    "\n",
    "m = len(mock)"
   ]
  },
  {
   "cell_type": "markdown",
   "id": "radical-officer",
   "metadata": {},
   "source": [
    "### Kalman Gain"
   ]
  },
  {
   "cell_type": "code",
   "execution_count": 5,
   "id": "unauthorized-congo",
   "metadata": {},
   "outputs": [
    {
     "data": {
      "image/png": "[encoded data removed]",
      "text/plain": [
       "<Figure size 1152x648 with 1 Axes>"
      ]
     },
     "metadata": {
      "needs_background": "light"
     },
     "output_type": "display_data"
    }
   ],
   "source": [
    "fig = plt.figure(figsize=(16,9))\n",
    "plt.step(range(m),Kx, label='$x$')\n",
    "plt.step(range(m),Ky, label='$y$')\n",
    "plt.step(range(m),Kdx, label='$\\psi$')\n",
    "plt.step(range(m),Kdy, label='$v$')\n",
    "plt.step(range(m),Kddx, label='$\\dot \\psi$')\n",
    "\n",
    "\n",
    "plt.xlabel('Filter Step')\n",
    "plt.ylabel('')\n",
    "plt.title('Kalman Gain (the lower, the more the measurement fullfill the prediction)')\n",
    "plt.legend(prop={'size':18})\n",
    "plt.ylim([-0.2,0.2]);"
   ]
  },
  {
   "cell_type": "markdown",
   "id": "breeding-license",
   "metadata": {},
   "source": [
    "### Uncertainties"
   ]
  },
  {
   "cell_type": "code",
   "execution_count": 6,
   "id": "adjusted-funds",
   "metadata": {},
   "outputs": [
    {
     "data": {
      "text/plain": [
       "<matplotlib.legend.Legend at 0x7ff80b7cdd68>"
      ]
     },
     "execution_count": 6,
     "metadata": {},
     "output_type": "execute_result"
    },
    {
     "data": {
      "image/png": "[encoded data removed]",
      "text/plain": [
       "<Figure size 1152x648 with 1 Axes>"
      ]
     },
     "metadata": {
      "needs_background": "light"
     },
     "output_type": "display_data"
    }
   ],
   "source": [
    "\n",
    "fig = plt.figure(figsize=(16,9))\n",
    "plt.semilogy(range(m),Px, label='$x$')\n",
    "plt.step(range(m),Py, label='$y$')\n",
    "plt.step(range(m),Pdx, label='$\\psi$')\n",
    "plt.step(range(m),Pdy, label='$v$')\n",
    "plt.step(range(m),Pddx, label='$\\dot \\psi$')\n",
    "\n",
    "plt.xlabel('Filter Step')\n",
    "plt.ylabel('')\n",
    "plt.title('Uncertainty (Elements from Matrix $P$)')\n",
    "plt.legend(loc='best',prop={'size':22})"
   ]
  },
  {
   "cell_type": "markdown",
   "id": "dying-duration",
   "metadata": {},
   "source": [
    "### Position x/y"
   ]
  },
  {
   "cell_type": "code",
   "execution_count": 7,
   "id": "brilliant-shade",
   "metadata": {},
   "outputs": [
    {
     "data": {
      "text/plain": [
       "[<matplotlib.lines.Line2D at 0x7ff8141a86a0>]"
      ]
     },
     "execution_count": 7,
     "metadata": {},
     "output_type": "execute_result"
    },
    {
     "data": {
      "image/png": "[encoded data removed]",
      "text/plain": [
       "<Figure size 864x648 with 1 Axes>"
      ]
     },
     "metadata": {
      "needs_background": "light"
     },
     "output_type": "display_data"
    }
   ],
   "source": [
    "fig = plt.figure(figsize=(12,9))\n",
    "\n",
    "plt.plot(x0,x1, label='EKF Position', c='g', lw=5)"
   ]
  }
 ],
 "metadata": {
  "kernelspec": {
   "display_name": "Python 3",
   "language": "python",
   "name": "python3"
  },
  "language_info": {
   "codemirror_mode": {
    "name": "ipython",
    "version": 3
   },
   "file_extension": ".py",
   "mimetype": "text/x-python",
   "name": "python",
   "nbconvert_exporter": "python",
   "pygments_lexer": "ipython3",
   "version": "3.7.3"
  }
 },
 "nbformat": 4,
 "nbformat_minor": 5
}
